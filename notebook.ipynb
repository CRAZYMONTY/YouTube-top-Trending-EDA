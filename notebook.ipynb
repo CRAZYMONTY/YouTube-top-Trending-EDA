{
 "cells": [
  {
   "cell_type": "code",
   "execution_count": 1,
   "metadata": {
    "_cell_guid": "4646b239-028d-4b2a-b370-4905c33f7e62",
    "_kg_hide-input": false,
    "_kg_hide-output": false,
    "_uuid": "c012bf0f8560eeab484e1abdcbb2f1c77662d624"
   },
   "outputs": [
    {
     "data": {
      "text/html": [
       "<script>requirejs.config({paths: { 'plotly': ['https://cdn.plot.ly/plotly-latest.min']},});if(!window.Plotly) {{require(['plotly'],function(plotly) {window.Plotly=plotly;});}}</script>"
      ],
      "text/vnd.plotly.v1+html": [
       "<script>requirejs.config({paths: { 'plotly': ['https://cdn.plot.ly/plotly-latest.min']},});if(!window.Plotly) {{require(['plotly'],function(plotly) {window.Plotly=plotly;});}}</script>"
      ]
     },
     "metadata": {},
     "output_type": "display_data"
    }
   ],
   "source": [
    "import math\n",
    "import pandas as pd\n",
    "import numpy as np\n",
    "import seaborn as sns\n",
    "import json\n",
    "import itertools\n",
    "import re\n",
    "import random\n",
    "\n",
    "import matplotlib.pyplot as plt\n",
    "import matplotlib.gridspec as gridspec\n",
    "import plotly.plotly as py\n",
    "import plotly.graph_objs as go\n",
    "\n",
    "from datetime import date, timedelta\n",
    "from skimage.draw import ellipse\n",
    "from textwrap import wrap\n",
    "from plotly import __version__\n",
    "from plotly.offline import download_plotlyjs, init_notebook_mode, plot, iplot\n",
    "from IPython.display import HTML, Image\n",
    "from plotly import tools\n",
    "from bs4 import BeautifulSoup\n",
    "from nltk.corpus import stopwords\n",
    "from sklearn import preprocessing\n",
    "from sklearn.model_selection import train_test_split\n",
    "from sklearn.metrics import matthews_corrcoef\n",
    "from sklearn.metrics import hamming_loss, f1_score\n",
    "from sklearn.feature_extraction.text import TfidfVectorizer\n",
    "\n",
    "plt.style.use('seaborn-white')\n",
    "%matplotlib inline\n",
    "init_notebook_mode(connected=True)"
   ]
  },
  {
   "cell_type": "markdown",
   "metadata": {
    "_cell_guid": "1b0f0a44-086d-45f7-859e-d5c435c25b8d",
    "_uuid": "51843324020e7d8d2274f3d1e4becc2b85e7e91b"
   },
   "source": [
    " # 1. Get to know the data"
   ]
  },
  {
   "cell_type": "markdown",
   "metadata": {
    "_cell_guid": "702f2d22-0c0f-42b7-a209-16d8186c223c",
    "_uuid": "6a90c2c9a9f89ff9fa0913a7c984b6af9a09939d"
   },
   "source": [
    "First step is to download database. Updates are made on a daily basis. Sometimes there could be an additional column that should not be in databases. It is not a big deal and can be corrected by the code below."
   ]
  },
  {
   "cell_type": "code",
   "execution_count": 2,
   "metadata": {
    "_cell_guid": "d24b91f3-1e3e-49e7-aa0a-4d6c3ea90d19",
    "_uuid": "5d52d3ec511c26e15a8fe26908bb0d4b4c278d6d"
   },
   "outputs": [
    {
     "name": "stdout",
     "output_type": "stream",
     "text": [
      "['13.09' '14.09' '15.09' '16.09' '17.09' '18.09' '19.09' '20.09' '21.09'\n",
      " '22.09' '23.09' '24.09' '24.09l7yxJDFvTRM' '25.09' '26.09'\n",
      " '26.09t2oVUxTV4WA' '27.09' '28.09' '29.09' '30.09' '01.10' '02.10' '03.10'\n",
      " '04.10' '05.10' '06.10' '07.10' '08.10' '09.10' '10.10' '11.10' '12.10'\n",
      " '13.10' '14.10' '15.10' '16.10' '17.10' '18.10' '19.10' '20.10' '21.10'\n",
      " '22.10']\n",
      "['13.09' '14.09' '15.09' '16.09' '17.09' '18.09' '19.09' '20.09' '21.09'\n",
      " '22.09' '23.09' '24.09' '24.09xcaeyJTx4Co' '25.09' '26.09'\n",
      " '26.0903jeumSTSzc' '27.09' '28.09' '29.09' '30.09' '01.10' '02.10' '03.10'\n",
      " '04.10' '05.10' '06.10' '07.10' '08.10' '09.10' '100' '10.10' '11.10'\n",
      " '12.10' '13.10' '14.10' '15.10' '16.10' '17.10' '18.10' '19.10' '20.10'\n",
      " '21.10' '22.10']\n"
     ]
    }
   ],
   "source": [
    "# read csv file\n",
    "# 12 columns that should be in database \n",
    "columns = ['video_id', 'title', 'channel_title', 'category_id',\n",
    "          'tags', 'views', 'likes', 'dislikes', 'comment_total',\n",
    "          'thumbnail_link', 'date']\n",
    "\n",
    "gb_vid_df =  pd.read_csv(\"input/GBvideos.csv\", usecols = columns)\n",
    "us_vid_df =  pd.read_csv(\"input/USvideos.csv\", usecols = columns)\n",
    "\n",
    "# find out errors in last columns\n",
    "print (gb_vid_df['date'].unique())\n",
    "print (us_vid_df['date'].unique())\n",
    "\n",
    "# replace error items\n",
    "gb_vid_df.loc[gb_vid_df['date'] == '24.09l7yxJDFvTRM', 'date'] = '24.09'\n",
    "us_vid_df.loc[us_vid_df['date'] == '24.09xcaeyJTx4Co', 'date'] = '24.09'\n",
    "gb_vid_df.loc[gb_vid_df['date'] == '26.09t2oVUxTV4WA', 'date'] = '26.09'\n",
    "us_vid_df.loc[us_vid_df['date'] == '26.0903jeumSTSzc', 'date'] = '26.09'\n",
    "us_vid_df.loc[us_vid_df['date'] == '100', 'date'] = '09.10'"
   ]
  },
  {
   "cell_type": "markdown",
   "metadata": {
    "_cell_guid": "84048d41-bd9e-4e2b-befc-53f0b5386816",
    "_uuid": "d753e422cf1f00d40078983a80b57f125dcc77b0"
   },
   "source": [
    "Change of data format will make many things easier in the future. Also databases could contain doubles that are better to be removed."
   ]
  },
  {
   "cell_type": "code",
   "execution_count": 3,
   "metadata": {
    "_cell_guid": "9b7f2397-0efe-4500-bf68-c5eb8ed8ab69",
    "_uuid": "3c8ada5ef2da9f2e680dc1a6aef8a88a5a094cc6"
   },
   "outputs": [
    {
     "data": {
      "text/html": [
       "<div>\n",
       "<style>\n",
       "    .dataframe thead tr:only-child th {\n",
       "        text-align: right;\n",
       "    }\n",
       "\n",
       "    .dataframe thead th {\n",
       "        text-align: left;\n",
       "    }\n",
       "\n",
       "    .dataframe tbody tr th {\n",
       "        vertical-align: top;\n",
       "    }\n",
       "</style>\n",
       "<table border=\"1\" class=\"dataframe\">\n",
       "  <thead>\n",
       "    <tr style=\"text-align: right;\">\n",
       "      <th></th>\n",
       "      <th>video_id</th>\n",
       "      <th>title</th>\n",
       "      <th>channel_title</th>\n",
       "      <th>category_id</th>\n",
       "      <th>tags</th>\n",
       "      <th>views</th>\n",
       "      <th>likes</th>\n",
       "      <th>dislikes</th>\n",
       "      <th>comment_total</th>\n",
       "      <th>thumbnail_link</th>\n",
       "      <th>date</th>\n",
       "    </tr>\n",
       "  </thead>\n",
       "  <tbody>\n",
       "    <tr>\n",
       "      <th>0</th>\n",
       "      <td>jt2OHQh0HoQ</td>\n",
       "      <td>Live Apple Event - Apple September Event 2017 ...</td>\n",
       "      <td>Apple Event</td>\n",
       "      <td>28</td>\n",
       "      <td>apple events|apple event|iphone 8|iphone x|iph...</td>\n",
       "      <td>7426393</td>\n",
       "      <td>78240</td>\n",
       "      <td>13548</td>\n",
       "      <td>705</td>\n",
       "      <td>https://i.ytimg.com/vi/jt2OHQh0HoQ/default_liv...</td>\n",
       "      <td>2017-09-13</td>\n",
       "    </tr>\n",
       "    <tr>\n",
       "      <th>1</th>\n",
       "      <td>AqokkXoa7uE</td>\n",
       "      <td>Holly and Phillip Meet Samantha the Sex Robot ...</td>\n",
       "      <td>This Morning</td>\n",
       "      <td>24</td>\n",
       "      <td>this morning|interview|holly willoughby|philli...</td>\n",
       "      <td>494203</td>\n",
       "      <td>2651</td>\n",
       "      <td>1309</td>\n",
       "      <td>0</td>\n",
       "      <td>https://i.ytimg.com/vi/AqokkXoa7uE/default.jpg</td>\n",
       "      <td>2017-09-13</td>\n",
       "    </tr>\n",
       "    <tr>\n",
       "      <th>2</th>\n",
       "      <td>YPVcg45W0z4</td>\n",
       "      <td>My DNA Test Results! I'm WHAT?!</td>\n",
       "      <td>emmablackery</td>\n",
       "      <td>24</td>\n",
       "      <td>emmablackery|emma blackery|emma|blackery|briti...</td>\n",
       "      <td>142819</td>\n",
       "      <td>13119</td>\n",
       "      <td>151</td>\n",
       "      <td>1141</td>\n",
       "      <td>https://i.ytimg.com/vi/YPVcg45W0z4/default.jpg</td>\n",
       "      <td>2017-09-13</td>\n",
       "    </tr>\n",
       "    <tr>\n",
       "      <th>3</th>\n",
       "      <td>T_PuZBdT2iM</td>\n",
       "      <td>getting into a conversation in a language you ...</td>\n",
       "      <td>ProZD</td>\n",
       "      <td>1</td>\n",
       "      <td>skit|korean|language|conversation|esl|japanese...</td>\n",
       "      <td>1580028</td>\n",
       "      <td>65729</td>\n",
       "      <td>1529</td>\n",
       "      <td>3598</td>\n",
       "      <td>https://i.ytimg.com/vi/T_PuZBdT2iM/default.jpg</td>\n",
       "      <td>2017-09-13</td>\n",
       "    </tr>\n",
       "    <tr>\n",
       "      <th>4</th>\n",
       "      <td>NsjsmgmbCfc</td>\n",
       "      <td>Baby Name Challenge!</td>\n",
       "      <td>Sprinkleofglitter</td>\n",
       "      <td>26</td>\n",
       "      <td>sprinkleofglitter|sprinkle of glitter|baby gli...</td>\n",
       "      <td>40592</td>\n",
       "      <td>5019</td>\n",
       "      <td>57</td>\n",
       "      <td>490</td>\n",
       "      <td>https://i.ytimg.com/vi/NsjsmgmbCfc/default.jpg</td>\n",
       "      <td>2017-09-13</td>\n",
       "    </tr>\n",
       "  </tbody>\n",
       "</table>\n",
       "</div>"
      ],
      "text/plain": [
       "      video_id                                              title  \\\n",
       "0  jt2OHQh0HoQ  Live Apple Event - Apple September Event 2017 ...   \n",
       "1  AqokkXoa7uE  Holly and Phillip Meet Samantha the Sex Robot ...   \n",
       "2  YPVcg45W0z4                    My DNA Test Results! I'm WHAT?!   \n",
       "3  T_PuZBdT2iM  getting into a conversation in a language you ...   \n",
       "4  NsjsmgmbCfc                               Baby Name Challenge!   \n",
       "\n",
       "       channel_title  category_id  \\\n",
       "0        Apple Event           28   \n",
       "1       This Morning           24   \n",
       "2       emmablackery           24   \n",
       "3              ProZD            1   \n",
       "4  Sprinkleofglitter           26   \n",
       "\n",
       "                                                tags    views  likes  \\\n",
       "0  apple events|apple event|iphone 8|iphone x|iph...  7426393  78240   \n",
       "1  this morning|interview|holly willoughby|philli...   494203   2651   \n",
       "2  emmablackery|emma blackery|emma|blackery|briti...   142819  13119   \n",
       "3  skit|korean|language|conversation|esl|japanese...  1580028  65729   \n",
       "4  sprinkleofglitter|sprinkle of glitter|baby gli...    40592   5019   \n",
       "\n",
       "   dislikes  comment_total                                     thumbnail_link  \\\n",
       "0     13548            705  https://i.ytimg.com/vi/jt2OHQh0HoQ/default_liv...   \n",
       "1      1309              0     https://i.ytimg.com/vi/AqokkXoa7uE/default.jpg   \n",
       "2       151           1141     https://i.ytimg.com/vi/YPVcg45W0z4/default.jpg   \n",
       "3      1529           3598     https://i.ytimg.com/vi/T_PuZBdT2iM/default.jpg   \n",
       "4        57            490     https://i.ytimg.com/vi/NsjsmgmbCfc/default.jpg   \n",
       "\n",
       "         date  \n",
       "0  2017-09-13  \n",
       "1  2017-09-13  \n",
       "2  2017-09-13  \n",
       "3  2017-09-13  \n",
       "4  2017-09-13  "
      ]
     },
     "execution_count": 3,
     "metadata": {},
     "output_type": "execute_result"
    }
   ],
   "source": [
    "# change format of date table for further operations\n",
    "gb_vid_df['date'] = gb_vid_df['date'].apply(lambda x: pd.to_datetime(str(x).replace('.','')+\"2017\",\n",
    "                                            format='%d%m%Y'))\n",
    "gb_vid_df['date'] = gb_vid_df['date'].dt.date\n",
    "\n",
    "\n",
    "us_vid_df['date'] = us_vid_df['date'].apply(lambda x: pd.to_datetime(str(x).replace('.','')+\"2017\",\n",
    "                                                                     format='%d%m%Y'))\n",
    "us_vid_df['date'] = us_vid_df['date'].dt.date\n",
    "\n",
    "# remove duplicates for GB videos database\n",
    "gb_vid_df = gb_vid_df.drop_duplicates()\n",
    "us_vid_df = us_vid_df.drop_duplicates()\n",
    "\n",
    "gb_vid_df.head(5)"
   ]
  },
  {
   "cell_type": "markdown",
   "metadata": {
    "_cell_guid": "5bfbd040-61cd-4c83-90aa-957b39f138f3",
    "_uuid": "0198fba096eca57c9439877f70ec00006eafcdf0"
   },
   "source": [
    "Now it is possible to make first overall analysis. What I am interested in is to support my understanding of database nature (top 200 trending videos per each day), check how many days a video can be in trend and get some details on longest trending videos."
   ]
  },
  {
   "cell_type": "markdown",
   "metadata": {
    "_cell_guid": "f9382228-ed52-4b6f-88c8-bf73519545d2",
    "_uuid": "0b2ed12617e69b4826c5e59eeb0ffa07cfd3c1a6"
   },
   "source": [
    "First function is made to provide quick overall look on the data."
   ]
  },
  {
   "cell_type": "code",
   "execution_count": 4,
   "metadata": {
    "_cell_guid": "a6366e4a-dd09-45b2-bb30-ac21d0f3bd0d",
    "_uuid": "fcd27925fc009ed201b576ab52ca386f4468e4b5",
    "collapsed": true
   },
   "outputs": [],
   "source": [
    "# dataframe to see videos per each date\n",
    "def quick_insight(df, country, color):\n",
    "    # dataframes for videos per each date\n",
    "    vid_check = df[['video_id', 'date']].copy().groupby('date', as_index = False).count()\n",
    "    vid_check.columns = ['Dates', 'Videos per date']\n",
    "    \n",
    "    # dataframes for \n",
    "    dates_per_id = df[['video_id', 'date']].groupby('video_id', as_index = False).count()\n",
    "    dates_per_vids = dates_per_id.groupby('date', as_index = False).count()\n",
    "    dates_per_vids.columns = ['Quantity of dates per video', 'Quantity of videos in a date group']\n",
    "    max_days = max(dates_per_vids['Quantity of dates per video'].values)\n",
    "    \n",
    "    # videos appeared in database as at 13 September 2017\n",
    "    sept_13_id = df.loc[df['date'] == date(2017,9,13), 'video_id'].tolist()\n",
    "    sept_13 = df.loc[df['video_id'].isin(sept_13_id), ['video_id', 'date']]\n",
    "    sept_13 = sept_13.groupby('date', as_index=False).count()   \n",
    "    \n",
    "    # combined plot\n",
    "    fig = plt.figure(figsize=(14, 10))\n",
    "    gs = gridspec.GridSpec(3, 2, width_ratios=[1,1], height_ratios = [1,0.1,1])\n",
    "    \n",
    "    # plotting videos per each date\n",
    "    ax1 = plt.subplot(gs[2,0:2])\n",
    "    ax1 = sns.barplot(x=\"Dates\", y=\"Videos per date\", data=vid_check, color='green', alpha=0.8)\n",
    "    ax1.set_ylabel('Videos per date', fontsize=12)\n",
    "    ax1.set_xticklabels(vid_check['Dates'].unique(), rotation=45)\n",
    "    ax1.set_xlabel('')\n",
    "    ax1.set_title('Videos per each date ({})'.format(country), fontsize=15)\n",
    "    \n",
    "    # plotting buckets of videos by quantity of trending dates\n",
    "    ax2 = plt.subplot(gs[0,0])\n",
    "    ax2 = sns.barplot(x=\"Quantity of dates per video\",\n",
    "                      y=\"Quantity of videos in a date group\",\n",
    "                      data=dates_per_vids, color=color)\n",
    "    ax2.set_ylabel('Quantity of videos in a date group', fontsize=12)\n",
    "    ax2.set_xlabel('Quantity of trending days in a bucket', fontsize=12)\n",
    "    t_str = u'Buckets of videos by quantity of trending dates ({})'\n",
    "    title = '\\n'.join(wrap(t_str.format(country),30))\n",
    "    ax2.set_title(title, fontsize=15)\n",
    "    \n",
    "    # plotting story of videos that appeared on September 13\n",
    "    ax3 = plt.subplot(gs[0,1])    \n",
    "    ax3 = sns.barplot(x='date', y=\"video_id\", data=sept_13, color=color, alpha = 0.7)\n",
    "    ax3.set_ylabel('Quantity of videos per date', fontsize=12)\n",
    "    ax3.set_xticklabels(sept_13['date'], rotation=45)\n",
    "    ax3.set_xlabel('')\n",
    "    t_str = u'Videos started at 13 September ({})'\n",
    "    title = '\\n'.join(wrap(t_str.format(country),20))\n",
    "    ax3.set_title(title, fontsize=15)\n",
    "    \n",
    "    plt.show()"
   ]
  },
  {
   "cell_type": "markdown",
   "metadata": {
    "_cell_guid": "6f8d1571-616f-4710-9d8e-656a4970bd37",
    "_uuid": "719a5cb0c18996b93baddcd26ed57a8dc03defe2"
   },
   "source": [
    "The second function is designed to give deeper information of what videos were in trend for longest period. It is interesting can I find there some familiar videos? How many and what dynamics of views, likes, dislikes and comments are required to become trending video? Are there some similarities in preferences of US and GB audience?"
   ]
  },
  {
   "cell_type": "code",
   "execution_count": 5,
   "metadata": {
    "_cell_guid": "5837d2be-502f-46b4-bc01-8940b75587f8",
    "_uuid": "d4a61d3af5221cc6ae7f9a346c8a93467369d0a4",
    "collapsed": true
   },
   "outputs": [],
   "source": [
    "def best_survivors(df, days, country):\n",
    "    # videos with selected lifetime in top 200\n",
    "    dates_per_id = df[['video_id', 'date']].groupby('video_id', as_index = False).count()\n",
    "    long_surv_list = dates_per_id.loc[dates_per_id['date'] == days,'video_id'].tolist()\n",
    "    long_surv_vid = df.loc[df['video_id'].isin(long_surv_list),\n",
    "                           ['title','date','views','likes','dislikes','comment_total']]\n",
    "    long_surv_vid['views'] = long_surv_vid['views'].apply(lambda x: x/1000000)\n",
    "    titles_list = long_surv_vid['title'].unique().tolist()\n",
    "\n",
    "    # plotting videos views history\n",
    "    views = []\n",
    "    likes = []\n",
    "    dislikes = []\n",
    "    comments = []\n",
    "    plots_list = [views, likes, dislikes, comments]\n",
    "    column_list = ['views', 'likes', 'dislikes', 'comment_total']\n",
    "    boolean_list = [False, False, False, True]\n",
    "    colors_list = []\n",
    "    for i in range(0,len(titles_list)):\n",
    "        color = 'rgb('+str(np.random.randint(1,256))+\",\"+str(np.random.randint(1,256))+\",\"+str(np.random.randint(1,256))+\")\"\n",
    "        colors_list.append(color)\n",
    "    \n",
    "    for x in range (0,len(plots_list)):\n",
    "        for i in range (0, len(titles_list)):\n",
    "            vt = titles_list[i]\n",
    "            trace = go.Scatter(x = long_surv_vid.loc[long_surv_vid['title']== vt,'date'],\n",
    "                                y = long_surv_vid.loc[long_surv_vid['title']== vt, column_list[x]],\n",
    "                                name = vt,\n",
    "                                line = dict(width = 2, color = colors_list[i]),\n",
    "                                legendgroup = vt,\n",
    "                                showlegend = boolean_list[x])\n",
    "    \n",
    "            plots_list[x].extend([trace])\n",
    "    \n",
    "    fig = tools.make_subplots(rows=4,\n",
    "                              cols=1, \n",
    "                              subplot_titles=('Views', 'Comments', 'Likes', 'Dislikes'),\n",
    "                              vertical_spacing=0.07)\n",
    "    \n",
    "    for i in views:\n",
    "        fig.append_trace(i, 1, 1)\n",
    "    for i in comments:\n",
    "        fig.append_trace(i, 2, 1)\n",
    "    for i in likes:\n",
    "        fig.append_trace(i, 3, 1)\n",
    "    for i in dislikes:\n",
    "        fig.append_trace(i, 4, 1)\n",
    "    \n",
    "    fig['layout']['xaxis1'].update(title='')\n",
    "    fig['layout']['xaxis2'].update(title='')\n",
    "    fig['layout']['xaxis3'].update(title='')\n",
    "    fig['layout']['xaxis4'].update(title='')\n",
    "\n",
    "    fig['layout']['yaxis1'].update(title='mln. views')\n",
    "    fig['layout']['yaxis2'].update(title='comments')\n",
    "    fig['layout']['yaxis3'].update(title='likes')\n",
    "    fig['layout']['yaxis4'].update(title='dislikes')\n",
    "    \n",
    "    fig['layout'].update(width=800, height=(1000 + len(titles_list)*60))\n",
    "    fig['layout'].update(title='Different metrics for videos trended in {} for {} days'.format(country, days))\n",
    "    fig['layout'].update(legend = dict(x=0.0,\n",
    "                                       y = -(0.1+len(titles_list)*0.007),\n",
    "                                      tracegroupgap = 1))\n",
    "\n",
    "    iplot(fig, filename='customizing-subplot-axes')"
   ]
  },
  {
   "cell_type": "markdown",
   "metadata": {
    "_cell_guid": "724062d0-646e-4f63-a14e-3da16c5bde4f",
    "_uuid": "e200a12dcc54d29bc6889931b4bad0ea575da50e"
   },
   "source": [
    "* Now both functions can be applied to GB and US database."
   ]
  },
  {
   "cell_type": "code",
   "execution_count": 6,
   "metadata": {
    "_cell_guid": "8b0689c0-e224-4079-9698-9d37afa90420",
    "_uuid": "1c315c517b847479e798112a72b091608b769220",
    "scrolled": true
   },
   "outputs": [
    {
     "data": {
      "image/png": "[encoded data removed]",
      "text/plain": [
       "<matplotlib.figure.Figure at 0x25e83c93a90>"
      ]
     },
     "metadata": {},
     "output_type": "display_data"
    }
   ],
   "source": [
    "quick_insight(gb_vid_df, \"GB\", 'red')"
   ]
  },
  {
   "cell_type": "code",
   "execution_count": 7,
   "metadata": {
    "_cell_guid": "316ef052-cfd2-471b-89ba-222690d273da",
    "_uuid": "54e585b0124bf3154b83798632f0181deb37dcd0",
    "scrolled": true
   },
   "outputs": [
    {
     "name": "stdout",
     "output_type": "stream",
     "text": [
      "This is the format of your plot grid:\n",
      "[ (1,1) x1,y1 ]\n",
      "[ (2,1) x2,y2 ]\n",
      "[ (3,1) x3,y3 ]\n",
      "[ (4,1) x4,y4 ]\n",
      "\n"
     ]
    },
    {
     "data": {
      "application/vnd.plotly.v1+json": {
       "data": [
        {
         "legendgroup": "Wembley Cup 2017 LIVE FINAL – Hashtag United vs Tekkers Town",
         "line": {
          "color": "rgb(134,68,220)",
          "width": 2
         },
         "name": "Wembley Cup 2017 LIVE FINAL – Hashtag United vs Tekkers Town",
         "showlegend": false,
         "type": "scatter",
         "x": [
          "2017-10-08"
         ],
         "xaxis": "x1",
         "y": [
          1.330639
         ],
         "yaxis": "y1"
        },
        {
         "legendgroup": "Guy selling nuggets dipped in szechuan sauce for $10 a piece",
         "line": {
          "color": "rgb(154,165,86)",
          "width": 2
         },
         "name": "Guy selling nuggets dipped in szechuan sauce for $10 a piece",
         "showlegend": false,
         "type": "scatter",
         "x": [
          "2017-10-08",
          "2017-10-09",
          "2017-10-10",
          "2017-10-11",
          "2017-10-12",
          "2017-10-13",
          "2017-10-14",
          "2017-10-15",
          "2017-10-16",
          "2017-10-17"
         ],
         "xaxis": "x1",
         "y": [
          0.092113,
          0.277999,
          0.365592,
          0.403844,
          0.409512,
          0.413289,
          0.41638,
          0.419057,
          0.4214,
          0.423161
         ],
         "yaxis": "y1"
        },
        {
         "legendgroup": "Wembley Cup 2017 LIVE FINAL: Hashtag United vs Tekkers Town",
         "line": {
          "color": "rgb(168,191,115)",
          "width": 2
         },
         "name": "Wembley Cup 2017 LIVE FINAL: Hashtag United vs Tekkers Town",
         "showlegend": false,
         "type": "scatter",
         "x": [
          "2017-10-09",
          "2017-10-10",
          "2017-10-11",
          "2017-10-12",
          "2017-10-13",
          "2017-10-14",
          "2017-10-15",
          "2017-10-16",
          "2017-10-17"
         ],
         "xaxis": "x1",
         "y": [
          1.66019,
          1.842005,
          1.930227,
          1.973053,
          2.007254,
          2.03167,
          2.054308,
          2.071315,
          2.087243
         ],
         "yaxis": "y1"
        },
        {
         "legendgroup": "KODAK BLACK Snot Thot",
         "line": {
          "color": "rgb(47,195,93)",
          "width": 2
         },
         "name": "KODAK BLACK Snot Thot",
         "showlegend": false,
         "type": "scatter",
         "x": [
          "2017-10-11",
          "2017-10-12",
          "2017-10-13",
          "2017-10-14",
          "2017-10-15",
          "2017-10-16",
          "2017-10-17",
          "2017-10-18",
          "2017-10-19",
          "2017-10-20"
         ],
         "xaxis": "x1",
         "y": [
          0.86802,
          1.37282,
          1.671107,
          1.865127,
          2.059668,
          2.264223,
          2.468003,
          2.659719,
          2.832145,
          3.009806
         ],
         "yaxis": "y1"
        },
        {
         "legendgroup": "Seth MacFarlane Calls Out Harvey Weinstein Back In 2013",
         "line": {
          "color": "rgb(136,61,60)",
          "width": 2
         },
         "name": "Seth MacFarlane Calls Out Harvey Weinstein Back In 2013",
         "showlegend": false,
         "type": "scatter",
         "x": [
          "2017-10-12",
          "2017-10-13",
          "2017-10-14",
          "2017-10-15",
          "2017-10-16",
          "2017-10-17",
          "2017-10-18",
          "2017-10-19",
          "2017-10-20",
          "2017-10-21"
         ],
         "xaxis": "x1",
         "y": [
          1.425329,
          2.607218,
          3.016517,
          3.23508,
          3.39686,
          3.493838,
          3.564143,
          3.610867,
          3.656819,
          3.688652
         ],
         "yaxis": "y1"
        },
        {
         "legendgroup": "73 Questions With Daisy Ridley | Vogue",
         "line": {
          "color": "rgb(42,3,61)",
          "width": 2
         },
         "name": "73 Questions With Daisy Ridley | Vogue",
         "showlegend": false,
         "type": "scatter",
         "x": [
          "2017-10-12",
          "2017-10-13",
          "2017-10-14",
          "2017-10-15",
          "2017-10-16",
          "2017-10-17",
          "2017-10-18",
          "2017-10-19",
          "2017-10-20",
          "2017-10-21"
         ],
         "xaxis": "x1",
         "y": [
          0.926319,
          1.634063,
          1.837968,
          1.952972,
          2.027729,
          2.082272,
          2.123935,
          2.154356,
          2.175004,
          2.189889
         ],
         "yaxis": "y1"
        },
        {
         "legendgroup": "Kris Wu - Deserve ft. Travis Scott (Official Audio)",
         "line": {
          "color": "rgb(104,244,161)",
          "width": 2
         },
         "name": "Kris Wu - Deserve ft. Travis Scott (Official Audio)",
         "showlegend": false,
         "type": "scatter",
         "x": [
          "2017-10-12",
          "2017-10-13",
          "2017-10-14",
          "2017-10-15",
          "2017-10-16",
          "2017-10-17",
          "2017-10-18",
          "2017-10-19",
          "2017-10-20",
          "2017-10-21"
         ],
         "xaxis": "x1",
         "y": [
          0.252856,
          0.581663,
          0.830917,
          1.011209,
          1.216643,
          1.310067,
          1.379755,
          1.429876,
          1.468312,
          1.502174
         ],
         "yaxis": "y1"
        },
        {
         "legendgroup": "Emma Thompson: Harvey Weinstein 'top of harassment ladder' - BBC Newsnight",
         "line": {
          "color": "rgb(14,104,113)",
          "width": 2
         },
         "name": "Emma Thompson: Harvey Weinstein 'top of harassment ladder' - BBC Newsnight",
         "showlegend": false,
         "type": "scatter",
         "x": [
          "2017-10-13",
          "2017-10-14",
          "2017-10-15",
          "2017-10-16",
          "2017-10-17",
          "2017-10-18",
          "2017-10-19",
          "2017-10-20",
          "2017-10-21",
          "2017-10-22"
         ],
         "xaxis": "x1",
         "y": [
          0.021822,
          0.233744,
          0.394347,
          0.537506,
          0.648526,
          0.765958,
          0.835706,
          0.894395,
          0.930257,
          0.955473
         ],
         "yaxis": "y1"
        },
        {
         "legendgroup": "Guns N' Roses Feat. PINK! - Patience (Msg, Nyc) 10.11.17 (P!NK)",
         "line": {
          "color": "rgb(234,68,117)",
          "width": 2
         },
         "name": "Guns N' Roses Feat. PINK! - Patience (Msg, Nyc) 10.11.17 (P!NK)",
         "showlegend": false,
         "type": "scatter",
         "x": [
          "2017-10-13",
          "2017-10-14",
          "2017-10-15",
          "2017-10-16",
          "2017-10-17",
          "2017-10-18",
          "2017-10-19",
          "2017-10-20",
          "2017-10-21",
          "2017-10-22"
         ],
         "xaxis": "x1",
         "y": [
          0.161279,
          0.35889,
          0.483744,
          0.595498,
          0.688583,
          0.750481,
          0.795148,
          0.842576,
          0.902848,
          0.969132
         ],
         "yaxis": "y1"
        },
        {
         "legendgroup": "Wembley Cup 2017 LIVE FINAL – Hashtag United vs Tekkers Town",
         "line": {
          "color": "rgb(134,68,220)",
          "width": 2
         },
         "name": "Wembley Cup 2017 LIVE FINAL – Hashtag United vs Tekkers Town",
         "showlegend": true,
         "type": "scatter",
         "x": [
          "2017-10-08"
         ],
         "xaxis": "x2",
         "y": [
          2813
         ],
         "yaxis": "y2"
        },
        {
         "legendgroup": "Guy selling nuggets dipped in szechuan sauce for $10 a piece",
         "line": {
          "color": "rgb(154,165,86)",
          "width": 2
         },
         "name": "Guy selling nuggets dipped in szechuan sauce for $10 a piece",
         "showlegend": true,
         "type": "scatter",
         "x": [
          "2017-10-08",
          "2017-10-09",
          "2017-10-10",
          "2017-10-11",
          "2017-10-12",
          "2017-10-13",
          "2017-10-14",
          "2017-10-15",
          "2017-10-16",
          "2017-10-17"
         ],
         "xaxis": "x2",
         "y": [
          153,
          718,
          1039,
          1130,
          1168,
          1191,
          1195,
          1204,
          1213,
          1061
         ],
         "yaxis": "y2"
        },
        {
         "legendgroup": "Wembley Cup 2017 LIVE FINAL: Hashtag United vs Tekkers Town",
         "line": {
          "color": "rgb(168,191,115)",
          "width": 2
         },
         "name": "Wembley Cup 2017 LIVE FINAL: Hashtag United vs Tekkers Town",
         "showlegend": true,
         "type": "scatter",
         "x": [
          "2017-10-09",
          "2017-10-10",
          "2017-10-11",
          "2017-10-12",
          "2017-10-13",
          "2017-10-14",
          "2017-10-15",
          "2017-10-16",
          "2017-10-17"
         ],
         "xaxis": "x2",
         "y": [
          3714,
          3979,
          4111,
          4134,
          4182,
          4209,
          4215,
          4242,
          4138
         ],
         "yaxis": "y2"
        },
        {
         "legendgroup": "KODAK BLACK Snot Thot",
         "line": {
          "color": "rgb(47,195,93)",
          "width": 2
         },
         "name": "KODAK BLACK Snot Thot",
         "showlegend": true,
         "type": "scatter",
         "x": [
          "2017-10-11",
          "2017-10-12",
          "2017-10-13",
          "2017-10-14",
          "2017-10-15",
          "2017-10-16",
          "2017-10-17",
          "2017-10-18",
          "2017-10-19",
          "2017-10-20"
         ],
         "xaxis": "x2",
         "y": [
          5835,
          7548,
          8156,
          8437,
          8678,
          8911,
          9052,
          9266,
          9435,
          9706
         ],
         "yaxis": "y2"
        },
        {
         "legendgroup": "Seth MacFarlane Calls Out Harvey Weinstein Back In 2013",
         "line": {
          "color": "rgb(136,61,60)",
          "width": 2
         },
         "name": "Seth MacFarlane Calls Out Harvey Weinstein Back In 2013",
         "showlegend": true,
         "type": "scatter",
         "x": [
          "2017-10-12",
          "2017-10-13",
          "2017-10-14",
          "2017-10-15",
          "2017-10-16",
          "2017-10-17",
          "2017-10-18",
          "2017-10-19",
          "2017-10-20",
          "2017-10-21"
         ],
         "xaxis": "x2",
         "y": [
          1793,
          3511,
          4062,
          4317,
          4597,
          3841,
          3893,
          3940,
          4009,
          4006
         ],
         "yaxis": "y2"
        },
        {
         "legendgroup": "73 Questions With Daisy Ridley | Vogue",
         "line": {
          "color": "rgb(42,3,61)",
          "width": 2
         },
         "name": "73 Questions With Daisy Ridley | Vogue",
         "showlegend": true,
         "type": "scatter",
         "x": [
          "2017-10-12",
          "2017-10-13",
          "2017-10-14",
          "2017-10-15",
          "2017-10-16",
          "2017-10-17",
          "2017-10-18",
          "2017-10-19",
          "2017-10-20",
          "2017-10-21"
         ],
         "xaxis": "x2",
         "y": [
          5117,
          7964,
          8660,
          8995,
          9232,
          8847,
          8893,
          8958,
          7696,
          7708
         ],
         "yaxis": "y2"
        },
        {
         "legendgroup": "Kris Wu - Deserve ft. Travis Scott (Official Audio)",
         "line": {
          "color": "rgb(104,244,161)",
          "width": 2
         },
         "name": "Kris Wu - Deserve ft. Travis Scott (Official Audio)",
         "showlegend": true,
         "type": "scatter",
         "x": [
          "2017-10-12",
          "2017-10-13",
          "2017-10-14",
          "2017-10-15",
          "2017-10-16",
          "2017-10-17",
          "2017-10-18",
          "2017-10-19",
          "2017-10-20",
          "2017-10-21"
         ],
         "xaxis": "x2",
         "y": [
          4987,
          6497,
          6989,
          7435,
          7664,
          7858,
          7911,
          7989,
          6386,
          6398
         ],
         "yaxis": "y2"
        },
        {
         "legendgroup": "Emma Thompson: Harvey Weinstein 'top of harassment ladder' - BBC Newsnight",
         "line": {
          "color": "rgb(14,104,113)",
          "width": 2
         },
         "name": "Emma Thompson: Harvey Weinstein 'top of harassment ladder' - BBC Newsnight",
         "showlegend": true,
         "type": "scatter",
         "x": [
          "2017-10-13",
          "2017-10-14",
          "2017-10-15",
          "2017-10-16",
          "2017-10-17",
          "2017-10-18",
          "2017-10-19",
          "2017-10-20",
          "2017-10-21",
          "2017-10-22"
         ],
         "xaxis": "x2",
         "y": [
          0,
          0,
          0,
          0,
          0,
          0,
          0,
          0,
          0,
          0
         ],
         "yaxis": "y2"
        },
        {
         "legendgroup": "Guns N' Roses Feat. PINK! - Patience (Msg, Nyc) 10.11.17 (P!NK)",
         "line": {
          "color": "rgb(234,68,117)",
          "width": 2
         },
         "name": "Guns N' Roses Feat. PINK! - Patience (Msg, Nyc) 10.11.17 (P!NK)",
         "showlegend": true,
         "type": "scatter",
         "x": [
          "2017-10-13",
          "2017-10-14",
          "2017-10-15",
          "2017-10-16",
          "2017-10-17",
          "2017-10-18",
          "2017-10-19",
          "2017-10-20",
          "2017-10-21",
          "2017-10-22"
         ],
         "xaxis": "x2",
         "y": [
          216,
          429,
          674,
          796,
          550,
          596,
          625,
          706,
          716,
          741
         ],
         "yaxis": "y2"
        },
        {
         "legendgroup": "Wembley Cup 2017 LIVE FINAL – Hashtag United vs Tekkers Town",
         "line": {
          "color": "rgb(134,68,220)",
          "width": 2
         },
         "name": "Wembley Cup 2017 LIVE FINAL – Hashtag United vs Tekkers Town",
         "showlegend": false,
         "type": "scatter",
         "x": [
          "2017-10-08"
         ],
         "xaxis": "x3",
         "y": [
          42655
         ],
         "yaxis": "y3"
        },
        {
         "legendgroup": "Guy selling nuggets dipped in szechuan sauce for $10 a piece",
         "line": {
          "color": "rgb(154,165,86)",
          "width": 2
         },
         "name": "Guy selling nuggets dipped in szechuan sauce for $10 a piece",
         "showlegend": false,
         "type": "scatter",
         "x": [
          "2017-10-08",
          "2017-10-09",
          "2017-10-10",
          "2017-10-11",
          "2017-10-12",
          "2017-10-13",
          "2017-10-14",
          "2017-10-15",
          "2017-10-16",
          "2017-10-17"
         ],
         "xaxis": "x3",
         "y": [
          175,
          1303,
          1956,
          2163,
          2192,
          2205,
          2216,
          2226,
          2235,
          2240
         ],
         "yaxis": "y3"
        },
        {
         "legendgroup": "Wembley Cup 2017 LIVE FINAL: Hashtag United vs Tekkers Town",
         "line": {
          "color": "rgb(168,191,115)",
          "width": 2
         },
         "name": "Wembley Cup 2017 LIVE FINAL: Hashtag United vs Tekkers Town",
         "showlegend": false,
         "type": "scatter",
         "x": [
          "2017-10-09",
          "2017-10-10",
          "2017-10-11",
          "2017-10-12",
          "2017-10-13",
          "2017-10-14",
          "2017-10-15",
          "2017-10-16",
          "2017-10-17"
         ],
         "xaxis": "x3",
         "y": [
          47249,
          49437,
          50294,
          50776,
          51056,
          51230,
          51355,
          51465,
          51666
         ],
         "yaxis": "y3"
        },
        {
         "legendgroup": "KODAK BLACK Snot Thot",
         "line": {
          "color": "rgb(47,195,93)",
          "width": 2
         },
         "name": "KODAK BLACK Snot Thot",
         "showlegend": false,
         "type": "scatter",
         "x": [
          "2017-10-11",
          "2017-10-12",
          "2017-10-13",
          "2017-10-14",
          "2017-10-15",
          "2017-10-16",
          "2017-10-17",
          "2017-10-18",
          "2017-10-19",
          "2017-10-20"
         ],
         "xaxis": "x3",
         "y": [
          32990,
          43095,
          47338,
          50027,
          52393,
          54544,
          56504,
          58218,
          59683,
          61156
         ],
         "yaxis": "y3"
        },
        {
         "legendgroup": "Seth MacFarlane Calls Out Harvey Weinstein Back In 2013",
         "line": {
          "color": "rgb(136,61,60)",
          "width": 2
         },
         "name": "Seth MacFarlane Calls Out Harvey Weinstein Back In 2013",
         "showlegend": false,
         "type": "scatter",
         "x": [
          "2017-10-12",
          "2017-10-13",
          "2017-10-14",
          "2017-10-15",
          "2017-10-16",
          "2017-10-17",
          "2017-10-18",
          "2017-10-19",
          "2017-10-20",
          "2017-10-21"
         ],
         "xaxis": "x3",
         "y": [
          10123,
          19107,
          21682,
          22767,
          23562,
          23972,
          24317,
          24560,
          24806,
          24941
         ],
         "yaxis": "y3"
        },
        {
         "legendgroup": "73 Questions With Daisy Ridley | Vogue",
         "line": {
          "color": "rgb(42,3,61)",
          "width": 2
         },
         "name": "73 Questions With Daisy Ridley | Vogue",
         "showlegend": false,
         "type": "scatter",
         "x": [
          "2017-10-12",
          "2017-10-13",
          "2017-10-14",
          "2017-10-15",
          "2017-10-16",
          "2017-10-17",
          "2017-10-18",
          "2017-10-19",
          "2017-10-20",
          "2017-10-21"
         ],
         "xaxis": "x3",
         "y": [
          31747,
          46164,
          49798,
          51894,
          53348,
          54280,
          54892,
          55396,
          55727,
          55947
         ],
         "yaxis": "y3"
        },
        {
         "legendgroup": "Kris Wu - Deserve ft. Travis Scott (Official Audio)",
         "line": {
          "color": "rgb(104,244,161)",
          "width": 2
         },
         "name": "Kris Wu - Deserve ft. Travis Scott (Official Audio)",
         "showlegend": false,
         "type": "scatter",
         "x": [
          "2017-10-12",
          "2017-10-13",
          "2017-10-14",
          "2017-10-15",
          "2017-10-16",
          "2017-10-17",
          "2017-10-18",
          "2017-10-19",
          "2017-10-20",
          "2017-10-21"
         ],
         "xaxis": "x3",
         "y": [
          38237,
          53917,
          62503,
          67752,
          70982,
          72890,
          73947,
          74701,
          75228,
          75668
         ],
         "yaxis": "y3"
        },
        {
         "legendgroup": "Emma Thompson: Harvey Weinstein 'top of harassment ladder' - BBC Newsnight",
         "line": {
          "color": "rgb(14,104,113)",
          "width": 2
         },
         "name": "Emma Thompson: Harvey Weinstein 'top of harassment ladder' - BBC Newsnight",
         "showlegend": false,
         "type": "scatter",
         "x": [
          "2017-10-13",
          "2017-10-14",
          "2017-10-15",
          "2017-10-16",
          "2017-10-17",
          "2017-10-18",
          "2017-10-19",
          "2017-10-20",
          "2017-10-21",
          "2017-10-22"
         ],
         "xaxis": "x3",
         "y": [
          815,
          4313,
          6341,
          8502,
          10199,
          12322,
          13708,
          14605,
          15133,
          15536
         ],
         "yaxis": "y3"
        },
        {
         "legendgroup": "Guns N' Roses Feat. PINK! - Patience (Msg, Nyc) 10.11.17 (P!NK)",
         "line": {
          "color": "rgb(234,68,117)",
          "width": 2
         },
         "name": "Guns N' Roses Feat. PINK! - Patience (Msg, Nyc) 10.11.17 (P!NK)",
         "showlegend": false,
         "type": "scatter",
         "x": [
          "2017-10-13",
          "2017-10-14",
          "2017-10-15",
          "2017-10-16",
          "2017-10-17",
          "2017-10-18",
          "2017-10-19",
          "2017-10-20",
          "2017-10-21",
          "2017-10-22"
         ],
         "xaxis": "x3",
         "y": [
          1764,
          3050,
          3743,
          4684,
          5441,
          5965,
          6345,
          6706,
          7027,
          7399
         ],
         "yaxis": "y3"
        },
        {
         "legendgroup": "Wembley Cup 2017 LIVE FINAL – Hashtag United vs Tekkers Town",
         "line": {
          "color": "rgb(134,68,220)",
          "width": 2
         },
         "name": "Wembley Cup 2017 LIVE FINAL – Hashtag United vs Tekkers Town",
         "showlegend": false,
         "type": "scatter",
         "x": [
          "2017-10-08"
         ],
         "xaxis": "x4",
         "y": [
          1289
         ],
         "yaxis": "y4"
        },
        {
         "legendgroup": "Guy selling nuggets dipped in szechuan sauce for $10 a piece",
         "line": {
          "color": "rgb(154,165,86)",
          "width": 2
         },
         "name": "Guy selling nuggets dipped in szechuan sauce for $10 a piece",
         "showlegend": false,
         "type": "scatter",
         "x": [
          "2017-10-08",
          "2017-10-09",
          "2017-10-10",
          "2017-10-11",
          "2017-10-12",
          "2017-10-13",
          "2017-10-14",
          "2017-10-15",
          "2017-10-16",
          "2017-10-17"
         ],
         "xaxis": "x4",
         "y": [
          164,
          689,
          958,
          1057,
          1071,
          1073,
          1082,
          1084,
          1085,
          1088
         ],
         "yaxis": "y4"
        },
        {
         "legendgroup": "Wembley Cup 2017 LIVE FINAL: Hashtag United vs Tekkers Town",
         "line": {
          "color": "rgb(168,191,115)",
          "width": 2
         },
         "name": "Wembley Cup 2017 LIVE FINAL: Hashtag United vs Tekkers Town",
         "showlegend": false,
         "type": "scatter",
         "x": [
          "2017-10-09",
          "2017-10-10",
          "2017-10-11",
          "2017-10-12",
          "2017-10-13",
          "2017-10-14",
          "2017-10-15",
          "2017-10-16",
          "2017-10-17"
         ],
         "xaxis": "x4",
         "y": [
          1651,
          1816,
          1867,
          1888,
          1907,
          1920,
          1920,
          1919,
          1919
         ],
         "yaxis": "y4"
        },
        {
         "legendgroup": "KODAK BLACK Snot Thot",
         "line": {
          "color": "rgb(47,195,93)",
          "width": 2
         },
         "name": "KODAK BLACK Snot Thot",
         "showlegend": false,
         "type": "scatter",
         "x": [
          "2017-10-11",
          "2017-10-12",
          "2017-10-13",
          "2017-10-14",
          "2017-10-15",
          "2017-10-16",
          "2017-10-17",
          "2017-10-18",
          "2017-10-19",
          "2017-10-20"
         ],
         "xaxis": "x4",
         "y": [
          1360,
          2026,
          2400,
          2588,
          2773,
          2968,
          3160,
          3310,
          3416,
          3538
         ],
         "yaxis": "y4"
        },
        {
         "legendgroup": "Seth MacFarlane Calls Out Harvey Weinstein Back In 2013",
         "line": {
          "color": "rgb(136,61,60)",
          "width": 2
         },
         "name": "Seth MacFarlane Calls Out Harvey Weinstein Back In 2013",
         "showlegend": false,
         "type": "scatter",
         "x": [
          "2017-10-12",
          "2017-10-13",
          "2017-10-14",
          "2017-10-15",
          "2017-10-16",
          "2017-10-17",
          "2017-10-18",
          "2017-10-19",
          "2017-10-20",
          "2017-10-21"
         ],
         "xaxis": "x4",
         "y": [
          326,
          804,
          946,
          1015,
          1062,
          1086,
          1106,
          1117,
          1129,
          1131
         ],
         "yaxis": "y4"
        },
        {
         "legendgroup": "73 Questions With Daisy Ridley | Vogue",
         "line": {
          "color": "rgb(42,3,61)",
          "width": 2
         },
         "name": "73 Questions With Daisy Ridley | Vogue",
         "showlegend": false,
         "type": "scatter",
         "x": [
          "2017-10-12",
          "2017-10-13",
          "2017-10-14",
          "2017-10-15",
          "2017-10-16",
          "2017-10-17",
          "2017-10-18",
          "2017-10-19",
          "2017-10-20",
          "2017-10-21"
         ],
         "xaxis": "x4",
         "y": [
          922,
          1653,
          1847,
          1948,
          2018,
          2074,
          2115,
          2148,
          2160,
          2168
         ],
         "yaxis": "y4"
        },
        {
         "legendgroup": "Kris Wu - Deserve ft. Travis Scott (Official Audio)",
         "line": {
          "color": "rgb(104,244,161)",
          "width": 2
         },
         "name": "Kris Wu - Deserve ft. Travis Scott (Official Audio)",
         "showlegend": false,
         "type": "scatter",
         "x": [
          "2017-10-12",
          "2017-10-13",
          "2017-10-14",
          "2017-10-15",
          "2017-10-16",
          "2017-10-17",
          "2017-10-18",
          "2017-10-19",
          "2017-10-20",
          "2017-10-21"
         ],
         "xaxis": "x4",
         "y": [
          343,
          698,
          837,
          939,
          1002,
          1055,
          1100,
          1130,
          1152,
          1160
         ],
         "yaxis": "y4"
        },
        {
         "legendgroup": "Emma Thompson: Harvey Weinstein 'top of harassment ladder' - BBC Newsnight",
         "line": {
          "color": "rgb(14,104,113)",
          "width": 2
         },
         "name": "Emma Thompson: Harvey Weinstein 'top of harassment ladder' - BBC Newsnight",
         "showlegend": false,
         "type": "scatter",
         "x": [
          "2017-10-13",
          "2017-10-14",
          "2017-10-15",
          "2017-10-16",
          "2017-10-17",
          "2017-10-18",
          "2017-10-19",
          "2017-10-20",
          "2017-10-21",
          "2017-10-22"
         ],
         "xaxis": "x4",
         "y": [
          80,
          449,
          684,
          911,
          1030,
          1123,
          1180,
          1219,
          1233,
          1248
         ],
         "yaxis": "y4"
        },
        {
         "legendgroup": "Guns N' Roses Feat. PINK! - Patience (Msg, Nyc) 10.11.17 (P!NK)",
         "line": {
          "color": "rgb(234,68,117)",
          "width": 2
         },
         "name": "Guns N' Roses Feat. PINK! - Patience (Msg, Nyc) 10.11.17 (P!NK)",
         "showlegend": false,
         "type": "scatter",
         "x": [
          "2017-10-13",
          "2017-10-14",
          "2017-10-15",
          "2017-10-16",
          "2017-10-17",
          "2017-10-18",
          "2017-10-19",
          "2017-10-20",
          "2017-10-21",
          "2017-10-22"
         ],
         "xaxis": "x4",
         "y": [
          84,
          194,
          257,
          334,
          392,
          429,
          462,
          486,
          521,
          540
         ],
         "yaxis": "y4"
        }
       ],
       "layout": {
        "annotations": [
         {
          "font": {
           "size": 16
          },
          "showarrow": false,
          "text": "Views",
          "x": 0.5,
          "xanchor": "center",
          "xref": "paper",
          "y": 1,
          "yanchor": "bottom",
          "yref": "paper"
         },
         {
          "font": {
           "size": 16
          },
          "showarrow": false,
          "text": "Comments",
          "x": 0.5,
          "xanchor": "center",
          "xref": "paper",
          "y": 0.7325,
          "yanchor": "bottom",
          "yref": "paper"
         },
         {
          "font": {
           "size": 16
          },
          "showarrow": false,
          "text": "Likes",
          "x": 0.5,
          "xanchor": "center",
          "xref": "paper",
          "y": 0.465,
          "yanchor": "bottom",
          "yref": "paper"
         },
         {
          "font": {
           "size": 16
          },
          "showarrow": false,
          "text": "Dislikes",
          "x": 0.5,
          "xanchor": "center",
          "xref": "paper",
          "y": 0.1975,
          "yanchor": "bottom",
          "yref": "paper"
         }
        ],
        "height": 1540,
        "legend": {
         "tracegroupgap": 1,
         "x": 0,
         "y": -0.163
        },
        "title": "Different metrics for videos trended in GB for 10 days",
        "width": 800,
        "xaxis1": {
         "anchor": "y1",
         "domain": [
          0,
          1
         ],
         "title": ""
        },
        "xaxis2": {
         "anchor": "y2",
         "domain": [
          0,
          1
         ],
         "title": ""
        },
        "xaxis3": {
         "anchor": "y3",
         "domain": [
          0,
          1
         ],
         "title": ""
        },
        "xaxis4": {
         "anchor": "y4",
         "domain": [
          0,
          1
         ],
         "title": ""
        },
        "yaxis1": {
         "anchor": "x1",
         "domain": [
          0.8025,
          1
         ],
         "title": "mln. views"
        },
        "yaxis2": {
         "anchor": "x2",
         "domain": [
          0.535,
          0.7325
         ],
         "title": "comments"
        },
        "yaxis3": {
         "anchor": "x3",
         "domain": [
          0.2675,
          0.465
         ],
         "title": "likes"
        },
        "yaxis4": {
         "anchor": "x4",
         "domain": [
          0,
          0.1975
         ],
         "title": "dislikes"
        }
       }
      },
      "text/html": [
       "<div id=\"5a191d8b-db05-4cde-abb5-b7556923b3f8\" style=\"height: 1540px; width: 800px;\" class=\"plotly-graph-div\"></div><script type=\"text/javascript\">require([\"plotly\"], function(Plotly) { window.PLOTLYENV=window.PLOTLYENV || {};window.PLOTLYENV.BASE_URL=\"https://plot.ly\";Plotly.newPlot(\"5a191d8b-db05-4cde-abb5-b7556923b3f8\", [{\"type\": \"scatter\", \"x\": [\"2017-10-08\"], \"y\": [1.330639], \"name\": \"Wembley Cup 2017 LIVE FINAL \\u2013 Hashtag United vs Tekkers Town\", \"line\": {\"width\": 2, \"color\": \"rgb(134,68,220)\"}, \"legendgroup\": \"Wembley Cup 2017 LIVE FINAL \\u2013 Hashtag United vs Tekkers Town\", \"showlegend\": false, \"xaxis\": \"x1\", \"yaxis\": \"y1\"}, {\"type\": \"scatter\", \"x\": [\"2017-10-08\", \"2017-10-09\", \"2017-10-10\", \"2017-10-11\", \"2017-10-12\", \"2017-10-13\", \"2017-10-14\", \"2017-10-15\", \"2017-10-16\", \"2017-10-17\"], \"y\": [0.092113, 0.277999, 0.365592, 0.403844, 0.409512, 0.413289, 0.41638, 0.419057, 0.4214, 0.423161], \"name\": \"Guy selling nuggets dipped in szechuan sauce for $10 a piece\", \"line\": {\"width\": 2, \"color\": \"rgb(154,165,86)\"}, \"legendgroup\": \"Guy selling nuggets dipped in szechuan sauce for $10 a piece\", \"showlegend\": false, \"xaxis\": \"x1\", \"yaxis\": \"y1\"}, {\"type\": \"scatter\", \"x\": [\"2017-10-09\", \"2017-10-10\", \"2017-10-11\", \"2017-10-12\", \"2017-10-13\", \"2017-10-14\", \"2017-10-15\", \"2017-10-16\", \"2017-10-17\"], \"y\": [1.66019, 1.842005, 1.930227, 1.973053, 2.007254, 2.03167, 2.054308, 2.071315, 2.087243], \"name\": \"Wembley Cup 2017 LIVE FINAL: Hashtag United vs Tekkers Town\", \"line\": {\"width\": 2, \"color\": \"rgb(168,191,115)\"}, \"legendgroup\": \"Wembley Cup 2017 LIVE FINAL: Hashtag United vs Tekkers Town\", \"showlegend\": false, \"xaxis\": \"x1\", \"yaxis\": \"y1\"}, {\"type\": \"scatter\", \"x\": [\"2017-10-11\", \"2017-10-12\", \"2017-10-13\", \"2017-10-14\", \"2017-10-15\", \"2017-10-16\", \"2017-10-17\", \"2017-10-18\", \"2017-10-19\", \"2017-10-20\"], \"y\": [0.86802, 1.37282, 1.671107, 1.865127, 2.059668, 2.264223, 2.468003, 2.659719, 2.832145, 3.009806], \"name\": \"KODAK BLACK Snot Thot\", \"line\": {\"width\": 2, \"color\": \"rgb(47,195,93)\"}, \"legendgroup\": \"KODAK BLACK Snot Thot\", \"showlegend\": false, \"xaxis\": \"x1\", \"yaxis\": \"y1\"}, {\"type\": \"scatter\", \"x\": [\"2017-10-12\", \"2017-10-13\", \"2017-10-14\", \"2017-10-15\", \"2017-10-16\", \"2017-10-17\", \"2017-10-18\", \"2017-10-19\", \"2017-10-20\", \"2017-10-21\"], \"y\": [1.425329, 2.607218, 3.016517, 3.23508, 3.39686, 3.493838, 3.564143, 3.610867, 3.656819, 3.688652], \"name\": \"Seth MacFarlane Calls Out Harvey Weinstein Back In 2013\", \"line\": {\"width\": 2, \"color\": \"rgb(136,61,60)\"}, \"legendgroup\": \"Seth MacFarlane Calls Out Harvey Weinstein Back In 2013\", \"showlegend\": false, \"xaxis\": \"x1\", \"yaxis\": \"y1\"}, {\"type\": \"scatter\", \"x\": [\"2017-10-12\", \"2017-10-13\", \"2017-10-14\", \"2017-10-15\", \"2017-10-16\", \"2017-10-17\", \"2017-10-18\", \"2017-10-19\", \"2017-10-20\", \"2017-10-21\"], \"y\": [0.926319, 1.634063, 1.837968, 1.952972, 2.027729, 2.082272, 2.123935, 2.154356, 2.175004, 2.189889], \"name\": \"73 Questions With Daisy Ridley | Vogue\", \"line\": {\"width\": 2, \"color\": \"rgb(42,3,61)\"}, \"legendgroup\": \"73 Questions With Daisy Ridley | Vogue\", \"showlegend\": false, \"xaxis\": \"x1\", \"yaxis\": \"y1\"}, {\"type\": \"scatter\", \"x\": [\"2017-10-12\", \"2017-10-13\", \"2017-10-14\", \"2017-10-15\", \"2017-10-16\", \"2017-10-17\", \"2017-10-18\", \"2017-10-19\", \"2017-10-20\", \"2017-10-21\"], \"y\": [0.252856, 0.581663, 0.830917, 1.011209, 1.216643, 1.310067, 1.379755, 1.429876, 1.468312, 1.502174], \"name\": \"Kris Wu - Deserve ft. Travis Scott (Official Audio)\", \"line\": {\"width\": 2, \"color\": \"rgb(104,244,161)\"}, \"legendgroup\": \"Kris Wu - Deserve ft. Travis Scott (Official Audio)\", \"showlegend\": false, \"xaxis\": \"x1\", \"yaxis\": \"y1\"}, {\"type\": \"scatter\", \"x\": [\"2017-10-13\", \"2017-10-14\", \"2017-10-15\", \"2017-10-16\", \"2017-10-17\", \"2017-10-18\", \"2017-10-19\", \"2017-10-20\", \"2017-10-21\", \"2017-10-22\"], \"y\": [0.021822, 0.233744, 0.394347, 0.537506, 0.648526, 0.765958, 0.835706, 0.894395, 0.930257, 0.955473], \"name\": \"Emma Thompson: Harvey Weinstein 'top of harassment ladder' - BBC Newsnight\", \"line\": {\"width\": 2, \"color\": \"rgb(14,104,113)\"}, \"legendgroup\": \"Emma Thompson: Harvey Weinstein 'top of harassment ladder' - BBC Newsnight\", \"showlegend\": false, \"xaxis\": \"x1\", \"yaxis\": \"y1\"}, {\"type\": \"scatter\", \"x\": [\"2017-10-13\", \"2017-10-14\", \"2017-10-15\", \"2017-10-16\", \"2017-10-17\", \"2017-10-18\", \"2017-10-19\", \"2017-10-20\", \"2017-10-21\", \"2017-10-22\"], \"y\": [0.161279, 0.35889, 0.483744, 0.595498, 0.688583, 0.750481, 0.795148, 0.842576, 0.902848, 0.969132], \"name\": \"Guns N' Roses Feat. PINK! - Patience (Msg, Nyc) 10.11.17 (P!NK)\", \"line\": {\"width\": 2, \"color\": \"rgb(234,68,117)\"}, \"legendgroup\": \"Guns N' Roses Feat. PINK! - Patience (Msg, Nyc) 10.11.17 (P!NK)\", \"showlegend\": false, \"xaxis\": \"x1\", \"yaxis\": \"y1\"}, {\"type\": \"scatter\", \"x\": [\"2017-10-08\"], \"y\": [2813], \"name\": \"Wembley Cup 2017 LIVE FINAL \\u2013 Hashtag United vs Tekkers Town\", \"line\": {\"width\": 2, \"color\": \"rgb(134,68,220)\"}, \"legendgroup\": \"Wembley Cup 2017 LIVE FINAL \\u2013 Hashtag United vs Tekkers Town\", \"showlegend\": true, \"xaxis\": \"x2\", \"yaxis\": \"y2\"}, {\"type\": \"scatter\", \"x\": [\"2017-10-08\", \"2017-10-09\", \"2017-10-10\", \"2017-10-11\", \"2017-10-12\", \"2017-10-13\", \"2017-10-14\", \"2017-10-15\", \"2017-10-16\", \"2017-10-17\"], \"y\": [153, 718, 1039, 1130, 1168, 1191, 1195, 1204, 1213, 1061], \"name\": \"Guy selling nuggets dipped in szechuan sauce for $10 a piece\", \"line\": {\"width\": 2, \"color\": \"rgb(154,165,86)\"}, \"legendgroup\": \"Guy selling nuggets dipped in szechuan sauce for $10 a piece\", \"showlegend\": true, \"xaxis\": \"x2\", \"yaxis\": \"y2\"}, {\"type\": \"scatter\", \"x\": [\"2017-10-09\", \"2017-10-10\", \"2017-10-11\", \"2017-10-12\", \"2017-10-13\", \"2017-10-14\", \"2017-10-15\", \"2017-10-16\", \"2017-10-17\"], \"y\": [3714, 3979, 4111, 4134, 4182, 4209, 4215, 4242, 4138], \"name\": \"Wembley Cup 2017 LIVE FINAL: Hashtag United vs Tekkers Town\", \"line\": {\"width\": 2, \"color\": \"rgb(168,191,115)\"}, \"legendgroup\": \"Wembley Cup 2017 LIVE FINAL: Hashtag United vs Tekkers Town\", \"showlegend\": true, \"xaxis\": \"x2\", \"yaxis\": \"y2\"}, {\"type\": \"scatter\", \"x\": [\"2017-10-11\", \"2017-10-12\", \"2017-10-13\", \"2017-10-14\", \"2017-10-15\", \"2017-10-16\", \"2017-10-17\", \"2017-10-18\", \"2017-10-19\", \"2017-10-20\"], \"y\": [5835, 7548, 8156, 8437, 8678, 8911, 9052, 9266, 9435, 9706], \"name\": \"KODAK BLACK Snot Thot\", \"line\": {\"width\": 2, \"color\": \"rgb(47,195,93)\"}, \"legendgroup\": \"KODAK BLACK Snot Thot\", \"showlegend\": true, \"xaxis\": \"x2\", \"yaxis\": \"y2\"}, {\"type\": \"scatter\", \"x\": [\"2017-10-12\", \"2017-10-13\", \"2017-10-14\", \"2017-10-15\", \"2017-10-16\", \"2017-10-17\", \"2017-10-18\", \"2017-10-19\", \"2017-10-20\", \"2017-10-21\"], \"y\": [1793, 3511, 4062, 4317, 4597, 3841, 3893, 3940, 4009, 4006], \"name\": \"Seth MacFarlane Calls Out Harvey Weinstein Back In 2013\", \"line\": {\"width\": 2, \"color\": \"rgb(136,61,60)\"}, \"legendgroup\": \"Seth MacFarlane Calls Out Harvey Weinstein Back In 2013\", \"showlegend\": true, \"xaxis\": \"x2\", \"yaxis\": \"y2\"}, {\"type\": \"scatter\", \"x\": [\"2017-10-12\", \"2017-10-13\", \"2017-10-14\", \"2017-10-15\", \"2017-10-16\", \"2017-10-17\", \"2017-10-18\", \"2017-10-19\", \"2017-10-20\", \"2017-10-21\"], \"y\": [5117, 7964, 8660, 8995, 9232, 8847, 8893, 8958, 7696, 7708], \"name\": \"73 Questions With Daisy Ridley | Vogue\", \"line\": {\"width\": 2, \"color\": \"rgb(42,3,61)\"}, \"legendgroup\": \"73 Questions With Daisy Ridley | Vogue\", \"showlegend\": true, \"xaxis\": \"x2\", \"yaxis\": \"y2\"}, {\"type\": \"scatter\", \"x\": [\"2017-10-12\", \"2017-10-13\", \"2017-10-14\", \"2017-10-15\", \"2017-10-16\", \"2017-10-17\", \"2017-10-18\", \"2017-10-19\", \"2017-10-20\", \"2017-10-21\"], \"y\": [4987, 6497, 6989, 7435, 7664, 7858, 7911, 7989, 6386, 6398], \"name\": \"Kris Wu - Deserve ft. Travis Scott (Official Audio)\", \"line\": {\"width\": 2, \"color\": \"rgb(104,244,161)\"}, \"legendgroup\": \"Kris Wu - Deserve ft. Travis Scott (Official Audio)\", \"showlegend\": true, \"xaxis\": \"x2\", \"yaxis\": \"y2\"}, {\"type\": \"scatter\", \"x\": [\"2017-10-13\", \"2017-10-14\", \"2017-10-15\", \"2017-10-16\", \"2017-10-17\", \"2017-10-18\", \"2017-10-19\", \"2017-10-20\", \"2017-10-21\", \"2017-10-22\"], \"y\": [0, 0, 0, 0, 0, 0, 0, 0, 0, 0], \"name\": \"Emma Thompson: Harvey Weinstein 'top of harassment ladder' - BBC Newsnight\", \"line\": {\"width\": 2, \"color\": \"rgb(14,104,113)\"}, \"legendgroup\": \"Emma Thompson: Harvey Weinstein 'top of harassment ladder' - BBC Newsnight\", \"showlegend\": true, \"xaxis\": \"x2\", \"yaxis\": \"y2\"}, {\"type\": \"scatter\", \"x\": [\"2017-10-13\", \"2017-10-14\", \"2017-10-15\", \"2017-10-16\", \"2017-10-17\", \"2017-10-18\", \"2017-10-19\", \"2017-10-20\", \"2017-10-21\", \"2017-10-22\"], \"y\": [216, 429, 674, 796, 550, 596, 625, 706, 716, 741], \"name\": \"Guns N' Roses Feat. PINK! - Patience (Msg, Nyc) 10.11.17 (P!NK)\", \"line\": {\"width\": 2, \"color\": \"rgb(234,68,117)\"}, \"legendgroup\": \"Guns N' Roses Feat. PINK! - Patience (Msg, Nyc) 10.11.17 (P!NK)\", \"showlegend\": true, \"xaxis\": \"x2\", \"yaxis\": \"y2\"}, {\"type\": \"scatter\", \"x\": [\"2017-10-08\"], \"y\": [42655], \"name\": \"Wembley Cup 2017 LIVE FINAL \\u2013 Hashtag United vs Tekkers Town\", \"line\": {\"width\": 2, \"color\": \"rgb(134,68,220)\"}, \"legendgroup\": \"Wembley Cup 2017 LIVE FINAL \\u2013 Hashtag United vs Tekkers Town\", \"showlegend\": false, \"xaxis\": \"x3\", \"yaxis\": \"y3\"}, {\"type\": \"scatter\", \"x\": [\"2017-10-08\", \"2017-10-09\", \"2017-10-10\", \"2017-10-11\", \"2017-10-12\", \"2017-10-13\", \"2017-10-14\", \"2017-10-15\", \"2017-10-16\", \"2017-10-17\"], \"y\": [175, 1303, 1956, 2163, 2192, 2205, 2216, 2226, 2235, 2240], \"name\": \"Guy selling nuggets dipped in szechuan sauce for $10 a piece\", \"line\": {\"width\": 2, \"color\": \"rgb(154,165,86)\"}, \"legendgroup\": \"Guy selling nuggets dipped in szechuan sauce for $10 a piece\", \"showlegend\": false, \"xaxis\": \"x3\", \"yaxis\": \"y3\"}, {\"type\": \"scatter\", \"x\": [\"2017-10-09\", \"2017-10-10\", \"2017-10-11\", \"2017-10-12\", \"2017-10-13\", \"2017-10-14\", \"2017-10-15\", \"2017-10-16\", \"2017-10-17\"], \"y\": [47249, 49437, 50294, 50776, 51056, 51230, 51355, 51465, 51666], \"name\": \"Wembley Cup 2017 LIVE FINAL: Hashtag United vs Tekkers Town\", \"line\": {\"width\": 2, \"color\": \"rgb(168,191,115)\"}, \"legendgroup\": \"Wembley Cup 2017 LIVE FINAL: Hashtag United vs Tekkers Town\", \"showlegend\": false, \"xaxis\": \"x3\", \"yaxis\": \"y3\"}, {\"type\": \"scatter\", \"x\": [\"2017-10-11\", \"2017-10-12\", \"2017-10-13\", \"2017-10-14\", \"2017-10-15\", \"2017-10-16\", \"2017-10-17\", \"2017-10-18\", \"2017-10-19\", \"2017-10-20\"], \"y\": [32990, 43095, 47338, 50027, 52393, 54544, 56504, 58218, 59683, 61156], \"name\": \"KODAK BLACK Snot Thot\", \"line\": {\"width\": 2, \"color\": \"rgb(47,195,93)\"}, \"legendgroup\": \"KODAK BLACK Snot Thot\", \"showlegend\": false, \"xaxis\": \"x3\", \"yaxis\": \"y3\"}, {\"type\": \"scatter\", \"x\": [\"2017-10-12\", \"2017-10-13\", \"2017-10-14\", \"2017-10-15\", \"2017-10-16\", \"2017-10-17\", \"2017-10-18\", \"2017-10-19\", \"2017-10-20\", \"2017-10-21\"], \"y\": [10123, 19107, 21682, 22767, 23562, 23972, 24317, 24560, 24806, 24941], \"name\": \"Seth MacFarlane Calls Out Harvey Weinstein Back In 2013\", \"line\": {\"width\": 2, \"color\": \"rgb(136,61,60)\"}, \"legendgroup\": \"Seth MacFarlane Calls Out Harvey Weinstein Back In 2013\", \"showlegend\": false, \"xaxis\": \"x3\", \"yaxis\": \"y3\"}, {\"type\": \"scatter\", \"x\": [\"2017-10-12\", \"2017-10-13\", \"2017-10-14\", \"2017-10-15\", \"2017-10-16\", \"2017-10-17\", \"2017-10-18\", \"2017-10-19\", \"2017-10-20\", \"2017-10-21\"], \"y\": [31747, 46164, 49798, 51894, 53348, 54280, 54892, 55396, 55727, 55947], \"name\": \"73 Questions With Daisy Ridley | Vogue\", \"line\": {\"width\": 2, \"color\": \"rgb(42,3,61)\"}, \"legendgroup\": \"73 Questions With Daisy Ridley | Vogue\", \"showlegend\": false, \"xaxis\": \"x3\", \"yaxis\": \"y3\"}, {\"type\": \"scatter\", \"x\": [\"2017-10-12\", \"2017-10-13\", \"2017-10-14\", \"2017-10-15\", \"2017-10-16\", \"2017-10-17\", \"2017-10-18\", \"2017-10-19\", \"2017-10-20\", \"2017-10-21\"], \"y\": [38237, 53917, 62503, 67752, 70982, 72890, 73947, 74701, 75228, 75668], \"name\": \"Kris Wu - Deserve ft. Travis Scott (Official Audio)\", \"line\": {\"width\": 2, \"color\": \"rgb(104,244,161)\"}, \"legendgroup\": \"Kris Wu - Deserve ft. Travis Scott (Official Audio)\", \"showlegend\": false, \"xaxis\": \"x3\", \"yaxis\": \"y3\"}, {\"type\": \"scatter\", \"x\": [\"2017-10-13\", \"2017-10-14\", \"2017-10-15\", \"2017-10-16\", \"2017-10-17\", \"2017-10-18\", \"2017-10-19\", \"2017-10-20\", \"2017-10-21\", \"2017-10-22\"], \"y\": [815, 4313, 6341, 8502, 10199, 12322, 13708, 14605, 15133, 15536], \"name\": \"Emma Thompson: Harvey Weinstein 'top of harassment ladder' - BBC Newsnight\", \"line\": {\"width\": 2, \"color\": \"rgb(14,104,113)\"}, \"legendgroup\": \"Emma Thompson: Harvey Weinstein 'top of harassment ladder' - BBC Newsnight\", \"showlegend\": false, \"xaxis\": \"x3\", \"yaxis\": \"y3\"}, {\"type\": \"scatter\", \"x\": [\"2017-10-13\", \"2017-10-14\", \"2017-10-15\", \"2017-10-16\", \"2017-10-17\", \"2017-10-18\", \"2017-10-19\", \"2017-10-20\", \"2017-10-21\", \"2017-10-22\"], \"y\": [1764, 3050, 3743, 4684, 5441, 5965, 6345, 6706, 7027, 7399], \"name\": \"Guns N' Roses Feat. PINK! - Patience (Msg, Nyc) 10.11.17 (P!NK)\", \"line\": {\"width\": 2, \"color\": \"rgb(234,68,117)\"}, \"legendgroup\": \"Guns N' Roses Feat. PINK! - Patience (Msg, Nyc) 10.11.17 (P!NK)\", \"showlegend\": false, \"xaxis\": \"x3\", \"yaxis\": \"y3\"}, {\"type\": \"scatter\", \"x\": [\"2017-10-08\"], \"y\": [1289], \"name\": \"Wembley Cup 2017 LIVE FINAL \\u2013 Hashtag United vs Tekkers Town\", \"line\": {\"width\": 2, \"color\": \"rgb(134,68,220)\"}, \"legendgroup\": \"Wembley Cup 2017 LIVE FINAL \\u2013 Hashtag United vs Tekkers Town\", \"showlegend\": false, \"xaxis\": \"x4\", \"yaxis\": \"y4\"}, {\"type\": \"scatter\", \"x\": [\"2017-10-08\", \"2017-10-09\", \"2017-10-10\", \"2017-10-11\", \"2017-10-12\", \"2017-10-13\", \"2017-10-14\", \"2017-10-15\", \"2017-10-16\", \"2017-10-17\"], \"y\": [164, 689, 958, 1057, 1071, 1073, 1082, 1084, 1085, 1088], \"name\": \"Guy selling nuggets dipped in szechuan sauce for $10 a piece\", \"line\": {\"width\": 2, \"color\": \"rgb(154,165,86)\"}, \"legendgroup\": \"Guy selling nuggets dipped in szechuan sauce for $10 a piece\", \"showlegend\": false, \"xaxis\": \"x4\", \"yaxis\": \"y4\"}, {\"type\": \"scatter\", \"x\": [\"2017-10-09\", \"2017-10-10\", \"2017-10-11\", \"2017-10-12\", \"2017-10-13\", \"2017-10-14\", \"2017-10-15\", \"2017-10-16\", \"2017-10-17\"], \"y\": [1651, 1816, 1867, 1888, 1907, 1920, 1920, 1919, 1919], \"name\": \"Wembley Cup 2017 LIVE FINAL: Hashtag United vs Tekkers Town\", \"line\": {\"width\": 2, \"color\": \"rgb(168,191,115)\"}, \"legendgroup\": \"Wembley Cup 2017 LIVE FINAL: Hashtag United vs Tekkers Town\", \"showlegend\": false, \"xaxis\": \"x4\", \"yaxis\": \"y4\"}, {\"type\": \"scatter\", \"x\": [\"2017-10-11\", \"2017-10-12\", \"2017-10-13\", \"2017-10-14\", \"2017-10-15\", \"2017-10-16\", \"2017-10-17\", \"2017-10-18\", \"2017-10-19\", \"2017-10-20\"], \"y\": [1360, 2026, 2400, 2588, 2773, 2968, 3160, 3310, 3416, 3538], \"name\": \"KODAK BLACK Snot Thot\", \"line\": {\"width\": 2, \"color\": \"rgb(47,195,93)\"}, \"legendgroup\": \"KODAK BLACK Snot Thot\", \"showlegend\": false, \"xaxis\": \"x4\", \"yaxis\": \"y4\"}, {\"type\": \"scatter\", \"x\": [\"2017-10-12\", \"2017-10-13\", \"2017-10-14\", \"2017-10-15\", \"2017-10-16\", \"2017-10-17\", \"2017-10-18\", \"2017-10-19\", \"2017-10-20\", \"2017-10-21\"], \"y\": [326, 804, 946, 1015, 1062, 1086, 1106, 1117, 1129, 1131], \"name\": \"Seth MacFarlane Calls Out Harvey Weinstein Back In 2013\", \"line\": {\"width\": 2, \"color\": \"rgb(136,61,60)\"}, \"legendgroup\": \"Seth MacFarlane Calls Out Harvey Weinstein Back In 2013\", \"showlegend\": false, \"xaxis\": \"x4\", \"yaxis\": \"y4\"}, {\"type\": \"scatter\", \"x\": [\"2017-10-12\", \"2017-10-13\", \"2017-10-14\", \"2017-10-15\", \"2017-10-16\", \"2017-10-17\", \"2017-10-18\", \"2017-10-19\", \"2017-10-20\", \"2017-10-21\"], \"y\": [922, 1653, 1847, 1948, 2018, 2074, 2115, 2148, 2160, 2168], \"name\": \"73 Questions With Daisy Ridley | Vogue\", \"line\": {\"width\": 2, \"color\": \"rgb(42,3,61)\"}, \"legendgroup\": \"73 Questions With Daisy Ridley | Vogue\", \"showlegend\": false, \"xaxis\": \"x4\", \"yaxis\": \"y4\"}, {\"type\": \"scatter\", \"x\": [\"2017-10-12\", \"2017-10-13\", \"2017-10-14\", \"2017-10-15\", \"2017-10-16\", \"2017-10-17\", \"2017-10-18\", \"2017-10-19\", \"2017-10-20\", \"2017-10-21\"], \"y\": [343, 698, 837, 939, 1002, 1055, 1100, 1130, 1152, 1160], \"name\": \"Kris Wu - Deserve ft. Travis Scott (Official Audio)\", \"line\": {\"width\": 2, \"color\": \"rgb(104,244,161)\"}, \"legendgroup\": \"Kris Wu - Deserve ft. Travis Scott (Official Audio)\", \"showlegend\": false, \"xaxis\": \"x4\", \"yaxis\": \"y4\"}, {\"type\": \"scatter\", \"x\": [\"2017-10-13\", \"2017-10-14\", \"2017-10-15\", \"2017-10-16\", \"2017-10-17\", \"2017-10-18\", \"2017-10-19\", \"2017-10-20\", \"2017-10-21\", \"2017-10-22\"], \"y\": [80, 449, 684, 911, 1030, 1123, 1180, 1219, 1233, 1248], \"name\": \"Emma Thompson: Harvey Weinstein 'top of harassment ladder' - BBC Newsnight\", \"line\": {\"width\": 2, \"color\": \"rgb(14,104,113)\"}, \"legendgroup\": \"Emma Thompson: Harvey Weinstein 'top of harassment ladder' - BBC Newsnight\", \"showlegend\": false, \"xaxis\": \"x4\", \"yaxis\": \"y4\"}, {\"type\": \"scatter\", \"x\": [\"2017-10-13\", \"2017-10-14\", \"2017-10-15\", \"2017-10-16\", \"2017-10-17\", \"2017-10-18\", \"2017-10-19\", \"2017-10-20\", \"2017-10-21\", \"2017-10-22\"], \"y\": [84, 194, 257, 334, 392, 429, 462, 486, 521, 540], \"name\": \"Guns N' Roses Feat. PINK! - Patience (Msg, Nyc) 10.11.17 (P!NK)\", \"line\": {\"width\": 2, \"color\": \"rgb(234,68,117)\"}, \"legendgroup\": \"Guns N' Roses Feat. PINK! - Patience (Msg, Nyc) 10.11.17 (P!NK)\", \"showlegend\": false, \"xaxis\": \"x4\", \"yaxis\": \"y4\"}], {\"xaxis1\": {\"domain\": [0.0, 1.0], \"anchor\": \"y1\", \"title\": \"\"}, \"yaxis1\": {\"domain\": [0.8025, 1.0], \"anchor\": \"x1\", \"title\": \"mln. views\"}, \"xaxis2\": {\"domain\": [0.0, 1.0], \"anchor\": \"y2\", \"title\": \"\"}, \"yaxis2\": {\"domain\": [0.535, 0.7325], \"anchor\": \"x2\", \"title\": \"comments\"}, \"xaxis3\": {\"domain\": [0.0, 1.0], \"anchor\": \"y3\", \"title\": \"\"}, \"yaxis3\": {\"domain\": [0.2675, 0.465], \"anchor\": \"x3\", \"title\": \"likes\"}, \"xaxis4\": {\"domain\": [0.0, 1.0], \"anchor\": \"y4\", \"title\": \"\"}, \"yaxis4\": {\"domain\": [0.0, 0.1975], \"anchor\": \"x4\", \"title\": \"dislikes\"}, \"annotations\": [{\"y\": 1.0, \"xref\": \"paper\", \"x\": 0.5, \"yref\": \"paper\", \"text\": \"Views\", \"showarrow\": false, \"font\": {\"size\": 16}, \"xanchor\": \"center\", \"yanchor\": \"bottom\"}, {\"y\": 0.7325, \"xref\": \"paper\", \"x\": 0.5, \"yref\": \"paper\", \"text\": \"Comments\", \"showarrow\": false, \"font\": {\"size\": 16}, \"xanchor\": \"center\", \"yanchor\": \"bottom\"}, {\"y\": 0.465, \"xref\": \"paper\", \"x\": 0.5, \"yref\": \"paper\", \"text\": \"Likes\", \"showarrow\": false, \"font\": {\"size\": 16}, \"xanchor\": \"center\", \"yanchor\": \"bottom\"}, {\"y\": 0.1975, \"xref\": \"paper\", \"x\": 0.5, \"yref\": \"paper\", \"text\": \"Dislikes\", \"showarrow\": false, \"font\": {\"size\": 16}, \"xanchor\": \"center\", \"yanchor\": \"bottom\"}], \"width\": 800, \"height\": 1540, \"title\": \"Different metrics for videos trended in GB for 10 days\", \"legend\": {\"x\": 0.0, \"y\": -0.163, \"tracegroupgap\": 1}}, {\"showLink\": true, \"linkText\": \"Export to plot.ly\"})});</script>"
      ],
      "text/vnd.plotly.v1+html": [
       "<div id=\"5a191d8b-db05-4cde-abb5-b7556923b3f8\" style=\"height: 1540px; width: 800px;\" class=\"plotly-graph-div\"></div><script type=\"text/javascript\">require([\"plotly\"], function(Plotly) { window.PLOTLYENV=window.PLOTLYENV || {};window.PLOTLYENV.BASE_URL=\"https://plot.ly\";Plotly.newPlot(\"5a191d8b-db05-4cde-abb5-b7556923b3f8\", [{\"type\": \"scatter\", \"x\": [\"2017-10-08\"], \"y\": [1.330639], \"name\": \"Wembley Cup 2017 LIVE FINAL \\u2013 Hashtag United vs Tekkers Town\", \"line\": {\"width\": 2, \"color\": \"rgb(134,68,220)\"}, \"legendgroup\": \"Wembley Cup 2017 LIVE FINAL \\u2013 Hashtag United vs Tekkers Town\", \"showlegend\": false, \"xaxis\": \"x1\", \"yaxis\": \"y1\"}, {\"type\": \"scatter\", \"x\": [\"2017-10-08\", \"2017-10-09\", \"2017-10-10\", \"2017-10-11\", \"2017-10-12\", \"2017-10-13\", \"2017-10-14\", \"2017-10-15\", \"2017-10-16\", \"2017-10-17\"], \"y\": [0.092113, 0.277999, 0.365592, 0.403844, 0.409512, 0.413289, 0.41638, 0.419057, 0.4214, 0.423161], \"name\": \"Guy selling nuggets dipped in szechuan sauce for $10 a piece\", \"line\": {\"width\": 2, \"color\": \"rgb(154,165,86)\"}, \"legendgroup\": \"Guy selling nuggets dipped in szechuan sauce for $10 a piece\", \"showlegend\": false, \"xaxis\": \"x1\", \"yaxis\": \"y1\"}, {\"type\": \"scatter\", \"x\": [\"2017-10-09\", \"2017-10-10\", \"2017-10-11\", \"2017-10-12\", \"2017-10-13\", \"2017-10-14\", \"2017-10-15\", \"2017-10-16\", \"2017-10-17\"], \"y\": [1.66019, 1.842005, 1.930227, 1.973053, 2.007254, 2.03167, 2.054308, 2.071315, 2.087243], \"name\": \"Wembley Cup 2017 LIVE FINAL: Hashtag United vs Tekkers Town\", \"line\": {\"width\": 2, \"color\": \"rgb(168,191,115)\"}, \"legendgroup\": \"Wembley Cup 2017 LIVE FINAL: Hashtag United vs Tekkers Town\", \"showlegend\": false, \"xaxis\": \"x1\", \"yaxis\": \"y1\"}, {\"type\": \"scatter\", \"x\": [\"2017-10-11\", \"2017-10-12\", \"2017-10-13\", \"2017-10-14\", \"2017-10-15\", \"2017-10-16\", \"2017-10-17\", \"2017-10-18\", \"2017-10-19\", \"2017-10-20\"], \"y\": [0.86802, 1.37282, 1.671107, 1.865127, 2.059668, 2.264223, 2.468003, 2.659719, 2.832145, 3.009806], \"name\": \"KODAK BLACK Snot Thot\", \"line\": {\"width\": 2, \"color\": \"rgb(47,195,93)\"}, \"legendgroup\": \"KODAK BLACK Snot Thot\", \"showlegend\": false, \"xaxis\": \"x1\", \"yaxis\": \"y1\"}, {\"type\": \"scatter\", \"x\": [\"2017-10-12\", \"2017-10-13\", \"2017-10-14\", \"2017-10-15\", \"2017-10-16\", \"2017-10-17\", \"2017-10-18\", \"2017-10-19\", \"2017-10-20\", \"2017-10-21\"], \"y\": [1.425329, 2.607218, 3.016517, 3.23508, 3.39686, 3.493838, 3.564143, 3.610867, 3.656819, 3.688652], \"name\": \"Seth MacFarlane Calls Out Harvey Weinstein Back In 2013\", \"line\": {\"width\": 2, \"color\": \"rgb(136,61,60)\"}, \"legendgroup\": \"Seth MacFarlane Calls Out Harvey Weinstein Back In 2013\", \"showlegend\": false, \"xaxis\": \"x1\", \"yaxis\": \"y1\"}, {\"type\": \"scatter\", \"x\": [\"2017-10-12\", \"2017-10-13\", \"2017-10-14\", \"2017-10-15\", \"2017-10-16\", \"2017-10-17\", \"2017-10-18\", \"2017-10-19\", \"2017-10-20\", \"2017-10-21\"], \"y\": [0.926319, 1.634063, 1.837968, 1.952972, 2.027729, 2.082272, 2.123935, 2.154356, 2.175004, 2.189889], \"name\": \"73 Questions With Daisy Ridley | Vogue\", \"line\": {\"width\": 2, \"color\": \"rgb(42,3,61)\"}, \"legendgroup\": \"73 Questions With Daisy Ridley | Vogue\", \"showlegend\": false, \"xaxis\": \"x1\", \"yaxis\": \"y1\"}, {\"type\": \"scatter\", \"x\": [\"2017-10-12\", \"2017-10-13\", \"2017-10-14\", \"2017-10-15\", \"2017-10-16\", \"2017-10-17\", \"2017-10-18\", \"2017-10-19\", \"2017-10-20\", \"2017-10-21\"], \"y\": [0.252856, 0.581663, 0.830917, 1.011209, 1.216643, 1.310067, 1.379755, 1.429876, 1.468312, 1.502174], \"name\": \"Kris Wu - Deserve ft. Travis Scott (Official Audio)\", \"line\": {\"width\": 2, \"color\": \"rgb(104,244,161)\"}, \"legendgroup\": \"Kris Wu - Deserve ft. Travis Scott (Official Audio)\", \"showlegend\": false, \"xaxis\": \"x1\", \"yaxis\": \"y1\"}, {\"type\": \"scatter\", \"x\": [\"2017-10-13\", \"2017-10-14\", \"2017-10-15\", \"2017-10-16\", \"2017-10-17\", \"2017-10-18\", \"2017-10-19\", \"2017-10-20\", \"2017-10-21\", \"2017-10-22\"], \"y\": [0.021822, 0.233744, 0.394347, 0.537506, 0.648526, 0.765958, 0.835706, 0.894395, 0.930257, 0.955473], \"name\": \"Emma Thompson: Harvey Weinstein 'top of harassment ladder' - BBC Newsnight\", \"line\": {\"width\": 2, \"color\": \"rgb(14,104,113)\"}, \"legendgroup\": \"Emma Thompson: Harvey Weinstein 'top of harassment ladder' - BBC Newsnight\", \"showlegend\": false, \"xaxis\": \"x1\", \"yaxis\": \"y1\"}, {\"type\": \"scatter\", \"x\": [\"2017-10-13\", \"2017-10-14\", \"2017-10-15\", \"2017-10-16\", \"2017-10-17\", \"2017-10-18\", \"2017-10-19\", \"2017-10-20\", \"2017-10-21\", \"2017-10-22\"], \"y\": [0.161279, 0.35889, 0.483744, 0.595498, 0.688583, 0.750481, 0.795148, 0.842576, 0.902848, 0.969132], \"name\": \"Guns N' Roses Feat. PINK! - Patience (Msg, Nyc) 10.11.17 (P!NK)\", \"line\": {\"width\": 2, \"color\": \"rgb(234,68,117)\"}, \"legendgroup\": \"Guns N' Roses Feat. PINK! - Patience (Msg, Nyc) 10.11.17 (P!NK)\", \"showlegend\": false, \"xaxis\": \"x1\", \"yaxis\": \"y1\"}, {\"type\": \"scatter\", \"x\": [\"2017-10-08\"], \"y\": [2813], \"name\": \"Wembley Cup 2017 LIVE FINAL \\u2013 Hashtag United vs Tekkers Town\", \"line\": {\"width\": 2, \"color\": \"rgb(134,68,220)\"}, \"legendgroup\": \"Wembley Cup 2017 LIVE FINAL \\u2013 Hashtag United vs Tekkers Town\", \"showlegend\": true, \"xaxis\": \"x2\", \"yaxis\": \"y2\"}, {\"type\": \"scatter\", \"x\": [\"2017-10-08\", \"2017-10-09\", \"2017-10-10\", \"2017-10-11\", \"2017-10-12\", \"2017-10-13\", \"2017-10-14\", \"2017-10-15\", \"2017-10-16\", \"2017-10-17\"], \"y\": [153, 718, 1039, 1130, 1168, 1191, 1195, 1204, 1213, 1061], \"name\": \"Guy selling nuggets dipped in szechuan sauce for $10 a piece\", \"line\": {\"width\": 2, \"color\": \"rgb(154,165,86)\"}, \"legendgroup\": \"Guy selling nuggets dipped in szechuan sauce for $10 a piece\", \"showlegend\": true, \"xaxis\": \"x2\", \"yaxis\": \"y2\"}, {\"type\": \"scatter\", \"x\": [\"2017-10-09\", \"2017-10-10\", \"2017-10-11\", \"2017-10-12\", \"2017-10-13\", \"2017-10-14\", \"2017-10-15\", \"2017-10-16\", \"2017-10-17\"], \"y\": [3714, 3979, 4111, 4134, 4182, 4209, 4215, 4242, 4138], \"name\": \"Wembley Cup 2017 LIVE FINAL: Hashtag United vs Tekkers Town\", \"line\": {\"width\": 2, \"color\": \"rgb(168,191,115)\"}, \"legendgroup\": \"Wembley Cup 2017 LIVE FINAL: Hashtag United vs Tekkers Town\", \"showlegend\": true, \"xaxis\": \"x2\", \"yaxis\": \"y2\"}, {\"type\": \"scatter\", \"x\": [\"2017-10-11\", \"2017-10-12\", \"2017-10-13\", \"2017-10-14\", \"2017-10-15\", \"2017-10-16\", \"2017-10-17\", \"2017-10-18\", \"2017-10-19\", \"2017-10-20\"], \"y\": [5835, 7548, 8156, 8437, 8678, 8911, 9052, 9266, 9435, 9706], \"name\": \"KODAK BLACK Snot Thot\", \"line\": {\"width\": 2, \"color\": \"rgb(47,195,93)\"}, \"legendgroup\": \"KODAK BLACK Snot Thot\", \"showlegend\": true, \"xaxis\": \"x2\", \"yaxis\": \"y2\"}, {\"type\": \"scatter\", \"x\": [\"2017-10-12\", \"2017-10-13\", \"2017-10-14\", \"2017-10-15\", \"2017-10-16\", \"2017-10-17\", \"2017-10-18\", \"2017-10-19\", \"2017-10-20\", \"2017-10-21\"], \"y\": [1793, 3511, 4062, 4317, 4597, 3841, 3893, 3940, 4009, 4006], \"name\": \"Seth MacFarlane Calls Out Harvey Weinstein Back In 2013\", \"line\": {\"width\": 2, \"color\": \"rgb(136,61,60)\"}, \"legendgroup\": \"Seth MacFarlane Calls Out Harvey Weinstein Back In 2013\", \"showlegend\": true, \"xaxis\": \"x2\", \"yaxis\": \"y2\"}, {\"type\": \"scatter\", \"x\": [\"2017-10-12\", \"2017-10-13\", \"2017-10-14\", \"2017-10-15\", \"2017-10-16\", \"2017-10-17\", \"2017-10-18\", \"2017-10-19\", \"2017-10-20\", \"2017-10-21\"], \"y\": [5117, 7964, 8660, 8995, 9232, 8847, 8893, 8958, 7696, 7708], \"name\": \"73 Questions With Daisy Ridley | Vogue\", \"line\": {\"width\": 2, \"color\": \"rgb(42,3,61)\"}, \"legendgroup\": \"73 Questions With Daisy Ridley | Vogue\", \"showlegend\": true, \"xaxis\": \"x2\", \"yaxis\": \"y2\"}, {\"type\": \"scatter\", \"x\": [\"2017-10-12\", \"2017-10-13\", \"2017-10-14\", \"2017-10-15\", \"2017-10-16\", \"2017-10-17\", \"2017-10-18\", \"2017-10-19\", \"2017-10-20\", \"2017-10-21\"], \"y\": [4987, 6497, 6989, 7435, 7664, 7858, 7911, 7989, 6386, 6398], \"name\": \"Kris Wu - Deserve ft. Travis Scott (Official Audio)\", \"line\": {\"width\": 2, \"color\": \"rgb(104,244,161)\"}, \"legendgroup\": \"Kris Wu - Deserve ft. Travis Scott (Official Audio)\", \"showlegend\": true, \"xaxis\": \"x2\", \"yaxis\": \"y2\"}, {\"type\": \"scatter\", \"x\": [\"2017-10-13\", \"2017-10-14\", \"2017-10-15\", \"2017-10-16\", \"2017-10-17\", \"2017-10-18\", \"2017-10-19\", \"2017-10-20\", \"2017-10-21\", \"2017-10-22\"], \"y\": [0, 0, 0, 0, 0, 0, 0, 0, 0, 0], \"name\": \"Emma Thompson: Harvey Weinstein 'top of harassment ladder' - BBC Newsnight\", \"line\": {\"width\": 2, \"color\": \"rgb(14,104,113)\"}, \"legendgroup\": \"Emma Thompson: Harvey Weinstein 'top of harassment ladder' - BBC Newsnight\", \"showlegend\": true, \"xaxis\": \"x2\", \"yaxis\": \"y2\"}, {\"type\": \"scatter\", \"x\": [\"2017-10-13\", \"2017-10-14\", \"2017-10-15\", \"2017-10-16\", \"2017-10-17\", \"2017-10-18\", \"2017-10-19\", \"2017-10-20\", \"2017-10-21\", \"2017-10-22\"], \"y\": [216, 429, 674, 796, 550, 596, 625, 706, 716, 741], \"name\": \"Guns N' Roses Feat. PINK! - Patience (Msg, Nyc) 10.11.17 (P!NK)\", \"line\": {\"width\": 2, \"color\": \"rgb(234,68,117)\"}, \"legendgroup\": \"Guns N' Roses Feat. PINK! - Patience (Msg, Nyc) 10.11.17 (P!NK)\", \"showlegend\": true, \"xaxis\": \"x2\", \"yaxis\": \"y2\"}, {\"type\": \"scatter\", \"x\": [\"2017-10-08\"], \"y\": [42655], \"name\": \"Wembley Cup 2017 LIVE FINAL \\u2013 Hashtag United vs Tekkers Town\", \"line\": {\"width\": 2, \"color\": \"rgb(134,68,220)\"}, \"legendgroup\": \"Wembley Cup 2017 LIVE FINAL \\u2013 Hashtag United vs Tekkers Town\", \"showlegend\": false, \"xaxis\": \"x3\", \"yaxis\": \"y3\"}, {\"type\": \"scatter\", \"x\": [\"2017-10-08\", \"2017-10-09\", \"2017-10-10\", \"2017-10-11\", \"2017-10-12\", \"2017-10-13\", \"2017-10-14\", \"2017-10-15\", \"2017-10-16\", \"2017-10-17\"], \"y\": [175, 1303, 1956, 2163, 2192, 2205, 2216, 2226, 2235, 2240], \"name\": \"Guy selling nuggets dipped in szechuan sauce for $10 a piece\", \"line\": {\"width\": 2, \"color\": \"rgb(154,165,86)\"}, \"legendgroup\": \"Guy selling nuggets dipped in szechuan sauce for $10 a piece\", \"showlegend\": false, \"xaxis\": \"x3\", \"yaxis\": \"y3\"}, {\"type\": \"scatter\", \"x\": [\"2017-10-09\", \"2017-10-10\", \"2017-10-11\", \"2017-10-12\", \"2017-10-13\", \"2017-10-14\", \"2017-10-15\", \"2017-10-16\", \"2017-10-17\"], \"y\": [47249, 49437, 50294, 50776, 51056, 51230, 51355, 51465, 51666], \"name\": \"Wembley Cup 2017 LIVE FINAL: Hashtag United vs Tekkers Town\", \"line\": {\"width\": 2, \"color\": \"rgb(168,191,115)\"}, \"legendgroup\": \"Wembley Cup 2017 LIVE FINAL: Hashtag United vs Tekkers Town\", \"showlegend\": false, \"xaxis\": \"x3\", \"yaxis\": \"y3\"}, {\"type\": \"scatter\", \"x\": [\"2017-10-11\", \"2017-10-12\", \"2017-10-13\", \"2017-10-14\", \"2017-10-15\", \"2017-10-16\", \"2017-10-17\", \"2017-10-18\", \"2017-10-19\", \"2017-10-20\"], \"y\": [32990, 43095, 47338, 50027, 52393, 54544, 56504, 58218, 59683, 61156], \"name\": \"KODAK BLACK Snot Thot\", \"line\": {\"width\": 2, \"color\": \"rgb(47,195,93)\"}, \"legendgroup\": \"KODAK BLACK Snot Thot\", \"showlegend\": false, \"xaxis\": \"x3\", \"yaxis\": \"y3\"}, {\"type\": \"scatter\", \"x\": [\"2017-10-12\", \"2017-10-13\", \"2017-10-14\", \"2017-10-15\", \"2017-10-16\", \"2017-10-17\", \"2017-10-18\", \"2017-10-19\", \"2017-10-20\", \"2017-10-21\"], \"y\": [10123, 19107, 21682, 22767, 23562, 23972, 24317, 24560, 24806, 24941], \"name\": \"Seth MacFarlane Calls Out Harvey Weinstein Back In 2013\", \"line\": {\"width\": 2, \"color\": \"rgb(136,61,60)\"}, \"legendgroup\": \"Seth MacFarlane Calls Out Harvey Weinstein Back In 2013\", \"showlegend\": false, \"xaxis\": \"x3\", \"yaxis\": \"y3\"}, {\"type\": \"scatter\", \"x\": [\"2017-10-12\", \"2017-10-13\", \"2017-10-14\", \"2017-10-15\", \"2017-10-16\", \"2017-10-17\", \"2017-10-18\", \"2017-10-19\", \"2017-10-20\", \"2017-10-21\"], \"y\": [31747, 46164, 49798, 51894, 53348, 54280, 54892, 55396, 55727, 55947], \"name\": \"73 Questions With Daisy Ridley | Vogue\", \"line\": {\"width\": 2, \"color\": \"rgb(42,3,61)\"}, \"legendgroup\": \"73 Questions With Daisy Ridley | Vogue\", \"showlegend\": false, \"xaxis\": \"x3\", \"yaxis\": \"y3\"}, {\"type\": \"scatter\", \"x\": [\"2017-10-12\", \"2017-10-13\", \"2017-10-14\", \"2017-10-15\", \"2017-10-16\", \"2017-10-17\", \"2017-10-18\", \"2017-10-19\", \"2017-10-20\", \"2017-10-21\"], \"y\": [38237, 53917, 62503, 67752, 70982, 72890, 73947, 74701, 75228, 75668], \"name\": \"Kris Wu - Deserve ft. Travis Scott (Official Audio)\", \"line\": {\"width\": 2, \"color\": \"rgb(104,244,161)\"}, \"legendgroup\": \"Kris Wu - Deserve ft. Travis Scott (Official Audio)\", \"showlegend\": false, \"xaxis\": \"x3\", \"yaxis\": \"y3\"}, {\"type\": \"scatter\", \"x\": [\"2017-10-13\", \"2017-10-14\", \"2017-10-15\", \"2017-10-16\", \"2017-10-17\", \"2017-10-18\", \"2017-10-19\", \"2017-10-20\", \"2017-10-21\", \"2017-10-22\"], \"y\": [815, 4313, 6341, 8502, 10199, 12322, 13708, 14605, 15133, 15536], \"name\": \"Emma Thompson: Harvey Weinstein 'top of harassment ladder' - BBC Newsnight\", \"line\": {\"width\": 2, \"color\": \"rgb(14,104,113)\"}, \"legendgroup\": \"Emma Thompson: Harvey Weinstein 'top of harassment ladder' - BBC Newsnight\", \"showlegend\": false, \"xaxis\": \"x3\", \"yaxis\": \"y3\"}, {\"type\": \"scatter\", \"x\": [\"2017-10-13\", \"2017-10-14\", \"2017-10-15\", \"2017-10-16\", \"2017-10-17\", \"2017-10-18\", \"2017-10-19\", \"2017-10-20\", \"2017-10-21\", \"2017-10-22\"], \"y\": [1764, 3050, 3743, 4684, 5441, 5965, 6345, 6706, 7027, 7399], \"name\": \"Guns N' Roses Feat. PINK! - Patience (Msg, Nyc) 10.11.17 (P!NK)\", \"line\": {\"width\": 2, \"color\": \"rgb(234,68,117)\"}, \"legendgroup\": \"Guns N' Roses Feat. PINK! - Patience (Msg, Nyc) 10.11.17 (P!NK)\", \"showlegend\": false, \"xaxis\": \"x3\", \"yaxis\": \"y3\"}, {\"type\": \"scatter\", \"x\": [\"2017-10-08\"], \"y\": [1289], \"name\": \"Wembley Cup 2017 LIVE FINAL \\u2013 Hashtag United vs Tekkers Town\", \"line\": {\"width\": 2, \"color\": \"rgb(134,68,220)\"}, \"legendgroup\": \"Wembley Cup 2017 LIVE FINAL \\u2013 Hashtag United vs Tekkers Town\", \"showlegend\": false, \"xaxis\": \"x4\", \"yaxis\": \"y4\"}, {\"type\": \"scatter\", \"x\": [\"2017-10-08\", \"2017-10-09\", \"2017-10-10\", \"2017-10-11\", \"2017-10-12\", \"2017-10-13\", \"2017-10-14\", \"2017-10-15\", \"2017-10-16\", \"2017-10-17\"], \"y\": [164, 689, 958, 1057, 1071, 1073, 1082, 1084, 1085, 1088], \"name\": \"Guy selling nuggets dipped in szechuan sauce for $10 a piece\", \"line\": {\"width\": 2, \"color\": \"rgb(154,165,86)\"}, \"legendgroup\": \"Guy selling nuggets dipped in szechuan sauce for $10 a piece\", \"showlegend\": false, \"xaxis\": \"x4\", \"yaxis\": \"y4\"}, {\"type\": \"scatter\", \"x\": [\"2017-10-09\", \"2017-10-10\", \"2017-10-11\", \"2017-10-12\", \"2017-10-13\", \"2017-10-14\", \"2017-10-15\", \"2017-10-16\", \"2017-10-17\"], \"y\": [1651, 1816, 1867, 1888, 1907, 1920, 1920, 1919, 1919], \"name\": \"Wembley Cup 2017 LIVE FINAL: Hashtag United vs Tekkers Town\", \"line\": {\"width\": 2, \"color\": \"rgb(168,191,115)\"}, \"legendgroup\": \"Wembley Cup 2017 LIVE FINAL: Hashtag United vs Tekkers Town\", \"showlegend\": false, \"xaxis\": \"x4\", \"yaxis\": \"y4\"}, {\"type\": \"scatter\", \"x\": [\"2017-10-11\", \"2017-10-12\", \"2017-10-13\", \"2017-10-14\", \"2017-10-15\", \"2017-10-16\", \"2017-10-17\", \"2017-10-18\", \"2017-10-19\", \"2017-10-20\"], \"y\": [1360, 2026, 2400, 2588, 2773, 2968, 3160, 3310, 3416, 3538], \"name\": \"KODAK BLACK Snot Thot\", \"line\": {\"width\": 2, \"color\": \"rgb(47,195,93)\"}, \"legendgroup\": \"KODAK BLACK Snot Thot\", \"showlegend\": false, \"xaxis\": \"x4\", \"yaxis\": \"y4\"}, {\"type\": \"scatter\", \"x\": [\"2017-10-12\", \"2017-10-13\", \"2017-10-14\", \"2017-10-15\", \"2017-10-16\", \"2017-10-17\", \"2017-10-18\", \"2017-10-19\", \"2017-10-20\", \"2017-10-21\"], \"y\": [326, 804, 946, 1015, 1062, 1086, 1106, 1117, 1129, 1131], \"name\": \"Seth MacFarlane Calls Out Harvey Weinstein Back In 2013\", \"line\": {\"width\": 2, \"color\": \"rgb(136,61,60)\"}, \"legendgroup\": \"Seth MacFarlane Calls Out Harvey Weinstein Back In 2013\", \"showlegend\": false, \"xaxis\": \"x4\", \"yaxis\": \"y4\"}, {\"type\": \"scatter\", \"x\": [\"2017-10-12\", \"2017-10-13\", \"2017-10-14\", \"2017-10-15\", \"2017-10-16\", \"2017-10-17\", \"2017-10-18\", \"2017-10-19\", \"2017-10-20\", \"2017-10-21\"], \"y\": [922, 1653, 1847, 1948, 2018, 2074, 2115, 2148, 2160, 2168], \"name\": \"73 Questions With Daisy Ridley | Vogue\", \"line\": {\"width\": 2, \"color\": \"rgb(42,3,61)\"}, \"legendgroup\": \"73 Questions With Daisy Ridley | Vogue\", \"showlegend\": false, \"xaxis\": \"x4\", \"yaxis\": \"y4\"}, {\"type\": \"scatter\", \"x\": [\"2017-10-12\", \"2017-10-13\", \"2017-10-14\", \"2017-10-15\", \"2017-10-16\", \"2017-10-17\", \"2017-10-18\", \"2017-10-19\", \"2017-10-20\", \"2017-10-21\"], \"y\": [343, 698, 837, 939, 1002, 1055, 1100, 1130, 1152, 1160], \"name\": \"Kris Wu - Deserve ft. Travis Scott (Official Audio)\", \"line\": {\"width\": 2, \"color\": \"rgb(104,244,161)\"}, \"legendgroup\": \"Kris Wu - Deserve ft. Travis Scott (Official Audio)\", \"showlegend\": false, \"xaxis\": \"x4\", \"yaxis\": \"y4\"}, {\"type\": \"scatter\", \"x\": [\"2017-10-13\", \"2017-10-14\", \"2017-10-15\", \"2017-10-16\", \"2017-10-17\", \"2017-10-18\", \"2017-10-19\", \"2017-10-20\", \"2017-10-21\", \"2017-10-22\"], \"y\": [80, 449, 684, 911, 1030, 1123, 1180, 1219, 1233, 1248], \"name\": \"Emma Thompson: Harvey Weinstein 'top of harassment ladder' - BBC Newsnight\", \"line\": {\"width\": 2, \"color\": \"rgb(14,104,113)\"}, \"legendgroup\": \"Emma Thompson: Harvey Weinstein 'top of harassment ladder' - BBC Newsnight\", \"showlegend\": false, \"xaxis\": \"x4\", \"yaxis\": \"y4\"}, {\"type\": \"scatter\", \"x\": [\"2017-10-13\", \"2017-10-14\", \"2017-10-15\", \"2017-10-16\", \"2017-10-17\", \"2017-10-18\", \"2017-10-19\", \"2017-10-20\", \"2017-10-21\", \"2017-10-22\"], \"y\": [84, 194, 257, 334, 392, 429, 462, 486, 521, 540], \"name\": \"Guns N' Roses Feat. PINK! - Patience (Msg, Nyc) 10.11.17 (P!NK)\", \"line\": {\"width\": 2, \"color\": \"rgb(234,68,117)\"}, \"legendgroup\": \"Guns N' Roses Feat. PINK! - Patience (Msg, Nyc) 10.11.17 (P!NK)\", \"showlegend\": false, \"xaxis\": \"x4\", \"yaxis\": \"y4\"}], {\"xaxis1\": {\"domain\": [0.0, 1.0], \"anchor\": \"y1\", \"title\": \"\"}, \"yaxis1\": {\"domain\": [0.8025, 1.0], \"anchor\": \"x1\", \"title\": \"mln. views\"}, \"xaxis2\": {\"domain\": [0.0, 1.0], \"anchor\": \"y2\", \"title\": \"\"}, \"yaxis2\": {\"domain\": [0.535, 0.7325], \"anchor\": \"x2\", \"title\": \"comments\"}, \"xaxis3\": {\"domain\": [0.0, 1.0], \"anchor\": \"y3\", \"title\": \"\"}, \"yaxis3\": {\"domain\": [0.2675, 0.465], \"anchor\": \"x3\", \"title\": \"likes\"}, \"xaxis4\": {\"domain\": [0.0, 1.0], \"anchor\": \"y4\", \"title\": \"\"}, \"yaxis4\": {\"domain\": [0.0, 0.1975], \"anchor\": \"x4\", \"title\": \"dislikes\"}, \"annotations\": [{\"y\": 1.0, \"xref\": \"paper\", \"x\": 0.5, \"yref\": \"paper\", \"text\": \"Views\", \"showarrow\": false, \"font\": {\"size\": 16}, \"xanchor\": \"center\", \"yanchor\": \"bottom\"}, {\"y\": 0.7325, \"xref\": \"paper\", \"x\": 0.5, \"yref\": \"paper\", \"text\": \"Comments\", \"showarrow\": false, \"font\": {\"size\": 16}, \"xanchor\": \"center\", \"yanchor\": \"bottom\"}, {\"y\": 0.465, \"xref\": \"paper\", \"x\": 0.5, \"yref\": \"paper\", \"text\": \"Likes\", \"showarrow\": false, \"font\": {\"size\": 16}, \"xanchor\": \"center\", \"yanchor\": \"bottom\"}, {\"y\": 0.1975, \"xref\": \"paper\", \"x\": 0.5, \"yref\": \"paper\", \"text\": \"Dislikes\", \"showarrow\": false, \"font\": {\"size\": 16}, \"xanchor\": \"center\", \"yanchor\": \"bottom\"}], \"width\": 800, \"height\": 1540, \"title\": \"Different metrics for videos trended in GB for 10 days\", \"legend\": {\"x\": 0.0, \"y\": -0.163, \"tracegroupgap\": 1}}, {\"showLink\": true, \"linkText\": \"Export to plot.ly\"})});</script>"
      ]
     },
     "metadata": {},
     "output_type": "display_data"
    }
   ],
   "source": [
    "best_survivors(gb_vid_df, 10, \"GB\")"
   ]
  },
  {
   "cell_type": "code",
   "execution_count": 8,
   "metadata": {
    "_cell_guid": "c7690f5a-3b17-4b13-87e5-f8967c54cad7",
    "_uuid": "b09275c2d3807452a7ab014f2456106a1bf50668"
   },
   "outputs": [
    {
     "data": {
      "image/png": "[encoded data removed]",
      "text/plain": [
       "<matplotlib.figure.Figure at 0x25e857196a0>"
      ]
     },
     "metadata": {},
     "output_type": "display_data"
    }
   ],
   "source": [
    "quick_insight(us_vid_df, \"US\", 'blue')"
   ]
  },
  {
   "cell_type": "code",
   "execution_count": 9,
   "metadata": {
    "_cell_guid": "07f58158-4c7c-4e38-aebb-87e6157299b6",
    "_uuid": "0742a11e7e9ca771ad5e5f09487c72386c6f35b0"
   },
   "outputs": [
    {
     "name": "stdout",
     "output_type": "stream",
     "text": [
      "This is the format of your plot grid:\n",
      "[ (1,1) x1,y1 ]\n",
      "[ (2,1) x2,y2 ]\n",
      "[ (3,1) x3,y3 ]\n",
      "[ (4,1) x4,y4 ]\n",
      "\n"
     ]
    },
    {
     "data": {
      "application/vnd.plotly.v1+json": {
       "data": [
        {
         "legendgroup": "1 YEAR OF VLOGGING -- HOW LOGAN PAUL CHANGED YOUTUBE FOREVER!",
         "line": {
          "color": "rgb(188,148,96)",
          "width": 2
         },
         "name": "1 YEAR OF VLOGGING -- HOW LOGAN PAUL CHANGED YOUTUBE FOREVER!",
         "showlegend": false,
         "type": "scatter",
         "x": [
          "2017-09-13",
          "2017-09-14",
          "2017-09-15",
          "2017-09-16",
          "2017-09-17",
          "2017-09-18",
          "2017-09-19"
         ],
         "xaxis": "x1",
         "y": [
          4.394029,
          5.457497,
          5.854127,
          5.997736,
          6.109026,
          6.19581,
          6.232518
         ],
         "yaxis": "y1"
        },
        {
         "legendgroup": "My Response",
         "line": {
          "color": "rgb(234,216,26)",
          "width": 2
         },
         "name": "My Response",
         "showlegend": false,
         "type": "scatter",
         "x": [
          "2017-09-13",
          "2017-09-14",
          "2017-09-15",
          "2017-09-16",
          "2017-09-17",
          "2017-09-18",
          "2017-09-19"
         ],
         "xaxis": "x1",
         "y": [
          5.845909,
          6.997601,
          7.706359,
          8.002631,
          8.347038,
          8.665083,
          8.808424
         ],
         "yaxis": "y1"
        },
        {
         "legendgroup": "Apple iPhone X first look",
         "line": {
          "color": "rgb(228,195,199)",
          "width": 2
         },
         "name": "Apple iPhone X first look",
         "showlegend": false,
         "type": "scatter",
         "x": [
          "2017-09-13",
          "2017-09-14",
          "2017-09-15",
          "2017-09-16",
          "2017-09-17",
          "2017-09-18",
          "2017-09-19"
         ],
         "xaxis": "x1",
         "y": [
          2.642103,
          3.654879,
          4.257519,
          4.489199,
          4.633101,
          4.744488,
          4.804702
         ],
         "yaxis": "y1"
        },
        {
         "legendgroup": "iPhone X (parody)",
         "line": {
          "color": "rgb(108,72,150)",
          "width": 2
         },
         "name": "iPhone X (parody)",
         "showlegend": false,
         "type": "scatter",
         "x": [
          "2017-09-13",
          "2017-09-14",
          "2017-09-15",
          "2017-09-16",
          "2017-09-17",
          "2017-09-18",
          "2017-09-19"
         ],
         "xaxis": "x1",
         "y": [
          1.16813,
          2.084309,
          2.587501,
          2.846092,
          3.037052,
          3.192269,
          3.280098
         ],
         "yaxis": "y1"
        },
        {
         "legendgroup": "Hello, world. Meet our baby girl: Alexis Olympia Ohanian, Jr.",
         "line": {
          "color": "rgb(68,57,223)",
          "width": 2
         },
         "name": "Hello, world. Meet our baby girl: Alexis Olympia Ohanian, Jr.",
         "showlegend": false,
         "type": "scatter",
         "x": [
          "2017-09-14",
          "2017-09-15",
          "2017-09-16",
          "2017-09-17",
          "2017-09-18",
          "2017-09-19",
          "2017-09-20"
         ],
         "xaxis": "x1",
         "y": [
          1.110865,
          1.921063,
          2.138396,
          2.23781,
          2.307502,
          2.348649,
          2.379689
         ],
         "yaxis": "y1"
        },
        {
         "legendgroup": "Bella Hadid Roughs Up Security Roughing Up Female Photog | TMZ",
         "line": {
          "color": "rgb(190,106,21)",
          "width": 2
         },
         "name": "Bella Hadid Roughs Up Security Roughing Up Female Photog | TMZ",
         "showlegend": false,
         "type": "scatter",
         "x": [
          "2017-09-14",
          "2017-09-15",
          "2017-09-16",
          "2017-09-17",
          "2017-09-18",
          "2017-09-19",
          "2017-09-20"
         ],
         "xaxis": "x1",
         "y": [
          0.041452,
          0.19826,
          0.293148,
          0.397771,
          0.458189,
          0.46813,
          0.483496
         ],
         "yaxis": "y1"
        },
        {
         "legendgroup": "Shakira - Perro Fiel (Official Video) ft. Nicky Jam",
         "line": {
          "color": "rgb(182,166,55)",
          "width": 2
         },
         "name": "Shakira - Perro Fiel (Official Video) ft. Nicky Jam",
         "showlegend": false,
         "type": "scatter",
         "x": [
          "2017-09-16",
          "2017-09-17",
          "2017-09-18",
          "2017-09-19",
          "2017-09-20",
          "2017-09-21",
          "2017-09-22"
         ],
         "xaxis": "x1",
         "y": [
          4.08556,
          10.944706,
          15.90652,
          19.496639,
          22.787997,
          27.750173,
          32.136948
         ],
         "yaxis": "y1"
        },
        {
         "legendgroup": "The Insane Full House Theory That Might Be True",
         "line": {
          "color": "rgb(74,167,14)",
          "width": 2
         },
         "name": "The Insane Full House Theory That Might Be True",
         "showlegend": false,
         "type": "scatter",
         "x": [
          "2017-09-16",
          "2017-09-17",
          "2017-09-18",
          "2017-09-19",
          "2017-09-20",
          "2017-09-21",
          "2017-09-22"
         ],
         "xaxis": "x1",
         "y": [
          0.290939,
          0.888666,
          1.213185,
          1.273718,
          1.285313,
          1.301518,
          1.313911
         ],
         "yaxis": "y1"
        },
        {
         "legendgroup": "Everything Wrong With The LEGO Batman Movie",
         "line": {
          "color": "rgb(51,92,101)",
          "width": 2
         },
         "name": "Everything Wrong With The LEGO Batman Movie",
         "showlegend": false,
         "type": "scatter",
         "x": [
          "2017-09-20",
          "2017-09-21",
          "2017-09-22",
          "2017-09-23",
          "2017-09-24",
          "2017-09-25",
          "2017-09-26"
         ],
         "xaxis": "x1",
         "y": [
          1.311031,
          2.030432,
          2.225184,
          2.391377,
          2.490053,
          2.582647,
          2.62965
         ],
         "yaxis": "y1"
        },
        {
         "legendgroup": "TOMB RAIDER - Official Trailer #1",
         "line": {
          "color": "rgb(54,32,180)",
          "width": 2
         },
         "name": "TOMB RAIDER - Official Trailer #1",
         "showlegend": false,
         "type": "scatter",
         "x": [
          "2017-09-20",
          "2017-09-21",
          "2017-09-22",
          "2017-09-23",
          "2017-09-24",
          "2017-09-25",
          "2017-09-26"
         ],
         "xaxis": "x1",
         "y": [
          0.07148,
          3.276021,
          6.941887,
          8.700817,
          9.064131,
          9.449472,
          9.722207
         ],
         "yaxis": "y1"
        },
        {
         "legendgroup": "COOK OFF! (2017 Movie) – Official Trailer",
         "line": {
          "color": "rgb(152,81,221)",
          "width": 2
         },
         "name": "COOK OFF! (2017 Movie) – Official Trailer",
         "showlegend": false,
         "type": "scatter",
         "x": [
          "2017-09-20",
          "2017-09-21",
          "2017-09-22",
          "2017-09-23",
          "2017-09-24",
          "2017-09-25",
          "2017-09-26"
         ],
         "xaxis": "x1",
         "y": [
          0.034895,
          0.230372,
          0.309307,
          0.34775,
          0.365898,
          0.388066,
          0.40932
         ],
         "yaxis": "y1"
        },
        {
         "legendgroup": "Foo Fighters Carpool Karaoke",
         "line": {
          "color": "rgb(207,178,14)",
          "width": 2
         },
         "name": "Foo Fighters Carpool Karaoke",
         "showlegend": false,
         "type": "scatter",
         "x": [
          "2017-09-21",
          "2017-09-22",
          "2017-09-23",
          "2017-09-24",
          "2017-09-25",
          "2017-09-26",
          "2017-09-27"
         ],
         "xaxis": "x1",
         "y": [
          0.393877,
          2.397363,
          4.022951,
          4.48487,
          4.862619,
          5.107701,
          5.302643
         ],
         "yaxis": "y1"
        },
        {
         "legendgroup": "Bear in Russian traffic",
         "line": {
          "color": "rgb(37,88,221)",
          "width": 2
         },
         "name": "Bear in Russian traffic",
         "showlegend": false,
         "type": "scatter",
         "x": [
          "2017-09-21",
          "2017-09-21",
          "2017-09-22",
          "2017-09-23",
          "2017-09-24",
          "2017-09-25",
          "2017-09-26"
         ],
         "xaxis": "x1",
         "y": [
          0.093109,
          0.093153,
          0.11572,
          0.135303,
          0.141666,
          0.161606,
          0.201549
         ],
         "yaxis": "y1"
        },
        {
         "legendgroup": "J Balvin, Willy William - Mi Gente featuring Beyoncé",
         "line": {
          "color": "rgb(207,6,197)",
          "width": 2
         },
         "name": "J Balvin, Willy William - Mi Gente featuring Beyoncé",
         "showlegend": false,
         "type": "scatter",
         "x": [
          "2017-09-29",
          "2017-09-30",
          "2017-10-01",
          "2017-10-02",
          "2017-10-03",
          "2017-10-04"
         ],
         "xaxis": "x1",
         "y": [
          1.250899,
          7.440958,
          9.629935,
          10.736487,
          11.576213,
          12.254591
         ],
         "yaxis": "y1"
        },
        {
         "legendgroup": "Donald Trump’s Cringe-Worthy Attempt To Date Brooke Shields | WWHL",
         "line": {
          "color": "rgb(233,195,170)",
          "width": 2
         },
         "name": "Donald Trump’s Cringe-Worthy Attempt To Date Brooke Shields | WWHL",
         "showlegend": false,
         "type": "scatter",
         "x": [
          "2017-10-04",
          "2017-10-05",
          "2017-10-06",
          "2017-10-07",
          "2017-10-08",
          "2017-10-09",
          "2017-10-10"
         ],
         "xaxis": "x1",
         "y": [
          0.000933,
          0.314712,
          0.440499,
          0.473137,
          0.486614,
          0.497924,
          0.504791
         ],
         "yaxis": "y1"
        },
        {
         "legendgroup": "J Balvin, Willy William - Mi Gente featuring Beyoncé ft. Beyoncé",
         "line": {
          "color": "rgb(227,123,74)",
          "width": 2
         },
         "name": "J Balvin, Willy William - Mi Gente featuring Beyoncé ft. Beyoncé",
         "showlegend": false,
         "type": "scatter",
         "x": [
          "2017-10-05"
         ],
         "xaxis": "x1",
         "y": [
          13.077467
         ],
         "yaxis": "y1"
        },
        {
         "legendgroup": "Every Cat At 3AM",
         "line": {
          "color": "rgb(195,64,216)",
          "width": 2
         },
         "name": "Every Cat At 3AM",
         "showlegend": false,
         "type": "scatter",
         "x": [
          "2017-10-06",
          "2017-10-07",
          "2017-10-08",
          "2017-10-09",
          "2017-10-10",
          "2017-10-11",
          "2017-10-12"
         ],
         "xaxis": "x1",
         "y": [
          0.349302,
          0.751066,
          0.961835,
          1.055334,
          1.101771,
          1.133263,
          1.159836
         ],
         "yaxis": "y1"
        },
        {
         "legendgroup": "Did You Call My Girl!? | Anwar Jibawi",
         "line": {
          "color": "rgb(195,14,45)",
          "width": 2
         },
         "name": "Did You Call My Girl!? | Anwar Jibawi",
         "showlegend": false,
         "type": "scatter",
         "x": [
          "2017-10-06",
          "2017-10-07",
          "2017-10-08",
          "2017-10-09",
          "2017-10-10",
          "2017-10-11",
          "2017-10-12"
         ],
         "xaxis": "x1",
         "y": [
          1.325033,
          2.298865,
          2.651565,
          2.846933,
          2.990265,
          3.095246,
          3.18184
         ],
         "yaxis": "y1"
        },
        {
         "legendgroup": "Charlie Puth – How Long [Official Audio]",
         "line": {
          "color": "rgb(240,163,182)",
          "width": 2
         },
         "name": "Charlie Puth – How Long [Official Audio]",
         "showlegend": false,
         "type": "scatter",
         "x": [
          "2017-10-06",
          "2017-10-07",
          "2017-10-08",
          "2017-10-09",
          "2017-10-09",
          "2017-10-10",
          "2017-10-11"
         ],
         "xaxis": "x1",
         "y": [
          0.609764,
          1.578921,
          2.17731,
          2.649954,
          2.650679,
          3.03659,
          3.42798
         ],
         "yaxis": "y1"
        },
        {
         "legendgroup": "Seth MacFarlane Calls Out Harvey Weinstein Back In 2013",
         "line": {
          "color": "rgb(114,82,38)",
          "width": 2
         },
         "name": "Seth MacFarlane Calls Out Harvey Weinstein Back In 2013",
         "showlegend": false,
         "type": "scatter",
         "x": [
          "2017-10-12",
          "2017-10-13",
          "2017-10-14",
          "2017-10-15",
          "2017-10-16",
          "2017-10-17",
          "2017-10-18"
         ],
         "xaxis": "x1",
         "y": [
          1.425329,
          2.607785,
          3.017631,
          3.235959,
          3.397737,
          3.493853,
          3.563283
         ],
         "yaxis": "y1"
        },
        {
         "legendgroup": "Arnold Set off to the Center of the Earth",
         "line": {
          "color": "rgb(46,108,68)",
          "width": 2
         },
         "name": "Arnold Set off to the Center of the Earth",
         "showlegend": false,
         "type": "scatter",
         "x": [
          "2017-10-12",
          "2017-10-13",
          "2017-10-14",
          "2017-10-15",
          "2017-10-16",
          "2017-10-17",
          "2017-10-18"
         ],
         "xaxis": "x1",
         "y": [
          1.087156,
          1.862708,
          2.093286,
          2.179619,
          2.227164,
          2.258211,
          2.28697
         ],
         "yaxis": "y1"
        },
        {
         "legendgroup": "What Americans Heard in Cuba Attacks: The Sound",
         "line": {
          "color": "rgb(97,173,176)",
          "width": 2
         },
         "name": "What Americans Heard in Cuba Attacks: The Sound",
         "showlegend": false,
         "type": "scatter",
         "x": [
          "2017-10-13",
          "2017-10-14",
          "2017-10-15",
          "2017-10-16",
          "2017-10-17",
          "2017-10-18",
          "2017-10-19"
         ],
         "xaxis": "x1",
         "y": [
          0.185798,
          0.57405,
          0.696132,
          0.732441,
          0.743387,
          0.749545,
          0.753492
         ],
         "yaxis": "y1"
        },
        {
         "legendgroup": "Why Photos of the Eiffel Tower at Night are Illegal",
         "line": {
          "color": "rgb(207,244,75)",
          "width": 2
         },
         "name": "Why Photos of the Eiffel Tower at Night are Illegal",
         "showlegend": false,
         "type": "scatter",
         "x": [
          "2017-10-13",
          "2017-10-14",
          "2017-10-15",
          "2017-10-16",
          "2017-10-17",
          "2017-10-18",
          "2017-10-19"
         ],
         "xaxis": "x1",
         "y": [
          0.287053,
          1.054604,
          1.717243,
          2.295902,
          2.507525,
          2.629561,
          2.727912
         ],
         "yaxis": "y1"
        },
        {
         "legendgroup": "Why Are You Anxious?",
         "line": {
          "color": "rgb(105,158,188)",
          "width": 2
         },
         "name": "Why Are You Anxious?",
         "showlegend": false,
         "type": "scatter",
         "x": [
          "2017-10-13",
          "2017-10-14",
          "2017-10-15",
          "2017-10-16",
          "2017-10-17",
          "2017-10-18",
          "2017-10-19"
         ],
         "xaxis": "x1",
         "y": [
          0.261553,
          0.532289,
          0.63812,
          0.686592,
          0.72102,
          0.740092,
          0.74938
         ],
         "yaxis": "y1"
        },
        {
         "legendgroup": "Kane Brown - What's Mine Is Yours",
         "line": {
          "color": "rgb(105,176,177)",
          "width": 2
         },
         "name": "Kane Brown - What's Mine Is Yours",
         "showlegend": false,
         "type": "scatter",
         "x": [
          "2017-10-13",
          "2017-10-14",
          "2017-10-15",
          "2017-10-16",
          "2017-10-17",
          "2017-10-18",
          "2017-10-19"
         ],
         "xaxis": "x1",
         "y": [
          0.095856,
          0.253612,
          0.349735,
          0.416703,
          0.476541,
          0.533381,
          0.5811
         ],
         "yaxis": "y1"
        },
        {
         "legendgroup": "Guns N' Roses Feat. PINK! - Patience (Msg, Nyc) 10.11.17 (P!NK)",
         "line": {
          "color": "rgb(30,197,18)",
          "width": 2
         },
         "name": "Guns N' Roses Feat. PINK! - Patience (Msg, Nyc) 10.11.17 (P!NK)",
         "showlegend": false,
         "type": "scatter",
         "x": [
          "2017-10-13",
          "2017-10-14",
          "2017-10-15",
          "2017-10-16",
          "2017-10-17",
          "2017-10-18",
          "2017-10-19"
         ],
         "xaxis": "x1",
         "y": [
          0.161398,
          0.359438,
          0.484142,
          0.596036,
          0.688597,
          0.750714,
          0.795286
         ],
         "yaxis": "y1"
        },
        {
         "legendgroup": "Gucci Mane - Enormous feat. Ty Dolla $ign [Official Audio]",
         "line": {
          "color": "rgb(187,157,163)",
          "width": 2
         },
         "name": "Gucci Mane - Enormous feat. Ty Dolla $ign [Official Audio]",
         "showlegend": false,
         "type": "scatter",
         "x": [
          "2017-10-13",
          "2017-10-14",
          "2017-10-15",
          "2017-10-16",
          "2017-10-17",
          "2017-10-18",
          "2017-10-19"
         ],
         "xaxis": "x1",
         "y": [
          0.166711,
          0.358313,
          0.477774,
          0.550073,
          0.61394,
          0.67694,
          0.736098
         ],
         "yaxis": "y1"
        },
        {
         "legendgroup": "John Legend - Penthouse Floor ft. Chance the Rapper",
         "line": {
          "color": "rgb(9,163,242)",
          "width": 2
         },
         "name": "John Legend - Penthouse Floor ft. Chance the Rapper",
         "showlegend": false,
         "type": "scatter",
         "x": [
          "2017-10-13",
          "2017-10-14",
          "2017-10-15",
          "2017-10-16",
          "2017-10-17",
          "2017-10-18",
          "2017-10-19"
         ],
         "xaxis": "x1",
         "y": [
          0.186321,
          0.508819,
          0.863315,
          1.238676,
          1.673354,
          2.139992,
          2.558262
         ],
         "yaxis": "y1"
        },
        {
         "legendgroup": "The New Mutants | Official Trailer [HD] | 20th Century FOX",
         "line": {
          "color": "rgb(88,123,231)",
          "width": 2
         },
         "name": "The New Mutants | Official Trailer [HD] | 20th Century FOX",
         "showlegend": false,
         "type": "scatter",
         "x": [
          "2017-10-14",
          "2017-10-15",
          "2017-10-16",
          "2017-10-17",
          "2017-10-18",
          "2017-10-19",
          "2017-10-20"
         ],
         "xaxis": "x1",
         "y": [
          3.250607,
          5.632058,
          6.139085,
          6.428082,
          6.572719,
          6.642575,
          6.694485
         ],
         "yaxis": "y1"
        },
        {
         "legendgroup": "Harvey Weinstein, Donald Trump and Systemic Sexism: A Closer Look",
         "line": {
          "color": "rgb(27,101,236)",
          "width": 2
         },
         "name": "Harvey Weinstein, Donald Trump and Systemic Sexism: A Closer Look",
         "showlegend": false,
         "type": "scatter",
         "x": [
          "2017-10-14",
          "2017-10-15",
          "2017-10-16",
          "2017-10-17",
          "2017-10-18",
          "2017-10-19",
          "2017-10-20"
         ],
         "xaxis": "x1",
         "y": [
          1.627553,
          2.101641,
          2.344734,
          2.530254,
          2.685481,
          2.804407,
          2.904362
         ],
         "yaxis": "y1"
        },
        {
         "legendgroup": "NO POMEGRANATES",
         "line": {
          "color": "rgb(229,227,191)",
          "width": 2
         },
         "name": "NO POMEGRANATES",
         "showlegend": false,
         "type": "scatter",
         "x": [
          "2017-10-14",
          "2017-10-15",
          "2017-10-16",
          "2017-10-17",
          "2017-10-18",
          "2017-10-19",
          "2017-10-20"
         ],
         "xaxis": "x1",
         "y": [
          0.62029,
          1.313187,
          1.544933,
          1.660107,
          1.702877,
          1.738476,
          1.775069
         ],
         "yaxis": "y1"
        },
        {
         "legendgroup": "Bebe Rexha - Meant to Be (feat. Florida Georgia Line) [Lyric Video]",
         "line": {
          "color": "rgb(222,35,65)",
          "width": 2
         },
         "name": "Bebe Rexha - Meant to Be (feat. Florida Georgia Line) [Lyric Video]",
         "showlegend": false,
         "type": "scatter",
         "x": [
          "2017-10-14",
          "2017-10-15",
          "2017-10-16",
          "2017-10-17",
          "2017-10-18",
          "2017-10-19",
          "2017-10-20"
         ],
         "xaxis": "x1",
         "y": [
          0.123885,
          0.288591,
          0.436367,
          0.5872,
          0.766428,
          1.023403,
          1.338267
         ],
         "yaxis": "y1"
        },
        {
         "legendgroup": "Alesso & Anitta - Is That For Me (Official Video)",
         "line": {
          "color": "rgb(69,42,240)",
          "width": 2
         },
         "name": "Alesso & Anitta - Is That For Me (Official Video)",
         "showlegend": false,
         "type": "scatter",
         "x": [
          "2017-10-14",
          "2017-10-15",
          "2017-10-16"
         ],
         "xaxis": "x1",
         "y": [
          3.982024,
          7.784929,
          9.62953
         ],
         "yaxis": "y1"
        },
        {
         "legendgroup": "Alesso & Anitta - Is That For Me (Official Music Video)",
         "line": {
          "color": "rgb(34,244,70)",
          "width": 2
         },
         "name": "Alesso & Anitta - Is That For Me (Official Music Video)",
         "showlegend": false,
         "type": "scatter",
         "x": [
          "2017-10-17",
          "2017-10-18",
          "2017-10-19",
          "2017-10-20"
         ],
         "xaxis": "x1",
         "y": [
          10.959059,
          12.23315,
          13.418138,
          14.849524
         ],
         "yaxis": "y1"
        },
        {
         "legendgroup": "1 YEAR OF VLOGGING -- HOW LOGAN PAUL CHANGED YOUTUBE FOREVER!",
         "line": {
          "color": "rgb(188,148,96)",
          "width": 2
         },
         "name": "1 YEAR OF VLOGGING -- HOW LOGAN PAUL CHANGED YOUTUBE FOREVER!",
         "showlegend": true,
         "type": "scatter",
         "x": [
          "2017-09-13",
          "2017-09-14",
          "2017-09-15",
          "2017-09-16",
          "2017-09-17",
          "2017-09-18",
          "2017-09-19"
         ],
         "xaxis": "x2",
         "y": [
          46245,
          52483,
          54671,
          39626,
          38850,
          39002,
          39144
         ],
         "yaxis": "y2"
        },
        {
         "legendgroup": "My Response",
         "line": {
          "color": "rgb(234,216,26)",
          "width": 2
         },
         "name": "My Response",
         "showlegend": true,
         "type": "scatter",
         "x": [
          "2017-09-13",
          "2017-09-14",
          "2017-09-15",
          "2017-09-16",
          "2017-09-17",
          "2017-09-18",
          "2017-09-19"
         ],
         "xaxis": "x2",
         "y": [
          170708,
          190979,
          199406,
          128771,
          130106,
          134318,
          135649
         ],
         "yaxis": "y2"
        },
        {
         "legendgroup": "Apple iPhone X first look",
         "line": {
          "color": "rgb(228,195,199)",
          "width": 2
         },
         "name": "Apple iPhone X first look",
         "showlegend": true,
         "type": "scatter",
         "x": [
          "2017-09-13",
          "2017-09-14",
          "2017-09-15",
          "2017-09-16",
          "2017-09-17",
          "2017-09-18",
          "2017-09-19"
         ],
         "xaxis": "x2",
         "y": [
          12829,
          16713,
          18323,
          12812,
          12823,
          13000,
          13127
         ],
         "yaxis": "y2"
        },
        {
         "legendgroup": "iPhone X (parody)",
         "line": {
          "color": "rgb(108,72,150)",
          "width": 2
         },
         "name": "iPhone X (parody)",
         "showlegend": true,
         "type": "scatter",
         "x": [
          "2017-09-13",
          "2017-09-14",
          "2017-09-15",
          "2017-09-16",
          "2017-09-17",
          "2017-09-18",
          "2017-09-19"
         ],
         "xaxis": "x2",
         "y": [
          6666,
          8733,
          9933,
          8941,
          9107,
          9412,
          9557
         ],
         "yaxis": "y2"
        },
        {
         "legendgroup": "Hello, world. Meet our baby girl: Alexis Olympia Ohanian, Jr.",
         "line": {
          "color": "rgb(68,57,223)",
          "width": 2
         },
         "name": "Hello, world. Meet our baby girl: Alexis Olympia Ohanian, Jr.",
         "showlegend": true,
         "type": "scatter",
         "x": [
          "2017-09-14",
          "2017-09-15",
          "2017-09-16",
          "2017-09-17",
          "2017-09-18",
          "2017-09-19",
          "2017-09-20"
         ],
         "xaxis": "x2",
         "y": [
          3631,
          7615,
          6835,
          6973,
          7508,
          7608,
          7665
         ],
         "yaxis": "y2"
        },
        {
         "legendgroup": "Bella Hadid Roughs Up Security Roughing Up Female Photog | TMZ",
         "line": {
          "color": "rgb(190,106,21)",
          "width": 2
         },
         "name": "Bella Hadid Roughs Up Security Roughing Up Female Photog | TMZ",
         "showlegend": true,
         "type": "scatter",
         "x": [
          "2017-09-14",
          "2017-09-15",
          "2017-09-16",
          "2017-09-17",
          "2017-09-18",
          "2017-09-19",
          "2017-09-20"
         ],
         "xaxis": "x2",
         "y": [
          318,
          1106,
          1094,
          1099,
          1129,
          1140,
          1115
         ],
         "yaxis": "y2"
        },
        {
         "legendgroup": "Shakira - Perro Fiel (Official Video) ft. Nicky Jam",
         "line": {
          "color": "rgb(182,166,55)",
          "width": 2
         },
         "name": "Shakira - Perro Fiel (Official Video) ft. Nicky Jam",
         "showlegend": true,
         "type": "scatter",
         "x": [
          "2017-09-16",
          "2017-09-17",
          "2017-09-18",
          "2017-09-19",
          "2017-09-20",
          "2017-09-21",
          "2017-09-22"
         ],
         "xaxis": "x2",
         "y": [
          21514,
          31875,
          31425,
          34684,
          36467,
          38712,
          40071
         ],
         "yaxis": "y2"
        },
        {
         "legendgroup": "The Insane Full House Theory That Might Be True",
         "line": {
          "color": "rgb(74,167,14)",
          "width": 2
         },
         "name": "The Insane Full House Theory That Might Be True",
         "showlegend": true,
         "type": "scatter",
         "x": [
          "2017-09-16",
          "2017-09-17",
          "2017-09-18",
          "2017-09-19",
          "2017-09-20",
          "2017-09-21",
          "2017-09-22"
         ],
         "xaxis": "x2",
         "y": [
          1053,
          2607,
          2636,
          2742,
          2748,
          2880,
          2906
         ],
         "yaxis": "y2"
        },
        {
         "legendgroup": "Everything Wrong With The LEGO Batman Movie",
         "line": {
          "color": "rgb(51,92,101)",
          "width": 2
         },
         "name": "Everything Wrong With The LEGO Batman Movie",
         "showlegend": true,
         "type": "scatter",
         "x": [
          "2017-09-20",
          "2017-09-21",
          "2017-09-22",
          "2017-09-23",
          "2017-09-24",
          "2017-09-25",
          "2017-09-26"
         ],
         "xaxis": "x2",
         "y": [
          8155,
          10117,
          10641,
          8693,
          8937,
          9222,
          9409
         ],
         "yaxis": "y2"
        },
        {
         "legendgroup": "TOMB RAIDER - Official Trailer #1",
         "line": {
          "color": "rgb(54,32,180)",
          "width": 2
         },
         "name": "TOMB RAIDER - Official Trailer #1",
         "showlegend": true,
         "type": "scatter",
         "x": [
          "2017-09-20",
          "2017-09-21",
          "2017-09-22",
          "2017-09-23",
          "2017-09-24",
          "2017-09-25",
          "2017-09-26"
         ],
         "xaxis": "x2",
         "y": [
          1672,
          16257,
          16182,
          18595,
          18715,
          19463,
          19990
         ],
         "yaxis": "y2"
        },
        {
         "legendgroup": "COOK OFF! (2017 Movie) – Official Trailer",
         "line": {
          "color": "rgb(152,81,221)",
          "width": 2
         },
         "name": "COOK OFF! (2017 Movie) – Official Trailer",
         "showlegend": true,
         "type": "scatter",
         "x": [
          "2017-09-20",
          "2017-09-21",
          "2017-09-22",
          "2017-09-23",
          "2017-09-24",
          "2017-09-25",
          "2017-09-26"
         ],
         "xaxis": "x2",
         "y": [
          91,
          729,
          720,
          689,
          693,
          727,
          757
         ],
         "yaxis": "y2"
        },
        {
         "legendgroup": "Foo Fighters Carpool Karaoke",
         "line": {
          "color": "rgb(207,178,14)",
          "width": 2
         },
         "name": "Foo Fighters Carpool Karaoke",
         "showlegend": true,
         "type": "scatter",
         "x": [
          "2017-09-21",
          "2017-09-22",
          "2017-09-23",
          "2017-09-24",
          "2017-09-25",
          "2017-09-26",
          "2017-09-27"
         ],
         "xaxis": "x2",
         "y": [
          1970,
          5303,
          7868,
          6913,
          7270,
          7572,
          7817
         ],
         "yaxis": "y2"
        },
        {
         "legendgroup": "Bear in Russian traffic",
         "line": {
          "color": "rgb(37,88,221)",
          "width": 2
         },
         "name": "Bear in Russian traffic",
         "showlegend": true,
         "type": "scatter",
         "x": [
          "2017-09-21",
          "2017-09-21",
          "2017-09-22",
          "2017-09-23",
          "2017-09-24",
          "2017-09-25",
          "2017-09-26"
         ],
         "xaxis": "x2",
         "y": [
          307,
          307,
          313,
          252,
          254,
          257,
          260
         ],
         "yaxis": "y2"
        },
        {
         "legendgroup": "J Balvin, Willy William - Mi Gente featuring Beyoncé",
         "line": {
          "color": "rgb(207,6,197)",
          "width": 2
         },
         "name": "J Balvin, Willy William - Mi Gente featuring Beyoncé",
         "showlegend": true,
         "type": "scatter",
         "x": [
          "2017-09-29",
          "2017-09-30",
          "2017-10-01",
          "2017-10-02",
          "2017-10-03",
          "2017-10-04"
         ],
         "xaxis": "x2",
         "y": [
          11263,
          26359,
          28317,
          31269,
          32444,
          33233
         ],
         "yaxis": "y2"
        },
        {
         "legendgroup": "Donald Trump’s Cringe-Worthy Attempt To Date Brooke Shields | WWHL",
         "line": {
          "color": "rgb(233,195,170)",
          "width": 2
         },
         "name": "Donald Trump’s Cringe-Worthy Attempt To Date Brooke Shields | WWHL",
         "showlegend": true,
         "type": "scatter",
         "x": [
          "2017-10-04",
          "2017-10-05",
          "2017-10-06",
          "2017-10-07",
          "2017-10-08",
          "2017-10-09",
          "2017-10-10"
         ],
         "xaxis": "x2",
         "y": [
          19,
          782,
          1249,
          1116,
          1135,
          1094,
          1097
         ],
         "yaxis": "y2"
        },
        {
         "legendgroup": "J Balvin, Willy William - Mi Gente featuring Beyoncé ft. Beyoncé",
         "line": {
          "color": "rgb(227,123,74)",
          "width": 2
         },
         "name": "J Balvin, Willy William - Mi Gente featuring Beyoncé ft. Beyoncé",
         "showlegend": true,
         "type": "scatter",
         "x": [
          "2017-10-05"
         ],
         "xaxis": "x2",
         "y": [
          33386
         ],
         "yaxis": "y2"
        },
        {
         "legendgroup": "Every Cat At 3AM",
         "line": {
          "color": "rgb(195,64,216)",
          "width": 2
         },
         "name": "Every Cat At 3AM",
         "showlegend": true,
         "type": "scatter",
         "x": [
          "2017-10-06",
          "2017-10-07",
          "2017-10-08",
          "2017-10-09",
          "2017-10-10",
          "2017-10-11",
          "2017-10-12"
         ],
         "xaxis": "x2",
         "y": [
          813,
          1769,
          2226,
          2335,
          2370,
          2383,
          2424
         ],
         "yaxis": "y2"
        },
        {
         "legendgroup": "Did You Call My Girl!? | Anwar Jibawi",
         "line": {
          "color": "rgb(195,14,45)",
          "width": 2
         },
         "name": "Did You Call My Girl!? | Anwar Jibawi",
         "showlegend": true,
         "type": "scatter",
         "x": [
          "2017-10-06",
          "2017-10-07",
          "2017-10-08",
          "2017-10-09",
          "2017-10-10",
          "2017-10-11",
          "2017-10-12"
         ],
         "xaxis": "x2",
         "y": [
          3858,
          5038,
          5228,
          4667,
          4799,
          4908,
          4965
         ],
         "yaxis": "y2"
        },
        {
         "legendgroup": "Charlie Puth – How Long [Official Audio]",
         "line": {
          "color": "rgb(240,163,182)",
          "width": 2
         },
         "name": "Charlie Puth – How Long [Official Audio]",
         "showlegend": true,
         "type": "scatter",
         "x": [
          "2017-10-06",
          "2017-10-07",
          "2017-10-08",
          "2017-10-09",
          "2017-10-09",
          "2017-10-10",
          "2017-10-11"
         ],
         "xaxis": "x2",
         "y": [
          8544,
          12107,
          13217,
          11515,
          11515,
          12035,
          12509
         ],
         "yaxis": "y2"
        },
        {
         "legendgroup": "Seth MacFarlane Calls Out Harvey Weinstein Back In 2013",
         "line": {
          "color": "rgb(114,82,38)",
          "width": 2
         },
         "name": "Seth MacFarlane Calls Out Harvey Weinstein Back In 2013",
         "showlegend": true,
         "type": "scatter",
         "x": [
          "2017-10-12",
          "2017-10-13",
          "2017-10-14",
          "2017-10-15",
          "2017-10-16",
          "2017-10-17",
          "2017-10-18"
         ],
         "xaxis": "x2",
         "y": [
          1798,
          3511,
          4062,
          4317,
          4597,
          3841,
          3893
         ],
         "yaxis": "y2"
        },
        {
         "legendgroup": "Arnold Set off to the Center of the Earth",
         "line": {
          "color": "rgb(46,108,68)",
          "width": 2
         },
         "name": "Arnold Set off to the Center of the Earth",
         "showlegend": true,
         "type": "scatter",
         "x": [
          "2017-10-12",
          "2017-10-13",
          "2017-10-14",
          "2017-10-15",
          "2017-10-16",
          "2017-10-17",
          "2017-10-18"
         ],
         "xaxis": "x2",
         "y": [
          8126,
          10539,
          11594,
          12122,
          12670,
          12001,
          12155
         ],
         "yaxis": "y2"
        },
        {
         "legendgroup": "What Americans Heard in Cuba Attacks: The Sound",
         "line": {
          "color": "rgb(97,173,176)",
          "width": 2
         },
         "name": "What Americans Heard in Cuba Attacks: The Sound",
         "showlegend": true,
         "type": "scatter",
         "x": [
          "2017-10-13",
          "2017-10-14",
          "2017-10-15",
          "2017-10-16",
          "2017-10-17",
          "2017-10-18",
          "2017-10-19"
         ],
         "xaxis": "x2",
         "y": [
          0,
          0,
          0,
          0,
          0,
          0,
          0
         ],
         "yaxis": "y2"
        },
        {
         "legendgroup": "Why Photos of the Eiffel Tower at Night are Illegal",
         "line": {
          "color": "rgb(207,244,75)",
          "width": 2
         },
         "name": "Why Photos of the Eiffel Tower at Night are Illegal",
         "showlegend": true,
         "type": "scatter",
         "x": [
          "2017-10-13",
          "2017-10-14",
          "2017-10-15",
          "2017-10-16",
          "2017-10-17",
          "2017-10-18",
          "2017-10-19"
         ],
         "xaxis": "x2",
         "y": [
          1511,
          3834,
          5567,
          6655,
          6044,
          6223,
          6467
         ],
         "yaxis": "y2"
        },
        {
         "legendgroup": "Why Are You Anxious?",
         "line": {
          "color": "rgb(105,158,188)",
          "width": 2
         },
         "name": "Why Are You Anxious?",
         "showlegend": true,
         "type": "scatter",
         "x": [
          "2017-10-13",
          "2017-10-14",
          "2017-10-15",
          "2017-10-16",
          "2017-10-17",
          "2017-10-18",
          "2017-10-19"
         ],
         "xaxis": "x2",
         "y": [
          1159,
          1695,
          1886,
          1991,
          985,
          1006,
          1015
         ],
         "yaxis": "y2"
        },
        {
         "legendgroup": "Kane Brown - What's Mine Is Yours",
         "line": {
          "color": "rgb(105,176,177)",
          "width": 2
         },
         "name": "Kane Brown - What's Mine Is Yours",
         "showlegend": true,
         "type": "scatter",
         "x": [
          "2017-10-13",
          "2017-10-14",
          "2017-10-15",
          "2017-10-16",
          "2017-10-17",
          "2017-10-18",
          "2017-10-19"
         ],
         "xaxis": "x2",
         "y": [
          290,
          446,
          530,
          564,
          276,
          277,
          288
         ],
         "yaxis": "y2"
        },
        {
         "legendgroup": "Guns N' Roses Feat. PINK! - Patience (Msg, Nyc) 10.11.17 (P!NK)",
         "line": {
          "color": "rgb(30,197,18)",
          "width": 2
         },
         "name": "Guns N' Roses Feat. PINK! - Patience (Msg, Nyc) 10.11.17 (P!NK)",
         "showlegend": true,
         "type": "scatter",
         "x": [
          "2017-10-13",
          "2017-10-14",
          "2017-10-15",
          "2017-10-16",
          "2017-10-17",
          "2017-10-18",
          "2017-10-19"
         ],
         "xaxis": "x2",
         "y": [
          216,
          429,
          674,
          804,
          550,
          596,
          625
         ],
         "yaxis": "y2"
        },
        {
         "legendgroup": "Gucci Mane - Enormous feat. Ty Dolla $ign [Official Audio]",
         "line": {
          "color": "rgb(187,157,163)",
          "width": 2
         },
         "name": "Gucci Mane - Enormous feat. Ty Dolla $ign [Official Audio]",
         "showlegend": true,
         "type": "scatter",
         "x": [
          "2017-10-13",
          "2017-10-14",
          "2017-10-15",
          "2017-10-16",
          "2017-10-17",
          "2017-10-18",
          "2017-10-19"
         ],
         "xaxis": "x2",
         "y": [
          888,
          1071,
          1142,
          1156,
          766,
          780,
          794
         ],
         "yaxis": "y2"
        },
        {
         "legendgroup": "John Legend - Penthouse Floor ft. Chance the Rapper",
         "line": {
          "color": "rgb(9,163,242)",
          "width": 2
         },
         "name": "John Legend - Penthouse Floor ft. Chance the Rapper",
         "showlegend": true,
         "type": "scatter",
         "x": [
          "2017-10-13",
          "2017-10-14",
          "2017-10-15",
          "2017-10-16",
          "2017-10-17",
          "2017-10-18",
          "2017-10-19"
         ],
         "xaxis": "x2",
         "y": [
          877,
          1389,
          1864,
          2144,
          1561,
          1709,
          1808
         ],
         "yaxis": "y2"
        },
        {
         "legendgroup": "The New Mutants | Official Trailer [HD] | 20th Century FOX",
         "line": {
          "color": "rgb(88,123,231)",
          "width": 2
         },
         "name": "The New Mutants | Official Trailer [HD] | 20th Century FOX",
         "showlegend": true,
         "type": "scatter",
         "x": [
          "2017-10-14",
          "2017-10-15",
          "2017-10-16",
          "2017-10-17",
          "2017-10-18",
          "2017-10-19",
          "2017-10-20"
         ],
         "xaxis": "x2",
         "y": [
          6886,
          9250,
          10370,
          9557,
          9787,
          9895,
          8125
         ],
         "yaxis": "y2"
        },
        {
         "legendgroup": "Harvey Weinstein, Donald Trump and Systemic Sexism: A Closer Look",
         "line": {
          "color": "rgb(27,101,236)",
          "width": 2
         },
         "name": "Harvey Weinstein, Donald Trump and Systemic Sexism: A Closer Look",
         "showlegend": true,
         "type": "scatter",
         "x": [
          "2017-10-14",
          "2017-10-15",
          "2017-10-16",
          "2017-10-17",
          "2017-10-18",
          "2017-10-19",
          "2017-10-20"
         ],
         "xaxis": "x2",
         "y": [
          4931,
          7154,
          8185,
          7380,
          7710,
          7882,
          7096
         ],
         "yaxis": "y2"
        },
        {
         "legendgroup": "NO POMEGRANATES",
         "line": {
          "color": "rgb(229,227,191)",
          "width": 2
         },
         "name": "NO POMEGRANATES",
         "showlegend": true,
         "type": "scatter",
         "x": [
          "2017-10-14",
          "2017-10-15",
          "2017-10-16",
          "2017-10-17",
          "2017-10-18",
          "2017-10-19",
          "2017-10-20"
         ],
         "xaxis": "x2",
         "y": [
          4336,
          8889,
          10201,
          9391,
          9456,
          9504,
          8339
         ],
         "yaxis": "y2"
        },
        {
         "legendgroup": "Bebe Rexha - Meant to Be (feat. Florida Georgia Line) [Lyric Video]",
         "line": {
          "color": "rgb(222,35,65)",
          "width": 2
         },
         "name": "Bebe Rexha - Meant to Be (feat. Florida Georgia Line) [Lyric Video]",
         "showlegend": true,
         "type": "scatter",
         "x": [
          "2017-10-14",
          "2017-10-15",
          "2017-10-16",
          "2017-10-17",
          "2017-10-18",
          "2017-10-19",
          "2017-10-20"
         ],
         "xaxis": "x2",
         "y": [
          1441,
          1689,
          1817,
          896,
          1048,
          1100,
          1866
         ],
         "yaxis": "y2"
        },
        {
         "legendgroup": "Alesso & Anitta - Is That For Me (Official Video)",
         "line": {
          "color": "rgb(69,42,240)",
          "width": 2
         },
         "name": "Alesso & Anitta - Is That For Me (Official Video)",
         "showlegend": true,
         "type": "scatter",
         "x": [
          "2017-10-14",
          "2017-10-15",
          "2017-10-16"
         ],
         "xaxis": "x2",
         "y": [
          42046,
          66014,
          74107
         ],
         "yaxis": "y2"
        },
        {
         "legendgroup": "Alesso & Anitta - Is That For Me (Official Music Video)",
         "line": {
          "color": "rgb(34,244,70)",
          "width": 2
         },
         "name": "Alesso & Anitta - Is That For Me (Official Music Video)",
         "showlegend": true,
         "type": "scatter",
         "x": [
          "2017-10-17",
          "2017-10-18",
          "2017-10-19",
          "2017-10-20"
         ],
         "xaxis": "x2",
         "y": [
          77086,
          79935,
          81912,
          84942
         ],
         "yaxis": "y2"
        },
        {
         "legendgroup": "1 YEAR OF VLOGGING -- HOW LOGAN PAUL CHANGED YOUTUBE FOREVER!",
         "line": {
          "color": "rgb(188,148,96)",
          "width": 2
         },
         "name": "1 YEAR OF VLOGGING -- HOW LOGAN PAUL CHANGED YOUTUBE FOREVER!",
         "showlegend": false,
         "type": "scatter",
         "x": [
          "2017-09-13",
          "2017-09-14",
          "2017-09-15",
          "2017-09-16",
          "2017-09-17",
          "2017-09-18",
          "2017-09-19"
         ],
         "xaxis": "x3",
         "y": [
          320053,
          349857,
          361422,
          366401,
          369963,
          372700,
          373824
         ],
         "yaxis": "y3"
        },
        {
         "legendgroup": "My Response",
         "line": {
          "color": "rgb(234,216,26)",
          "width": 2
         },
         "name": "My Response",
         "showlegend": false,
         "type": "scatter",
         "x": [
          "2017-09-13",
          "2017-09-14",
          "2017-09-15",
          "2017-09-16",
          "2017-09-17",
          "2017-09-18",
          "2017-09-19"
         ],
         "xaxis": "x3",
         "y": [
          576597,
          626155,
          659184,
          672775,
          687381,
          700870,
          706104
         ],
         "yaxis": "y3"
        },
        {
         "legendgroup": "Apple iPhone X first look",
         "line": {
          "color": "rgb(228,195,199)",
          "width": 2
         },
         "name": "Apple iPhone X first look",
         "showlegend": false,
         "type": "scatter",
         "x": [
          "2017-09-13",
          "2017-09-14",
          "2017-09-15",
          "2017-09-16",
          "2017-09-17",
          "2017-09-18",
          "2017-09-19"
         ],
         "xaxis": "x3",
         "y": [
          24975,
          30836,
          33617,
          34622,
          35111,
          35529,
          35719
         ],
         "yaxis": "y3"
        },
        {
         "legendgroup": "iPhone X (parody)",
         "line": {
          "color": "rgb(108,72,150)",
          "width": 2
         },
         "name": "iPhone X (parody)",
         "showlegend": false,
         "type": "scatter",
         "x": [
          "2017-09-13",
          "2017-09-14",
          "2017-09-15",
          "2017-09-16",
          "2017-09-17",
          "2017-09-18",
          "2017-09-19"
         ],
         "xaxis": "x3",
         "y": [
          96666,
          128402,
          144171,
          152496,
          157883,
          162414,
          164959
         ],
         "yaxis": "y3"
        },
        {
         "legendgroup": "Hello, world. Meet our baby girl: Alexis Olympia Ohanian, Jr.",
         "line": {
          "color": "rgb(68,57,223)",
          "width": 2
         },
         "name": "Hello, world. Meet our baby girl: Alexis Olympia Ohanian, Jr.",
         "showlegend": false,
         "type": "scatter",
         "x": [
          "2017-09-14",
          "2017-09-15",
          "2017-09-16",
          "2017-09-17",
          "2017-09-18",
          "2017-09-19",
          "2017-09-20"
         ],
         "xaxis": "x3",
         "y": [
          11255,
          20278,
          22501,
          23184,
          23662,
          23861,
          24008
         ],
         "yaxis": "y3"
        },
        {
         "legendgroup": "Bella Hadid Roughs Up Security Roughing Up Female Photog | TMZ",
         "line": {
          "color": "rgb(190,106,21)",
          "width": 2
         },
         "name": "Bella Hadid Roughs Up Security Roughing Up Female Photog | TMZ",
         "showlegend": false,
         "type": "scatter",
         "x": [
          "2017-09-14",
          "2017-09-15",
          "2017-09-16",
          "2017-09-17",
          "2017-09-18",
          "2017-09-19",
          "2017-09-20"
         ],
         "xaxis": "x3",
         "y": [
          485,
          1170,
          1315,
          1332,
          1347,
          1355,
          1369
         ],
         "yaxis": "y3"
        },
        {
         "legendgroup": "Shakira - Perro Fiel (Official Video) ft. Nicky Jam",
         "line": {
          "color": "rgb(182,166,55)",
          "width": 2
         },
         "name": "Shakira - Perro Fiel (Official Video) ft. Nicky Jam",
         "showlegend": false,
         "type": "scatter",
         "x": [
          "2017-09-16",
          "2017-09-17",
          "2017-09-18",
          "2017-09-19",
          "2017-09-20",
          "2017-09-21",
          "2017-09-22"
         ],
         "xaxis": "x3",
         "y": [
          198696,
          333571,
          415114,
          464107,
          502597,
          547764,
          578266
         ],
         "yaxis": "y3"
        },
        {
         "legendgroup": "The Insane Full House Theory That Might Be True",
         "line": {
          "color": "rgb(74,167,14)",
          "width": 2
         },
         "name": "The Insane Full House Theory That Might Be True",
         "showlegend": false,
         "type": "scatter",
         "x": [
          "2017-09-16",
          "2017-09-17",
          "2017-09-18",
          "2017-09-19",
          "2017-09-20",
          "2017-09-21",
          "2017-09-22"
         ],
         "xaxis": "x3",
         "y": [
          6341,
          13331,
          16818,
          17446,
          17588,
          17755,
          17843
         ],
         "yaxis": "y3"
        },
        {
         "legendgroup": "Everything Wrong With The LEGO Batman Movie",
         "line": {
          "color": "rgb(51,92,101)",
          "width": 2
         },
         "name": "Everything Wrong With The LEGO Batman Movie",
         "showlegend": false,
         "type": "scatter",
         "x": [
          "2017-09-20",
          "2017-09-21",
          "2017-09-22",
          "2017-09-23",
          "2017-09-24",
          "2017-09-25",
          "2017-09-26"
         ],
         "xaxis": "x3",
         "y": [
          43066,
          53758,
          56123,
          58423,
          59551,
          60633,
          61164
         ],
         "yaxis": "y3"
        },
        {
         "legendgroup": "TOMB RAIDER - Official Trailer #1",
         "line": {
          "color": "rgb(54,32,180)",
          "width": 2
         },
         "name": "TOMB RAIDER - Official Trailer #1",
         "showlegend": false,
         "type": "scatter",
         "x": [
          "2017-09-20",
          "2017-09-21",
          "2017-09-22",
          "2017-09-23",
          "2017-09-24",
          "2017-09-25",
          "2017-09-26"
         ],
         "xaxis": "x3",
         "y": [
          5560,
          46736,
          56662,
          64595,
          66763,
          69326,
          70953
         ],
         "yaxis": "y3"
        },
        {
         "legendgroup": "COOK OFF! (2017 Movie) – Official Trailer",
         "line": {
          "color": "rgb(152,81,221)",
          "width": 2
         },
         "name": "COOK OFF! (2017 Movie) – Official Trailer",
         "showlegend": false,
         "type": "scatter",
         "x": [
          "2017-09-20",
          "2017-09-21",
          "2017-09-22",
          "2017-09-23",
          "2017-09-24",
          "2017-09-25",
          "2017-09-26"
         ],
         "xaxis": "x3",
         "y": [
          385,
          2481,
          3206,
          3392,
          3479,
          3642,
          3813
         ],
         "yaxis": "y3"
        },
        {
         "legendgroup": "Foo Fighters Carpool Karaoke",
         "line": {
          "color": "rgb(207,178,14)",
          "width": 2
         },
         "name": "Foo Fighters Carpool Karaoke",
         "showlegend": false,
         "type": "scatter",
         "x": [
          "2017-09-21",
          "2017-09-22",
          "2017-09-23",
          "2017-09-24",
          "2017-09-25",
          "2017-09-26",
          "2017-09-27"
         ],
         "xaxis": "x3",
         "y": [
          24097,
          61258,
          84922,
          90069,
          94797,
          98286,
          101556
         ],
         "yaxis": "y3"
        },
        {
         "legendgroup": "Bear in Russian traffic",
         "line": {
          "color": "rgb(37,88,221)",
          "width": 2
         },
         "name": "Bear in Russian traffic",
         "showlegend": false,
         "type": "scatter",
         "x": [
          "2017-09-21",
          "2017-09-21",
          "2017-09-22",
          "2017-09-23",
          "2017-09-24",
          "2017-09-25",
          "2017-09-26"
         ],
         "xaxis": "x3",
         "y": [
          1642,
          1644,
          1747,
          1781,
          1790,
          1823,
          1944
         ],
         "yaxis": "y3"
        },
        {
         "legendgroup": "J Balvin, Willy William - Mi Gente featuring Beyoncé",
         "line": {
          "color": "rgb(207,6,197)",
          "width": 2
         },
         "name": "J Balvin, Willy William - Mi Gente featuring Beyoncé",
         "showlegend": false,
         "type": "scatter",
         "x": [
          "2017-09-29",
          "2017-09-30",
          "2017-10-01",
          "2017-10-02",
          "2017-10-03",
          "2017-10-04"
         ],
         "xaxis": "x3",
         "y": [
          109528,
          299299,
          363535,
          389230,
          405884,
          417924
         ],
         "yaxis": "y3"
        },
        {
         "legendgroup": "Donald Trump’s Cringe-Worthy Attempt To Date Brooke Shields | WWHL",
         "line": {
          "color": "rgb(233,195,170)",
          "width": 2
         },
         "name": "Donald Trump’s Cringe-Worthy Attempt To Date Brooke Shields | WWHL",
         "showlegend": false,
         "type": "scatter",
         "x": [
          "2017-10-04",
          "2017-10-05",
          "2017-10-06",
          "2017-10-07",
          "2017-10-08",
          "2017-10-09",
          "2017-10-10"
         ],
         "xaxis": "x3",
         "y": [
          75,
          1241,
          1637,
          1693,
          1707,
          1717,
          1726
         ],
         "yaxis": "y3"
        },
        {
         "legendgroup": "J Balvin, Willy William - Mi Gente featuring Beyoncé ft. Beyoncé",
         "line": {
          "color": "rgb(227,123,74)",
          "width": 2
         },
         "name": "J Balvin, Willy William - Mi Gente featuring Beyoncé ft. Beyoncé",
         "showlegend": false,
         "type": "scatter",
         "x": [
          "2017-10-05"
         ],
         "xaxis": "x3",
         "y": [
          430513
         ],
         "yaxis": "y3"
        },
        {
         "legendgroup": "Every Cat At 3AM",
         "line": {
          "color": "rgb(195,64,216)",
          "width": 2
         },
         "name": "Every Cat At 3AM",
         "showlegend": false,
         "type": "scatter",
         "x": [
          "2017-10-06",
          "2017-10-07",
          "2017-10-08",
          "2017-10-09",
          "2017-10-10",
          "2017-10-11",
          "2017-10-12"
         ],
         "xaxis": "x3",
         "y": [
          17087,
          29670,
          36234,
          38931,
          39808,
          40466,
          41168
         ],
         "yaxis": "y3"
        },
        {
         "legendgroup": "Did You Call My Girl!? | Anwar Jibawi",
         "line": {
          "color": "rgb(195,14,45)",
          "width": 2
         },
         "name": "Did You Call My Girl!? | Anwar Jibawi",
         "showlegend": false,
         "type": "scatter",
         "x": [
          "2017-10-06",
          "2017-10-07",
          "2017-10-08",
          "2017-10-09",
          "2017-10-10",
          "2017-10-11",
          "2017-10-12"
         ],
         "xaxis": "x3",
         "y": [
          63125,
          91148,
          98455,
          102882,
          105904,
          107998,
          109643
         ],
         "yaxis": "y3"
        },
        {
         "legendgroup": "Charlie Puth – How Long [Official Audio]",
         "line": {
          "color": "rgb(240,163,182)",
          "width": 2
         },
         "name": "Charlie Puth – How Long [Official Audio]",
         "showlegend": false,
         "type": "scatter",
         "x": [
          "2017-10-06",
          "2017-10-07",
          "2017-10-08",
          "2017-10-09",
          "2017-10-09",
          "2017-10-10",
          "2017-10-11"
         ],
         "xaxis": "x3",
         "y": [
          80541,
          135599,
          156180,
          168015,
          168019,
          177481,
          185837
         ],
         "yaxis": "y3"
        },
        {
         "legendgroup": "Seth MacFarlane Calls Out Harvey Weinstein Back In 2013",
         "line": {
          "color": "rgb(114,82,38)",
          "width": 2
         },
         "name": "Seth MacFarlane Calls Out Harvey Weinstein Back In 2013",
         "showlegend": false,
         "type": "scatter",
         "x": [
          "2017-10-12",
          "2017-10-13",
          "2017-10-14",
          "2017-10-15",
          "2017-10-16",
          "2017-10-17",
          "2017-10-18"
         ],
         "xaxis": "x3",
         "y": [
          10145,
          19116,
          21686,
          22769,
          23564,
          23973,
          24317
         ],
         "yaxis": "y3"
        },
        {
         "legendgroup": "Arnold Set off to the Center of the Earth",
         "line": {
          "color": "rgb(46,108,68)",
          "width": 2
         },
         "name": "Arnold Set off to the Center of the Earth",
         "showlegend": false,
         "type": "scatter",
         "x": [
          "2017-10-12",
          "2017-10-13",
          "2017-10-14",
          "2017-10-15",
          "2017-10-16",
          "2017-10-17",
          "2017-10-18"
         ],
         "xaxis": "x3",
         "y": [
          56828,
          72931,
          76938,
          78509,
          79456,
          79974,
          80567
         ],
         "yaxis": "y3"
        },
        {
         "legendgroup": "What Americans Heard in Cuba Attacks: The Sound",
         "line": {
          "color": "rgb(97,173,176)",
          "width": 2
         },
         "name": "What Americans Heard in Cuba Attacks: The Sound",
         "showlegend": false,
         "type": "scatter",
         "x": [
          "2017-10-13",
          "2017-10-14",
          "2017-10-15",
          "2017-10-16",
          "2017-10-17",
          "2017-10-18",
          "2017-10-19"
         ],
         "xaxis": "x3",
         "y": [
          768,
          2088,
          2585,
          2723,
          2750,
          2771,
          2795
         ],
         "yaxis": "y3"
        },
        {
         "legendgroup": "Why Photos of the Eiffel Tower at Night are Illegal",
         "line": {
          "color": "rgb(207,244,75)",
          "width": 2
         },
         "name": "Why Photos of the Eiffel Tower at Night are Illegal",
         "showlegend": false,
         "type": "scatter",
         "x": [
          "2017-10-13",
          "2017-10-14",
          "2017-10-15",
          "2017-10-16",
          "2017-10-17",
          "2017-10-18",
          "2017-10-19"
         ],
         "xaxis": "x3",
         "y": [
          10265,
          21227,
          30851,
          40513,
          43747,
          45246,
          46581
         ],
         "yaxis": "y3"
        },
        {
         "legendgroup": "Why Are You Anxious?",
         "line": {
          "color": "rgb(105,158,188)",
          "width": 2
         },
         "name": "Why Are You Anxious?",
         "showlegend": false,
         "type": "scatter",
         "x": [
          "2017-10-13",
          "2017-10-14",
          "2017-10-15",
          "2017-10-16",
          "2017-10-17",
          "2017-10-18",
          "2017-10-19"
         ],
         "xaxis": "x3",
         "y": [
          11975,
          17588,
          19739,
          20751,
          21729,
          22118,
          22326
         ],
         "yaxis": "y3"
        },
        {
         "legendgroup": "Kane Brown - What's Mine Is Yours",
         "line": {
          "color": "rgb(105,176,177)",
          "width": 2
         },
         "name": "Kane Brown - What's Mine Is Yours",
         "showlegend": false,
         "type": "scatter",
         "x": [
          "2017-10-13",
          "2017-10-14",
          "2017-10-15",
          "2017-10-16",
          "2017-10-17",
          "2017-10-18",
          "2017-10-19"
         ],
         "xaxis": "x3",
         "y": [
          5065,
          7851,
          9254,
          10284,
          11187,
          11960,
          12566
         ],
         "yaxis": "y3"
        },
        {
         "legendgroup": "Guns N' Roses Feat. PINK! - Patience (Msg, Nyc) 10.11.17 (P!NK)",
         "line": {
          "color": "rgb(30,197,18)",
          "width": 2
         },
         "name": "Guns N' Roses Feat. PINK! - Patience (Msg, Nyc) 10.11.17 (P!NK)",
         "showlegend": false,
         "type": "scatter",
         "x": [
          "2017-10-13",
          "2017-10-14",
          "2017-10-15",
          "2017-10-16",
          "2017-10-17",
          "2017-10-18",
          "2017-10-19"
         ],
         "xaxis": "x3",
         "y": [
          1768,
          3050,
          3745,
          4685,
          5443,
          5966,
          6345
         ],
         "yaxis": "y3"
        },
        {
         "legendgroup": "Gucci Mane - Enormous feat. Ty Dolla $ign [Official Audio]",
         "line": {
          "color": "rgb(187,157,163)",
          "width": 2
         },
         "name": "Gucci Mane - Enormous feat. Ty Dolla $ign [Official Audio]",
         "showlegend": false,
         "type": "scatter",
         "x": [
          "2017-10-13",
          "2017-10-14",
          "2017-10-15",
          "2017-10-16",
          "2017-10-17",
          "2017-10-18",
          "2017-10-19"
         ],
         "xaxis": "x3",
         "y": [
          8620,
          12121,
          13620,
          14492,
          15132,
          15683,
          16212
         ],
         "yaxis": "y3"
        },
        {
         "legendgroup": "John Legend - Penthouse Floor ft. Chance the Rapper",
         "line": {
          "color": "rgb(9,163,242)",
          "width": 2
         },
         "name": "John Legend - Penthouse Floor ft. Chance the Rapper",
         "showlegend": false,
         "type": "scatter",
         "x": [
          "2017-10-13",
          "2017-10-14",
          "2017-10-15",
          "2017-10-16",
          "2017-10-17",
          "2017-10-18",
          "2017-10-19"
         ],
         "xaxis": "x3",
         "y": [
          10169,
          17634,
          25171,
          33207,
          42237,
          49078,
          55427
         ],
         "yaxis": "y3"
        },
        {
         "legendgroup": "The New Mutants | Official Trailer [HD] | 20th Century FOX",
         "line": {
          "color": "rgb(88,123,231)",
          "width": 2
         },
         "name": "The New Mutants | Official Trailer [HD] | 20th Century FOX",
         "showlegend": false,
         "type": "scatter",
         "x": [
          "2017-10-14",
          "2017-10-15",
          "2017-10-16",
          "2017-10-17",
          "2017-10-18",
          "2017-10-19",
          "2017-10-20"
         ],
         "xaxis": "x3",
         "y": [
          24306,
          31390,
          35599,
          37943,
          39020,
          39526,
          39893
         ],
         "yaxis": "y3"
        },
        {
         "legendgroup": "Harvey Weinstein, Donald Trump and Systemic Sexism: A Closer Look",
         "line": {
          "color": "rgb(27,101,236)",
          "width": 2
         },
         "name": "Harvey Weinstein, Donald Trump and Systemic Sexism: A Closer Look",
         "showlegend": false,
         "type": "scatter",
         "x": [
          "2017-10-14",
          "2017-10-15",
          "2017-10-16",
          "2017-10-17",
          "2017-10-18",
          "2017-10-19",
          "2017-10-20"
         ],
         "xaxis": "x3",
         "y": [
          26896,
          31162,
          33162,
          34414,
          35428,
          36166,
          36732
         ],
         "yaxis": "y3"
        },
        {
         "legendgroup": "NO POMEGRANATES",
         "line": {
          "color": "rgb(229,227,191)",
          "width": 2
         },
         "name": "NO POMEGRANATES",
         "showlegend": false,
         "type": "scatter",
         "x": [
          "2017-10-14",
          "2017-10-15",
          "2017-10-16",
          "2017-10-17",
          "2017-10-18",
          "2017-10-19",
          "2017-10-20"
         ],
         "xaxis": "x3",
         "y": [
          23216,
          45879,
          51737,
          54043,
          54631,
          55187,
          55761
         ],
         "yaxis": "y3"
        },
        {
         "legendgroup": "Bebe Rexha - Meant to Be (feat. Florida Georgia Line) [Lyric Video]",
         "line": {
          "color": "rgb(222,35,65)",
          "width": 2
         },
         "name": "Bebe Rexha - Meant to Be (feat. Florida Georgia Line) [Lyric Video]",
         "showlegend": false,
         "type": "scatter",
         "x": [
          "2017-10-14",
          "2017-10-15",
          "2017-10-16",
          "2017-10-17",
          "2017-10-18",
          "2017-10-19",
          "2017-10-20"
         ],
         "xaxis": "x3",
         "y": [
          19794,
          26693,
          31214,
          35613,
          40799,
          45816,
          51387
         ],
         "yaxis": "y3"
        },
        {
         "legendgroup": "Alesso & Anitta - Is That For Me (Official Video)",
         "line": {
          "color": "rgb(69,42,240)",
          "width": 2
         },
         "name": "Alesso & Anitta - Is That For Me (Official Video)",
         "showlegend": false,
         "type": "scatter",
         "x": [
          "2017-10-14",
          "2017-10-15",
          "2017-10-16"
         ],
         "xaxis": "x3",
         "y": [
          306843,
          447906,
          504162
         ],
         "yaxis": "y3"
        },
        {
         "legendgroup": "Alesso & Anitta - Is That For Me (Official Music Video)",
         "line": {
          "color": "rgb(34,244,70)",
          "width": 2
         },
         "name": "Alesso & Anitta - Is That For Me (Official Music Video)",
         "showlegend": false,
         "type": "scatter",
         "x": [
          "2017-10-17",
          "2017-10-18",
          "2017-10-19",
          "2017-10-20"
         ],
         "xaxis": "x3",
         "y": [
          538825,
          564466,
          585283,
          618436
         ],
         "yaxis": "y3"
        },
        {
         "legendgroup": "1 YEAR OF VLOGGING -- HOW LOGAN PAUL CHANGED YOUTUBE FOREVER!",
         "line": {
          "color": "rgb(188,148,96)",
          "width": 2
         },
         "name": "1 YEAR OF VLOGGING -- HOW LOGAN PAUL CHANGED YOUTUBE FOREVER!",
         "showlegend": false,
         "type": "scatter",
         "x": [
          "2017-09-13",
          "2017-09-14",
          "2017-09-15",
          "2017-09-16",
          "2017-09-17",
          "2017-09-18",
          "2017-09-19"
         ],
         "xaxis": "x4",
         "y": [
          5931,
          17479,
          22023,
          22885,
          23207,
          23509,
          23701
         ],
         "yaxis": "y4"
        },
        {
         "legendgroup": "My Response",
         "line": {
          "color": "rgb(234,216,26)",
          "width": 2
         },
         "name": "My Response",
         "showlegend": false,
         "type": "scatter",
         "x": [
          "2017-09-13",
          "2017-09-14",
          "2017-09-15",
          "2017-09-16",
          "2017-09-17",
          "2017-09-18",
          "2017-09-19"
         ],
         "xaxis": "x4",
         "y": [
          39774,
          46445,
          50584,
          52253,
          54352,
          56487,
          57280
         ],
         "yaxis": "y4"
        },
        {
         "legendgroup": "Apple iPhone X first look",
         "line": {
          "color": "rgb(228,195,199)",
          "width": 2
         },
         "name": "Apple iPhone X first look",
         "showlegend": false,
         "type": "scatter",
         "x": [
          "2017-09-13",
          "2017-09-14",
          "2017-09-15",
          "2017-09-16",
          "2017-09-17",
          "2017-09-18",
          "2017-09-19"
         ],
         "xaxis": "x4",
         "y": [
          4542,
          6101,
          6882,
          7120,
          7231,
          7328,
          7384
         ],
         "yaxis": "y4"
        },
        {
         "legendgroup": "iPhone X (parody)",
         "line": {
          "color": "rgb(108,72,150)",
          "width": 2
         },
         "name": "iPhone X (parody)",
         "showlegend": false,
         "type": "scatter",
         "x": [
          "2017-09-13",
          "2017-09-14",
          "2017-09-15",
          "2017-09-16",
          "2017-09-17",
          "2017-09-18",
          "2017-09-19"
         ],
         "xaxis": "x4",
         "y": [
          568,
          1136,
          1481,
          1645,
          1779,
          1918,
          2003
         ],
         "yaxis": "y4"
        },
        {
         "legendgroup": "Hello, world. Meet our baby girl: Alexis Olympia Ohanian, Jr.",
         "line": {
          "color": "rgb(68,57,223)",
          "width": 2
         },
         "name": "Hello, world. Meet our baby girl: Alexis Olympia Ohanian, Jr.",
         "showlegend": false,
         "type": "scatter",
         "x": [
          "2017-09-14",
          "2017-09-15",
          "2017-09-16",
          "2017-09-17",
          "2017-09-18",
          "2017-09-19",
          "2017-09-20"
         ],
         "xaxis": "x4",
         "y": [
          1817,
          4008,
          4440,
          4577,
          4652,
          4687,
          4727
         ],
         "yaxis": "y4"
        },
        {
         "legendgroup": "Bella Hadid Roughs Up Security Roughing Up Female Photog | TMZ",
         "line": {
          "color": "rgb(190,106,21)",
          "width": 2
         },
         "name": "Bella Hadid Roughs Up Security Roughing Up Female Photog | TMZ",
         "showlegend": false,
         "type": "scatter",
         "x": [
          "2017-09-14",
          "2017-09-15",
          "2017-09-16",
          "2017-09-17",
          "2017-09-18",
          "2017-09-19",
          "2017-09-20"
         ],
         "xaxis": "x4",
         "y": [
          244,
          1325,
          1597,
          1630,
          1640,
          1642,
          1645
         ],
         "yaxis": "y4"
        },
        {
         "legendgroup": "Shakira - Perro Fiel (Official Video) ft. Nicky Jam",
         "line": {
          "color": "rgb(182,166,55)",
          "width": 2
         },
         "name": "Shakira - Perro Fiel (Official Video) ft. Nicky Jam",
         "showlegend": false,
         "type": "scatter",
         "x": [
          "2017-09-16",
          "2017-09-17",
          "2017-09-18",
          "2017-09-19",
          "2017-09-20",
          "2017-09-21",
          "2017-09-22"
         ],
         "xaxis": "x4",
         "y": [
          11446,
          22694,
          29669,
          33974,
          37538,
          40995,
          43475
         ],
         "yaxis": "y4"
        },
        {
         "legendgroup": "The Insane Full House Theory That Might Be True",
         "line": {
          "color": "rgb(74,167,14)",
          "width": 2
         },
         "name": "The Insane Full House Theory That Might Be True",
         "showlegend": false,
         "type": "scatter",
         "x": [
          "2017-09-16",
          "2017-09-17",
          "2017-09-18",
          "2017-09-19",
          "2017-09-20",
          "2017-09-21",
          "2017-09-22"
         ],
         "xaxis": "x4",
         "y": [
          1613,
          4298,
          5553,
          5777,
          5802,
          5858,
          5896
         ],
         "yaxis": "y4"
        },
        {
         "legendgroup": "Everything Wrong With The LEGO Batman Movie",
         "line": {
          "color": "rgb(51,92,101)",
          "width": 2
         },
         "name": "Everything Wrong With The LEGO Batman Movie",
         "showlegend": false,
         "type": "scatter",
         "x": [
          "2017-09-20",
          "2017-09-21",
          "2017-09-22",
          "2017-09-23",
          "2017-09-24",
          "2017-09-25",
          "2017-09-26"
         ],
         "xaxis": "x4",
         "y": [
          1618,
          2401,
          2585,
          2745,
          2801,
          2861,
          2890
         ],
         "yaxis": "y4"
        },
        {
         "legendgroup": "TOMB RAIDER - Official Trailer #1",
         "line": {
          "color": "rgb(54,32,180)",
          "width": 2
         },
         "name": "TOMB RAIDER - Official Trailer #1",
         "showlegend": false,
         "type": "scatter",
         "x": [
          "2017-09-20",
          "2017-09-21",
          "2017-09-22",
          "2017-09-23",
          "2017-09-24",
          "2017-09-25",
          "2017-09-26"
         ],
         "xaxis": "x4",
         "y": [
          849,
          12269,
          15149,
          17349,
          17928,
          18618,
          19009
         ],
         "yaxis": "y4"
        },
        {
         "legendgroup": "COOK OFF! (2017 Movie) – Official Trailer",
         "line": {
          "color": "rgb(152,81,221)",
          "width": 2
         },
         "name": "COOK OFF! (2017 Movie) – Official Trailer",
         "showlegend": false,
         "type": "scatter",
         "x": [
          "2017-09-20",
          "2017-09-21",
          "2017-09-22",
          "2017-09-23",
          "2017-09-24",
          "2017-09-25",
          "2017-09-26"
         ],
         "xaxis": "x4",
         "y": [
          114,
          1615,
          2074,
          2151,
          2159,
          2198,
          2220
         ],
         "yaxis": "y4"
        },
        {
         "legendgroup": "Foo Fighters Carpool Karaoke",
         "line": {
          "color": "rgb(207,178,14)",
          "width": 2
         },
         "name": "Foo Fighters Carpool Karaoke",
         "showlegend": false,
         "type": "scatter",
         "x": [
          "2017-09-21",
          "2017-09-22",
          "2017-09-23",
          "2017-09-24",
          "2017-09-25",
          "2017-09-26",
          "2017-09-27"
         ],
         "xaxis": "x4",
         "y": [
          287,
          937,
          1636,
          1798,
          1929,
          2050,
          2123
         ],
         "yaxis": "y4"
        },
        {
         "legendgroup": "Bear in Russian traffic",
         "line": {
          "color": "rgb(37,88,221)",
          "width": 2
         },
         "name": "Bear in Russian traffic",
         "showlegend": false,
         "type": "scatter",
         "x": [
          "2017-09-21",
          "2017-09-21",
          "2017-09-22",
          "2017-09-23",
          "2017-09-24",
          "2017-09-25",
          "2017-09-26"
         ],
         "xaxis": "x4",
         "y": [
          86,
          86,
          89,
          92,
          94,
          97,
          101
         ],
         "yaxis": "y4"
        },
        {
         "legendgroup": "J Balvin, Willy William - Mi Gente featuring Beyoncé",
         "line": {
          "color": "rgb(207,6,197)",
          "width": 2
         },
         "name": "J Balvin, Willy William - Mi Gente featuring Beyoncé",
         "showlegend": false,
         "type": "scatter",
         "x": [
          "2017-09-29",
          "2017-09-30",
          "2017-10-01",
          "2017-10-02",
          "2017-10-03",
          "2017-10-04"
         ],
         "xaxis": "x4",
         "y": [
          4626,
          14152,
          18213,
          19957,
          21112,
          22007
         ],
         "yaxis": "y4"
        },
        {
         "legendgroup": "Donald Trump’s Cringe-Worthy Attempt To Date Brooke Shields | WWHL",
         "line": {
          "color": "rgb(233,195,170)",
          "width": 2
         },
         "name": "Donald Trump’s Cringe-Worthy Attempt To Date Brooke Shields | WWHL",
         "showlegend": false,
         "type": "scatter",
         "x": [
          "2017-10-04",
          "2017-10-05",
          "2017-10-06",
          "2017-10-07",
          "2017-10-08",
          "2017-10-09",
          "2017-10-10"
         ],
         "xaxis": "x4",
         "y": [
          4,
          1618,
          2326,
          2397,
          2402,
          2406,
          2406
         ],
         "yaxis": "y4"
        },
        {
         "legendgroup": "J Balvin, Willy William - Mi Gente featuring Beyoncé ft. Beyoncé",
         "line": {
          "color": "rgb(227,123,74)",
          "width": 2
         },
         "name": "J Balvin, Willy William - Mi Gente featuring Beyoncé ft. Beyoncé",
         "showlegend": false,
         "type": "scatter",
         "x": [
          "2017-10-05"
         ],
         "xaxis": "x4",
         "y": [
          22775
         ],
         "yaxis": "y4"
        },
        {
         "legendgroup": "Every Cat At 3AM",
         "line": {
          "color": "rgb(195,64,216)",
          "width": 2
         },
         "name": "Every Cat At 3AM",
         "showlegend": false,
         "type": "scatter",
         "x": [
          "2017-10-06",
          "2017-10-07",
          "2017-10-08",
          "2017-10-09",
          "2017-10-10",
          "2017-10-11",
          "2017-10-12"
         ],
         "xaxis": "x4",
         "y": [
          454,
          1007,
          1249,
          1341,
          1366,
          1390,
          1411
         ],
         "yaxis": "y4"
        },
        {
         "legendgroup": "Did You Call My Girl!? | Anwar Jibawi",
         "line": {
          "color": "rgb(195,14,45)",
          "width": 2
         },
         "name": "Did You Call My Girl!? | Anwar Jibawi",
         "showlegend": false,
         "type": "scatter",
         "x": [
          "2017-10-06",
          "2017-10-07",
          "2017-10-08",
          "2017-10-09",
          "2017-10-10",
          "2017-10-11",
          "2017-10-12"
         ],
         "xaxis": "x4",
         "y": [
          1133,
          2078,
          2376,
          2484,
          2540,
          2586,
          2638
         ],
         "yaxis": "y4"
        },
        {
         "legendgroup": "Charlie Puth – How Long [Official Audio]",
         "line": {
          "color": "rgb(240,163,182)",
          "width": 2
         },
         "name": "Charlie Puth – How Long [Official Audio]",
         "showlegend": false,
         "type": "scatter",
         "x": [
          "2017-10-06",
          "2017-10-07",
          "2017-10-08",
          "2017-10-09",
          "2017-10-09",
          "2017-10-10",
          "2017-10-11"
         ],
         "xaxis": "x4",
         "y": [
          476,
          809,
          1011,
          1155,
          1155,
          1286,
          1393
         ],
         "yaxis": "y4"
        },
        {
         "legendgroup": "Seth MacFarlane Calls Out Harvey Weinstein Back In 2013",
         "line": {
          "color": "rgb(114,82,38)",
          "width": 2
         },
         "name": "Seth MacFarlane Calls Out Harvey Weinstein Back In 2013",
         "showlegend": false,
         "type": "scatter",
         "x": [
          "2017-10-12",
          "2017-10-13",
          "2017-10-14",
          "2017-10-15",
          "2017-10-16",
          "2017-10-17",
          "2017-10-18"
         ],
         "xaxis": "x4",
         "y": [
          327,
          804,
          946,
          1015,
          1062,
          1086,
          1106
         ],
         "yaxis": "y4"
        },
        {
         "legendgroup": "Arnold Set off to the Center of the Earth",
         "line": {
          "color": "rgb(46,108,68)",
          "width": 2
         },
         "name": "Arnold Set off to the Center of the Earth",
         "showlegend": false,
         "type": "scatter",
         "x": [
          "2017-10-12",
          "2017-10-13",
          "2017-10-14",
          "2017-10-15",
          "2017-10-16",
          "2017-10-17",
          "2017-10-18"
         ],
         "xaxis": "x4",
         "y": [
          1159,
          2024,
          2429,
          2679,
          2855,
          2922,
          2996
         ],
         "yaxis": "y4"
        },
        {
         "legendgroup": "What Americans Heard in Cuba Attacks: The Sound",
         "line": {
          "color": "rgb(97,173,176)",
          "width": 2
         },
         "name": "What Americans Heard in Cuba Attacks: The Sound",
         "showlegend": false,
         "type": "scatter",
         "x": [
          "2017-10-13",
          "2017-10-14",
          "2017-10-15",
          "2017-10-16",
          "2017-10-17",
          "2017-10-18",
          "2017-10-19"
         ],
         "xaxis": "x4",
         "y": [
          483,
          1627,
          1957,
          2034,
          2049,
          2069,
          2077
         ],
         "yaxis": "y4"
        },
        {
         "legendgroup": "Why Photos of the Eiffel Tower at Night are Illegal",
         "line": {
          "color": "rgb(207,244,75)",
          "width": 2
         },
         "name": "Why Photos of the Eiffel Tower at Night are Illegal",
         "showlegend": false,
         "type": "scatter",
         "x": [
          "2017-10-13",
          "2017-10-14",
          "2017-10-15",
          "2017-10-16",
          "2017-10-17",
          "2017-10-18",
          "2017-10-19"
         ],
         "xaxis": "x4",
         "y": [
          643,
          2323,
          3414,
          4374,
          4660,
          4806,
          4956
         ],
         "yaxis": "y4"
        },
        {
         "legendgroup": "Why Are You Anxious?",
         "line": {
          "color": "rgb(105,158,188)",
          "width": 2
         },
         "name": "Why Are You Anxious?",
         "showlegend": false,
         "type": "scatter",
         "x": [
          "2017-10-13",
          "2017-10-14",
          "2017-10-15",
          "2017-10-16",
          "2017-10-17",
          "2017-10-18",
          "2017-10-19"
         ],
         "xaxis": "x4",
         "y": [
          145,
          301,
          361,
          380,
          398,
          408,
          412
         ],
         "yaxis": "y4"
        },
        {
         "legendgroup": "Kane Brown - What's Mine Is Yours",
         "line": {
          "color": "rgb(105,176,177)",
          "width": 2
         },
         "name": "Kane Brown - What's Mine Is Yours",
         "showlegend": false,
         "type": "scatter",
         "x": [
          "2017-10-13",
          "2017-10-14",
          "2017-10-15",
          "2017-10-16",
          "2017-10-17",
          "2017-10-18",
          "2017-10-19"
         ],
         "xaxis": "x4",
         "y": [
          75,
          227,
          295,
          326,
          338,
          353,
          369
         ],
         "yaxis": "y4"
        },
        {
         "legendgroup": "Guns N' Roses Feat. PINK! - Patience (Msg, Nyc) 10.11.17 (P!NK)",
         "line": {
          "color": "rgb(30,197,18)",
          "width": 2
         },
         "name": "Guns N' Roses Feat. PINK! - Patience (Msg, Nyc) 10.11.17 (P!NK)",
         "showlegend": false,
         "type": "scatter",
         "x": [
          "2017-10-13",
          "2017-10-14",
          "2017-10-15",
          "2017-10-16",
          "2017-10-17",
          "2017-10-18",
          "2017-10-19"
         ],
         "xaxis": "x4",
         "y": [
          84,
          195,
          257,
          334,
          392,
          429,
          462
         ],
         "yaxis": "y4"
        },
        {
         "legendgroup": "Gucci Mane - Enormous feat. Ty Dolla $ign [Official Audio]",
         "line": {
          "color": "rgb(187,157,163)",
          "width": 2
         },
         "name": "Gucci Mane - Enormous feat. Ty Dolla $ign [Official Audio]",
         "showlegend": false,
         "type": "scatter",
         "x": [
          "2017-10-13",
          "2017-10-14",
          "2017-10-15",
          "2017-10-16",
          "2017-10-17",
          "2017-10-18",
          "2017-10-19"
         ],
         "xaxis": "x4",
         "y": [
          207,
          370,
          467,
          519,
          551,
          574,
          599
         ],
         "yaxis": "y4"
        },
        {
         "legendgroup": "John Legend - Penthouse Floor ft. Chance the Rapper",
         "line": {
          "color": "rgb(9,163,242)",
          "width": 2
         },
         "name": "John Legend - Penthouse Floor ft. Chance the Rapper",
         "showlegend": false,
         "type": "scatter",
         "x": [
          "2017-10-13",
          "2017-10-14",
          "2017-10-15",
          "2017-10-16",
          "2017-10-17",
          "2017-10-18",
          "2017-10-19"
         ],
         "xaxis": "x4",
         "y": [
          338,
          695,
          1070,
          1370,
          1650,
          1882,
          2117
         ],
         "yaxis": "y4"
        },
        {
         "legendgroup": "The New Mutants | Official Trailer [HD] | 20th Century FOX",
         "line": {
          "color": "rgb(88,123,231)",
          "width": 2
         },
         "name": "The New Mutants | Official Trailer [HD] | 20th Century FOX",
         "showlegend": false,
         "type": "scatter",
         "x": [
          "2017-10-14",
          "2017-10-15",
          "2017-10-16",
          "2017-10-17",
          "2017-10-18",
          "2017-10-19",
          "2017-10-20"
         ],
         "xaxis": "x4",
         "y": [
          3582,
          4843,
          5500,
          5857,
          6023,
          6095,
          6144
         ],
         "yaxis": "y4"
        },
        {
         "legendgroup": "Harvey Weinstein, Donald Trump and Systemic Sexism: A Closer Look",
         "line": {
          "color": "rgb(27,101,236)",
          "width": 2
         },
         "name": "Harvey Weinstein, Donald Trump and Systemic Sexism: A Closer Look",
         "showlegend": false,
         "type": "scatter",
         "x": [
          "2017-10-14",
          "2017-10-15",
          "2017-10-16",
          "2017-10-17",
          "2017-10-18",
          "2017-10-19",
          "2017-10-20"
         ],
         "xaxis": "x4",
         "y": [
          4054,
          6449,
          7472,
          7792,
          7932,
          8019,
          8097
         ],
         "yaxis": "y4"
        },
        {
         "legendgroup": "NO POMEGRANATES",
         "line": {
          "color": "rgb(229,227,191)",
          "width": 2
         },
         "name": "NO POMEGRANATES",
         "showlegend": false,
         "type": "scatter",
         "x": [
          "2017-10-14",
          "2017-10-15",
          "2017-10-16",
          "2017-10-17",
          "2017-10-18",
          "2017-10-19",
          "2017-10-20"
         ],
         "xaxis": "x4",
         "y": [
          334,
          709,
          807,
          848,
          862,
          870,
          881
         ],
         "yaxis": "y4"
        },
        {
         "legendgroup": "Bebe Rexha - Meant to Be (feat. Florida Georgia Line) [Lyric Video]",
         "line": {
          "color": "rgb(222,35,65)",
          "width": 2
         },
         "name": "Bebe Rexha - Meant to Be (feat. Florida Georgia Line) [Lyric Video]",
         "showlegend": false,
         "type": "scatter",
         "x": [
          "2017-10-14",
          "2017-10-15",
          "2017-10-16",
          "2017-10-17",
          "2017-10-18",
          "2017-10-19",
          "2017-10-20"
         ],
         "xaxis": "x4",
         "y": [
          177,
          271,
          337,
          396,
          483,
          582,
          678
         ],
         "yaxis": "y4"
        },
        {
         "legendgroup": "Alesso & Anitta - Is That For Me (Official Video)",
         "line": {
          "color": "rgb(69,42,240)",
          "width": 2
         },
         "name": "Alesso & Anitta - Is That For Me (Official Video)",
         "showlegend": false,
         "type": "scatter",
         "x": [
          "2017-10-14",
          "2017-10-15",
          "2017-10-16"
         ],
         "xaxis": "x4",
         "y": [
          36948,
          68902,
          82474
         ],
         "yaxis": "y4"
        },
        {
         "legendgroup": "Alesso & Anitta - Is That For Me (Official Music Video)",
         "line": {
          "color": "rgb(34,244,70)",
          "width": 2
         },
         "name": "Alesso & Anitta - Is That For Me (Official Music Video)",
         "showlegend": false,
         "type": "scatter",
         "x": [
          "2017-10-17",
          "2017-10-18",
          "2017-10-19",
          "2017-10-20"
         ],
         "xaxis": "x4",
         "y": [
          90419,
          96859,
          102067,
          108966
         ],
         "yaxis": "y4"
        }
       ],
       "layout": {
        "annotations": [
         {
          "font": {
           "size": 16
          },
          "showarrow": false,
          "text": "Views",
          "x": 0.5,
          "xanchor": "center",
          "xref": "paper",
          "y": 1,
          "yanchor": "bottom",
          "yref": "paper"
         },
         {
          "font": {
           "size": 16
          },
          "showarrow": false,
          "text": "Comments",
          "x": 0.5,
          "xanchor": "center",
          "xref": "paper",
          "y": 0.7325,
          "yanchor": "bottom",
          "yref": "paper"
         },
         {
          "font": {
           "size": 16
          },
          "showarrow": false,
          "text": "Likes",
          "x": 0.5,
          "xanchor": "center",
          "xref": "paper",
          "y": 0.465,
          "yanchor": "bottom",
          "yref": "paper"
         },
         {
          "font": {
           "size": 16
          },
          "showarrow": false,
          "text": "Dislikes",
          "x": 0.5,
          "xanchor": "center",
          "xref": "paper",
          "y": 0.1975,
          "yanchor": "bottom",
          "yref": "paper"
         }
        ],
        "height": 3040,
        "legend": {
         "tracegroupgap": 1,
         "x": 0,
         "y": -0.338
        },
        "title": "Different metrics for videos trended in US for 7 days",
        "width": 800,
        "xaxis1": {
         "anchor": "y1",
         "domain": [
          0,
          1
         ],
         "title": ""
        },
        "xaxis2": {
         "anchor": "y2",
         "domain": [
          0,
          1
         ],
         "title": ""
        },
        "xaxis3": {
         "anchor": "y3",
         "domain": [
          0,
          1
         ],
         "title": ""
        },
        "xaxis4": {
         "anchor": "y4",
         "domain": [
          0,
          1
         ],
         "title": ""
        },
        "yaxis1": {
         "anchor": "x1",
         "domain": [
          0.8025,
          1
         ],
         "title": "mln. views"
        },
        "yaxis2": {
         "anchor": "x2",
         "domain": [
          0.535,
          0.7325
         ],
         "title": "comments"
        },
        "yaxis3": {
         "anchor": "x3",
         "domain": [
          0.2675,
          0.465
         ],
         "title": "likes"
        },
        "yaxis4": {
         "anchor": "x4",
         "domain": [
          0,
          0.1975
         ],
         "title": "dislikes"
        }
       }
      },
      "text/html": [
       "<div id=\"904e6061-4e80-42b3-9144-9105f25c5d96\" style=\"height: 3040px; width: 800px;\" class=\"plotly-graph-div\"></div><script type=\"text/javascript\">require([\"plotly\"], function(Plotly) { window.PLOTLYENV=window.PLOTLYENV || {};window.PLOTLYENV.BASE_URL=\"https://plot.ly\";Plotly.newPlot(\"904e6061-4e80-42b3-9144-9105f25c5d96\", [{\"type\": \"scatter\", \"x\": [\"2017-09-13\", \"2017-09-14\", \"2017-09-15\", \"2017-09-16\", \"2017-09-17\", \"2017-09-18\", \"2017-09-19\"], \"y\": [4.394029, 5.457497, 5.854127, 5.997736, 6.109026, 6.19581, 6.232518], \"name\": \"1 YEAR OF VLOGGING -- HOW LOGAN PAUL CHANGED YOUTUBE FOREVER!\", \"line\": {\"width\": 2, \"color\": \"rgb(188,148,96)\"}, \"legendgroup\": \"1 YEAR OF VLOGGING -- HOW LOGAN PAUL CHANGED YOUTUBE FOREVER!\", \"showlegend\": false, \"xaxis\": \"x1\", \"yaxis\": \"y1\"}, {\"type\": \"scatter\", \"x\": [\"2017-09-13\", \"2017-09-14\", \"2017-09-15\", \"2017-09-16\", \"2017-09-17\", \"2017-09-18\", \"2017-09-19\"], \"y\": [5.845909, 6.997601, 7.706359, 8.002631, 8.347038, 8.665083, 8.808424], \"name\": \"My Response\", \"line\": {\"width\": 2, \"color\": \"rgb(234,216,26)\"}, \"legendgroup\": \"My Response\", \"showlegend\": false, \"xaxis\": \"x1\", \"yaxis\": \"y1\"}, {\"type\": \"scatter\", \"x\": [\"2017-09-13\", \"2017-09-14\", \"2017-09-15\", \"2017-09-16\", \"2017-09-17\", \"2017-09-18\", \"2017-09-19\"], \"y\": [2.642103, 3.654879, 4.257519, 4.489199, 4.633101, 4.744488, 4.804702], \"name\": \"Apple iPhone X first look\", \"line\": {\"width\": 2, \"color\": \"rgb(228,195,199)\"}, \"legendgroup\": \"Apple iPhone X first look\", \"showlegend\": false, \"xaxis\": \"x1\", \"yaxis\": \"y1\"}, {\"type\": \"scatter\", \"x\": [\"2017-09-13\", \"2017-09-14\", \"2017-09-15\", \"2017-09-16\", \"2017-09-17\", \"2017-09-18\", \"2017-09-19\"], \"y\": [1.16813, 2.084309, 2.587501, 2.846092, 3.037052, 3.192269, 3.280098], \"name\": \"iPhone X (parody)\", \"line\": {\"width\": 2, \"color\": \"rgb(108,72,150)\"}, \"legendgroup\": \"iPhone X (parody)\", \"showlegend\": false, \"xaxis\": \"x1\", \"yaxis\": \"y1\"}, {\"type\": \"scatter\", \"x\": [\"2017-09-14\", \"2017-09-15\", \"2017-09-16\", \"2017-09-17\", \"2017-09-18\", \"2017-09-19\", \"2017-09-20\"], \"y\": [1.110865, 1.921063, 2.138396, 2.23781, 2.307502, 2.348649, 2.379689], \"name\": \"Hello, world. Meet our baby girl: Alexis Olympia Ohanian, Jr.\", \"line\": {\"width\": 2, \"color\": \"rgb(68,57,223)\"}, \"legendgroup\": \"Hello, world. Meet our baby girl: Alexis Olympia Ohanian, Jr.\", \"showlegend\": false, \"xaxis\": \"x1\", \"yaxis\": \"y1\"}, {\"type\": \"scatter\", \"x\": [\"2017-09-14\", \"2017-09-15\", \"2017-09-16\", \"2017-09-17\", \"2017-09-18\", \"2017-09-19\", \"2017-09-20\"], \"y\": [0.041452, 0.19826, 0.293148, 0.397771, 0.458189, 0.46813, 0.483496], \"name\": \"Bella Hadid Roughs Up Security Roughing Up Female Photog | TMZ\", \"line\": {\"width\": 2, \"color\": \"rgb(190,106,21)\"}, \"legendgroup\": \"Bella Hadid Roughs Up Security Roughing Up Female Photog | TMZ\", \"showlegend\": false, \"xaxis\": \"x1\", \"yaxis\": \"y1\"}, {\"type\": \"scatter\", \"x\": [\"2017-09-16\", \"2017-09-17\", \"2017-09-18\", \"2017-09-19\", \"2017-09-20\", \"2017-09-21\", \"2017-09-22\"], \"y\": [4.08556, 10.944706, 15.90652, 19.496639, 22.787997, 27.750173, 32.136948], \"name\": \"Shakira - Perro Fiel (Official Video) ft. Nicky Jam\", \"line\": {\"width\": 2, \"color\": \"rgb(182,166,55)\"}, \"legendgroup\": \"Shakira - Perro Fiel (Official Video) ft. Nicky Jam\", \"showlegend\": false, \"xaxis\": \"x1\", \"yaxis\": \"y1\"}, {\"type\": \"scatter\", \"x\": [\"2017-09-16\", \"2017-09-17\", \"2017-09-18\", \"2017-09-19\", \"2017-09-20\", \"2017-09-21\", \"2017-09-22\"], \"y\": [0.290939, 0.888666, 1.213185, 1.273718, 1.285313, 1.301518, 1.313911], \"name\": \"The Insane Full House Theory That Might Be True\", \"line\": {\"width\": 2, \"color\": \"rgb(74,167,14)\"}, \"legendgroup\": \"The Insane Full House Theory That Might Be True\", \"showlegend\": false, \"xaxis\": \"x1\", \"yaxis\": \"y1\"}, {\"type\": \"scatter\", \"x\": [\"2017-09-20\", \"2017-09-21\", \"2017-09-22\", \"2017-09-23\", \"2017-09-24\", \"2017-09-25\", \"2017-09-26\"], \"y\": [1.311031, 2.030432, 2.225184, 2.391377, 2.490053, 2.582647, 2.62965], \"name\": \"Everything Wrong With The LEGO Batman Movie\", \"line\": {\"width\": 2, \"color\": \"rgb(51,92,101)\"}, \"legendgroup\": \"Everything Wrong With The LEGO Batman Movie\", \"showlegend\": false, \"xaxis\": \"x1\", \"yaxis\": \"y1\"}, {\"type\": \"scatter\", \"x\": [\"2017-09-20\", \"2017-09-21\", \"2017-09-22\", \"2017-09-23\", \"2017-09-24\", \"2017-09-25\", \"2017-09-26\"], \"y\": [0.07148, 3.276021, 6.941887, 8.700817, 9.064131, 9.449472, 9.722207], \"name\": \"TOMB RAIDER - Official Trailer #1\", \"line\": {\"width\": 2, \"color\": \"rgb(54,32,180)\"}, \"legendgroup\": \"TOMB RAIDER - Official Trailer #1\", \"showlegend\": false, \"xaxis\": \"x1\", \"yaxis\": \"y1\"}, {\"type\": \"scatter\", \"x\": [\"2017-09-20\", \"2017-09-21\", \"2017-09-22\", \"2017-09-23\", \"2017-09-24\", \"2017-09-25\", \"2017-09-26\"], \"y\": [0.034895, 0.230372, 0.309307, 0.34775, 0.365898, 0.388066, 0.40932], \"name\": \"COOK OFF! (2017 Movie) \\u2013 Official Trailer\", \"line\": {\"width\": 2, \"color\": \"rgb(152,81,221)\"}, \"legendgroup\": \"COOK OFF! (2017 Movie) \\u2013 Official Trailer\", \"showlegend\": false, \"xaxis\": \"x1\", \"yaxis\": \"y1\"}, {\"type\": \"scatter\", \"x\": [\"2017-09-21\", \"2017-09-22\", \"2017-09-23\", \"2017-09-24\", \"2017-09-25\", \"2017-09-26\", \"2017-09-27\"], \"y\": [0.393877, 2.397363, 4.022951, 4.48487, 4.862619, 5.107701, 5.302643], \"name\": \"Foo Fighters Carpool Karaoke\", \"line\": {\"width\": 2, \"color\": \"rgb(207,178,14)\"}, \"legendgroup\": \"Foo Fighters Carpool Karaoke\", \"showlegend\": false, \"xaxis\": \"x1\", \"yaxis\": \"y1\"}, {\"type\": \"scatter\", \"x\": [\"2017-09-21\", \"2017-09-21\", \"2017-09-22\", \"2017-09-23\", \"2017-09-24\", \"2017-09-25\", \"2017-09-26\"], \"y\": [0.093109, 0.093153, 0.11572, 0.135303, 0.141666, 0.161606, 0.201549], \"name\": \"Bear in Russian traffic\", \"line\": {\"width\": 2, \"color\": \"rgb(37,88,221)\"}, \"legendgroup\": \"Bear in Russian traffic\", \"showlegend\": false, \"xaxis\": \"x1\", \"yaxis\": \"y1\"}, {\"type\": \"scatter\", \"x\": [\"2017-09-29\", \"2017-09-30\", \"2017-10-01\", \"2017-10-02\", \"2017-10-03\", \"2017-10-04\"], \"y\": [1.250899, 7.440958, 9.629935, 10.736487, 11.576213, 12.254591], \"name\": \"J Balvin, Willy William - Mi Gente featuring Beyonc\\u00e9\", \"line\": {\"width\": 2, \"color\": \"rgb(207,6,197)\"}, \"legendgroup\": \"J Balvin, Willy William - Mi Gente featuring Beyonc\\u00e9\", \"showlegend\": false, \"xaxis\": \"x1\", \"yaxis\": \"y1\"}, {\"type\": \"scatter\", \"x\": [\"2017-10-04\", \"2017-10-05\", \"2017-10-06\", \"2017-10-07\", \"2017-10-08\", \"2017-10-09\", \"2017-10-10\"], \"y\": [0.000933, 0.314712, 0.440499, 0.473137, 0.486614, 0.497924, 0.504791], \"name\": \"Donald Trump\\u2019s Cringe-Worthy Attempt To Date Brooke Shields | WWHL\", \"line\": {\"width\": 2, \"color\": \"rgb(233,195,170)\"}, \"legendgroup\": \"Donald Trump\\u2019s Cringe-Worthy Attempt To Date Brooke Shields | WWHL\", \"showlegend\": false, \"xaxis\": \"x1\", \"yaxis\": \"y1\"}, {\"type\": \"scatter\", \"x\": [\"2017-10-05\"], \"y\": [13.077467], \"name\": \"J Balvin, Willy William - Mi Gente featuring Beyonc\\u00e9 ft. Beyonc\\u00e9\", \"line\": {\"width\": 2, \"color\": \"rgb(227,123,74)\"}, \"legendgroup\": \"J Balvin, Willy William - Mi Gente featuring Beyonc\\u00e9 ft. Beyonc\\u00e9\", \"showlegend\": false, \"xaxis\": \"x1\", \"yaxis\": \"y1\"}, {\"type\": \"scatter\", \"x\": [\"2017-10-06\", \"2017-10-07\", \"2017-10-08\", \"2017-10-09\", \"2017-10-10\", \"2017-10-11\", \"2017-10-12\"], \"y\": [0.349302, 0.751066, 0.961835, 1.055334, 1.101771, 1.133263, 1.159836], \"name\": \"Every Cat At 3AM\", \"line\": {\"width\": 2, \"color\": \"rgb(195,64,216)\"}, \"legendgroup\": \"Every Cat At 3AM\", \"showlegend\": false, \"xaxis\": \"x1\", \"yaxis\": \"y1\"}, {\"type\": \"scatter\", \"x\": [\"2017-10-06\", \"2017-10-07\", \"2017-10-08\", \"2017-10-09\", \"2017-10-10\", \"2017-10-11\", \"2017-10-12\"], \"y\": [1.325033, 2.298865, 2.651565, 2.846933, 2.990265, 3.095246, 3.18184], \"name\": \"Did You Call My Girl!? | Anwar Jibawi\", \"line\": {\"width\": 2, \"color\": \"rgb(195,14,45)\"}, \"legendgroup\": \"Did You Call My Girl!? | Anwar Jibawi\", \"showlegend\": false, \"xaxis\": \"x1\", \"yaxis\": \"y1\"}, {\"type\": \"scatter\", \"x\": [\"2017-10-06\", \"2017-10-07\", \"2017-10-08\", \"2017-10-09\", \"2017-10-09\", \"2017-10-10\", \"2017-10-11\"], \"y\": [0.609764, 1.578921, 2.17731, 2.649954, 2.650679, 3.03659, 3.42798], \"name\": \"Charlie Puth \\u2013 How Long [Official Audio]\", \"line\": {\"width\": 2, \"color\": \"rgb(240,163,182)\"}, \"legendgroup\": \"Charlie Puth \\u2013 How Long [Official Audio]\", \"showlegend\": false, \"xaxis\": \"x1\", \"yaxis\": \"y1\"}, {\"type\": \"scatter\", \"x\": [\"2017-10-12\", \"2017-10-13\", \"2017-10-14\", \"2017-10-15\", \"2017-10-16\", \"2017-10-17\", \"2017-10-18\"], \"y\": [1.425329, 2.607785, 3.017631, 3.235959, 3.397737, 3.493853, 3.563283], \"name\": \"Seth MacFarlane Calls Out Harvey Weinstein Back In 2013\", \"line\": {\"width\": 2, \"color\": \"rgb(114,82,38)\"}, \"legendgroup\": \"Seth MacFarlane Calls Out Harvey Weinstein Back In 2013\", \"showlegend\": false, \"xaxis\": \"x1\", \"yaxis\": \"y1\"}, {\"type\": \"scatter\", \"x\": [\"2017-10-12\", \"2017-10-13\", \"2017-10-14\", \"2017-10-15\", \"2017-10-16\", \"2017-10-17\", \"2017-10-18\"], \"y\": [1.087156, 1.862708, 2.093286, 2.179619, 2.227164, 2.258211, 2.28697], \"name\": \"Arnold Set off to the Center of the Earth\", \"line\": {\"width\": 2, \"color\": \"rgb(46,108,68)\"}, \"legendgroup\": \"Arnold Set off to the Center of the Earth\", \"showlegend\": false, \"xaxis\": \"x1\", \"yaxis\": \"y1\"}, {\"type\": \"scatter\", \"x\": [\"2017-10-13\", \"2017-10-14\", \"2017-10-15\", \"2017-10-16\", \"2017-10-17\", \"2017-10-18\", \"2017-10-19\"], \"y\": [0.185798, 0.57405, 0.696132, 0.732441, 0.743387, 0.749545, 0.753492], \"name\": \"What Americans Heard in Cuba Attacks: The Sound\", \"line\": {\"width\": 2, \"color\": \"rgb(97,173,176)\"}, \"legendgroup\": \"What Americans Heard in Cuba Attacks: The Sound\", \"showlegend\": false, \"xaxis\": \"x1\", \"yaxis\": \"y1\"}, {\"type\": \"scatter\", \"x\": [\"2017-10-13\", \"2017-10-14\", \"2017-10-15\", \"2017-10-16\", \"2017-10-17\", \"2017-10-18\", \"2017-10-19\"], \"y\": [0.287053, 1.054604, 1.717243, 2.295902, 2.507525, 2.629561, 2.727912], \"name\": \"Why Photos of the Eiffel Tower at Night are Illegal\", \"line\": {\"width\": 2, \"color\": \"rgb(207,244,75)\"}, \"legendgroup\": \"Why Photos of the Eiffel Tower at Night are Illegal\", \"showlegend\": false, \"xaxis\": \"x1\", \"yaxis\": \"y1\"}, {\"type\": \"scatter\", \"x\": [\"2017-10-13\", \"2017-10-14\", \"2017-10-15\", \"2017-10-16\", \"2017-10-17\", \"2017-10-18\", \"2017-10-19\"], \"y\": [0.261553, 0.532289, 0.63812, 0.686592, 0.72102, 0.740092, 0.74938], \"name\": \"Why Are You Anxious?\", \"line\": {\"width\": 2, \"color\": \"rgb(105,158,188)\"}, \"legendgroup\": \"Why Are You Anxious?\", \"showlegend\": false, \"xaxis\": \"x1\", \"yaxis\": \"y1\"}, {\"type\": \"scatter\", \"x\": [\"2017-10-13\", \"2017-10-14\", \"2017-10-15\", \"2017-10-16\", \"2017-10-17\", \"2017-10-18\", \"2017-10-19\"], \"y\": [0.095856, 0.253612, 0.349735, 0.416703, 0.476541, 0.533381, 0.5811], \"name\": \"Kane Brown - What's Mine Is Yours\", \"line\": {\"width\": 2, \"color\": \"rgb(105,176,177)\"}, \"legendgroup\": \"Kane Brown - What's Mine Is Yours\", \"showlegend\": false, \"xaxis\": \"x1\", \"yaxis\": \"y1\"}, {\"type\": \"scatter\", \"x\": [\"2017-10-13\", \"2017-10-14\", \"2017-10-15\", \"2017-10-16\", \"2017-10-17\", \"2017-10-18\", \"2017-10-19\"], \"y\": [0.161398, 0.359438, 0.484142, 0.596036, 0.688597, 0.750714, 0.795286], \"name\": \"Guns N' Roses Feat. PINK! - Patience (Msg, Nyc) 10.11.17 (P!NK)\", \"line\": {\"width\": 2, \"color\": \"rgb(30,197,18)\"}, \"legendgroup\": \"Guns N' Roses Feat. PINK! - Patience (Msg, Nyc) 10.11.17 (P!NK)\", \"showlegend\": false, \"xaxis\": \"x1\", \"yaxis\": \"y1\"}, {\"type\": \"scatter\", \"x\": [\"2017-10-13\", \"2017-10-14\", \"2017-10-15\", \"2017-10-16\", \"2017-10-17\", \"2017-10-18\", \"2017-10-19\"], \"y\": [0.166711, 0.358313, 0.477774, 0.550073, 0.61394, 0.67694, 0.736098], \"name\": \"Gucci Mane - Enormous feat. Ty Dolla $ign [Official Audio]\", \"line\": {\"width\": 2, \"color\": \"rgb(187,157,163)\"}, \"legendgroup\": \"Gucci Mane - Enormous feat. Ty Dolla $ign [Official Audio]\", \"showlegend\": false, \"xaxis\": \"x1\", \"yaxis\": \"y1\"}, {\"type\": \"scatter\", \"x\": [\"2017-10-13\", \"2017-10-14\", \"2017-10-15\", \"2017-10-16\", \"2017-10-17\", \"2017-10-18\", \"2017-10-19\"], \"y\": [0.186321, 0.508819, 0.863315, 1.238676, 1.673354, 2.139992, 2.558262], \"name\": \"John Legend - Penthouse Floor ft. Chance the Rapper\", \"line\": {\"width\": 2, \"color\": \"rgb(9,163,242)\"}, \"legendgroup\": \"John Legend - Penthouse Floor ft. Chance the Rapper\", \"showlegend\": false, \"xaxis\": \"x1\", \"yaxis\": \"y1\"}, {\"type\": \"scatter\", \"x\": [\"2017-10-14\", \"2017-10-15\", \"2017-10-16\", \"2017-10-17\", \"2017-10-18\", \"2017-10-19\", \"2017-10-20\"], \"y\": [3.250607, 5.632058, 6.139085, 6.428082, 6.572719, 6.642575, 6.694485], \"name\": \"The New Mutants | Official Trailer [HD] | 20th Century FOX\", \"line\": {\"width\": 2, \"color\": \"rgb(88,123,231)\"}, \"legendgroup\": \"The New Mutants | Official Trailer [HD] | 20th Century FOX\", \"showlegend\": false, \"xaxis\": \"x1\", \"yaxis\": \"y1\"}, {\"type\": \"scatter\", \"x\": [\"2017-10-14\", \"2017-10-15\", \"2017-10-16\", \"2017-10-17\", \"2017-10-18\", \"2017-10-19\", \"2017-10-20\"], \"y\": [1.627553, 2.101641, 2.344734, 2.530254, 2.685481, 2.804407, 2.904362], \"name\": \"Harvey Weinstein, Donald Trump and Systemic Sexism: A Closer Look\", \"line\": {\"width\": 2, \"color\": \"rgb(27,101,236)\"}, \"legendgroup\": \"Harvey Weinstein, Donald Trump and Systemic Sexism: A Closer Look\", \"showlegend\": false, \"xaxis\": \"x1\", \"yaxis\": \"y1\"}, {\"type\": \"scatter\", \"x\": [\"2017-10-14\", \"2017-10-15\", \"2017-10-16\", \"2017-10-17\", \"2017-10-18\", \"2017-10-19\", \"2017-10-20\"], \"y\": [0.62029, 1.313187, 1.544933, 1.660107, 1.702877, 1.738476, 1.775069], \"name\": \"NO POMEGRANATES\", \"line\": {\"width\": 2, \"color\": \"rgb(229,227,191)\"}, \"legendgroup\": \"NO POMEGRANATES\", \"showlegend\": false, \"xaxis\": \"x1\", \"yaxis\": \"y1\"}, {\"type\": \"scatter\", \"x\": [\"2017-10-14\", \"2017-10-15\", \"2017-10-16\", \"2017-10-17\", \"2017-10-18\", \"2017-10-19\", \"2017-10-20\"], \"y\": [0.123885, 0.288591, 0.436367, 0.5872, 0.766428, 1.023403, 1.338267], \"name\": \"Bebe Rexha - Meant to Be (feat. Florida Georgia Line) [Lyric Video]\", \"line\": {\"width\": 2, \"color\": \"rgb(222,35,65)\"}, \"legendgroup\": \"Bebe Rexha - Meant to Be (feat. Florida Georgia Line) [Lyric Video]\", \"showlegend\": false, \"xaxis\": \"x1\", \"yaxis\": \"y1\"}, {\"type\": \"scatter\", \"x\": [\"2017-10-14\", \"2017-10-15\", \"2017-10-16\"], \"y\": [3.982024, 7.784929, 9.62953], \"name\": \"Alesso & Anitta - Is That For Me (Official Video)\", \"line\": {\"width\": 2, \"color\": \"rgb(69,42,240)\"}, \"legendgroup\": \"Alesso & Anitta - Is That For Me (Official Video)\", \"showlegend\": false, \"xaxis\": \"x1\", \"yaxis\": \"y1\"}, {\"type\": \"scatter\", \"x\": [\"2017-10-17\", \"2017-10-18\", \"2017-10-19\", \"2017-10-20\"], \"y\": [10.959059, 12.23315, 13.418138, 14.849524], \"name\": \"Alesso & Anitta - Is That For Me (Official Music Video)\", \"line\": {\"width\": 2, \"color\": \"rgb(34,244,70)\"}, \"legendgroup\": \"Alesso & Anitta - Is That For Me (Official Music Video)\", \"showlegend\": false, \"xaxis\": \"x1\", \"yaxis\": \"y1\"}, {\"type\": \"scatter\", \"x\": [\"2017-09-13\", \"2017-09-14\", \"2017-09-15\", \"2017-09-16\", \"2017-09-17\", \"2017-09-18\", \"2017-09-19\"], \"y\": [46245, 52483, 54671, 39626, 38850, 39002, 39144], \"name\": \"1 YEAR OF VLOGGING -- HOW LOGAN PAUL CHANGED YOUTUBE FOREVER!\", \"line\": {\"width\": 2, \"color\": \"rgb(188,148,96)\"}, \"legendgroup\": \"1 YEAR OF VLOGGING -- HOW LOGAN PAUL CHANGED YOUTUBE FOREVER!\", \"showlegend\": true, \"xaxis\": \"x2\", \"yaxis\": \"y2\"}, {\"type\": \"scatter\", \"x\": [\"2017-09-13\", \"2017-09-14\", \"2017-09-15\", \"2017-09-16\", \"2017-09-17\", \"2017-09-18\", \"2017-09-19\"], \"y\": [170708, 190979, 199406, 128771, 130106, 134318, 135649], \"name\": \"My Response\", \"line\": {\"width\": 2, \"color\": \"rgb(234,216,26)\"}, \"legendgroup\": \"My Response\", \"showlegend\": true, \"xaxis\": \"x2\", \"yaxis\": \"y2\"}, {\"type\": \"scatter\", \"x\": [\"2017-09-13\", \"2017-09-14\", \"2017-09-15\", \"2017-09-16\", \"2017-09-17\", \"2017-09-18\", \"2017-09-19\"], \"y\": [12829, 16713, 18323, 12812, 12823, 13000, 13127], \"name\": \"Apple iPhone X first look\", \"line\": {\"width\": 2, \"color\": \"rgb(228,195,199)\"}, \"legendgroup\": \"Apple iPhone X first look\", \"showlegend\": true, \"xaxis\": \"x2\", \"yaxis\": \"y2\"}, {\"type\": \"scatter\", \"x\": [\"2017-09-13\", \"2017-09-14\", \"2017-09-15\", \"2017-09-16\", \"2017-09-17\", \"2017-09-18\", \"2017-09-19\"], \"y\": [6666, 8733, 9933, 8941, 9107, 9412, 9557], \"name\": \"iPhone X (parody)\", \"line\": {\"width\": 2, \"color\": \"rgb(108,72,150)\"}, \"legendgroup\": \"iPhone X (parody)\", \"showlegend\": true, \"xaxis\": \"x2\", \"yaxis\": \"y2\"}, {\"type\": \"scatter\", \"x\": [\"2017-09-14\", \"2017-09-15\", \"2017-09-16\", \"2017-09-17\", \"2017-09-18\", \"2017-09-19\", \"2017-09-20\"], \"y\": [3631, 7615, 6835, 6973, 7508, 7608, 7665], \"name\": \"Hello, world. Meet our baby girl: Alexis Olympia Ohanian, Jr.\", \"line\": {\"width\": 2, \"color\": \"rgb(68,57,223)\"}, \"legendgroup\": \"Hello, world. Meet our baby girl: Alexis Olympia Ohanian, Jr.\", \"showlegend\": true, \"xaxis\": \"x2\", \"yaxis\": \"y2\"}, {\"type\": \"scatter\", \"x\": [\"2017-09-14\", \"2017-09-15\", \"2017-09-16\", \"2017-09-17\", \"2017-09-18\", \"2017-09-19\", \"2017-09-20\"], \"y\": [318, 1106, 1094, 1099, 1129, 1140, 1115], \"name\": \"Bella Hadid Roughs Up Security Roughing Up Female Photog | TMZ\", \"line\": {\"width\": 2, \"color\": \"rgb(190,106,21)\"}, \"legendgroup\": \"Bella Hadid Roughs Up Security Roughing Up Female Photog | TMZ\", \"showlegend\": true, \"xaxis\": \"x2\", \"yaxis\": \"y2\"}, {\"type\": \"scatter\", \"x\": [\"2017-09-16\", \"2017-09-17\", \"2017-09-18\", \"2017-09-19\", \"2017-09-20\", \"2017-09-21\", \"2017-09-22\"], \"y\": [21514, 31875, 31425, 34684, 36467, 38712, 40071], \"name\": \"Shakira - Perro Fiel (Official Video) ft. Nicky Jam\", \"line\": {\"width\": 2, \"color\": \"rgb(182,166,55)\"}, \"legendgroup\": \"Shakira - Perro Fiel (Official Video) ft. Nicky Jam\", \"showlegend\": true, \"xaxis\": \"x2\", \"yaxis\": \"y2\"}, {\"type\": \"scatter\", \"x\": [\"2017-09-16\", \"2017-09-17\", \"2017-09-18\", \"2017-09-19\", \"2017-09-20\", \"2017-09-21\", \"2017-09-22\"], \"y\": [1053, 2607, 2636, 2742, 2748, 2880, 2906], \"name\": \"The Insane Full House Theory That Might Be True\", \"line\": {\"width\": 2, \"color\": \"rgb(74,167,14)\"}, \"legendgroup\": \"The Insane Full House Theory That Might Be True\", \"showlegend\": true, \"xaxis\": \"x2\", \"yaxis\": \"y2\"}, {\"type\": \"scatter\", \"x\": [\"2017-09-20\", \"2017-09-21\", \"2017-09-22\", \"2017-09-23\", \"2017-09-24\", \"2017-09-25\", \"2017-09-26\"], \"y\": [8155, 10117, 10641, 8693, 8937, 9222, 9409], \"name\": \"Everything Wrong With The LEGO Batman Movie\", \"line\": {\"width\": 2, \"color\": \"rgb(51,92,101)\"}, \"legendgroup\": \"Everything Wrong With The LEGO Batman Movie\", \"showlegend\": true, \"xaxis\": \"x2\", \"yaxis\": \"y2\"}, {\"type\": \"scatter\", \"x\": [\"2017-09-20\", \"2017-09-21\", \"2017-09-22\", \"2017-09-23\", \"2017-09-24\", \"2017-09-25\", \"2017-09-26\"], \"y\": [1672, 16257, 16182, 18595, 18715, 19463, 19990], \"name\": \"TOMB RAIDER - Official Trailer #1\", \"line\": {\"width\": 2, \"color\": \"rgb(54,32,180)\"}, \"legendgroup\": \"TOMB RAIDER - Official Trailer #1\", \"showlegend\": true, \"xaxis\": \"x2\", \"yaxis\": \"y2\"}, {\"type\": \"scatter\", \"x\": [\"2017-09-20\", \"2017-09-21\", \"2017-09-22\", \"2017-09-23\", \"2017-09-24\", \"2017-09-25\", \"2017-09-26\"], \"y\": [91, 729, 720, 689, 693, 727, 757], \"name\": \"COOK OFF! (2017 Movie) \\u2013 Official Trailer\", \"line\": {\"width\": 2, \"color\": \"rgb(152,81,221)\"}, \"legendgroup\": \"COOK OFF! (2017 Movie) \\u2013 Official Trailer\", \"showlegend\": true, \"xaxis\": \"x2\", \"yaxis\": \"y2\"}, {\"type\": \"scatter\", \"x\": [\"2017-09-21\", \"2017-09-22\", \"2017-09-23\", \"2017-09-24\", \"2017-09-25\", \"2017-09-26\", \"2017-09-27\"], \"y\": [1970, 5303, 7868, 6913, 7270, 7572, 7817], \"name\": \"Foo Fighters Carpool Karaoke\", \"line\": {\"width\": 2, \"color\": \"rgb(207,178,14)\"}, \"legendgroup\": \"Foo Fighters Carpool Karaoke\", \"showlegend\": true, \"xaxis\": \"x2\", \"yaxis\": \"y2\"}, {\"type\": \"scatter\", \"x\": [\"2017-09-21\", \"2017-09-21\", \"2017-09-22\", \"2017-09-23\", \"2017-09-24\", \"2017-09-25\", \"2017-09-26\"], \"y\": [307, 307, 313, 252, 254, 257, 260], \"name\": \"Bear in Russian traffic\", \"line\": {\"width\": 2, \"color\": \"rgb(37,88,221)\"}, \"legendgroup\": \"Bear in Russian traffic\", \"showlegend\": true, \"xaxis\": \"x2\", \"yaxis\": \"y2\"}, {\"type\": \"scatter\", \"x\": [\"2017-09-29\", \"2017-09-30\", \"2017-10-01\", \"2017-10-02\", \"2017-10-03\", \"2017-10-04\"], \"y\": [11263, 26359, 28317, 31269, 32444, 33233], \"name\": \"J Balvin, Willy William - Mi Gente featuring Beyonc\\u00e9\", \"line\": {\"width\": 2, \"color\": \"rgb(207,6,197)\"}, \"legendgroup\": \"J Balvin, Willy William - Mi Gente featuring Beyonc\\u00e9\", \"showlegend\": true, \"xaxis\": \"x2\", \"yaxis\": \"y2\"}, {\"type\": \"scatter\", \"x\": [\"2017-10-04\", \"2017-10-05\", \"2017-10-06\", \"2017-10-07\", \"2017-10-08\", \"2017-10-09\", \"2017-10-10\"], \"y\": [19, 782, 1249, 1116, 1135, 1094, 1097], \"name\": \"Donald Trump\\u2019s Cringe-Worthy Attempt To Date Brooke Shields | WWHL\", \"line\": {\"width\": 2, \"color\": \"rgb(233,195,170)\"}, \"legendgroup\": \"Donald Trump\\u2019s Cringe-Worthy Attempt To Date Brooke Shields | WWHL\", \"showlegend\": true, \"xaxis\": \"x2\", \"yaxis\": \"y2\"}, {\"type\": \"scatter\", \"x\": [\"2017-10-05\"], \"y\": [33386], \"name\": \"J Balvin, Willy William - Mi Gente featuring Beyonc\\u00e9 ft. Beyonc\\u00e9\", \"line\": {\"width\": 2, \"color\": \"rgb(227,123,74)\"}, \"legendgroup\": \"J Balvin, Willy William - Mi Gente featuring Beyonc\\u00e9 ft. Beyonc\\u00e9\", \"showlegend\": true, \"xaxis\": \"x2\", \"yaxis\": \"y2\"}, {\"type\": \"scatter\", \"x\": [\"2017-10-06\", \"2017-10-07\", \"2017-10-08\", \"2017-10-09\", \"2017-10-10\", \"2017-10-11\", \"2017-10-12\"], \"y\": [813, 1769, 2226, 2335, 2370, 2383, 2424], \"name\": \"Every Cat At 3AM\", \"line\": {\"width\": 2, \"color\": \"rgb(195,64,216)\"}, \"legendgroup\": \"Every Cat At 3AM\", \"showlegend\": true, \"xaxis\": \"x2\", \"yaxis\": \"y2\"}, {\"type\": \"scatter\", \"x\": [\"2017-10-06\", \"2017-10-07\", \"2017-10-08\", \"2017-10-09\", \"2017-10-10\", \"2017-10-11\", \"2017-10-12\"], \"y\": [3858, 5038, 5228, 4667, 4799, 4908, 4965], \"name\": \"Did You Call My Girl!? | Anwar Jibawi\", \"line\": {\"width\": 2, \"color\": \"rgb(195,14,45)\"}, \"legendgroup\": \"Did You Call My Girl!? | Anwar Jibawi\", \"showlegend\": true, \"xaxis\": \"x2\", \"yaxis\": \"y2\"}, {\"type\": \"scatter\", \"x\": [\"2017-10-06\", \"2017-10-07\", \"2017-10-08\", \"2017-10-09\", \"2017-10-09\", \"2017-10-10\", \"2017-10-11\"], \"y\": [8544, 12107, 13217, 11515, 11515, 12035, 12509], \"name\": \"Charlie Puth \\u2013 How Long [Official Audio]\", \"line\": {\"width\": 2, \"color\": \"rgb(240,163,182)\"}, \"legendgroup\": \"Charlie Puth \\u2013 How Long [Official Audio]\", \"showlegend\": true, \"xaxis\": \"x2\", \"yaxis\": \"y2\"}, {\"type\": \"scatter\", \"x\": [\"2017-10-12\", \"2017-10-13\", \"2017-10-14\", \"2017-10-15\", \"2017-10-16\", \"2017-10-17\", \"2017-10-18\"], \"y\": [1798, 3511, 4062, 4317, 4597, 3841, 3893], \"name\": \"Seth MacFarlane Calls Out Harvey Weinstein Back In 2013\", \"line\": {\"width\": 2, \"color\": \"rgb(114,82,38)\"}, \"legendgroup\": \"Seth MacFarlane Calls Out Harvey Weinstein Back In 2013\", \"showlegend\": true, \"xaxis\": \"x2\", \"yaxis\": \"y2\"}, {\"type\": \"scatter\", \"x\": [\"2017-10-12\", \"2017-10-13\", \"2017-10-14\", \"2017-10-15\", \"2017-10-16\", \"2017-10-17\", \"2017-10-18\"], \"y\": [8126, 10539, 11594, 12122, 12670, 12001, 12155], \"name\": \"Arnold Set off to the Center of the Earth\", \"line\": {\"width\": 2, \"color\": \"rgb(46,108,68)\"}, \"legendgroup\": \"Arnold Set off to the Center of the Earth\", \"showlegend\": true, \"xaxis\": \"x2\", \"yaxis\": \"y2\"}, {\"type\": \"scatter\", \"x\": [\"2017-10-13\", \"2017-10-14\", \"2017-10-15\", \"2017-10-16\", \"2017-10-17\", \"2017-10-18\", \"2017-10-19\"], \"y\": [0, 0, 0, 0, 0, 0, 0], \"name\": \"What Americans Heard in Cuba Attacks: The Sound\", \"line\": {\"width\": 2, \"color\": \"rgb(97,173,176)\"}, \"legendgroup\": \"What Americans Heard in Cuba Attacks: The Sound\", \"showlegend\": true, \"xaxis\": \"x2\", \"yaxis\": \"y2\"}, {\"type\": \"scatter\", \"x\": [\"2017-10-13\", \"2017-10-14\", \"2017-10-15\", \"2017-10-16\", \"2017-10-17\", \"2017-10-18\", \"2017-10-19\"], \"y\": [1511, 3834, 5567, 6655, 6044, 6223, 6467], \"name\": \"Why Photos of the Eiffel Tower at Night are Illegal\", \"line\": {\"width\": 2, \"color\": \"rgb(207,244,75)\"}, \"legendgroup\": \"Why Photos of the Eiffel Tower at Night are Illegal\", \"showlegend\": true, \"xaxis\": \"x2\", \"yaxis\": \"y2\"}, {\"type\": \"scatter\", \"x\": [\"2017-10-13\", \"2017-10-14\", \"2017-10-15\", \"2017-10-16\", \"2017-10-17\", \"2017-10-18\", \"2017-10-19\"], \"y\": [1159, 1695, 1886, 1991, 985, 1006, 1015], \"name\": \"Why Are You Anxious?\", \"line\": {\"width\": 2, \"color\": \"rgb(105,158,188)\"}, \"legendgroup\": \"Why Are You Anxious?\", \"showlegend\": true, \"xaxis\": \"x2\", \"yaxis\": \"y2\"}, {\"type\": \"scatter\", \"x\": [\"2017-10-13\", \"2017-10-14\", \"2017-10-15\", \"2017-10-16\", \"2017-10-17\", \"2017-10-18\", \"2017-10-19\"], \"y\": [290, 446, 530, 564, 276, 277, 288], \"name\": \"Kane Brown - What's Mine Is Yours\", \"line\": {\"width\": 2, \"color\": \"rgb(105,176,177)\"}, \"legendgroup\": \"Kane Brown - What's Mine Is Yours\", \"showlegend\": true, \"xaxis\": \"x2\", \"yaxis\": \"y2\"}, {\"type\": \"scatter\", \"x\": [\"2017-10-13\", \"2017-10-14\", \"2017-10-15\", \"2017-10-16\", \"2017-10-17\", \"2017-10-18\", \"2017-10-19\"], \"y\": [216, 429, 674, 804, 550, 596, 625], \"name\": \"Guns N' Roses Feat. PINK! - Patience (Msg, Nyc) 10.11.17 (P!NK)\", \"line\": {\"width\": 2, \"color\": \"rgb(30,197,18)\"}, \"legendgroup\": \"Guns N' Roses Feat. PINK! - Patience (Msg, Nyc) 10.11.17 (P!NK)\", \"showlegend\": true, \"xaxis\": \"x2\", \"yaxis\": \"y2\"}, {\"type\": \"scatter\", \"x\": [\"2017-10-13\", \"2017-10-14\", \"2017-10-15\", \"2017-10-16\", \"2017-10-17\", \"2017-10-18\", \"2017-10-19\"], \"y\": [888, 1071, 1142, 1156, 766, 780, 794], \"name\": \"Gucci Mane - Enormous feat. Ty Dolla $ign [Official Audio]\", \"line\": {\"width\": 2, \"color\": \"rgb(187,157,163)\"}, \"legendgroup\": \"Gucci Mane - Enormous feat. Ty Dolla $ign [Official Audio]\", \"showlegend\": true, \"xaxis\": \"x2\", \"yaxis\": \"y2\"}, {\"type\": \"scatter\", \"x\": [\"2017-10-13\", \"2017-10-14\", \"2017-10-15\", \"2017-10-16\", \"2017-10-17\", \"2017-10-18\", \"2017-10-19\"], \"y\": [877, 1389, 1864, 2144, 1561, 1709, 1808], \"name\": \"John Legend - Penthouse Floor ft. Chance the Rapper\", \"line\": {\"width\": 2, \"color\": \"rgb(9,163,242)\"}, \"legendgroup\": \"John Legend - Penthouse Floor ft. Chance the Rapper\", \"showlegend\": true, \"xaxis\": \"x2\", \"yaxis\": \"y2\"}, {\"type\": \"scatter\", \"x\": [\"2017-10-14\", \"2017-10-15\", \"2017-10-16\", \"2017-10-17\", \"2017-10-18\", \"2017-10-19\", \"2017-10-20\"], \"y\": [6886, 9250, 10370, 9557, 9787, 9895, 8125], \"name\": \"The New Mutants | Official Trailer [HD] | 20th Century FOX\", \"line\": {\"width\": 2, \"color\": \"rgb(88,123,231)\"}, \"legendgroup\": \"The New Mutants | Official Trailer [HD] | 20th Century FOX\", \"showlegend\": true, \"xaxis\": \"x2\", \"yaxis\": \"y2\"}, {\"type\": \"scatter\", \"x\": [\"2017-10-14\", \"2017-10-15\", \"2017-10-16\", \"2017-10-17\", \"2017-10-18\", \"2017-10-19\", \"2017-10-20\"], \"y\": [4931, 7154, 8185, 7380, 7710, 7882, 7096], \"name\": \"Harvey Weinstein, Donald Trump and Systemic Sexism: A Closer Look\", \"line\": {\"width\": 2, \"color\": \"rgb(27,101,236)\"}, \"legendgroup\": \"Harvey Weinstein, Donald Trump and Systemic Sexism: A Closer Look\", \"showlegend\": true, \"xaxis\": \"x2\", \"yaxis\": \"y2\"}, {\"type\": \"scatter\", \"x\": [\"2017-10-14\", \"2017-10-15\", \"2017-10-16\", \"2017-10-17\", \"2017-10-18\", \"2017-10-19\", \"2017-10-20\"], \"y\": [4336, 8889, 10201, 9391, 9456, 9504, 8339], \"name\": \"NO POMEGRANATES\", \"line\": {\"width\": 2, \"color\": \"rgb(229,227,191)\"}, \"legendgroup\": \"NO POMEGRANATES\", \"showlegend\": true, \"xaxis\": \"x2\", \"yaxis\": \"y2\"}, {\"type\": \"scatter\", \"x\": [\"2017-10-14\", \"2017-10-15\", \"2017-10-16\", \"2017-10-17\", \"2017-10-18\", \"2017-10-19\", \"2017-10-20\"], \"y\": [1441, 1689, 1817, 896, 1048, 1100, 1866], \"name\": \"Bebe Rexha - Meant to Be (feat. Florida Georgia Line) [Lyric Video]\", \"line\": {\"width\": 2, \"color\": \"rgb(222,35,65)\"}, \"legendgroup\": \"Bebe Rexha - Meant to Be (feat. Florida Georgia Line) [Lyric Video]\", \"showlegend\": true, \"xaxis\": \"x2\", \"yaxis\": \"y2\"}, {\"type\": \"scatter\", \"x\": [\"2017-10-14\", \"2017-10-15\", \"2017-10-16\"], \"y\": [42046, 66014, 74107], \"name\": \"Alesso & Anitta - Is That For Me (Official Video)\", \"line\": {\"width\": 2, \"color\": \"rgb(69,42,240)\"}, \"legendgroup\": \"Alesso & Anitta - Is That For Me (Official Video)\", \"showlegend\": true, \"xaxis\": \"x2\", \"yaxis\": \"y2\"}, {\"type\": \"scatter\", \"x\": [\"2017-10-17\", \"2017-10-18\", \"2017-10-19\", \"2017-10-20\"], \"y\": [77086, 79935, 81912, 84942], \"name\": \"Alesso & Anitta - Is That For Me (Official Music Video)\", \"line\": {\"width\": 2, \"color\": \"rgb(34,244,70)\"}, \"legendgroup\": \"Alesso & Anitta - Is That For Me (Official Music Video)\", \"showlegend\": true, \"xaxis\": \"x2\", \"yaxis\": \"y2\"}, {\"type\": \"scatter\", \"x\": [\"2017-09-13\", \"2017-09-14\", \"2017-09-15\", \"2017-09-16\", \"2017-09-17\", \"2017-09-18\", \"2017-09-19\"], \"y\": [320053, 349857, 361422, 366401, 369963, 372700, 373824], \"name\": \"1 YEAR OF VLOGGING -- HOW LOGAN PAUL CHANGED YOUTUBE FOREVER!\", \"line\": {\"width\": 2, \"color\": \"rgb(188,148,96)\"}, \"legendgroup\": \"1 YEAR OF VLOGGING -- HOW LOGAN PAUL CHANGED YOUTUBE FOREVER!\", \"showlegend\": false, \"xaxis\": \"x3\", \"yaxis\": \"y3\"}, {\"type\": \"scatter\", \"x\": [\"2017-09-13\", \"2017-09-14\", \"2017-09-15\", \"2017-09-16\", \"2017-09-17\", \"2017-09-18\", \"2017-09-19\"], \"y\": [576597, 626155, 659184, 672775, 687381, 700870, 706104], \"name\": \"My Response\", \"line\": {\"width\": 2, \"color\": \"rgb(234,216,26)\"}, \"legendgroup\": \"My Response\", \"showlegend\": false, \"xaxis\": \"x3\", \"yaxis\": \"y3\"}, {\"type\": \"scatter\", \"x\": [\"2017-09-13\", \"2017-09-14\", \"2017-09-15\", \"2017-09-16\", \"2017-09-17\", \"2017-09-18\", \"2017-09-19\"], \"y\": [24975, 30836, 33617, 34622, 35111, 35529, 35719], \"name\": \"Apple iPhone X first look\", \"line\": {\"width\": 2, \"color\": \"rgb(228,195,199)\"}, \"legendgroup\": \"Apple iPhone X first look\", \"showlegend\": false, \"xaxis\": \"x3\", \"yaxis\": \"y3\"}, {\"type\": \"scatter\", \"x\": [\"2017-09-13\", \"2017-09-14\", \"2017-09-15\", \"2017-09-16\", \"2017-09-17\", \"2017-09-18\", \"2017-09-19\"], \"y\": [96666, 128402, 144171, 152496, 157883, 162414, 164959], \"name\": \"iPhone X (parody)\", \"line\": {\"width\": 2, \"color\": \"rgb(108,72,150)\"}, \"legendgroup\": \"iPhone X (parody)\", \"showlegend\": false, \"xaxis\": \"x3\", \"yaxis\": \"y3\"}, {\"type\": \"scatter\", \"x\": [\"2017-09-14\", \"2017-09-15\", \"2017-09-16\", \"2017-09-17\", \"2017-09-18\", \"2017-09-19\", \"2017-09-20\"], \"y\": [11255, 20278, 22501, 23184, 23662, 23861, 24008], \"name\": \"Hello, world. Meet our baby girl: Alexis Olympia Ohanian, Jr.\", \"line\": {\"width\": 2, \"color\": \"rgb(68,57,223)\"}, \"legendgroup\": \"Hello, world. Meet our baby girl: Alexis Olympia Ohanian, Jr.\", \"showlegend\": false, \"xaxis\": \"x3\", \"yaxis\": \"y3\"}, {\"type\": \"scatter\", \"x\": [\"2017-09-14\", \"2017-09-15\", \"2017-09-16\", \"2017-09-17\", \"2017-09-18\", \"2017-09-19\", \"2017-09-20\"], \"y\": [485, 1170, 1315, 1332, 1347, 1355, 1369], \"name\": \"Bella Hadid Roughs Up Security Roughing Up Female Photog | TMZ\", \"line\": {\"width\": 2, \"color\": \"rgb(190,106,21)\"}, \"legendgroup\": \"Bella Hadid Roughs Up Security Roughing Up Female Photog | TMZ\", \"showlegend\": false, \"xaxis\": \"x3\", \"yaxis\": \"y3\"}, {\"type\": \"scatter\", \"x\": [\"2017-09-16\", \"2017-09-17\", \"2017-09-18\", \"2017-09-19\", \"2017-09-20\", \"2017-09-21\", \"2017-09-22\"], \"y\": [198696, 333571, 415114, 464107, 502597, 547764, 578266], \"name\": \"Shakira - Perro Fiel (Official Video) ft. Nicky Jam\", \"line\": {\"width\": 2, \"color\": \"rgb(182,166,55)\"}, \"legendgroup\": \"Shakira - Perro Fiel (Official Video) ft. Nicky Jam\", \"showlegend\": false, \"xaxis\": \"x3\", \"yaxis\": \"y3\"}, {\"type\": \"scatter\", \"x\": [\"2017-09-16\", \"2017-09-17\", \"2017-09-18\", \"2017-09-19\", \"2017-09-20\", \"2017-09-21\", \"2017-09-22\"], \"y\": [6341, 13331, 16818, 17446, 17588, 17755, 17843], \"name\": \"The Insane Full House Theory That Might Be True\", \"line\": {\"width\": 2, \"color\": \"rgb(74,167,14)\"}, \"legendgroup\": \"The Insane Full House Theory That Might Be True\", \"showlegend\": false, \"xaxis\": \"x3\", \"yaxis\": \"y3\"}, {\"type\": \"scatter\", \"x\": [\"2017-09-20\", \"2017-09-21\", \"2017-09-22\", \"2017-09-23\", \"2017-09-24\", \"2017-09-25\", \"2017-09-26\"], \"y\": [43066, 53758, 56123, 58423, 59551, 60633, 61164], \"name\": \"Everything Wrong With The LEGO Batman Movie\", \"line\": {\"width\": 2, \"color\": \"rgb(51,92,101)\"}, \"legendgroup\": \"Everything Wrong With The LEGO Batman Movie\", \"showlegend\": false, \"xaxis\": \"x3\", \"yaxis\": \"y3\"}, {\"type\": \"scatter\", \"x\": [\"2017-09-20\", \"2017-09-21\", \"2017-09-22\", \"2017-09-23\", \"2017-09-24\", \"2017-09-25\", \"2017-09-26\"], \"y\": [5560, 46736, 56662, 64595, 66763, 69326, 70953], \"name\": \"TOMB RAIDER - Official Trailer #1\", \"line\": {\"width\": 2, \"color\": \"rgb(54,32,180)\"}, \"legendgroup\": \"TOMB RAIDER - Official Trailer #1\", \"showlegend\": false, \"xaxis\": \"x3\", \"yaxis\": \"y3\"}, {\"type\": \"scatter\", \"x\": [\"2017-09-20\", \"2017-09-21\", \"2017-09-22\", \"2017-09-23\", \"2017-09-24\", \"2017-09-25\", \"2017-09-26\"], \"y\": [385, 2481, 3206, 3392, 3479, 3642, 3813], \"name\": \"COOK OFF! (2017 Movie) \\u2013 Official Trailer\", \"line\": {\"width\": 2, \"color\": \"rgb(152,81,221)\"}, \"legendgroup\": \"COOK OFF! (2017 Movie) \\u2013 Official Trailer\", \"showlegend\": false, \"xaxis\": \"x3\", \"yaxis\": \"y3\"}, {\"type\": \"scatter\", \"x\": [\"2017-09-21\", \"2017-09-22\", \"2017-09-23\", \"2017-09-24\", \"2017-09-25\", \"2017-09-26\", \"2017-09-27\"], \"y\": [24097, 61258, 84922, 90069, 94797, 98286, 101556], \"name\": \"Foo Fighters Carpool Karaoke\", \"line\": {\"width\": 2, \"color\": \"rgb(207,178,14)\"}, \"legendgroup\": \"Foo Fighters Carpool Karaoke\", \"showlegend\": false, \"xaxis\": \"x3\", \"yaxis\": \"y3\"}, {\"type\": \"scatter\", \"x\": [\"2017-09-21\", \"2017-09-21\", \"2017-09-22\", \"2017-09-23\", \"2017-09-24\", \"2017-09-25\", \"2017-09-26\"], \"y\": [1642, 1644, 1747, 1781, 1790, 1823, 1944], \"name\": \"Bear in Russian traffic\", \"line\": {\"width\": 2, \"color\": \"rgb(37,88,221)\"}, \"legendgroup\": \"Bear in Russian traffic\", \"showlegend\": false, \"xaxis\": \"x3\", \"yaxis\": \"y3\"}, {\"type\": \"scatter\", \"x\": [\"2017-09-29\", \"2017-09-30\", \"2017-10-01\", \"2017-10-02\", \"2017-10-03\", \"2017-10-04\"], \"y\": [109528, 299299, 363535, 389230, 405884, 417924], \"name\": \"J Balvin, Willy William - Mi Gente featuring Beyonc\\u00e9\", \"line\": {\"width\": 2, \"color\": \"rgb(207,6,197)\"}, \"legendgroup\": \"J Balvin, Willy William - Mi Gente featuring Beyonc\\u00e9\", \"showlegend\": false, \"xaxis\": \"x3\", \"yaxis\": \"y3\"}, {\"type\": \"scatter\", \"x\": [\"2017-10-04\", \"2017-10-05\", \"2017-10-06\", \"2017-10-07\", \"2017-10-08\", \"2017-10-09\", \"2017-10-10\"], \"y\": [75, 1241, 1637, 1693, 1707, 1717, 1726], \"name\": \"Donald Trump\\u2019s Cringe-Worthy Attempt To Date Brooke Shields | WWHL\", \"line\": {\"width\": 2, \"color\": \"rgb(233,195,170)\"}, \"legendgroup\": \"Donald Trump\\u2019s Cringe-Worthy Attempt To Date Brooke Shields | WWHL\", \"showlegend\": false, \"xaxis\": \"x3\", \"yaxis\": \"y3\"}, {\"type\": \"scatter\", \"x\": [\"2017-10-05\"], \"y\": [430513], \"name\": \"J Balvin, Willy William - Mi Gente featuring Beyonc\\u00e9 ft. Beyonc\\u00e9\", \"line\": {\"width\": 2, \"color\": \"rgb(227,123,74)\"}, \"legendgroup\": \"J Balvin, Willy William - Mi Gente featuring Beyonc\\u00e9 ft. Beyonc\\u00e9\", \"showlegend\": false, \"xaxis\": \"x3\", \"yaxis\": \"y3\"}, {\"type\": \"scatter\", \"x\": [\"2017-10-06\", \"2017-10-07\", \"2017-10-08\", \"2017-10-09\", \"2017-10-10\", \"2017-10-11\", \"2017-10-12\"], \"y\": [17087, 29670, 36234, 38931, 39808, 40466, 41168], \"name\": \"Every Cat At 3AM\", \"line\": {\"width\": 2, \"color\": \"rgb(195,64,216)\"}, \"legendgroup\": \"Every Cat At 3AM\", \"showlegend\": false, \"xaxis\": \"x3\", \"yaxis\": \"y3\"}, {\"type\": \"scatter\", \"x\": [\"2017-10-06\", \"2017-10-07\", \"2017-10-08\", \"2017-10-09\", \"2017-10-10\", \"2017-10-11\", \"2017-10-12\"], \"y\": [63125, 91148, 98455, 102882, 105904, 107998, 109643], \"name\": \"Did You Call My Girl!? | Anwar Jibawi\", \"line\": {\"width\": 2, \"color\": \"rgb(195,14,45)\"}, \"legendgroup\": \"Did You Call My Girl!? | Anwar Jibawi\", \"showlegend\": false, \"xaxis\": \"x3\", \"yaxis\": \"y3\"}, {\"type\": \"scatter\", \"x\": [\"2017-10-06\", \"2017-10-07\", \"2017-10-08\", \"2017-10-09\", \"2017-10-09\", \"2017-10-10\", \"2017-10-11\"], \"y\": [80541, 135599, 156180, 168015, 168019, 177481, 185837], \"name\": \"Charlie Puth \\u2013 How Long [Official Audio]\", \"line\": {\"width\": 2, \"color\": \"rgb(240,163,182)\"}, \"legendgroup\": \"Charlie Puth \\u2013 How Long [Official Audio]\", \"showlegend\": false, \"xaxis\": \"x3\", \"yaxis\": \"y3\"}, {\"type\": \"scatter\", \"x\": [\"2017-10-12\", \"2017-10-13\", \"2017-10-14\", \"2017-10-15\", \"2017-10-16\", \"2017-10-17\", \"2017-10-18\"], \"y\": [10145, 19116, 21686, 22769, 23564, 23973, 24317], \"name\": \"Seth MacFarlane Calls Out Harvey Weinstein Back In 2013\", \"line\": {\"width\": 2, \"color\": \"rgb(114,82,38)\"}, \"legendgroup\": \"Seth MacFarlane Calls Out Harvey Weinstein Back In 2013\", \"showlegend\": false, \"xaxis\": \"x3\", \"yaxis\": \"y3\"}, {\"type\": \"scatter\", \"x\": [\"2017-10-12\", \"2017-10-13\", \"2017-10-14\", \"2017-10-15\", \"2017-10-16\", \"2017-10-17\", \"2017-10-18\"], \"y\": [56828, 72931, 76938, 78509, 79456, 79974, 80567], \"name\": \"Arnold Set off to the Center of the Earth\", \"line\": {\"width\": 2, \"color\": \"rgb(46,108,68)\"}, \"legendgroup\": \"Arnold Set off to the Center of the Earth\", \"showlegend\": false, \"xaxis\": \"x3\", \"yaxis\": \"y3\"}, {\"type\": \"scatter\", \"x\": [\"2017-10-13\", \"2017-10-14\", \"2017-10-15\", \"2017-10-16\", \"2017-10-17\", \"2017-10-18\", \"2017-10-19\"], \"y\": [768, 2088, 2585, 2723, 2750, 2771, 2795], \"name\": \"What Americans Heard in Cuba Attacks: The Sound\", \"line\": {\"width\": 2, \"color\": \"rgb(97,173,176)\"}, \"legendgroup\": \"What Americans Heard in Cuba Attacks: The Sound\", \"showlegend\": false, \"xaxis\": \"x3\", \"yaxis\": \"y3\"}, {\"type\": \"scatter\", \"x\": [\"2017-10-13\", \"2017-10-14\", \"2017-10-15\", \"2017-10-16\", \"2017-10-17\", \"2017-10-18\", \"2017-10-19\"], \"y\": [10265, 21227, 30851, 40513, 43747, 45246, 46581], \"name\": \"Why Photos of the Eiffel Tower at Night are Illegal\", \"line\": {\"width\": 2, \"color\": \"rgb(207,244,75)\"}, \"legendgroup\": \"Why Photos of the Eiffel Tower at Night are Illegal\", \"showlegend\": false, \"xaxis\": \"x3\", \"yaxis\": \"y3\"}, {\"type\": \"scatter\", \"x\": [\"2017-10-13\", \"2017-10-14\", \"2017-10-15\", \"2017-10-16\", \"2017-10-17\", \"2017-10-18\", \"2017-10-19\"], \"y\": [11975, 17588, 19739, 20751, 21729, 22118, 22326], \"name\": \"Why Are You Anxious?\", \"line\": {\"width\": 2, \"color\": \"rgb(105,158,188)\"}, \"legendgroup\": \"Why Are You Anxious?\", \"showlegend\": false, \"xaxis\": \"x3\", \"yaxis\": \"y3\"}, {\"type\": \"scatter\", \"x\": [\"2017-10-13\", \"2017-10-14\", \"2017-10-15\", \"2017-10-16\", \"2017-10-17\", \"2017-10-18\", \"2017-10-19\"], \"y\": [5065, 7851, 9254, 10284, 11187, 11960, 12566], \"name\": \"Kane Brown - What's Mine Is Yours\", \"line\": {\"width\": 2, \"color\": \"rgb(105,176,177)\"}, \"legendgroup\": \"Kane Brown - What's Mine Is Yours\", \"showlegend\": false, \"xaxis\": \"x3\", \"yaxis\": \"y3\"}, {\"type\": \"scatter\", \"x\": [\"2017-10-13\", \"2017-10-14\", \"2017-10-15\", \"2017-10-16\", \"2017-10-17\", \"2017-10-18\", \"2017-10-19\"], \"y\": [1768, 3050, 3745, 4685, 5443, 5966, 6345], \"name\": \"Guns N' Roses Feat. PINK! - Patience (Msg, Nyc) 10.11.17 (P!NK)\", \"line\": {\"width\": 2, \"color\": \"rgb(30,197,18)\"}, \"legendgroup\": \"Guns N' Roses Feat. PINK! - Patience (Msg, Nyc) 10.11.17 (P!NK)\", \"showlegend\": false, \"xaxis\": \"x3\", \"yaxis\": \"y3\"}, {\"type\": \"scatter\", \"x\": [\"2017-10-13\", \"2017-10-14\", \"2017-10-15\", \"2017-10-16\", \"2017-10-17\", \"2017-10-18\", \"2017-10-19\"], \"y\": [8620, 12121, 13620, 14492, 15132, 15683, 16212], \"name\": \"Gucci Mane - Enormous feat. Ty Dolla $ign [Official Audio]\", \"line\": {\"width\": 2, \"color\": \"rgb(187,157,163)\"}, \"legendgroup\": \"Gucci Mane - Enormous feat. Ty Dolla $ign [Official Audio]\", \"showlegend\": false, \"xaxis\": \"x3\", \"yaxis\": \"y3\"}, {\"type\": \"scatter\", \"x\": [\"2017-10-13\", \"2017-10-14\", \"2017-10-15\", \"2017-10-16\", \"2017-10-17\", \"2017-10-18\", \"2017-10-19\"], \"y\": [10169, 17634, 25171, 33207, 42237, 49078, 55427], \"name\": \"John Legend - Penthouse Floor ft. Chance the Rapper\", \"line\": {\"width\": 2, \"color\": \"rgb(9,163,242)\"}, \"legendgroup\": \"John Legend - Penthouse Floor ft. Chance the Rapper\", \"showlegend\": false, \"xaxis\": \"x3\", \"yaxis\": \"y3\"}, {\"type\": \"scatter\", \"x\": [\"2017-10-14\", \"2017-10-15\", \"2017-10-16\", \"2017-10-17\", \"2017-10-18\", \"2017-10-19\", \"2017-10-20\"], \"y\": [24306, 31390, 35599, 37943, 39020, 39526, 39893], \"name\": \"The New Mutants | Official Trailer [HD] | 20th Century FOX\", \"line\": {\"width\": 2, \"color\": \"rgb(88,123,231)\"}, \"legendgroup\": \"The New Mutants | Official Trailer [HD] | 20th Century FOX\", \"showlegend\": false, \"xaxis\": \"x3\", \"yaxis\": \"y3\"}, {\"type\": \"scatter\", \"x\": [\"2017-10-14\", \"2017-10-15\", \"2017-10-16\", \"2017-10-17\", \"2017-10-18\", \"2017-10-19\", \"2017-10-20\"], \"y\": [26896, 31162, 33162, 34414, 35428, 36166, 36732], \"name\": \"Harvey Weinstein, Donald Trump and Systemic Sexism: A Closer Look\", \"line\": {\"width\": 2, \"color\": \"rgb(27,101,236)\"}, \"legendgroup\": \"Harvey Weinstein, Donald Trump and Systemic Sexism: A Closer Look\", \"showlegend\": false, \"xaxis\": \"x3\", \"yaxis\": \"y3\"}, {\"type\": \"scatter\", \"x\": [\"2017-10-14\", \"2017-10-15\", \"2017-10-16\", \"2017-10-17\", \"2017-10-18\", \"2017-10-19\", \"2017-10-20\"], \"y\": [23216, 45879, 51737, 54043, 54631, 55187, 55761], \"name\": \"NO POMEGRANATES\", \"line\": {\"width\": 2, \"color\": \"rgb(229,227,191)\"}, \"legendgroup\": \"NO POMEGRANATES\", \"showlegend\": false, \"xaxis\": \"x3\", \"yaxis\": \"y3\"}, {\"type\": \"scatter\", \"x\": [\"2017-10-14\", \"2017-10-15\", \"2017-10-16\", \"2017-10-17\", \"2017-10-18\", \"2017-10-19\", \"2017-10-20\"], \"y\": [19794, 26693, 31214, 35613, 40799, 45816, 51387], \"name\": \"Bebe Rexha - Meant to Be (feat. Florida Georgia Line) [Lyric Video]\", \"line\": {\"width\": 2, \"color\": \"rgb(222,35,65)\"}, \"legendgroup\": \"Bebe Rexha - Meant to Be (feat. Florida Georgia Line) [Lyric Video]\", \"showlegend\": false, \"xaxis\": \"x3\", \"yaxis\": \"y3\"}, {\"type\": \"scatter\", \"x\": [\"2017-10-14\", \"2017-10-15\", \"2017-10-16\"], \"y\": [306843, 447906, 504162], \"name\": \"Alesso & Anitta - Is That For Me (Official Video)\", \"line\": {\"width\": 2, \"color\": \"rgb(69,42,240)\"}, \"legendgroup\": \"Alesso & Anitta - Is That For Me (Official Video)\", \"showlegend\": false, \"xaxis\": \"x3\", \"yaxis\": \"y3\"}, {\"type\": \"scatter\", \"x\": [\"2017-10-17\", \"2017-10-18\", \"2017-10-19\", \"2017-10-20\"], \"y\": [538825, 564466, 585283, 618436], \"name\": \"Alesso & Anitta - Is That For Me (Official Music Video)\", \"line\": {\"width\": 2, \"color\": \"rgb(34,244,70)\"}, \"legendgroup\": \"Alesso & Anitta - Is That For Me (Official Music Video)\", \"showlegend\": false, \"xaxis\": \"x3\", \"yaxis\": \"y3\"}, {\"type\": \"scatter\", \"x\": [\"2017-09-13\", \"2017-09-14\", \"2017-09-15\", \"2017-09-16\", \"2017-09-17\", \"2017-09-18\", \"2017-09-19\"], \"y\": [5931, 17479, 22023, 22885, 23207, 23509, 23701], \"name\": \"1 YEAR OF VLOGGING -- HOW LOGAN PAUL CHANGED YOUTUBE FOREVER!\", \"line\": {\"width\": 2, \"color\": \"rgb(188,148,96)\"}, \"legendgroup\": \"1 YEAR OF VLOGGING -- HOW LOGAN PAUL CHANGED YOUTUBE FOREVER!\", \"showlegend\": false, \"xaxis\": \"x4\", \"yaxis\": \"y4\"}, {\"type\": \"scatter\", \"x\": [\"2017-09-13\", \"2017-09-14\", \"2017-09-15\", \"2017-09-16\", \"2017-09-17\", \"2017-09-18\", \"2017-09-19\"], \"y\": [39774, 46445, 50584, 52253, 54352, 56487, 57280], \"name\": \"My Response\", \"line\": {\"width\": 2, \"color\": \"rgb(234,216,26)\"}, \"legendgroup\": \"My Response\", \"showlegend\": false, \"xaxis\": \"x4\", \"yaxis\": \"y4\"}, {\"type\": \"scatter\", \"x\": [\"2017-09-13\", \"2017-09-14\", \"2017-09-15\", \"2017-09-16\", \"2017-09-17\", \"2017-09-18\", \"2017-09-19\"], \"y\": [4542, 6101, 6882, 7120, 7231, 7328, 7384], \"name\": \"Apple iPhone X first look\", \"line\": {\"width\": 2, \"color\": \"rgb(228,195,199)\"}, \"legendgroup\": \"Apple iPhone X first look\", \"showlegend\": false, \"xaxis\": \"x4\", \"yaxis\": \"y4\"}, {\"type\": \"scatter\", \"x\": [\"2017-09-13\", \"2017-09-14\", \"2017-09-15\", \"2017-09-16\", \"2017-09-17\", \"2017-09-18\", \"2017-09-19\"], \"y\": [568, 1136, 1481, 1645, 1779, 1918, 2003], \"name\": \"iPhone X (parody)\", \"line\": {\"width\": 2, \"color\": \"rgb(108,72,150)\"}, \"legendgroup\": \"iPhone X (parody)\", \"showlegend\": false, \"xaxis\": \"x4\", \"yaxis\": \"y4\"}, {\"type\": \"scatter\", \"x\": [\"2017-09-14\", \"2017-09-15\", \"2017-09-16\", \"2017-09-17\", \"2017-09-18\", \"2017-09-19\", \"2017-09-20\"], \"y\": [1817, 4008, 4440, 4577, 4652, 4687, 4727], \"name\": \"Hello, world. Meet our baby girl: Alexis Olympia Ohanian, Jr.\", \"line\": {\"width\": 2, \"color\": \"rgb(68,57,223)\"}, \"legendgroup\": \"Hello, world. Meet our baby girl: Alexis Olympia Ohanian, Jr.\", \"showlegend\": false, \"xaxis\": \"x4\", \"yaxis\": \"y4\"}, {\"type\": \"scatter\", \"x\": [\"2017-09-14\", \"2017-09-15\", \"2017-09-16\", \"2017-09-17\", \"2017-09-18\", \"2017-09-19\", \"2017-09-20\"], \"y\": [244, 1325, 1597, 1630, 1640, 1642, 1645], \"name\": \"Bella Hadid Roughs Up Security Roughing Up Female Photog | TMZ\", \"line\": {\"width\": 2, \"color\": \"rgb(190,106,21)\"}, \"legendgroup\": \"Bella Hadid Roughs Up Security Roughing Up Female Photog | TMZ\", \"showlegend\": false, \"xaxis\": \"x4\", \"yaxis\": \"y4\"}, {\"type\": \"scatter\", \"x\": [\"2017-09-16\", \"2017-09-17\", \"2017-09-18\", \"2017-09-19\", \"2017-09-20\", \"2017-09-21\", \"2017-09-22\"], \"y\": [11446, 22694, 29669, 33974, 37538, 40995, 43475], \"name\": \"Shakira - Perro Fiel (Official Video) ft. Nicky Jam\", \"line\": {\"width\": 2, \"color\": \"rgb(182,166,55)\"}, \"legendgroup\": \"Shakira - Perro Fiel (Official Video) ft. Nicky Jam\", \"showlegend\": false, \"xaxis\": \"x4\", \"yaxis\": \"y4\"}, {\"type\": \"scatter\", \"x\": [\"2017-09-16\", \"2017-09-17\", \"2017-09-18\", \"2017-09-19\", \"2017-09-20\", \"2017-09-21\", \"2017-09-22\"], \"y\": [1613, 4298, 5553, 5777, 5802, 5858, 5896], \"name\": \"The Insane Full House Theory That Might Be True\", \"line\": {\"width\": 2, \"color\": \"rgb(74,167,14)\"}, \"legendgroup\": \"The Insane Full House Theory That Might Be True\", \"showlegend\": false, \"xaxis\": \"x4\", \"yaxis\": \"y4\"}, {\"type\": \"scatter\", \"x\": [\"2017-09-20\", \"2017-09-21\", \"2017-09-22\", \"2017-09-23\", \"2017-09-24\", \"2017-09-25\", \"2017-09-26\"], \"y\": [1618, 2401, 2585, 2745, 2801, 2861, 2890], \"name\": \"Everything Wrong With The LEGO Batman Movie\", \"line\": {\"width\": 2, \"color\": \"rgb(51,92,101)\"}, \"legendgroup\": \"Everything Wrong With The LEGO Batman Movie\", \"showlegend\": false, \"xaxis\": \"x4\", \"yaxis\": \"y4\"}, {\"type\": \"scatter\", \"x\": [\"2017-09-20\", \"2017-09-21\", \"2017-09-22\", \"2017-09-23\", \"2017-09-24\", \"2017-09-25\", \"2017-09-26\"], \"y\": [849, 12269, 15149, 17349, 17928, 18618, 19009], \"name\": \"TOMB RAIDER - Official Trailer #1\", \"line\": {\"width\": 2, \"color\": \"rgb(54,32,180)\"}, \"legendgroup\": \"TOMB RAIDER - Official Trailer #1\", \"showlegend\": false, \"xaxis\": \"x4\", \"yaxis\": \"y4\"}, {\"type\": \"scatter\", \"x\": [\"2017-09-20\", \"2017-09-21\", \"2017-09-22\", \"2017-09-23\", \"2017-09-24\", \"2017-09-25\", \"2017-09-26\"], \"y\": [114, 1615, 2074, 2151, 2159, 2198, 2220], \"name\": \"COOK OFF! (2017 Movie) \\u2013 Official Trailer\", \"line\": {\"width\": 2, \"color\": \"rgb(152,81,221)\"}, \"legendgroup\": \"COOK OFF! (2017 Movie) \\u2013 Official Trailer\", \"showlegend\": false, \"xaxis\": \"x4\", \"yaxis\": \"y4\"}, {\"type\": \"scatter\", \"x\": [\"2017-09-21\", \"2017-09-22\", \"2017-09-23\", \"2017-09-24\", \"2017-09-25\", \"2017-09-26\", \"2017-09-27\"], \"y\": [287, 937, 1636, 1798, 1929, 2050, 2123], \"name\": \"Foo Fighters Carpool Karaoke\", \"line\": {\"width\": 2, \"color\": \"rgb(207,178,14)\"}, \"legendgroup\": \"Foo Fighters Carpool Karaoke\", \"showlegend\": false, \"xaxis\": \"x4\", \"yaxis\": \"y4\"}, {\"type\": \"scatter\", \"x\": [\"2017-09-21\", \"2017-09-21\", \"2017-09-22\", \"2017-09-23\", \"2017-09-24\", \"2017-09-25\", \"2017-09-26\"], \"y\": [86, 86, 89, 92, 94, 97, 101], \"name\": \"Bear in Russian traffic\", \"line\": {\"width\": 2, \"color\": \"rgb(37,88,221)\"}, \"legendgroup\": \"Bear in Russian traffic\", \"showlegend\": false, \"xaxis\": \"x4\", \"yaxis\": \"y4\"}, {\"type\": \"scatter\", \"x\": [\"2017-09-29\", \"2017-09-30\", \"2017-10-01\", \"2017-10-02\", \"2017-10-03\", \"2017-10-04\"], \"y\": [4626, 14152, 18213, 19957, 21112, 22007], \"name\": \"J Balvin, Willy William - Mi Gente featuring Beyonc\\u00e9\", \"line\": {\"width\": 2, \"color\": \"rgb(207,6,197)\"}, \"legendgroup\": \"J Balvin, Willy William - Mi Gente featuring Beyonc\\u00e9\", \"showlegend\": false, \"xaxis\": \"x4\", \"yaxis\": \"y4\"}, {\"type\": \"scatter\", \"x\": [\"2017-10-04\", \"2017-10-05\", \"2017-10-06\", \"2017-10-07\", \"2017-10-08\", \"2017-10-09\", \"2017-10-10\"], \"y\": [4, 1618, 2326, 2397, 2402, 2406, 2406], \"name\": \"Donald Trump\\u2019s Cringe-Worthy Attempt To Date Brooke Shields | WWHL\", \"line\": {\"width\": 2, \"color\": \"rgb(233,195,170)\"}, \"legendgroup\": \"Donald Trump\\u2019s Cringe-Worthy Attempt To Date Brooke Shields | WWHL\", \"showlegend\": false, \"xaxis\": \"x4\", \"yaxis\": \"y4\"}, {\"type\": \"scatter\", \"x\": [\"2017-10-05\"], \"y\": [22775], \"name\": \"J Balvin, Willy William - Mi Gente featuring Beyonc\\u00e9 ft. Beyonc\\u00e9\", \"line\": {\"width\": 2, \"color\": \"rgb(227,123,74)\"}, \"legendgroup\": \"J Balvin, Willy William - Mi Gente featuring Beyonc\\u00e9 ft. Beyonc\\u00e9\", \"showlegend\": false, \"xaxis\": \"x4\", \"yaxis\": \"y4\"}, {\"type\": \"scatter\", \"x\": [\"2017-10-06\", \"2017-10-07\", \"2017-10-08\", \"2017-10-09\", \"2017-10-10\", \"2017-10-11\", \"2017-10-12\"], \"y\": [454, 1007, 1249, 1341, 1366, 1390, 1411], \"name\": \"Every Cat At 3AM\", \"line\": {\"width\": 2, \"color\": \"rgb(195,64,216)\"}, \"legendgroup\": \"Every Cat At 3AM\", \"showlegend\": false, \"xaxis\": \"x4\", \"yaxis\": \"y4\"}, {\"type\": \"scatter\", \"x\": [\"2017-10-06\", \"2017-10-07\", \"2017-10-08\", \"2017-10-09\", \"2017-10-10\", \"2017-10-11\", \"2017-10-12\"], \"y\": [1133, 2078, 2376, 2484, 2540, 2586, 2638], \"name\": \"Did You Call My Girl!? | Anwar Jibawi\", \"line\": {\"width\": 2, \"color\": \"rgb(195,14,45)\"}, \"legendgroup\": \"Did You Call My Girl!? | Anwar Jibawi\", \"showlegend\": false, \"xaxis\": \"x4\", \"yaxis\": \"y4\"}, {\"type\": \"scatter\", \"x\": [\"2017-10-06\", \"2017-10-07\", \"2017-10-08\", \"2017-10-09\", \"2017-10-09\", \"2017-10-10\", \"2017-10-11\"], \"y\": [476, 809, 1011, 1155, 1155, 1286, 1393], \"name\": \"Charlie Puth \\u2013 How Long [Official Audio]\", \"line\": {\"width\": 2, \"color\": \"rgb(240,163,182)\"}, \"legendgroup\": \"Charlie Puth \\u2013 How Long [Official Audio]\", \"showlegend\": false, \"xaxis\": \"x4\", \"yaxis\": \"y4\"}, {\"type\": \"scatter\", \"x\": [\"2017-10-12\", \"2017-10-13\", \"2017-10-14\", \"2017-10-15\", \"2017-10-16\", \"2017-10-17\", \"2017-10-18\"], \"y\": [327, 804, 946, 1015, 1062, 1086, 1106], \"name\": \"Seth MacFarlane Calls Out Harvey Weinstein Back In 2013\", \"line\": {\"width\": 2, \"color\": \"rgb(114,82,38)\"}, \"legendgroup\": \"Seth MacFarlane Calls Out Harvey Weinstein Back In 2013\", \"showlegend\": false, \"xaxis\": \"x4\", \"yaxis\": \"y4\"}, {\"type\": \"scatter\", \"x\": [\"2017-10-12\", \"2017-10-13\", \"2017-10-14\", \"2017-10-15\", \"2017-10-16\", \"2017-10-17\", \"2017-10-18\"], \"y\": [1159, 2024, 2429, 2679, 2855, 2922, 2996], \"name\": \"Arnold Set off to the Center of the Earth\", \"line\": {\"width\": 2, \"color\": \"rgb(46,108,68)\"}, \"legendgroup\": \"Arnold Set off to the Center of the Earth\", \"showlegend\": false, \"xaxis\": \"x4\", \"yaxis\": \"y4\"}, {\"type\": \"scatter\", \"x\": [\"2017-10-13\", \"2017-10-14\", \"2017-10-15\", \"2017-10-16\", \"2017-10-17\", \"2017-10-18\", \"2017-10-19\"], \"y\": [483, 1627, 1957, 2034, 2049, 2069, 2077], \"name\": \"What Americans Heard in Cuba Attacks: The Sound\", \"line\": {\"width\": 2, \"color\": \"rgb(97,173,176)\"}, \"legendgroup\": \"What Americans Heard in Cuba Attacks: The Sound\", \"showlegend\": false, \"xaxis\": \"x4\", \"yaxis\": \"y4\"}, {\"type\": \"scatter\", \"x\": [\"2017-10-13\", \"2017-10-14\", \"2017-10-15\", \"2017-10-16\", \"2017-10-17\", \"2017-10-18\", \"2017-10-19\"], \"y\": [643, 2323, 3414, 4374, 4660, 4806, 4956], \"name\": \"Why Photos of the Eiffel Tower at Night are Illegal\", \"line\": {\"width\": 2, \"color\": \"rgb(207,244,75)\"}, \"legendgroup\": \"Why Photos of the Eiffel Tower at Night are Illegal\", \"showlegend\": false, \"xaxis\": \"x4\", \"yaxis\": \"y4\"}, {\"type\": \"scatter\", \"x\": [\"2017-10-13\", \"2017-10-14\", \"2017-10-15\", \"2017-10-16\", \"2017-10-17\", \"2017-10-18\", \"2017-10-19\"], \"y\": [145, 301, 361, 380, 398, 408, 412], \"name\": \"Why Are You Anxious?\", \"line\": {\"width\": 2, \"color\": \"rgb(105,158,188)\"}, \"legendgroup\": \"Why Are You Anxious?\", \"showlegend\": false, \"xaxis\": \"x4\", \"yaxis\": \"y4\"}, {\"type\": \"scatter\", \"x\": [\"2017-10-13\", \"2017-10-14\", \"2017-10-15\", \"2017-10-16\", \"2017-10-17\", \"2017-10-18\", \"2017-10-19\"], \"y\": [75, 227, 295, 326, 338, 353, 369], \"name\": \"Kane Brown - What's Mine Is Yours\", \"line\": {\"width\": 2, \"color\": \"rgb(105,176,177)\"}, \"legendgroup\": \"Kane Brown - What's Mine Is Yours\", \"showlegend\": false, \"xaxis\": \"x4\", \"yaxis\": \"y4\"}, {\"type\": \"scatter\", \"x\": [\"2017-10-13\", \"2017-10-14\", \"2017-10-15\", \"2017-10-16\", \"2017-10-17\", \"2017-10-18\", \"2017-10-19\"], \"y\": [84, 195, 257, 334, 392, 429, 462], \"name\": \"Guns N' Roses Feat. PINK! - Patience (Msg, Nyc) 10.11.17 (P!NK)\", \"line\": {\"width\": 2, \"color\": \"rgb(30,197,18)\"}, \"legendgroup\": \"Guns N' Roses Feat. PINK! - Patience (Msg, Nyc) 10.11.17 (P!NK)\", \"showlegend\": false, \"xaxis\": \"x4\", \"yaxis\": \"y4\"}, {\"type\": \"scatter\", \"x\": [\"2017-10-13\", \"2017-10-14\", \"2017-10-15\", \"2017-10-16\", \"2017-10-17\", \"2017-10-18\", \"2017-10-19\"], \"y\": [207, 370, 467, 519, 551, 574, 599], \"name\": \"Gucci Mane - Enormous feat. Ty Dolla $ign [Official Audio]\", \"line\": {\"width\": 2, \"color\": \"rgb(187,157,163)\"}, \"legendgroup\": \"Gucci Mane - Enormous feat. Ty Dolla $ign [Official Audio]\", \"showlegend\": false, \"xaxis\": \"x4\", \"yaxis\": \"y4\"}, {\"type\": \"scatter\", \"x\": [\"2017-10-13\", \"2017-10-14\", \"2017-10-15\", \"2017-10-16\", \"2017-10-17\", \"2017-10-18\", \"2017-10-19\"], \"y\": [338, 695, 1070, 1370, 1650, 1882, 2117], \"name\": \"John Legend - Penthouse Floor ft. Chance the Rapper\", \"line\": {\"width\": 2, \"color\": \"rgb(9,163,242)\"}, \"legendgroup\": \"John Legend - Penthouse Floor ft. Chance the Rapper\", \"showlegend\": false, \"xaxis\": \"x4\", \"yaxis\": \"y4\"}, {\"type\": \"scatter\", \"x\": [\"2017-10-14\", \"2017-10-15\", \"2017-10-16\", \"2017-10-17\", \"2017-10-18\", \"2017-10-19\", \"2017-10-20\"], \"y\": [3582, 4843, 5500, 5857, 6023, 6095, 6144], \"name\": \"The New Mutants | Official Trailer [HD] | 20th Century FOX\", \"line\": {\"width\": 2, \"color\": \"rgb(88,123,231)\"}, \"legendgroup\": \"The New Mutants | Official Trailer [HD] | 20th Century FOX\", \"showlegend\": false, \"xaxis\": \"x4\", \"yaxis\": \"y4\"}, {\"type\": \"scatter\", \"x\": [\"2017-10-14\", \"2017-10-15\", \"2017-10-16\", \"2017-10-17\", \"2017-10-18\", \"2017-10-19\", \"2017-10-20\"], \"y\": [4054, 6449, 7472, 7792, 7932, 8019, 8097], \"name\": \"Harvey Weinstein, Donald Trump and Systemic Sexism: A Closer Look\", \"line\": {\"width\": 2, \"color\": \"rgb(27,101,236)\"}, \"legendgroup\": \"Harvey Weinstein, Donald Trump and Systemic Sexism: A Closer Look\", \"showlegend\": false, \"xaxis\": \"x4\", \"yaxis\": \"y4\"}, {\"type\": \"scatter\", \"x\": [\"2017-10-14\", \"2017-10-15\", \"2017-10-16\", \"2017-10-17\", \"2017-10-18\", \"2017-10-19\", \"2017-10-20\"], \"y\": [334, 709, 807, 848, 862, 870, 881], \"name\": \"NO POMEGRANATES\", \"line\": {\"width\": 2, \"color\": \"rgb(229,227,191)\"}, \"legendgroup\": \"NO POMEGRANATES\", \"showlegend\": false, \"xaxis\": \"x4\", \"yaxis\": \"y4\"}, {\"type\": \"scatter\", \"x\": [\"2017-10-14\", \"2017-10-15\", \"2017-10-16\", \"2017-10-17\", \"2017-10-18\", \"2017-10-19\", \"2017-10-20\"], \"y\": [177, 271, 337, 396, 483, 582, 678], \"name\": \"Bebe Rexha - Meant to Be (feat. Florida Georgia Line) [Lyric Video]\", \"line\": {\"width\": 2, \"color\": \"rgb(222,35,65)\"}, \"legendgroup\": \"Bebe Rexha - Meant to Be (feat. Florida Georgia Line) [Lyric Video]\", \"showlegend\": false, \"xaxis\": \"x4\", \"yaxis\": \"y4\"}, {\"type\": \"scatter\", \"x\": [\"2017-10-14\", \"2017-10-15\", \"2017-10-16\"], \"y\": [36948, 68902, 82474], \"name\": \"Alesso & Anitta - Is That For Me (Official Video)\", \"line\": {\"width\": 2, \"color\": \"rgb(69,42,240)\"}, \"legendgroup\": \"Alesso & Anitta - Is That For Me (Official Video)\", \"showlegend\": false, \"xaxis\": \"x4\", \"yaxis\": \"y4\"}, {\"type\": \"scatter\", \"x\": [\"2017-10-17\", \"2017-10-18\", \"2017-10-19\", \"2017-10-20\"], \"y\": [90419, 96859, 102067, 108966], \"name\": \"Alesso & Anitta - Is That For Me (Official Music Video)\", \"line\": {\"width\": 2, \"color\": \"rgb(34,244,70)\"}, \"legendgroup\": \"Alesso & Anitta - Is That For Me (Official Music Video)\", \"showlegend\": false, \"xaxis\": \"x4\", \"yaxis\": \"y4\"}], {\"xaxis1\": {\"domain\": [0.0, 1.0], \"anchor\": \"y1\", \"title\": \"\"}, \"yaxis1\": {\"domain\": [0.8025, 1.0], \"anchor\": \"x1\", \"title\": \"mln. views\"}, \"xaxis2\": {\"domain\": [0.0, 1.0], \"anchor\": \"y2\", \"title\": \"\"}, \"yaxis2\": {\"domain\": [0.535, 0.7325], \"anchor\": \"x2\", \"title\": \"comments\"}, \"xaxis3\": {\"domain\": [0.0, 1.0], \"anchor\": \"y3\", \"title\": \"\"}, \"yaxis3\": {\"domain\": [0.2675, 0.465], \"anchor\": \"x3\", \"title\": \"likes\"}, \"xaxis4\": {\"domain\": [0.0, 1.0], \"anchor\": \"y4\", \"title\": \"\"}, \"yaxis4\": {\"domain\": [0.0, 0.1975], \"anchor\": \"x4\", \"title\": \"dislikes\"}, \"annotations\": [{\"y\": 1.0, \"xref\": \"paper\", \"x\": 0.5, \"yref\": \"paper\", \"text\": \"Views\", \"showarrow\": false, \"font\": {\"size\": 16}, \"xanchor\": \"center\", \"yanchor\": \"bottom\"}, {\"y\": 0.7325, \"xref\": \"paper\", \"x\": 0.5, \"yref\": \"paper\", \"text\": \"Comments\", \"showarrow\": false, \"font\": {\"size\": 16}, \"xanchor\": \"center\", \"yanchor\": \"bottom\"}, {\"y\": 0.465, \"xref\": \"paper\", \"x\": 0.5, \"yref\": \"paper\", \"text\": \"Likes\", \"showarrow\": false, \"font\": {\"size\": 16}, \"xanchor\": \"center\", \"yanchor\": \"bottom\"}, {\"y\": 0.1975, \"xref\": \"paper\", \"x\": 0.5, \"yref\": \"paper\", \"text\": \"Dislikes\", \"showarrow\": false, \"font\": {\"size\": 16}, \"xanchor\": \"center\", \"yanchor\": \"bottom\"}], \"width\": 800, \"height\": 3040, \"title\": \"Different metrics for videos trended in US for 7 days\", \"legend\": {\"x\": 0.0, \"y\": -0.338, \"tracegroupgap\": 1}}, {\"showLink\": true, \"linkText\": \"Export to plot.ly\"})});</script>"
      ],
      "text/vnd.plotly.v1+html": [
       "<div id=\"904e6061-4e80-42b3-9144-9105f25c5d96\" style=\"height: 3040px; width: 800px;\" class=\"plotly-graph-div\"></div><script type=\"text/javascript\">require([\"plotly\"], function(Plotly) { window.PLOTLYENV=window.PLOTLYENV || {};window.PLOTLYENV.BASE_URL=\"https://plot.ly\";Plotly.newPlot(\"904e6061-4e80-42b3-9144-9105f25c5d96\", [{\"type\": \"scatter\", \"x\": [\"2017-09-13\", \"2017-09-14\", \"2017-09-15\", \"2017-09-16\", \"2017-09-17\", \"2017-09-18\", \"2017-09-19\"], \"y\": [4.394029, 5.457497, 5.854127, 5.997736, 6.109026, 6.19581, 6.232518], \"name\": \"1 YEAR OF VLOGGING -- HOW LOGAN PAUL CHANGED YOUTUBE FOREVER!\", \"line\": {\"width\": 2, \"color\": \"rgb(188,148,96)\"}, \"legendgroup\": \"1 YEAR OF VLOGGING -- HOW LOGAN PAUL CHANGED YOUTUBE FOREVER!\", \"showlegend\": false, \"xaxis\": \"x1\", \"yaxis\": \"y1\"}, {\"type\": \"scatter\", \"x\": [\"2017-09-13\", \"2017-09-14\", \"2017-09-15\", \"2017-09-16\", \"2017-09-17\", \"2017-09-18\", \"2017-09-19\"], \"y\": [5.845909, 6.997601, 7.706359, 8.002631, 8.347038, 8.665083, 8.808424], \"name\": \"My Response\", \"line\": {\"width\": 2, \"color\": \"rgb(234,216,26)\"}, \"legendgroup\": \"My Response\", \"showlegend\": false, \"xaxis\": \"x1\", \"yaxis\": \"y1\"}, {\"type\": \"scatter\", \"x\": [\"2017-09-13\", \"2017-09-14\", \"2017-09-15\", \"2017-09-16\", \"2017-09-17\", \"2017-09-18\", \"2017-09-19\"], \"y\": [2.642103, 3.654879, 4.257519, 4.489199, 4.633101, 4.744488, 4.804702], \"name\": \"Apple iPhone X first look\", \"line\": {\"width\": 2, \"color\": \"rgb(228,195,199)\"}, \"legendgroup\": \"Apple iPhone X first look\", \"showlegend\": false, \"xaxis\": \"x1\", \"yaxis\": \"y1\"}, {\"type\": \"scatter\", \"x\": [\"2017-09-13\", \"2017-09-14\", \"2017-09-15\", \"2017-09-16\", \"2017-09-17\", \"2017-09-18\", \"2017-09-19\"], \"y\": [1.16813, 2.084309, 2.587501, 2.846092, 3.037052, 3.192269, 3.280098], \"name\": \"iPhone X (parody)\", \"line\": {\"width\": 2, \"color\": \"rgb(108,72,150)\"}, \"legendgroup\": \"iPhone X (parody)\", \"showlegend\": false, \"xaxis\": \"x1\", \"yaxis\": \"y1\"}, {\"type\": \"scatter\", \"x\": [\"2017-09-14\", \"2017-09-15\", \"2017-09-16\", \"2017-09-17\", \"2017-09-18\", \"2017-09-19\", \"2017-09-20\"], \"y\": [1.110865, 1.921063, 2.138396, 2.23781, 2.307502, 2.348649, 2.379689], \"name\": \"Hello, world. Meet our baby girl: Alexis Olympia Ohanian, Jr.\", \"line\": {\"width\": 2, \"color\": \"rgb(68,57,223)\"}, \"legendgroup\": \"Hello, world. Meet our baby girl: Alexis Olympia Ohanian, Jr.\", \"showlegend\": false, \"xaxis\": \"x1\", \"yaxis\": \"y1\"}, {\"type\": \"scatter\", \"x\": [\"2017-09-14\", \"2017-09-15\", \"2017-09-16\", \"2017-09-17\", \"2017-09-18\", \"2017-09-19\", \"2017-09-20\"], \"y\": [0.041452, 0.19826, 0.293148, 0.397771, 0.458189, 0.46813, 0.483496], \"name\": \"Bella Hadid Roughs Up Security Roughing Up Female Photog | TMZ\", \"line\": {\"width\": 2, \"color\": \"rgb(190,106,21)\"}, \"legendgroup\": \"Bella Hadid Roughs Up Security Roughing Up Female Photog | TMZ\", \"showlegend\": false, \"xaxis\": \"x1\", \"yaxis\": \"y1\"}, {\"type\": \"scatter\", \"x\": [\"2017-09-16\", \"2017-09-17\", \"2017-09-18\", \"2017-09-19\", \"2017-09-20\", \"2017-09-21\", \"2017-09-22\"], \"y\": [4.08556, 10.944706, 15.90652, 19.496639, 22.787997, 27.750173, 32.136948], \"name\": \"Shakira - Perro Fiel (Official Video) ft. Nicky Jam\", \"line\": {\"width\": 2, \"color\": \"rgb(182,166,55)\"}, \"legendgroup\": \"Shakira - Perro Fiel (Official Video) ft. Nicky Jam\", \"showlegend\": false, \"xaxis\": \"x1\", \"yaxis\": \"y1\"}, {\"type\": \"scatter\", \"x\": [\"2017-09-16\", \"2017-09-17\", \"2017-09-18\", \"2017-09-19\", \"2017-09-20\", \"2017-09-21\", \"2017-09-22\"], \"y\": [0.290939, 0.888666, 1.213185, 1.273718, 1.285313, 1.301518, 1.313911], \"name\": \"The Insane Full House Theory That Might Be True\", \"line\": {\"width\": 2, \"color\": \"rgb(74,167,14)\"}, \"legendgroup\": \"The Insane Full House Theory That Might Be True\", \"showlegend\": false, \"xaxis\": \"x1\", \"yaxis\": \"y1\"}, {\"type\": \"scatter\", \"x\": [\"2017-09-20\", \"2017-09-21\", \"2017-09-22\", \"2017-09-23\", \"2017-09-24\", \"2017-09-25\", \"2017-09-26\"], \"y\": [1.311031, 2.030432, 2.225184, 2.391377, 2.490053, 2.582647, 2.62965], \"name\": \"Everything Wrong With The LEGO Batman Movie\", \"line\": {\"width\": 2, \"color\": \"rgb(51,92,101)\"}, \"legendgroup\": \"Everything Wrong With The LEGO Batman Movie\", \"showlegend\": false, \"xaxis\": \"x1\", \"yaxis\": \"y1\"}, {\"type\": \"scatter\", \"x\": [\"2017-09-20\", \"2017-09-21\", \"2017-09-22\", \"2017-09-23\", \"2017-09-24\", \"2017-09-25\", \"2017-09-26\"], \"y\": [0.07148, 3.276021, 6.941887, 8.700817, 9.064131, 9.449472, 9.722207], \"name\": \"TOMB RAIDER - Official Trailer #1\", \"line\": {\"width\": 2, \"color\": \"rgb(54,32,180)\"}, \"legendgroup\": \"TOMB RAIDER - Official Trailer #1\", \"showlegend\": false, \"xaxis\": \"x1\", \"yaxis\": \"y1\"}, {\"type\": \"scatter\", \"x\": [\"2017-09-20\", \"2017-09-21\", \"2017-09-22\", \"2017-09-23\", \"2017-09-24\", \"2017-09-25\", \"2017-09-26\"], \"y\": [0.034895, 0.230372, 0.309307, 0.34775, 0.365898, 0.388066, 0.40932], \"name\": \"COOK OFF! (2017 Movie) \\u2013 Official Trailer\", \"line\": {\"width\": 2, \"color\": \"rgb(152,81,221)\"}, \"legendgroup\": \"COOK OFF! (2017 Movie) \\u2013 Official Trailer\", \"showlegend\": false, \"xaxis\": \"x1\", \"yaxis\": \"y1\"}, {\"type\": \"scatter\", \"x\": [\"2017-09-21\", \"2017-09-22\", \"2017-09-23\", \"2017-09-24\", \"2017-09-25\", \"2017-09-26\", \"2017-09-27\"], \"y\": [0.393877, 2.397363, 4.022951, 4.48487, 4.862619, 5.107701, 5.302643], \"name\": \"Foo Fighters Carpool Karaoke\", \"line\": {\"width\": 2, \"color\": \"rgb(207,178,14)\"}, \"legendgroup\": \"Foo Fighters Carpool Karaoke\", \"showlegend\": false, \"xaxis\": \"x1\", \"yaxis\": \"y1\"}, {\"type\": \"scatter\", \"x\": [\"2017-09-21\", \"2017-09-21\", \"2017-09-22\", \"2017-09-23\", \"2017-09-24\", \"2017-09-25\", \"2017-09-26\"], \"y\": [0.093109, 0.093153, 0.11572, 0.135303, 0.141666, 0.161606, 0.201549], \"name\": \"Bear in Russian traffic\", \"line\": {\"width\": 2, \"color\": \"rgb(37,88,221)\"}, \"legendgroup\": \"Bear in Russian traffic\", \"showlegend\": false, \"xaxis\": \"x1\", \"yaxis\": \"y1\"}, {\"type\": \"scatter\", \"x\": [\"2017-09-29\", \"2017-09-30\", \"2017-10-01\", \"2017-10-02\", \"2017-10-03\", \"2017-10-04\"], \"y\": [1.250899, 7.440958, 9.629935, 10.736487, 11.576213, 12.254591], \"name\": \"J Balvin, Willy William - Mi Gente featuring Beyonc\\u00e9\", \"line\": {\"width\": 2, \"color\": \"rgb(207,6,197)\"}, \"legendgroup\": \"J Balvin, Willy William - Mi Gente featuring Beyonc\\u00e9\", \"showlegend\": false, \"xaxis\": \"x1\", \"yaxis\": \"y1\"}, {\"type\": \"scatter\", \"x\": [\"2017-10-04\", \"2017-10-05\", \"2017-10-06\", \"2017-10-07\", \"2017-10-08\", \"2017-10-09\", \"2017-10-10\"], \"y\": [0.000933, 0.314712, 0.440499, 0.473137, 0.486614, 0.497924, 0.504791], \"name\": \"Donald Trump\\u2019s Cringe-Worthy Attempt To Date Brooke Shields | WWHL\", \"line\": {\"width\": 2, \"color\": \"rgb(233,195,170)\"}, \"legendgroup\": \"Donald Trump\\u2019s Cringe-Worthy Attempt To Date Brooke Shields | WWHL\", \"showlegend\": false, \"xaxis\": \"x1\", \"yaxis\": \"y1\"}, {\"type\": \"scatter\", \"x\": [\"2017-10-05\"], \"y\": [13.077467], \"name\": \"J Balvin, Willy William - Mi Gente featuring Beyonc\\u00e9 ft. Beyonc\\u00e9\", \"line\": {\"width\": 2, \"color\": \"rgb(227,123,74)\"}, \"legendgroup\": \"J Balvin, Willy William - Mi Gente featuring Beyonc\\u00e9 ft. Beyonc\\u00e9\", \"showlegend\": false, \"xaxis\": \"x1\", \"yaxis\": \"y1\"}, {\"type\": \"scatter\", \"x\": [\"2017-10-06\", \"2017-10-07\", \"2017-10-08\", \"2017-10-09\", \"2017-10-10\", \"2017-10-11\", \"2017-10-12\"], \"y\": [0.349302, 0.751066, 0.961835, 1.055334, 1.101771, 1.133263, 1.159836], \"name\": \"Every Cat At 3AM\", \"line\": {\"width\": 2, \"color\": \"rgb(195,64,216)\"}, \"legendgroup\": \"Every Cat At 3AM\", \"showlegend\": false, \"xaxis\": \"x1\", \"yaxis\": \"y1\"}, {\"type\": \"scatter\", \"x\": [\"2017-10-06\", \"2017-10-07\", \"2017-10-08\", \"2017-10-09\", \"2017-10-10\", \"2017-10-11\", \"2017-10-12\"], \"y\": [1.325033, 2.298865, 2.651565, 2.846933, 2.990265, 3.095246, 3.18184], \"name\": \"Did You Call My Girl!? | Anwar Jibawi\", \"line\": {\"width\": 2, \"color\": \"rgb(195,14,45)\"}, \"legendgroup\": \"Did You Call My Girl!? | Anwar Jibawi\", \"showlegend\": false, \"xaxis\": \"x1\", \"yaxis\": \"y1\"}, {\"type\": \"scatter\", \"x\": [\"2017-10-06\", \"2017-10-07\", \"2017-10-08\", \"2017-10-09\", \"2017-10-09\", \"2017-10-10\", \"2017-10-11\"], \"y\": [0.609764, 1.578921, 2.17731, 2.649954, 2.650679, 3.03659, 3.42798], \"name\": \"Charlie Puth \\u2013 How Long [Official Audio]\", \"line\": {\"width\": 2, \"color\": \"rgb(240,163,182)\"}, \"legendgroup\": \"Charlie Puth \\u2013 How Long [Official Audio]\", \"showlegend\": false, \"xaxis\": \"x1\", \"yaxis\": \"y1\"}, {\"type\": \"scatter\", \"x\": [\"2017-10-12\", \"2017-10-13\", \"2017-10-14\", \"2017-10-15\", \"2017-10-16\", \"2017-10-17\", \"2017-10-18\"], \"y\": [1.425329, 2.607785, 3.017631, 3.235959, 3.397737, 3.493853, 3.563283], \"name\": \"Seth MacFarlane Calls Out Harvey Weinstein Back In 2013\", \"line\": {\"width\": 2, \"color\": \"rgb(114,82,38)\"}, \"legendgroup\": \"Seth MacFarlane Calls Out Harvey Weinstein Back In 2013\", \"showlegend\": false, \"xaxis\": \"x1\", \"yaxis\": \"y1\"}, {\"type\": \"scatter\", \"x\": [\"2017-10-12\", \"2017-10-13\", \"2017-10-14\", \"2017-10-15\", \"2017-10-16\", \"2017-10-17\", \"2017-10-18\"], \"y\": [1.087156, 1.862708, 2.093286, 2.179619, 2.227164, 2.258211, 2.28697], \"name\": \"Arnold Set off to the Center of the Earth\", \"line\": {\"width\": 2, \"color\": \"rgb(46,108,68)\"}, \"legendgroup\": \"Arnold Set off to the Center of the Earth\", \"showlegend\": false, \"xaxis\": \"x1\", \"yaxis\": \"y1\"}, {\"type\": \"scatter\", \"x\": [\"2017-10-13\", \"2017-10-14\", \"2017-10-15\", \"2017-10-16\", \"2017-10-17\", \"2017-10-18\", \"2017-10-19\"], \"y\": [0.185798, 0.57405, 0.696132, 0.732441, 0.743387, 0.749545, 0.753492], \"name\": \"What Americans Heard in Cuba Attacks: The Sound\", \"line\": {\"width\": 2, \"color\": \"rgb(97,173,176)\"}, \"legendgroup\": \"What Americans Heard in Cuba Attacks: The Sound\", \"showlegend\": false, \"xaxis\": \"x1\", \"yaxis\": \"y1\"}, {\"type\": \"scatter\", \"x\": [\"2017-10-13\", \"2017-10-14\", \"2017-10-15\", \"2017-10-16\", \"2017-10-17\", \"2017-10-18\", \"2017-10-19\"], \"y\": [0.287053, 1.054604, 1.717243, 2.295902, 2.507525, 2.629561, 2.727912], \"name\": \"Why Photos of the Eiffel Tower at Night are Illegal\", \"line\": {\"width\": 2, \"color\": \"rgb(207,244,75)\"}, \"legendgroup\": \"Why Photos of the Eiffel Tower at Night are Illegal\", \"showlegend\": false, \"xaxis\": \"x1\", \"yaxis\": \"y1\"}, {\"type\": \"scatter\", \"x\": [\"2017-10-13\", \"2017-10-14\", \"2017-10-15\", \"2017-10-16\", \"2017-10-17\", \"2017-10-18\", \"2017-10-19\"], \"y\": [0.261553, 0.532289, 0.63812, 0.686592, 0.72102, 0.740092, 0.74938], \"name\": \"Why Are You Anxious?\", \"line\": {\"width\": 2, \"color\": \"rgb(105,158,188)\"}, \"legendgroup\": \"Why Are You Anxious?\", \"showlegend\": false, \"xaxis\": \"x1\", \"yaxis\": \"y1\"}, {\"type\": \"scatter\", \"x\": [\"2017-10-13\", \"2017-10-14\", \"2017-10-15\", \"2017-10-16\", \"2017-10-17\", \"2017-10-18\", \"2017-10-19\"], \"y\": [0.095856, 0.253612, 0.349735, 0.416703, 0.476541, 0.533381, 0.5811], \"name\": \"Kane Brown - What's Mine Is Yours\", \"line\": {\"width\": 2, \"color\": \"rgb(105,176,177)\"}, \"legendgroup\": \"Kane Brown - What's Mine Is Yours\", \"showlegend\": false, \"xaxis\": \"x1\", \"yaxis\": \"y1\"}, {\"type\": \"scatter\", \"x\": [\"2017-10-13\", \"2017-10-14\", \"2017-10-15\", \"2017-10-16\", \"2017-10-17\", \"2017-10-18\", \"2017-10-19\"], \"y\": [0.161398, 0.359438, 0.484142, 0.596036, 0.688597, 0.750714, 0.795286], \"name\": \"Guns N' Roses Feat. PINK! - Patience (Msg, Nyc) 10.11.17 (P!NK)\", \"line\": {\"width\": 2, \"color\": \"rgb(30,197,18)\"}, \"legendgroup\": \"Guns N' Roses Feat. PINK! - Patience (Msg, Nyc) 10.11.17 (P!NK)\", \"showlegend\": false, \"xaxis\": \"x1\", \"yaxis\": \"y1\"}, {\"type\": \"scatter\", \"x\": [\"2017-10-13\", \"2017-10-14\", \"2017-10-15\", \"2017-10-16\", \"2017-10-17\", \"2017-10-18\", \"2017-10-19\"], \"y\": [0.166711, 0.358313, 0.477774, 0.550073, 0.61394, 0.67694, 0.736098], \"name\": \"Gucci Mane - Enormous feat. Ty Dolla $ign [Official Audio]\", \"line\": {\"width\": 2, \"color\": \"rgb(187,157,163)\"}, \"legendgroup\": \"Gucci Mane - Enormous feat. Ty Dolla $ign [Official Audio]\", \"showlegend\": false, \"xaxis\": \"x1\", \"yaxis\": \"y1\"}, {\"type\": \"scatter\", \"x\": [\"2017-10-13\", \"2017-10-14\", \"2017-10-15\", \"2017-10-16\", \"2017-10-17\", \"2017-10-18\", \"2017-10-19\"], \"y\": [0.186321, 0.508819, 0.863315, 1.238676, 1.673354, 2.139992, 2.558262], \"name\": \"John Legend - Penthouse Floor ft. Chance the Rapper\", \"line\": {\"width\": 2, \"color\": \"rgb(9,163,242)\"}, \"legendgroup\": \"John Legend - Penthouse Floor ft. Chance the Rapper\", \"showlegend\": false, \"xaxis\": \"x1\", \"yaxis\": \"y1\"}, {\"type\": \"scatter\", \"x\": [\"2017-10-14\", \"2017-10-15\", \"2017-10-16\", \"2017-10-17\", \"2017-10-18\", \"2017-10-19\", \"2017-10-20\"], \"y\": [3.250607, 5.632058, 6.139085, 6.428082, 6.572719, 6.642575, 6.694485], \"name\": \"The New Mutants | Official Trailer [HD] | 20th Century FOX\", \"line\": {\"width\": 2, \"color\": \"rgb(88,123,231)\"}, \"legendgroup\": \"The New Mutants | Official Trailer [HD] | 20th Century FOX\", \"showlegend\": false, \"xaxis\": \"x1\", \"yaxis\": \"y1\"}, {\"type\": \"scatter\", \"x\": [\"2017-10-14\", \"2017-10-15\", \"2017-10-16\", \"2017-10-17\", \"2017-10-18\", \"2017-10-19\", \"2017-10-20\"], \"y\": [1.627553, 2.101641, 2.344734, 2.530254, 2.685481, 2.804407, 2.904362], \"name\": \"Harvey Weinstein, Donald Trump and Systemic Sexism: A Closer Look\", \"line\": {\"width\": 2, \"color\": \"rgb(27,101,236)\"}, \"legendgroup\": \"Harvey Weinstein, Donald Trump and Systemic Sexism: A Closer Look\", \"showlegend\": false, \"xaxis\": \"x1\", \"yaxis\": \"y1\"}, {\"type\": \"scatter\", \"x\": [\"2017-10-14\", \"2017-10-15\", \"2017-10-16\", \"2017-10-17\", \"2017-10-18\", \"2017-10-19\", \"2017-10-20\"], \"y\": [0.62029, 1.313187, 1.544933, 1.660107, 1.702877, 1.738476, 1.775069], \"name\": \"NO POMEGRANATES\", \"line\": {\"width\": 2, \"color\": \"rgb(229,227,191)\"}, \"legendgroup\": \"NO POMEGRANATES\", \"showlegend\": false, \"xaxis\": \"x1\", \"yaxis\": \"y1\"}, {\"type\": \"scatter\", \"x\": [\"2017-10-14\", \"2017-10-15\", \"2017-10-16\", \"2017-10-17\", \"2017-10-18\", \"2017-10-19\", \"2017-10-20\"], \"y\": [0.123885, 0.288591, 0.436367, 0.5872, 0.766428, 1.023403, 1.338267], \"name\": \"Bebe Rexha - Meant to Be (feat. Florida Georgia Line) [Lyric Video]\", \"line\": {\"width\": 2, \"color\": \"rgb(222,35,65)\"}, \"legendgroup\": \"Bebe Rexha - Meant to Be (feat. Florida Georgia Line) [Lyric Video]\", \"showlegend\": false, \"xaxis\": \"x1\", \"yaxis\": \"y1\"}, {\"type\": \"scatter\", \"x\": [\"2017-10-14\", \"2017-10-15\", \"2017-10-16\"], \"y\": [3.982024, 7.784929, 9.62953], \"name\": \"Alesso & Anitta - Is That For Me (Official Video)\", \"line\": {\"width\": 2, \"color\": \"rgb(69,42,240)\"}, \"legendgroup\": \"Alesso & Anitta - Is That For Me (Official Video)\", \"showlegend\": false, \"xaxis\": \"x1\", \"yaxis\": \"y1\"}, {\"type\": \"scatter\", \"x\": [\"2017-10-17\", \"2017-10-18\", \"2017-10-19\", \"2017-10-20\"], \"y\": [10.959059, 12.23315, 13.418138, 14.849524], \"name\": \"Alesso & Anitta - Is That For Me (Official Music Video)\", \"line\": {\"width\": 2, \"color\": \"rgb(34,244,70)\"}, \"legendgroup\": \"Alesso & Anitta - Is That For Me (Official Music Video)\", \"showlegend\": false, \"xaxis\": \"x1\", \"yaxis\": \"y1\"}, {\"type\": \"scatter\", \"x\": [\"2017-09-13\", \"2017-09-14\", \"2017-09-15\", \"2017-09-16\", \"2017-09-17\", \"2017-09-18\", \"2017-09-19\"], \"y\": [46245, 52483, 54671, 39626, 38850, 39002, 39144], \"name\": \"1 YEAR OF VLOGGING -- HOW LOGAN PAUL CHANGED YOUTUBE FOREVER!\", \"line\": {\"width\": 2, \"color\": \"rgb(188,148,96)\"}, \"legendgroup\": \"1 YEAR OF VLOGGING -- HOW LOGAN PAUL CHANGED YOUTUBE FOREVER!\", \"showlegend\": true, \"xaxis\": \"x2\", \"yaxis\": \"y2\"}, {\"type\": \"scatter\", \"x\": [\"2017-09-13\", \"2017-09-14\", \"2017-09-15\", \"2017-09-16\", \"2017-09-17\", \"2017-09-18\", \"2017-09-19\"], \"y\": [170708, 190979, 199406, 128771, 130106, 134318, 135649], \"name\": \"My Response\", \"line\": {\"width\": 2, \"color\": \"rgb(234,216,26)\"}, \"legendgroup\": \"My Response\", \"showlegend\": true, \"xaxis\": \"x2\", \"yaxis\": \"y2\"}, {\"type\": \"scatter\", \"x\": [\"2017-09-13\", \"2017-09-14\", \"2017-09-15\", \"2017-09-16\", \"2017-09-17\", \"2017-09-18\", \"2017-09-19\"], \"y\": [12829, 16713, 18323, 12812, 12823, 13000, 13127], \"name\": \"Apple iPhone X first look\", \"line\": {\"width\": 2, \"color\": \"rgb(228,195,199)\"}, \"legendgroup\": \"Apple iPhone X first look\", \"showlegend\": true, \"xaxis\": \"x2\", \"yaxis\": \"y2\"}, {\"type\": \"scatter\", \"x\": [\"2017-09-13\", \"2017-09-14\", \"2017-09-15\", \"2017-09-16\", \"2017-09-17\", \"2017-09-18\", \"2017-09-19\"], \"y\": [6666, 8733, 9933, 8941, 9107, 9412, 9557], \"name\": \"iPhone X (parody)\", \"line\": {\"width\": 2, \"color\": \"rgb(108,72,150)\"}, \"legendgroup\": \"iPhone X (parody)\", \"showlegend\": true, \"xaxis\": \"x2\", \"yaxis\": \"y2\"}, {\"type\": \"scatter\", \"x\": [\"2017-09-14\", \"2017-09-15\", \"2017-09-16\", \"2017-09-17\", \"2017-09-18\", \"2017-09-19\", \"2017-09-20\"], \"y\": [3631, 7615, 6835, 6973, 7508, 7608, 7665], \"name\": \"Hello, world. Meet our baby girl: Alexis Olympia Ohanian, Jr.\", \"line\": {\"width\": 2, \"color\": \"rgb(68,57,223)\"}, \"legendgroup\": \"Hello, world. Meet our baby girl: Alexis Olympia Ohanian, Jr.\", \"showlegend\": true, \"xaxis\": \"x2\", \"yaxis\": \"y2\"}, {\"type\": \"scatter\", \"x\": [\"2017-09-14\", \"2017-09-15\", \"2017-09-16\", \"2017-09-17\", \"2017-09-18\", \"2017-09-19\", \"2017-09-20\"], \"y\": [318, 1106, 1094, 1099, 1129, 1140, 1115], \"name\": \"Bella Hadid Roughs Up Security Roughing Up Female Photog | TMZ\", \"line\": {\"width\": 2, \"color\": \"rgb(190,106,21)\"}, \"legendgroup\": \"Bella Hadid Roughs Up Security Roughing Up Female Photog | TMZ\", \"showlegend\": true, \"xaxis\": \"x2\", \"yaxis\": \"y2\"}, {\"type\": \"scatter\", \"x\": [\"2017-09-16\", \"2017-09-17\", \"2017-09-18\", \"2017-09-19\", \"2017-09-20\", \"2017-09-21\", \"2017-09-22\"], \"y\": [21514, 31875, 31425, 34684, 36467, 38712, 40071], \"name\": \"Shakira - Perro Fiel (Official Video) ft. Nicky Jam\", \"line\": {\"width\": 2, \"color\": \"rgb(182,166,55)\"}, \"legendgroup\": \"Shakira - Perro Fiel (Official Video) ft. Nicky Jam\", \"showlegend\": true, \"xaxis\": \"x2\", \"yaxis\": \"y2\"}, {\"type\": \"scatter\", \"x\": [\"2017-09-16\", \"2017-09-17\", \"2017-09-18\", \"2017-09-19\", \"2017-09-20\", \"2017-09-21\", \"2017-09-22\"], \"y\": [1053, 2607, 2636, 2742, 2748, 2880, 2906], \"name\": \"The Insane Full House Theory That Might Be True\", \"line\": {\"width\": 2, \"color\": \"rgb(74,167,14)\"}, \"legendgroup\": \"The Insane Full House Theory That Might Be True\", \"showlegend\": true, \"xaxis\": \"x2\", \"yaxis\": \"y2\"}, {\"type\": \"scatter\", \"x\": [\"2017-09-20\", \"2017-09-21\", \"2017-09-22\", \"2017-09-23\", \"2017-09-24\", \"2017-09-25\", \"2017-09-26\"], \"y\": [8155, 10117, 10641, 8693, 8937, 9222, 9409], \"name\": \"Everything Wrong With The LEGO Batman Movie\", \"line\": {\"width\": 2, \"color\": \"rgb(51,92,101)\"}, \"legendgroup\": \"Everything Wrong With The LEGO Batman Movie\", \"showlegend\": true, \"xaxis\": \"x2\", \"yaxis\": \"y2\"}, {\"type\": \"scatter\", \"x\": [\"2017-09-20\", \"2017-09-21\", \"2017-09-22\", \"2017-09-23\", \"2017-09-24\", \"2017-09-25\", \"2017-09-26\"], \"y\": [1672, 16257, 16182, 18595, 18715, 19463, 19990], \"name\": \"TOMB RAIDER - Official Trailer #1\", \"line\": {\"width\": 2, \"color\": \"rgb(54,32,180)\"}, \"legendgroup\": \"TOMB RAIDER - Official Trailer #1\", \"showlegend\": true, \"xaxis\": \"x2\", \"yaxis\": \"y2\"}, {\"type\": \"scatter\", \"x\": [\"2017-09-20\", \"2017-09-21\", \"2017-09-22\", \"2017-09-23\", \"2017-09-24\", \"2017-09-25\", \"2017-09-26\"], \"y\": [91, 729, 720, 689, 693, 727, 757], \"name\": \"COOK OFF! (2017 Movie) \\u2013 Official Trailer\", \"line\": {\"width\": 2, \"color\": \"rgb(152,81,221)\"}, \"legendgroup\": \"COOK OFF! (2017 Movie) \\u2013 Official Trailer\", \"showlegend\": true, \"xaxis\": \"x2\", \"yaxis\": \"y2\"}, {\"type\": \"scatter\", \"x\": [\"2017-09-21\", \"2017-09-22\", \"2017-09-23\", \"2017-09-24\", \"2017-09-25\", \"2017-09-26\", \"2017-09-27\"], \"y\": [1970, 5303, 7868, 6913, 7270, 7572, 7817], \"name\": \"Foo Fighters Carpool Karaoke\", \"line\": {\"width\": 2, \"color\": \"rgb(207,178,14)\"}, \"legendgroup\": \"Foo Fighters Carpool Karaoke\", \"showlegend\": true, \"xaxis\": \"x2\", \"yaxis\": \"y2\"}, {\"type\": \"scatter\", \"x\": [\"2017-09-21\", \"2017-09-21\", \"2017-09-22\", \"2017-09-23\", \"2017-09-24\", \"2017-09-25\", \"2017-09-26\"], \"y\": [307, 307, 313, 252, 254, 257, 260], \"name\": \"Bear in Russian traffic\", \"line\": {\"width\": 2, \"color\": \"rgb(37,88,221)\"}, \"legendgroup\": \"Bear in Russian traffic\", \"showlegend\": true, \"xaxis\": \"x2\", \"yaxis\": \"y2\"}, {\"type\": \"scatter\", \"x\": [\"2017-09-29\", \"2017-09-30\", \"2017-10-01\", \"2017-10-02\", \"2017-10-03\", \"2017-10-04\"], \"y\": [11263, 26359, 28317, 31269, 32444, 33233], \"name\": \"J Balvin, Willy William - Mi Gente featuring Beyonc\\u00e9\", \"line\": {\"width\": 2, \"color\": \"rgb(207,6,197)\"}, \"legendgroup\": \"J Balvin, Willy William - Mi Gente featuring Beyonc\\u00e9\", \"showlegend\": true, \"xaxis\": \"x2\", \"yaxis\": \"y2\"}, {\"type\": \"scatter\", \"x\": [\"2017-10-04\", \"2017-10-05\", \"2017-10-06\", \"2017-10-07\", \"2017-10-08\", \"2017-10-09\", \"2017-10-10\"], \"y\": [19, 782, 1249, 1116, 1135, 1094, 1097], \"name\": \"Donald Trump\\u2019s Cringe-Worthy Attempt To Date Brooke Shields | WWHL\", \"line\": {\"width\": 2, \"color\": \"rgb(233,195,170)\"}, \"legendgroup\": \"Donald Trump\\u2019s Cringe-Worthy Attempt To Date Brooke Shields | WWHL\", \"showlegend\": true, \"xaxis\": \"x2\", \"yaxis\": \"y2\"}, {\"type\": \"scatter\", \"x\": [\"2017-10-05\"], \"y\": [33386], \"name\": \"J Balvin, Willy William - Mi Gente featuring Beyonc\\u00e9 ft. Beyonc\\u00e9\", \"line\": {\"width\": 2, \"color\": \"rgb(227,123,74)\"}, \"legendgroup\": \"J Balvin, Willy William - Mi Gente featuring Beyonc\\u00e9 ft. Beyonc\\u00e9\", \"showlegend\": true, \"xaxis\": \"x2\", \"yaxis\": \"y2\"}, {\"type\": \"scatter\", \"x\": [\"2017-10-06\", \"2017-10-07\", \"2017-10-08\", \"2017-10-09\", \"2017-10-10\", \"2017-10-11\", \"2017-10-12\"], \"y\": [813, 1769, 2226, 2335, 2370, 2383, 2424], \"name\": \"Every Cat At 3AM\", \"line\": {\"width\": 2, \"color\": \"rgb(195,64,216)\"}, \"legendgroup\": \"Every Cat At 3AM\", \"showlegend\": true, \"xaxis\": \"x2\", \"yaxis\": \"y2\"}, {\"type\": \"scatter\", \"x\": [\"2017-10-06\", \"2017-10-07\", \"2017-10-08\", \"2017-10-09\", \"2017-10-10\", \"2017-10-11\", \"2017-10-12\"], \"y\": [3858, 5038, 5228, 4667, 4799, 4908, 4965], \"name\": \"Did You Call My Girl!? | Anwar Jibawi\", \"line\": {\"width\": 2, \"color\": \"rgb(195,14,45)\"}, \"legendgroup\": \"Did You Call My Girl!? | Anwar Jibawi\", \"showlegend\": true, \"xaxis\": \"x2\", \"yaxis\": \"y2\"}, {\"type\": \"scatter\", \"x\": [\"2017-10-06\", \"2017-10-07\", \"2017-10-08\", \"2017-10-09\", \"2017-10-09\", \"2017-10-10\", \"2017-10-11\"], \"y\": [8544, 12107, 13217, 11515, 11515, 12035, 12509], \"name\": \"Charlie Puth \\u2013 How Long [Official Audio]\", \"line\": {\"width\": 2, \"color\": \"rgb(240,163,182)\"}, \"legendgroup\": \"Charlie Puth \\u2013 How Long [Official Audio]\", \"showlegend\": true, \"xaxis\": \"x2\", \"yaxis\": \"y2\"}, {\"type\": \"scatter\", \"x\": [\"2017-10-12\", \"2017-10-13\", \"2017-10-14\", \"2017-10-15\", \"2017-10-16\", \"2017-10-17\", \"2017-10-18\"], \"y\": [1798, 3511, 4062, 4317, 4597, 3841, 3893], \"name\": \"Seth MacFarlane Calls Out Harvey Weinstein Back In 2013\", \"line\": {\"width\": 2, \"color\": \"rgb(114,82,38)\"}, \"legendgroup\": \"Seth MacFarlane Calls Out Harvey Weinstein Back In 2013\", \"showlegend\": true, \"xaxis\": \"x2\", \"yaxis\": \"y2\"}, {\"type\": \"scatter\", \"x\": [\"2017-10-12\", \"2017-10-13\", \"2017-10-14\", \"2017-10-15\", \"2017-10-16\", \"2017-10-17\", \"2017-10-18\"], \"y\": [8126, 10539, 11594, 12122, 12670, 12001, 12155], \"name\": \"Arnold Set off to the Center of the Earth\", \"line\": {\"width\": 2, \"color\": \"rgb(46,108,68)\"}, \"legendgroup\": \"Arnold Set off to the Center of the Earth\", \"showlegend\": true, \"xaxis\": \"x2\", \"yaxis\": \"y2\"}, {\"type\": \"scatter\", \"x\": [\"2017-10-13\", \"2017-10-14\", \"2017-10-15\", \"2017-10-16\", \"2017-10-17\", \"2017-10-18\", \"2017-10-19\"], \"y\": [0, 0, 0, 0, 0, 0, 0], \"name\": \"What Americans Heard in Cuba Attacks: The Sound\", \"line\": {\"width\": 2, \"color\": \"rgb(97,173,176)\"}, \"legendgroup\": \"What Americans Heard in Cuba Attacks: The Sound\", \"showlegend\": true, \"xaxis\": \"x2\", \"yaxis\": \"y2\"}, {\"type\": \"scatter\", \"x\": [\"2017-10-13\", \"2017-10-14\", \"2017-10-15\", \"2017-10-16\", \"2017-10-17\", \"2017-10-18\", \"2017-10-19\"], \"y\": [1511, 3834, 5567, 6655, 6044, 6223, 6467], \"name\": \"Why Photos of the Eiffel Tower at Night are Illegal\", \"line\": {\"width\": 2, \"color\": \"rgb(207,244,75)\"}, \"legendgroup\": \"Why Photos of the Eiffel Tower at Night are Illegal\", \"showlegend\": true, \"xaxis\": \"x2\", \"yaxis\": \"y2\"}, {\"type\": \"scatter\", \"x\": [\"2017-10-13\", \"2017-10-14\", \"2017-10-15\", \"2017-10-16\", \"2017-10-17\", \"2017-10-18\", \"2017-10-19\"], \"y\": [1159, 1695, 1886, 1991, 985, 1006, 1015], \"name\": \"Why Are You Anxious?\", \"line\": {\"width\": 2, \"color\": \"rgb(105,158,188)\"}, \"legendgroup\": \"Why Are You Anxious?\", \"showlegend\": true, \"xaxis\": \"x2\", \"yaxis\": \"y2\"}, {\"type\": \"scatter\", \"x\": [\"2017-10-13\", \"2017-10-14\", \"2017-10-15\", \"2017-10-16\", \"2017-10-17\", \"2017-10-18\", \"2017-10-19\"], \"y\": [290, 446, 530, 564, 276, 277, 288], \"name\": \"Kane Brown - What's Mine Is Yours\", \"line\": {\"width\": 2, \"color\": \"rgb(105,176,177)\"}, \"legendgroup\": \"Kane Brown - What's Mine Is Yours\", \"showlegend\": true, \"xaxis\": \"x2\", \"yaxis\": \"y2\"}, {\"type\": \"scatter\", \"x\": [\"2017-10-13\", \"2017-10-14\", \"2017-10-15\", \"2017-10-16\", \"2017-10-17\", \"2017-10-18\", \"2017-10-19\"], \"y\": [216, 429, 674, 804, 550, 596, 625], \"name\": \"Guns N' Roses Feat. PINK! - Patience (Msg, Nyc) 10.11.17 (P!NK)\", \"line\": {\"width\": 2, \"color\": \"rgb(30,197,18)\"}, \"legendgroup\": \"Guns N' Roses Feat. PINK! - Patience (Msg, Nyc) 10.11.17 (P!NK)\", \"showlegend\": true, \"xaxis\": \"x2\", \"yaxis\": \"y2\"}, {\"type\": \"scatter\", \"x\": [\"2017-10-13\", \"2017-10-14\", \"2017-10-15\", \"2017-10-16\", \"2017-10-17\", \"2017-10-18\", \"2017-10-19\"], \"y\": [888, 1071, 1142, 1156, 766, 780, 794], \"name\": \"Gucci Mane - Enormous feat. Ty Dolla $ign [Official Audio]\", \"line\": {\"width\": 2, \"color\": \"rgb(187,157,163)\"}, \"legendgroup\": \"Gucci Mane - Enormous feat. Ty Dolla $ign [Official Audio]\", \"showlegend\": true, \"xaxis\": \"x2\", \"yaxis\": \"y2\"}, {\"type\": \"scatter\", \"x\": [\"2017-10-13\", \"2017-10-14\", \"2017-10-15\", \"2017-10-16\", \"2017-10-17\", \"2017-10-18\", \"2017-10-19\"], \"y\": [877, 1389, 1864, 2144, 1561, 1709, 1808], \"name\": \"John Legend - Penthouse Floor ft. Chance the Rapper\", \"line\": {\"width\": 2, \"color\": \"rgb(9,163,242)\"}, \"legendgroup\": \"John Legend - Penthouse Floor ft. Chance the Rapper\", \"showlegend\": true, \"xaxis\": \"x2\", \"yaxis\": \"y2\"}, {\"type\": \"scatter\", \"x\": [\"2017-10-14\", \"2017-10-15\", \"2017-10-16\", \"2017-10-17\", \"2017-10-18\", \"2017-10-19\", \"2017-10-20\"], \"y\": [6886, 9250, 10370, 9557, 9787, 9895, 8125], \"name\": \"The New Mutants | Official Trailer [HD] | 20th Century FOX\", \"line\": {\"width\": 2, \"color\": \"rgb(88,123,231)\"}, \"legendgroup\": \"The New Mutants | Official Trailer [HD] | 20th Century FOX\", \"showlegend\": true, \"xaxis\": \"x2\", \"yaxis\": \"y2\"}, {\"type\": \"scatter\", \"x\": [\"2017-10-14\", \"2017-10-15\", \"2017-10-16\", \"2017-10-17\", \"2017-10-18\", \"2017-10-19\", \"2017-10-20\"], \"y\": [4931, 7154, 8185, 7380, 7710, 7882, 7096], \"name\": \"Harvey Weinstein, Donald Trump and Systemic Sexism: A Closer Look\", \"line\": {\"width\": 2, \"color\": \"rgb(27,101,236)\"}, \"legendgroup\": \"Harvey Weinstein, Donald Trump and Systemic Sexism: A Closer Look\", \"showlegend\": true, \"xaxis\": \"x2\", \"yaxis\": \"y2\"}, {\"type\": \"scatter\", \"x\": [\"2017-10-14\", \"2017-10-15\", \"2017-10-16\", \"2017-10-17\", \"2017-10-18\", \"2017-10-19\", \"2017-10-20\"], \"y\": [4336, 8889, 10201, 9391, 9456, 9504, 8339], \"name\": \"NO POMEGRANATES\", \"line\": {\"width\": 2, \"color\": \"rgb(229,227,191)\"}, \"legendgroup\": \"NO POMEGRANATES\", \"showlegend\": true, \"xaxis\": \"x2\", \"yaxis\": \"y2\"}, {\"type\": \"scatter\", \"x\": [\"2017-10-14\", \"2017-10-15\", \"2017-10-16\", \"2017-10-17\", \"2017-10-18\", \"2017-10-19\", \"2017-10-20\"], \"y\": [1441, 1689, 1817, 896, 1048, 1100, 1866], \"name\": \"Bebe Rexha - Meant to Be (feat. Florida Georgia Line) [Lyric Video]\", \"line\": {\"width\": 2, \"color\": \"rgb(222,35,65)\"}, \"legendgroup\": \"Bebe Rexha - Meant to Be (feat. Florida Georgia Line) [Lyric Video]\", \"showlegend\": true, \"xaxis\": \"x2\", \"yaxis\": \"y2\"}, {\"type\": \"scatter\", \"x\": [\"2017-10-14\", \"2017-10-15\", \"2017-10-16\"], \"y\": [42046, 66014, 74107], \"name\": \"Alesso & Anitta - Is That For Me (Official Video)\", \"line\": {\"width\": 2, \"color\": \"rgb(69,42,240)\"}, \"legendgroup\": \"Alesso & Anitta - Is That For Me (Official Video)\", \"showlegend\": true, \"xaxis\": \"x2\", \"yaxis\": \"y2\"}, {\"type\": \"scatter\", \"x\": [\"2017-10-17\", \"2017-10-18\", \"2017-10-19\", \"2017-10-20\"], \"y\": [77086, 79935, 81912, 84942], \"name\": \"Alesso & Anitta - Is That For Me (Official Music Video)\", \"line\": {\"width\": 2, \"color\": \"rgb(34,244,70)\"}, \"legendgroup\": \"Alesso & Anitta - Is That For Me (Official Music Video)\", \"showlegend\": true, \"xaxis\": \"x2\", \"yaxis\": \"y2\"}, {\"type\": \"scatter\", \"x\": [\"2017-09-13\", \"2017-09-14\", \"2017-09-15\", \"2017-09-16\", \"2017-09-17\", \"2017-09-18\", \"2017-09-19\"], \"y\": [320053, 349857, 361422, 366401, 369963, 372700, 373824], \"name\": \"1 YEAR OF VLOGGING -- HOW LOGAN PAUL CHANGED YOUTUBE FOREVER!\", \"line\": {\"width\": 2, \"color\": \"rgb(188,148,96)\"}, \"legendgroup\": \"1 YEAR OF VLOGGING -- HOW LOGAN PAUL CHANGED YOUTUBE FOREVER!\", \"showlegend\": false, \"xaxis\": \"x3\", \"yaxis\": \"y3\"}, {\"type\": \"scatter\", \"x\": [\"2017-09-13\", \"2017-09-14\", \"2017-09-15\", \"2017-09-16\", \"2017-09-17\", \"2017-09-18\", \"2017-09-19\"], \"y\": [576597, 626155, 659184, 672775, 687381, 700870, 706104], \"name\": \"My Response\", \"line\": {\"width\": 2, \"color\": \"rgb(234,216,26)\"}, \"legendgroup\": \"My Response\", \"showlegend\": false, \"xaxis\": \"x3\", \"yaxis\": \"y3\"}, {\"type\": \"scatter\", \"x\": [\"2017-09-13\", \"2017-09-14\", \"2017-09-15\", \"2017-09-16\", \"2017-09-17\", \"2017-09-18\", \"2017-09-19\"], \"y\": [24975, 30836, 33617, 34622, 35111, 35529, 35719], \"name\": \"Apple iPhone X first look\", \"line\": {\"width\": 2, \"color\": \"rgb(228,195,199)\"}, \"legendgroup\": \"Apple iPhone X first look\", \"showlegend\": false, \"xaxis\": \"x3\", \"yaxis\": \"y3\"}, {\"type\": \"scatter\", \"x\": [\"2017-09-13\", \"2017-09-14\", \"2017-09-15\", \"2017-09-16\", \"2017-09-17\", \"2017-09-18\", \"2017-09-19\"], \"y\": [96666, 128402, 144171, 152496, 157883, 162414, 164959], \"name\": \"iPhone X (parody)\", \"line\": {\"width\": 2, \"color\": \"rgb(108,72,150)\"}, \"legendgroup\": \"iPhone X (parody)\", \"showlegend\": false, \"xaxis\": \"x3\", \"yaxis\": \"y3\"}, {\"type\": \"scatter\", \"x\": [\"2017-09-14\", \"2017-09-15\", \"2017-09-16\", \"2017-09-17\", \"2017-09-18\", \"2017-09-19\", \"2017-09-20\"], \"y\": [11255, 20278, 22501, 23184, 23662, 23861, 24008], \"name\": \"Hello, world. Meet our baby girl: Alexis Olympia Ohanian, Jr.\", \"line\": {\"width\": 2, \"color\": \"rgb(68,57,223)\"}, \"legendgroup\": \"Hello, world. Meet our baby girl: Alexis Olympia Ohanian, Jr.\", \"showlegend\": false, \"xaxis\": \"x3\", \"yaxis\": \"y3\"}, {\"type\": \"scatter\", \"x\": [\"2017-09-14\", \"2017-09-15\", \"2017-09-16\", \"2017-09-17\", \"2017-09-18\", \"2017-09-19\", \"2017-09-20\"], \"y\": [485, 1170, 1315, 1332, 1347, 1355, 1369], \"name\": \"Bella Hadid Roughs Up Security Roughing Up Female Photog | TMZ\", \"line\": {\"width\": 2, \"color\": \"rgb(190,106,21)\"}, \"legendgroup\": \"Bella Hadid Roughs Up Security Roughing Up Female Photog | TMZ\", \"showlegend\": false, \"xaxis\": \"x3\", \"yaxis\": \"y3\"}, {\"type\": \"scatter\", \"x\": [\"2017-09-16\", \"2017-09-17\", \"2017-09-18\", \"2017-09-19\", \"2017-09-20\", \"2017-09-21\", \"2017-09-22\"], \"y\": [198696, 333571, 415114, 464107, 502597, 547764, 578266], \"name\": \"Shakira - Perro Fiel (Official Video) ft. Nicky Jam\", \"line\": {\"width\": 2, \"color\": \"rgb(182,166,55)\"}, \"legendgroup\": \"Shakira - Perro Fiel (Official Video) ft. Nicky Jam\", \"showlegend\": false, \"xaxis\": \"x3\", \"yaxis\": \"y3\"}, {\"type\": \"scatter\", \"x\": [\"2017-09-16\", \"2017-09-17\", \"2017-09-18\", \"2017-09-19\", \"2017-09-20\", \"2017-09-21\", \"2017-09-22\"], \"y\": [6341, 13331, 16818, 17446, 17588, 17755, 17843], \"name\": \"The Insane Full House Theory That Might Be True\", \"line\": {\"width\": 2, \"color\": \"rgb(74,167,14)\"}, \"legendgroup\": \"The Insane Full House Theory That Might Be True\", \"showlegend\": false, \"xaxis\": \"x3\", \"yaxis\": \"y3\"}, {\"type\": \"scatter\", \"x\": [\"2017-09-20\", \"2017-09-21\", \"2017-09-22\", \"2017-09-23\", \"2017-09-24\", \"2017-09-25\", \"2017-09-26\"], \"y\": [43066, 53758, 56123, 58423, 59551, 60633, 61164], \"name\": \"Everything Wrong With The LEGO Batman Movie\", \"line\": {\"width\": 2, \"color\": \"rgb(51,92,101)\"}, \"legendgroup\": \"Everything Wrong With The LEGO Batman Movie\", \"showlegend\": false, \"xaxis\": \"x3\", \"yaxis\": \"y3\"}, {\"type\": \"scatter\", \"x\": [\"2017-09-20\", \"2017-09-21\", \"2017-09-22\", \"2017-09-23\", \"2017-09-24\", \"2017-09-25\", \"2017-09-26\"], \"y\": [5560, 46736, 56662, 64595, 66763, 69326, 70953], \"name\": \"TOMB RAIDER - Official Trailer #1\", \"line\": {\"width\": 2, \"color\": \"rgb(54,32,180)\"}, \"legendgroup\": \"TOMB RAIDER - Official Trailer #1\", \"showlegend\": false, \"xaxis\": \"x3\", \"yaxis\": \"y3\"}, {\"type\": \"scatter\", \"x\": [\"2017-09-20\", \"2017-09-21\", \"2017-09-22\", \"2017-09-23\", \"2017-09-24\", \"2017-09-25\", \"2017-09-26\"], \"y\": [385, 2481, 3206, 3392, 3479, 3642, 3813], \"name\": \"COOK OFF! (2017 Movie) \\u2013 Official Trailer\", \"line\": {\"width\": 2, \"color\": \"rgb(152,81,221)\"}, \"legendgroup\": \"COOK OFF! (2017 Movie) \\u2013 Official Trailer\", \"showlegend\": false, \"xaxis\": \"x3\", \"yaxis\": \"y3\"}, {\"type\": \"scatter\", \"x\": [\"2017-09-21\", \"2017-09-22\", \"2017-09-23\", \"2017-09-24\", \"2017-09-25\", \"2017-09-26\", \"2017-09-27\"], \"y\": [24097, 61258, 84922, 90069, 94797, 98286, 101556], \"name\": \"Foo Fighters Carpool Karaoke\", \"line\": {\"width\": 2, \"color\": \"rgb(207,178,14)\"}, \"legendgroup\": \"Foo Fighters Carpool Karaoke\", \"showlegend\": false, \"xaxis\": \"x3\", \"yaxis\": \"y3\"}, {\"type\": \"scatter\", \"x\": [\"2017-09-21\", \"2017-09-21\", \"2017-09-22\", \"2017-09-23\", \"2017-09-24\", \"2017-09-25\", \"2017-09-26\"], \"y\": [1642, 1644, 1747, 1781, 1790, 1823, 1944], \"name\": \"Bear in Russian traffic\", \"line\": {\"width\": 2, \"color\": \"rgb(37,88,221)\"}, \"legendgroup\": \"Bear in Russian traffic\", \"showlegend\": false, \"xaxis\": \"x3\", \"yaxis\": \"y3\"}, {\"type\": \"scatter\", \"x\": [\"2017-09-29\", \"2017-09-30\", \"2017-10-01\", \"2017-10-02\", \"2017-10-03\", \"2017-10-04\"], \"y\": [109528, 299299, 363535, 389230, 405884, 417924], \"name\": \"J Balvin, Willy William - Mi Gente featuring Beyonc\\u00e9\", \"line\": {\"width\": 2, \"color\": \"rgb(207,6,197)\"}, \"legendgroup\": \"J Balvin, Willy William - Mi Gente featuring Beyonc\\u00e9\", \"showlegend\": false, \"xaxis\": \"x3\", \"yaxis\": \"y3\"}, {\"type\": \"scatter\", \"x\": [\"2017-10-04\", \"2017-10-05\", \"2017-10-06\", \"2017-10-07\", \"2017-10-08\", \"2017-10-09\", \"2017-10-10\"], \"y\": [75, 1241, 1637, 1693, 1707, 1717, 1726], \"name\": \"Donald Trump\\u2019s Cringe-Worthy Attempt To Date Brooke Shields | WWHL\", \"line\": {\"width\": 2, \"color\": \"rgb(233,195,170)\"}, \"legendgroup\": \"Donald Trump\\u2019s Cringe-Worthy Attempt To Date Brooke Shields | WWHL\", \"showlegend\": false, \"xaxis\": \"x3\", \"yaxis\": \"y3\"}, {\"type\": \"scatter\", \"x\": [\"2017-10-05\"], \"y\": [430513], \"name\": \"J Balvin, Willy William - Mi Gente featuring Beyonc\\u00e9 ft. Beyonc\\u00e9\", \"line\": {\"width\": 2, \"color\": \"rgb(227,123,74)\"}, \"legendgroup\": \"J Balvin, Willy William - Mi Gente featuring Beyonc\\u00e9 ft. Beyonc\\u00e9\", \"showlegend\": false, \"xaxis\": \"x3\", \"yaxis\": \"y3\"}, {\"type\": \"scatter\", \"x\": [\"2017-10-06\", \"2017-10-07\", \"2017-10-08\", \"2017-10-09\", \"2017-10-10\", \"2017-10-11\", \"2017-10-12\"], \"y\": [17087, 29670, 36234, 38931, 39808, 40466, 41168], \"name\": \"Every Cat At 3AM\", \"line\": {\"width\": 2, \"color\": \"rgb(195,64,216)\"}, \"legendgroup\": \"Every Cat At 3AM\", \"showlegend\": false, \"xaxis\": \"x3\", \"yaxis\": \"y3\"}, {\"type\": \"scatter\", \"x\": [\"2017-10-06\", \"2017-10-07\", \"2017-10-08\", \"2017-10-09\", \"2017-10-10\", \"2017-10-11\", \"2017-10-12\"], \"y\": [63125, 91148, 98455, 102882, 105904, 107998, 109643], \"name\": \"Did You Call My Girl!? | Anwar Jibawi\", \"line\": {\"width\": 2, \"color\": \"rgb(195,14,45)\"}, \"legendgroup\": \"Did You Call My Girl!? | Anwar Jibawi\", \"showlegend\": false, \"xaxis\": \"x3\", \"yaxis\": \"y3\"}, {\"type\": \"scatter\", \"x\": [\"2017-10-06\", \"2017-10-07\", \"2017-10-08\", \"2017-10-09\", \"2017-10-09\", \"2017-10-10\", \"2017-10-11\"], \"y\": [80541, 135599, 156180, 168015, 168019, 177481, 185837], \"name\": \"Charlie Puth \\u2013 How Long [Official Audio]\", \"line\": {\"width\": 2, \"color\": \"rgb(240,163,182)\"}, \"legendgroup\": \"Charlie Puth \\u2013 How Long [Official Audio]\", \"showlegend\": false, \"xaxis\": \"x3\", \"yaxis\": \"y3\"}, {\"type\": \"scatter\", \"x\": [\"2017-10-12\", \"2017-10-13\", \"2017-10-14\", \"2017-10-15\", \"2017-10-16\", \"2017-10-17\", \"2017-10-18\"], \"y\": [10145, 19116, 21686, 22769, 23564, 23973, 24317], \"name\": \"Seth MacFarlane Calls Out Harvey Weinstein Back In 2013\", \"line\": {\"width\": 2, \"color\": \"rgb(114,82,38)\"}, \"legendgroup\": \"Seth MacFarlane Calls Out Harvey Weinstein Back In 2013\", \"showlegend\": false, \"xaxis\": \"x3\", \"yaxis\": \"y3\"}, {\"type\": \"scatter\", \"x\": [\"2017-10-12\", \"2017-10-13\", \"2017-10-14\", \"2017-10-15\", \"2017-10-16\", \"2017-10-17\", \"2017-10-18\"], \"y\": [56828, 72931, 76938, 78509, 79456, 79974, 80567], \"name\": \"Arnold Set off to the Center of the Earth\", \"line\": {\"width\": 2, \"color\": \"rgb(46,108,68)\"}, \"legendgroup\": \"Arnold Set off to the Center of the Earth\", \"showlegend\": false, \"xaxis\": \"x3\", \"yaxis\": \"y3\"}, {\"type\": \"scatter\", \"x\": [\"2017-10-13\", \"2017-10-14\", \"2017-10-15\", \"2017-10-16\", \"2017-10-17\", \"2017-10-18\", \"2017-10-19\"], \"y\": [768, 2088, 2585, 2723, 2750, 2771, 2795], \"name\": \"What Americans Heard in Cuba Attacks: The Sound\", \"line\": {\"width\": 2, \"color\": \"rgb(97,173,176)\"}, \"legendgroup\": \"What Americans Heard in Cuba Attacks: The Sound\", \"showlegend\": false, \"xaxis\": \"x3\", \"yaxis\": \"y3\"}, {\"type\": \"scatter\", \"x\": [\"2017-10-13\", \"2017-10-14\", \"2017-10-15\", \"2017-10-16\", \"2017-10-17\", \"2017-10-18\", \"2017-10-19\"], \"y\": [10265, 21227, 30851, 40513, 43747, 45246, 46581], \"name\": \"Why Photos of the Eiffel Tower at Night are Illegal\", \"line\": {\"width\": 2, \"color\": \"rgb(207,244,75)\"}, \"legendgroup\": \"Why Photos of the Eiffel Tower at Night are Illegal\", \"showlegend\": false, \"xaxis\": \"x3\", \"yaxis\": \"y3\"}, {\"type\": \"scatter\", \"x\": [\"2017-10-13\", \"2017-10-14\", \"2017-10-15\", \"2017-10-16\", \"2017-10-17\", \"2017-10-18\", \"2017-10-19\"], \"y\": [11975, 17588, 19739, 20751, 21729, 22118, 22326], \"name\": \"Why Are You Anxious?\", \"line\": {\"width\": 2, \"color\": \"rgb(105,158,188)\"}, \"legendgroup\": \"Why Are You Anxious?\", \"showlegend\": false, \"xaxis\": \"x3\", \"yaxis\": \"y3\"}, {\"type\": \"scatter\", \"x\": [\"2017-10-13\", \"2017-10-14\", \"2017-10-15\", \"2017-10-16\", \"2017-10-17\", \"2017-10-18\", \"2017-10-19\"], \"y\": [5065, 7851, 9254, 10284, 11187, 11960, 12566], \"name\": \"Kane Brown - What's Mine Is Yours\", \"line\": {\"width\": 2, \"color\": \"rgb(105,176,177)\"}, \"legendgroup\": \"Kane Brown - What's Mine Is Yours\", \"showlegend\": false, \"xaxis\": \"x3\", \"yaxis\": \"y3\"}, {\"type\": \"scatter\", \"x\": [\"2017-10-13\", \"2017-10-14\", \"2017-10-15\", \"2017-10-16\", \"2017-10-17\", \"2017-10-18\", \"2017-10-19\"], \"y\": [1768, 3050, 3745, 4685, 5443, 5966, 6345], \"name\": \"Guns N' Roses Feat. PINK! - Patience (Msg, Nyc) 10.11.17 (P!NK)\", \"line\": {\"width\": 2, \"color\": \"rgb(30,197,18)\"}, \"legendgroup\": \"Guns N' Roses Feat. PINK! - Patience (Msg, Nyc) 10.11.17 (P!NK)\", \"showlegend\": false, \"xaxis\": \"x3\", \"yaxis\": \"y3\"}, {\"type\": \"scatter\", \"x\": [\"2017-10-13\", \"2017-10-14\", \"2017-10-15\", \"2017-10-16\", \"2017-10-17\", \"2017-10-18\", \"2017-10-19\"], \"y\": [8620, 12121, 13620, 14492, 15132, 15683, 16212], \"name\": \"Gucci Mane - Enormous feat. Ty Dolla $ign [Official Audio]\", \"line\": {\"width\": 2, \"color\": \"rgb(187,157,163)\"}, \"legendgroup\": \"Gucci Mane - Enormous feat. Ty Dolla $ign [Official Audio]\", \"showlegend\": false, \"xaxis\": \"x3\", \"yaxis\": \"y3\"}, {\"type\": \"scatter\", \"x\": [\"2017-10-13\", \"2017-10-14\", \"2017-10-15\", \"2017-10-16\", \"2017-10-17\", \"2017-10-18\", \"2017-10-19\"], \"y\": [10169, 17634, 25171, 33207, 42237, 49078, 55427], \"name\": \"John Legend - Penthouse Floor ft. Chance the Rapper\", \"line\": {\"width\": 2, \"color\": \"rgb(9,163,242)\"}, \"legendgroup\": \"John Legend - Penthouse Floor ft. Chance the Rapper\", \"showlegend\": false, \"xaxis\": \"x3\", \"yaxis\": \"y3\"}, {\"type\": \"scatter\", \"x\": [\"2017-10-14\", \"2017-10-15\", \"2017-10-16\", \"2017-10-17\", \"2017-10-18\", \"2017-10-19\", \"2017-10-20\"], \"y\": [24306, 31390, 35599, 37943, 39020, 39526, 39893], \"name\": \"The New Mutants | Official Trailer [HD] | 20th Century FOX\", \"line\": {\"width\": 2, \"color\": \"rgb(88,123,231)\"}, \"legendgroup\": \"The New Mutants | Official Trailer [HD] | 20th Century FOX\", \"showlegend\": false, \"xaxis\": \"x3\", \"yaxis\": \"y3\"}, {\"type\": \"scatter\", \"x\": [\"2017-10-14\", \"2017-10-15\", \"2017-10-16\", \"2017-10-17\", \"2017-10-18\", \"2017-10-19\", \"2017-10-20\"], \"y\": [26896, 31162, 33162, 34414, 35428, 36166, 36732], \"name\": \"Harvey Weinstein, Donald Trump and Systemic Sexism: A Closer Look\", \"line\": {\"width\": 2, \"color\": \"rgb(27,101,236)\"}, \"legendgroup\": \"Harvey Weinstein, Donald Trump and Systemic Sexism: A Closer Look\", \"showlegend\": false, \"xaxis\": \"x3\", \"yaxis\": \"y3\"}, {\"type\": \"scatter\", \"x\": [\"2017-10-14\", \"2017-10-15\", \"2017-10-16\", \"2017-10-17\", \"2017-10-18\", \"2017-10-19\", \"2017-10-20\"], \"y\": [23216, 45879, 51737, 54043, 54631, 55187, 55761], \"name\": \"NO POMEGRANATES\", \"line\": {\"width\": 2, \"color\": \"rgb(229,227,191)\"}, \"legendgroup\": \"NO POMEGRANATES\", \"showlegend\": false, \"xaxis\": \"x3\", \"yaxis\": \"y3\"}, {\"type\": \"scatter\", \"x\": [\"2017-10-14\", \"2017-10-15\", \"2017-10-16\", \"2017-10-17\", \"2017-10-18\", \"2017-10-19\", \"2017-10-20\"], \"y\": [19794, 26693, 31214, 35613, 40799, 45816, 51387], \"name\": \"Bebe Rexha - Meant to Be (feat. Florida Georgia Line) [Lyric Video]\", \"line\": {\"width\": 2, \"color\": \"rgb(222,35,65)\"}, \"legendgroup\": \"Bebe Rexha - Meant to Be (feat. Florida Georgia Line) [Lyric Video]\", \"showlegend\": false, \"xaxis\": \"x3\", \"yaxis\": \"y3\"}, {\"type\": \"scatter\", \"x\": [\"2017-10-14\", \"2017-10-15\", \"2017-10-16\"], \"y\": [306843, 447906, 504162], \"name\": \"Alesso & Anitta - Is That For Me (Official Video)\", \"line\": {\"width\": 2, \"color\": \"rgb(69,42,240)\"}, \"legendgroup\": \"Alesso & Anitta - Is That For Me (Official Video)\", \"showlegend\": false, \"xaxis\": \"x3\", \"yaxis\": \"y3\"}, {\"type\": \"scatter\", \"x\": [\"2017-10-17\", \"2017-10-18\", \"2017-10-19\", \"2017-10-20\"], \"y\": [538825, 564466, 585283, 618436], \"name\": \"Alesso & Anitta - Is That For Me (Official Music Video)\", \"line\": {\"width\": 2, \"color\": \"rgb(34,244,70)\"}, \"legendgroup\": \"Alesso & Anitta - Is That For Me (Official Music Video)\", \"showlegend\": false, \"xaxis\": \"x3\", \"yaxis\": \"y3\"}, {\"type\": \"scatter\", \"x\": [\"2017-09-13\", \"2017-09-14\", \"2017-09-15\", \"2017-09-16\", \"2017-09-17\", \"2017-09-18\", \"2017-09-19\"], \"y\": [5931, 17479, 22023, 22885, 23207, 23509, 23701], \"name\": \"1 YEAR OF VLOGGING -- HOW LOGAN PAUL CHANGED YOUTUBE FOREVER!\", \"line\": {\"width\": 2, \"color\": \"rgb(188,148,96)\"}, \"legendgroup\": \"1 YEAR OF VLOGGING -- HOW LOGAN PAUL CHANGED YOUTUBE FOREVER!\", \"showlegend\": false, \"xaxis\": \"x4\", \"yaxis\": \"y4\"}, {\"type\": \"scatter\", \"x\": [\"2017-09-13\", \"2017-09-14\", \"2017-09-15\", \"2017-09-16\", \"2017-09-17\", \"2017-09-18\", \"2017-09-19\"], \"y\": [39774, 46445, 50584, 52253, 54352, 56487, 57280], \"name\": \"My Response\", \"line\": {\"width\": 2, \"color\": \"rgb(234,216,26)\"}, \"legendgroup\": \"My Response\", \"showlegend\": false, \"xaxis\": \"x4\", \"yaxis\": \"y4\"}, {\"type\": \"scatter\", \"x\": [\"2017-09-13\", \"2017-09-14\", \"2017-09-15\", \"2017-09-16\", \"2017-09-17\", \"2017-09-18\", \"2017-09-19\"], \"y\": [4542, 6101, 6882, 7120, 7231, 7328, 7384], \"name\": \"Apple iPhone X first look\", \"line\": {\"width\": 2, \"color\": \"rgb(228,195,199)\"}, \"legendgroup\": \"Apple iPhone X first look\", \"showlegend\": false, \"xaxis\": \"x4\", \"yaxis\": \"y4\"}, {\"type\": \"scatter\", \"x\": [\"2017-09-13\", \"2017-09-14\", \"2017-09-15\", \"2017-09-16\", \"2017-09-17\", \"2017-09-18\", \"2017-09-19\"], \"y\": [568, 1136, 1481, 1645, 1779, 1918, 2003], \"name\": \"iPhone X (parody)\", \"line\": {\"width\": 2, \"color\": \"rgb(108,72,150)\"}, \"legendgroup\": \"iPhone X (parody)\", \"showlegend\": false, \"xaxis\": \"x4\", \"yaxis\": \"y4\"}, {\"type\": \"scatter\", \"x\": [\"2017-09-14\", \"2017-09-15\", \"2017-09-16\", \"2017-09-17\", \"2017-09-18\", \"2017-09-19\", \"2017-09-20\"], \"y\": [1817, 4008, 4440, 4577, 4652, 4687, 4727], \"name\": \"Hello, world. Meet our baby girl: Alexis Olympia Ohanian, Jr.\", \"line\": {\"width\": 2, \"color\": \"rgb(68,57,223)\"}, \"legendgroup\": \"Hello, world. Meet our baby girl: Alexis Olympia Ohanian, Jr.\", \"showlegend\": false, \"xaxis\": \"x4\", \"yaxis\": \"y4\"}, {\"type\": \"scatter\", \"x\": [\"2017-09-14\", \"2017-09-15\", \"2017-09-16\", \"2017-09-17\", \"2017-09-18\", \"2017-09-19\", \"2017-09-20\"], \"y\": [244, 1325, 1597, 1630, 1640, 1642, 1645], \"name\": \"Bella Hadid Roughs Up Security Roughing Up Female Photog | TMZ\", \"line\": {\"width\": 2, \"color\": \"rgb(190,106,21)\"}, \"legendgroup\": \"Bella Hadid Roughs Up Security Roughing Up Female Photog | TMZ\", \"showlegend\": false, \"xaxis\": \"x4\", \"yaxis\": \"y4\"}, {\"type\": \"scatter\", \"x\": [\"2017-09-16\", \"2017-09-17\", \"2017-09-18\", \"2017-09-19\", \"2017-09-20\", \"2017-09-21\", \"2017-09-22\"], \"y\": [11446, 22694, 29669, 33974, 37538, 40995, 43475], \"name\": \"Shakira - Perro Fiel (Official Video) ft. Nicky Jam\", \"line\": {\"width\": 2, \"color\": \"rgb(182,166,55)\"}, \"legendgroup\": \"Shakira - Perro Fiel (Official Video) ft. Nicky Jam\", \"showlegend\": false, \"xaxis\": \"x4\", \"yaxis\": \"y4\"}, {\"type\": \"scatter\", \"x\": [\"2017-09-16\", \"2017-09-17\", \"2017-09-18\", \"2017-09-19\", \"2017-09-20\", \"2017-09-21\", \"2017-09-22\"], \"y\": [1613, 4298, 5553, 5777, 5802, 5858, 5896], \"name\": \"The Insane Full House Theory That Might Be True\", \"line\": {\"width\": 2, \"color\": \"rgb(74,167,14)\"}, \"legendgroup\": \"The Insane Full House Theory That Might Be True\", \"showlegend\": false, \"xaxis\": \"x4\", \"yaxis\": \"y4\"}, {\"type\": \"scatter\", \"x\": [\"2017-09-20\", \"2017-09-21\", \"2017-09-22\", \"2017-09-23\", \"2017-09-24\", \"2017-09-25\", \"2017-09-26\"], \"y\": [1618, 2401, 2585, 2745, 2801, 2861, 2890], \"name\": \"Everything Wrong With The LEGO Batman Movie\", \"line\": {\"width\": 2, \"color\": \"rgb(51,92,101)\"}, \"legendgroup\": \"Everything Wrong With The LEGO Batman Movie\", \"showlegend\": false, \"xaxis\": \"x4\", \"yaxis\": \"y4\"}, {\"type\": \"scatter\", \"x\": [\"2017-09-20\", \"2017-09-21\", \"2017-09-22\", \"2017-09-23\", \"2017-09-24\", \"2017-09-25\", \"2017-09-26\"], \"y\": [849, 12269, 15149, 17349, 17928, 18618, 19009], \"name\": \"TOMB RAIDER - Official Trailer #1\", \"line\": {\"width\": 2, \"color\": \"rgb(54,32,180)\"}, \"legendgroup\": \"TOMB RAIDER - Official Trailer #1\", \"showlegend\": false, \"xaxis\": \"x4\", \"yaxis\": \"y4\"}, {\"type\": \"scatter\", \"x\": [\"2017-09-20\", \"2017-09-21\", \"2017-09-22\", \"2017-09-23\", \"2017-09-24\", \"2017-09-25\", \"2017-09-26\"], \"y\": [114, 1615, 2074, 2151, 2159, 2198, 2220], \"name\": \"COOK OFF! (2017 Movie) \\u2013 Official Trailer\", \"line\": {\"width\": 2, \"color\": \"rgb(152,81,221)\"}, \"legendgroup\": \"COOK OFF! (2017 Movie) \\u2013 Official Trailer\", \"showlegend\": false, \"xaxis\": \"x4\", \"yaxis\": \"y4\"}, {\"type\": \"scatter\", \"x\": [\"2017-09-21\", \"2017-09-22\", \"2017-09-23\", \"2017-09-24\", \"2017-09-25\", \"2017-09-26\", \"2017-09-27\"], \"y\": [287, 937, 1636, 1798, 1929, 2050, 2123], \"name\": \"Foo Fighters Carpool Karaoke\", \"line\": {\"width\": 2, \"color\": \"rgb(207,178,14)\"}, \"legendgroup\": \"Foo Fighters Carpool Karaoke\", \"showlegend\": false, \"xaxis\": \"x4\", \"yaxis\": \"y4\"}, {\"type\": \"scatter\", \"x\": [\"2017-09-21\", \"2017-09-21\", \"2017-09-22\", \"2017-09-23\", \"2017-09-24\", \"2017-09-25\", \"2017-09-26\"], \"y\": [86, 86, 89, 92, 94, 97, 101], \"name\": \"Bear in Russian traffic\", \"line\": {\"width\": 2, \"color\": \"rgb(37,88,221)\"}, \"legendgroup\": \"Bear in Russian traffic\", \"showlegend\": false, \"xaxis\": \"x4\", \"yaxis\": \"y4\"}, {\"type\": \"scatter\", \"x\": [\"2017-09-29\", \"2017-09-30\", \"2017-10-01\", \"2017-10-02\", \"2017-10-03\", \"2017-10-04\"], \"y\": [4626, 14152, 18213, 19957, 21112, 22007], \"name\": \"J Balvin, Willy William - Mi Gente featuring Beyonc\\u00e9\", \"line\": {\"width\": 2, \"color\": \"rgb(207,6,197)\"}, \"legendgroup\": \"J Balvin, Willy William - Mi Gente featuring Beyonc\\u00e9\", \"showlegend\": false, \"xaxis\": \"x4\", \"yaxis\": \"y4\"}, {\"type\": \"scatter\", \"x\": [\"2017-10-04\", \"2017-10-05\", \"2017-10-06\", \"2017-10-07\", \"2017-10-08\", \"2017-10-09\", \"2017-10-10\"], \"y\": [4, 1618, 2326, 2397, 2402, 2406, 2406], \"name\": \"Donald Trump\\u2019s Cringe-Worthy Attempt To Date Brooke Shields | WWHL\", \"line\": {\"width\": 2, \"color\": \"rgb(233,195,170)\"}, \"legendgroup\": \"Donald Trump\\u2019s Cringe-Worthy Attempt To Date Brooke Shields | WWHL\", \"showlegend\": false, \"xaxis\": \"x4\", \"yaxis\": \"y4\"}, {\"type\": \"scatter\", \"x\": [\"2017-10-05\"], \"y\": [22775], \"name\": \"J Balvin, Willy William - Mi Gente featuring Beyonc\\u00e9 ft. Beyonc\\u00e9\", \"line\": {\"width\": 2, \"color\": \"rgb(227,123,74)\"}, \"legendgroup\": \"J Balvin, Willy William - Mi Gente featuring Beyonc\\u00e9 ft. Beyonc\\u00e9\", \"showlegend\": false, \"xaxis\": \"x4\", \"yaxis\": \"y4\"}, {\"type\": \"scatter\", \"x\": [\"2017-10-06\", \"2017-10-07\", \"2017-10-08\", \"2017-10-09\", \"2017-10-10\", \"2017-10-11\", \"2017-10-12\"], \"y\": [454, 1007, 1249, 1341, 1366, 1390, 1411], \"name\": \"Every Cat At 3AM\", \"line\": {\"width\": 2, \"color\": \"rgb(195,64,216)\"}, \"legendgroup\": \"Every Cat At 3AM\", \"showlegend\": false, \"xaxis\": \"x4\", \"yaxis\": \"y4\"}, {\"type\": \"scatter\", \"x\": [\"2017-10-06\", \"2017-10-07\", \"2017-10-08\", \"2017-10-09\", \"2017-10-10\", \"2017-10-11\", \"2017-10-12\"], \"y\": [1133, 2078, 2376, 2484, 2540, 2586, 2638], \"name\": \"Did You Call My Girl!? | Anwar Jibawi\", \"line\": {\"width\": 2, \"color\": \"rgb(195,14,45)\"}, \"legendgroup\": \"Did You Call My Girl!? | Anwar Jibawi\", \"showlegend\": false, \"xaxis\": \"x4\", \"yaxis\": \"y4\"}, {\"type\": \"scatter\", \"x\": [\"2017-10-06\", \"2017-10-07\", \"2017-10-08\", \"2017-10-09\", \"2017-10-09\", \"2017-10-10\", \"2017-10-11\"], \"y\": [476, 809, 1011, 1155, 1155, 1286, 1393], \"name\": \"Charlie Puth \\u2013 How Long [Official Audio]\", \"line\": {\"width\": 2, \"color\": \"rgb(240,163,182)\"}, \"legendgroup\": \"Charlie Puth \\u2013 How Long [Official Audio]\", \"showlegend\": false, \"xaxis\": \"x4\", \"yaxis\": \"y4\"}, {\"type\": \"scatter\", \"x\": [\"2017-10-12\", \"2017-10-13\", \"2017-10-14\", \"2017-10-15\", \"2017-10-16\", \"2017-10-17\", \"2017-10-18\"], \"y\": [327, 804, 946, 1015, 1062, 1086, 1106], \"name\": \"Seth MacFarlane Calls Out Harvey Weinstein Back In 2013\", \"line\": {\"width\": 2, \"color\": \"rgb(114,82,38)\"}, \"legendgroup\": \"Seth MacFarlane Calls Out Harvey Weinstein Back In 2013\", \"showlegend\": false, \"xaxis\": \"x4\", \"yaxis\": \"y4\"}, {\"type\": \"scatter\", \"x\": [\"2017-10-12\", \"2017-10-13\", \"2017-10-14\", \"2017-10-15\", \"2017-10-16\", \"2017-10-17\", \"2017-10-18\"], \"y\": [1159, 2024, 2429, 2679, 2855, 2922, 2996], \"name\": \"Arnold Set off to the Center of the Earth\", \"line\": {\"width\": 2, \"color\": \"rgb(46,108,68)\"}, \"legendgroup\": \"Arnold Set off to the Center of the Earth\", \"showlegend\": false, \"xaxis\": \"x4\", \"yaxis\": \"y4\"}, {\"type\": \"scatter\", \"x\": [\"2017-10-13\", \"2017-10-14\", \"2017-10-15\", \"2017-10-16\", \"2017-10-17\", \"2017-10-18\", \"2017-10-19\"], \"y\": [483, 1627, 1957, 2034, 2049, 2069, 2077], \"name\": \"What Americans Heard in Cuba Attacks: The Sound\", \"line\": {\"width\": 2, \"color\": \"rgb(97,173,176)\"}, \"legendgroup\": \"What Americans Heard in Cuba Attacks: The Sound\", \"showlegend\": false, \"xaxis\": \"x4\", \"yaxis\": \"y4\"}, {\"type\": \"scatter\", \"x\": [\"2017-10-13\", \"2017-10-14\", \"2017-10-15\", \"2017-10-16\", \"2017-10-17\", \"2017-10-18\", \"2017-10-19\"], \"y\": [643, 2323, 3414, 4374, 4660, 4806, 4956], \"name\": \"Why Photos of the Eiffel Tower at Night are Illegal\", \"line\": {\"width\": 2, \"color\": \"rgb(207,244,75)\"}, \"legendgroup\": \"Why Photos of the Eiffel Tower at Night are Illegal\", \"showlegend\": false, \"xaxis\": \"x4\", \"yaxis\": \"y4\"}, {\"type\": \"scatter\", \"x\": [\"2017-10-13\", \"2017-10-14\", \"2017-10-15\", \"2017-10-16\", \"2017-10-17\", \"2017-10-18\", \"2017-10-19\"], \"y\": [145, 301, 361, 380, 398, 408, 412], \"name\": \"Why Are You Anxious?\", \"line\": {\"width\": 2, \"color\": \"rgb(105,158,188)\"}, \"legendgroup\": \"Why Are You Anxious?\", \"showlegend\": false, \"xaxis\": \"x4\", \"yaxis\": \"y4\"}, {\"type\": \"scatter\", \"x\": [\"2017-10-13\", \"2017-10-14\", \"2017-10-15\", \"2017-10-16\", \"2017-10-17\", \"2017-10-18\", \"2017-10-19\"], \"y\": [75, 227, 295, 326, 338, 353, 369], \"name\": \"Kane Brown - What's Mine Is Yours\", \"line\": {\"width\": 2, \"color\": \"rgb(105,176,177)\"}, \"legendgroup\": \"Kane Brown - What's Mine Is Yours\", \"showlegend\": false, \"xaxis\": \"x4\", \"yaxis\": \"y4\"}, {\"type\": \"scatter\", \"x\": [\"2017-10-13\", \"2017-10-14\", \"2017-10-15\", \"2017-10-16\", \"2017-10-17\", \"2017-10-18\", \"2017-10-19\"], \"y\": [84, 195, 257, 334, 392, 429, 462], \"name\": \"Guns N' Roses Feat. PINK! - Patience (Msg, Nyc) 10.11.17 (P!NK)\", \"line\": {\"width\": 2, \"color\": \"rgb(30,197,18)\"}, \"legendgroup\": \"Guns N' Roses Feat. PINK! - Patience (Msg, Nyc) 10.11.17 (P!NK)\", \"showlegend\": false, \"xaxis\": \"x4\", \"yaxis\": \"y4\"}, {\"type\": \"scatter\", \"x\": [\"2017-10-13\", \"2017-10-14\", \"2017-10-15\", \"2017-10-16\", \"2017-10-17\", \"2017-10-18\", \"2017-10-19\"], \"y\": [207, 370, 467, 519, 551, 574, 599], \"name\": \"Gucci Mane - Enormous feat. Ty Dolla $ign [Official Audio]\", \"line\": {\"width\": 2, \"color\": \"rgb(187,157,163)\"}, \"legendgroup\": \"Gucci Mane - Enormous feat. Ty Dolla $ign [Official Audio]\", \"showlegend\": false, \"xaxis\": \"x4\", \"yaxis\": \"y4\"}, {\"type\": \"scatter\", \"x\": [\"2017-10-13\", \"2017-10-14\", \"2017-10-15\", \"2017-10-16\", \"2017-10-17\", \"2017-10-18\", \"2017-10-19\"], \"y\": [338, 695, 1070, 1370, 1650, 1882, 2117], \"name\": \"John Legend - Penthouse Floor ft. Chance the Rapper\", \"line\": {\"width\": 2, \"color\": \"rgb(9,163,242)\"}, \"legendgroup\": \"John Legend - Penthouse Floor ft. Chance the Rapper\", \"showlegend\": false, \"xaxis\": \"x4\", \"yaxis\": \"y4\"}, {\"type\": \"scatter\", \"x\": [\"2017-10-14\", \"2017-10-15\", \"2017-10-16\", \"2017-10-17\", \"2017-10-18\", \"2017-10-19\", \"2017-10-20\"], \"y\": [3582, 4843, 5500, 5857, 6023, 6095, 6144], \"name\": \"The New Mutants | Official Trailer [HD] | 20th Century FOX\", \"line\": {\"width\": 2, \"color\": \"rgb(88,123,231)\"}, \"legendgroup\": \"The New Mutants | Official Trailer [HD] | 20th Century FOX\", \"showlegend\": false, \"xaxis\": \"x4\", \"yaxis\": \"y4\"}, {\"type\": \"scatter\", \"x\": [\"2017-10-14\", \"2017-10-15\", \"2017-10-16\", \"2017-10-17\", \"2017-10-18\", \"2017-10-19\", \"2017-10-20\"], \"y\": [4054, 6449, 7472, 7792, 7932, 8019, 8097], \"name\": \"Harvey Weinstein, Donald Trump and Systemic Sexism: A Closer Look\", \"line\": {\"width\": 2, \"color\": \"rgb(27,101,236)\"}, \"legendgroup\": \"Harvey Weinstein, Donald Trump and Systemic Sexism: A Closer Look\", \"showlegend\": false, \"xaxis\": \"x4\", \"yaxis\": \"y4\"}, {\"type\": \"scatter\", \"x\": [\"2017-10-14\", \"2017-10-15\", \"2017-10-16\", \"2017-10-17\", \"2017-10-18\", \"2017-10-19\", \"2017-10-20\"], \"y\": [334, 709, 807, 848, 862, 870, 881], \"name\": \"NO POMEGRANATES\", \"line\": {\"width\": 2, \"color\": \"rgb(229,227,191)\"}, \"legendgroup\": \"NO POMEGRANATES\", \"showlegend\": false, \"xaxis\": \"x4\", \"yaxis\": \"y4\"}, {\"type\": \"scatter\", \"x\": [\"2017-10-14\", \"2017-10-15\", \"2017-10-16\", \"2017-10-17\", \"2017-10-18\", \"2017-10-19\", \"2017-10-20\"], \"y\": [177, 271, 337, 396, 483, 582, 678], \"name\": \"Bebe Rexha - Meant to Be (feat. Florida Georgia Line) [Lyric Video]\", \"line\": {\"width\": 2, \"color\": \"rgb(222,35,65)\"}, \"legendgroup\": \"Bebe Rexha - Meant to Be (feat. Florida Georgia Line) [Lyric Video]\", \"showlegend\": false, \"xaxis\": \"x4\", \"yaxis\": \"y4\"}, {\"type\": \"scatter\", \"x\": [\"2017-10-14\", \"2017-10-15\", \"2017-10-16\"], \"y\": [36948, 68902, 82474], \"name\": \"Alesso & Anitta - Is That For Me (Official Video)\", \"line\": {\"width\": 2, \"color\": \"rgb(69,42,240)\"}, \"legendgroup\": \"Alesso & Anitta - Is That For Me (Official Video)\", \"showlegend\": false, \"xaxis\": \"x4\", \"yaxis\": \"y4\"}, {\"type\": \"scatter\", \"x\": [\"2017-10-17\", \"2017-10-18\", \"2017-10-19\", \"2017-10-20\"], \"y\": [90419, 96859, 102067, 108966], \"name\": \"Alesso & Anitta - Is That For Me (Official Music Video)\", \"line\": {\"width\": 2, \"color\": \"rgb(34,244,70)\"}, \"legendgroup\": \"Alesso & Anitta - Is That For Me (Official Music Video)\", \"showlegend\": false, \"xaxis\": \"x4\", \"yaxis\": \"y4\"}], {\"xaxis1\": {\"domain\": [0.0, 1.0], \"anchor\": \"y1\", \"title\": \"\"}, \"yaxis1\": {\"domain\": [0.8025, 1.0], \"anchor\": \"x1\", \"title\": \"mln. views\"}, \"xaxis2\": {\"domain\": [0.0, 1.0], \"anchor\": \"y2\", \"title\": \"\"}, \"yaxis2\": {\"domain\": [0.535, 0.7325], \"anchor\": \"x2\", \"title\": \"comments\"}, \"xaxis3\": {\"domain\": [0.0, 1.0], \"anchor\": \"y3\", \"title\": \"\"}, \"yaxis3\": {\"domain\": [0.2675, 0.465], \"anchor\": \"x3\", \"title\": \"likes\"}, \"xaxis4\": {\"domain\": [0.0, 1.0], \"anchor\": \"y4\", \"title\": \"\"}, \"yaxis4\": {\"domain\": [0.0, 0.1975], \"anchor\": \"x4\", \"title\": \"dislikes\"}, \"annotations\": [{\"y\": 1.0, \"xref\": \"paper\", \"x\": 0.5, \"yref\": \"paper\", \"text\": \"Views\", \"showarrow\": false, \"font\": {\"size\": 16}, \"xanchor\": \"center\", \"yanchor\": \"bottom\"}, {\"y\": 0.7325, \"xref\": \"paper\", \"x\": 0.5, \"yref\": \"paper\", \"text\": \"Comments\", \"showarrow\": false, \"font\": {\"size\": 16}, \"xanchor\": \"center\", \"yanchor\": \"bottom\"}, {\"y\": 0.465, \"xref\": \"paper\", \"x\": 0.5, \"yref\": \"paper\", \"text\": \"Likes\", \"showarrow\": false, \"font\": {\"size\": 16}, \"xanchor\": \"center\", \"yanchor\": \"bottom\"}, {\"y\": 0.1975, \"xref\": \"paper\", \"x\": 0.5, \"yref\": \"paper\", \"text\": \"Dislikes\", \"showarrow\": false, \"font\": {\"size\": 16}, \"xanchor\": \"center\", \"yanchor\": \"bottom\"}], \"width\": 800, \"height\": 3040, \"title\": \"Different metrics for videos trended in US for 7 days\", \"legend\": {\"x\": 0.0, \"y\": -0.338, \"tracegroupgap\": 1}}, {\"showLink\": true, \"linkText\": \"Export to plot.ly\"})});</script>"
      ]
     },
     "metadata": {},
     "output_type": "display_data"
    }
   ],
   "source": [
    "best_survivors(us_vid_df, 7, \"US\")"
   ]
  },
  {
   "cell_type": "markdown",
   "metadata": {
    "_cell_guid": "b80a8b8d-a669-45b4-a05d-466ba4f3d706",
    "_uuid": "1afaeb9d180d37041de109754fd8923d641c518d"
   },
   "source": [
    "Some initial conclusions:\n",
    "\n",
    "There are 200 trending videos per each date. Database does not look for some specific videos, only for top 200 trending. Video may be in this top list for a few days or only one day.\n",
    "\n",
    "Within covered period GB audience showed higher adherence to trending videos. Maximum amount of days being in trend for US audience was 7 days and for GB it was 10 days.\n",
    "\n",
    "Plotly charts above are very convenient, as it is possible to click on some videos in legend to exclude it from the charts. Thus if you interested in some specific video(s) it is possible to leave only them to look at.\n",
    "\n",
    "This method also reveal that in most cases likes and dislikes have similar shapes but different magnitudes.\n",
    "\n",
    "What is puzzling me now is why some of the top trending videos have so low amount of views/comments. I suppose that trending is more about speed of new views than they amont. Thus in following analysis I plan do check dynamic of these features for trending videos."
   ]
  },
  {
   "cell_type": "markdown",
   "metadata": {
    "_cell_guid": "56136150-9032-4ec7-b260-cf2253a5a4b4",
    "_uuid": "587d42789955928a8cc8b9831efd104e04d39487"
   },
   "source": [
    "# 2. Trending channels"
   ]
  },
  {
   "cell_type": "markdown",
   "metadata": {
    "_cell_guid": "f1511474-1701-40b4-8948-dab42706a4af",
    "_uuid": "552915dea136bb7a9c43e70303a76b54ef3a0a3b"
   },
   "source": [
    "The questions I have are:\n",
    "\n",
    "* how US and GB trending longevity of channels compares?\n",
    "* what is the difference in lasting trends between US and GB?\n",
    "* how average trend of likes and comments for each longevity group looks like?\n",
    "* are there channels that reappear in top 200?\n",
    "* what are the features of stable-trending channels (category, tags, ratio of views to likes/comments)?"
   ]
  },
  {
   "cell_type": "code",
   "execution_count": 10,
   "metadata": {
    "_cell_guid": "fa412c48-8d68-498a-9b54-60838f245dc0",
    "_uuid": "2dfbe27179d2c5c4975a5699ccac3fd9942995dc",
    "collapsed": true
   },
   "outputs": [],
   "source": [
    "# function designed to plot longevity of trending\n",
    "def trending_channels(gb, us, day_start, day_end, fig_height, hr_2ndRow):\n",
    "    # list of selected dates\n",
    "    datelist = [day_start + timedelta(days=x) for x in range((day_end-day_start).days + 1)]\n",
    "    # number of days is selected time span\n",
    "    tr_days = len(datelist)\n",
    "    \n",
    "    # leave only dates within selected range\n",
    "    gb = gb.loc[gb['date'].isin(datelist),]\n",
    "    us = us.loc[us['date'].isin(datelist),]\n",
    "    \n",
    "    # Dataframes for longeivety plot -----------------------------------------------------\n",
    "    # group by channel title to see for how many dates channel was in trend\n",
    "    gb_ch_days = gb.groupby('channel_title')['date'].nunique()\n",
    "    gb_ch_days = gb_ch_days.to_frame().reset_index()\n",
    "    # dataframe with amount of channels per each \"days in trend\" bucket\n",
    "    gb_days_trending = gb_ch_days.groupby('date', axis=0, as_index = False).count()\n",
    "    \n",
    "    # group by channel title to see for how many dates channel was in trend\n",
    "    us_ch_days = us.groupby('channel_title')['date'].nunique()\n",
    "    us_ch_days = us_ch_days.to_frame().reset_index()\n",
    "    # dataframe with amount of channels per each \"days in trend\" bucket\n",
    "    us_days_trending = us_ch_days.groupby('date', as_index = False).count()  \n",
    "    \n",
    "    # Difference in trending channels in US and GB -----------------------------------------\n",
    "    gb_day_tr_list = gb_ch_days.loc[gb_ch_days['date']==tr_days,\n",
    "                                    'channel_title'].values.tolist()\n",
    "    gb_day_tr = gb.loc[gb['channel_title'].isin(gb_day_tr_list),]\n",
    "    gb_day_tr = gb_day_tr.loc[gb_day_tr['date'].isin(datelist),]\n",
    "    gb_day_tr.sort_values('date', axis=0, ascending=True, inplace=True)\n",
    "    gb_day_tr.drop_duplicates(subset='video_id', keep='last', inplace=True)\n",
    "    gb_day_summary = gb_day_tr[['channel_title', 'views']].copy().groupby('channel_title',\n",
    "                                                                  as_index = False).sum()\n",
    "    \n",
    "    us_day_tr_list = us_ch_days.loc[us_ch_days['date']==tr_days,\n",
    "                                    'channel_title'].values.tolist()\n",
    "    us_day_tr = us.loc[us['channel_title'].isin(us_day_tr_list),]\n",
    "    us_day_tr = us_day_tr.loc[us_day_tr['date'].isin(datelist),]\n",
    "    us_day_tr.sort_values('date', axis=0, ascending=True, inplace=True)\n",
    "    us_day_tr.drop_duplicates(subset='video_id', keep='last', inplace=True)\n",
    "    us_day_summary = us_day_tr[['channel_title', 'views']].copy().groupby('channel_title',\n",
    "                                                                  as_index = False).sum()\n",
    "    \n",
    "    # make lists of channels overlap and channels for gb/us only --------------------------\n",
    "    gb_tr_list = gb_day_summary['channel_title'].values.tolist()\n",
    "    us_tr_list = us_day_summary['channel_title'].values.tolist()\n",
    "    overlaps = [x for x in gb_tr_list if x in us_tr_list]\n",
    "    gb_only = [x for x in gb_tr_list if x not in us_tr_list]\n",
    "    us_only = [x for x in us_tr_list if x not in gb_tr_list]\n",
    "    \n",
    "    # sort dataframes to make plots look nicer\n",
    "    gb_day_summary.sort_values('views', axis=0, ascending=False, inplace=True)\n",
    "    us_day_summary.sort_values('views', axis=0, ascending=False, inplace=True)\n",
    "    \n",
    "    # make overlap database and sort them by channel_title\n",
    "    gb_overlap = gb_day_summary.loc[gb_day_summary['channel_title'].isin(overlaps),]\n",
    "    gb_overlap = gb_overlap.sort_values('channel_title', axis=0, ascending=False)\n",
    "    \n",
    "    us_overlap = us_day_summary.loc[us_day_summary['channel_title'].isin(overlaps),]\n",
    "    gb_overlap = us_overlap.sort_values('channel_title', axis=0, ascending=False)\n",
    "    \n",
    "    # make us/gb only database\n",
    "    gb_only_df = gb_day_summary.loc[gb_day_summary['channel_title'].isin(gb_only),]\n",
    "    us_only_df = us_day_summary.loc[us_day_summary['channel_title'].isin(us_only),]  \n",
    "    \n",
    "    # combined plot ------------------------------------------------------------------\n",
    "    fig = plt.figure(figsize=(12, fig_height))\n",
    "    gs = gridspec.GridSpec(3, 6, height_ratios=[1,0.1,hr_2ndRow],\n",
    "                           width_ratios=[1,1,1,0.5,1,1])\n",
    "    \n",
    "    # plotting longevity of trending\n",
    "    ax1 = plt.subplot(gs[0,:3])\n",
    "    ax1.bar(gb_days_trending['date']+0.15,\n",
    "            gb_days_trending['channel_title'],\n",
    "            width = 0.35,\n",
    "            color='r', alpha = 1)\n",
    "    ax1.bar(us_days_trending['date']-0.15,\n",
    "            us_days_trending['channel_title'],\n",
    "            width = 0.35,\n",
    "            color='b', alpha = 1)\n",
    "    \n",
    "    ax1.set_title('Longevity of trending from {} to {}'.format(day_start,day_end),\n",
    "                fontstyle='italic', fontweight='bold')\n",
    "    ax1.set_ylabel('Channels within each bucket')\n",
    "    ax1.set_yticks(np.arange(0, max(us_days_trending['channel_title']), 10))\n",
    "    ax1.set_xlabel('Days channel was in list of top 200 trending videos')\n",
    "    ax1.set_xticks(us_days_trending['date'].unique())\n",
    "    ax1.set_xticklabels(gb_days_trending['date'].unique())\n",
    "    ax1.legend(('GB', 'US'))\n",
    "    ax1.grid(linestyle='-', linewidth=1)\n",
    "    \n",
    "    # plotting channels trending in both GB and US\n",
    "    ax2 = plt.subplot(gs[0,4:])\n",
    "    width = 0.4\n",
    "    ax2.barh(np.arange(gb_overlap['channel_title'].shape[0]),\n",
    "             gb_overlap['views'].apply(lambda x: x/1000000),\n",
    "             width, color='r', alpha = 1)\n",
    "    ax2.barh(np.arange(us_overlap['channel_title'].shape[0])+width,\n",
    "             us_overlap['views'].apply(lambda x: x/1000000),\n",
    "             width, color='b', alpha = 1)\n",
    "    overlaps = [ '\\n'.join(wrap(l, 15)) for l in overlaps]\n",
    "    ax2.set_yticks(np.arange(len(overlaps)))\n",
    "    yticklabels = ['\\n'.join(wrap(l, 15)) for l in us_overlap['channel_title'].values.tolist()]\n",
    "    ax2.set_yticklabels(yticklabels, stretch = 'ultra-condensed')\n",
    "    ax2.set_xlabel('mln viewes')\n",
    "    ax2.legend(('GB', 'US'))\n",
    "    t_str = u'Channels trended in GB and US for {} days from {} to {}'\n",
    "    title = '\\n'.join(wrap(t_str.format(tr_days,day_start, day_end),30))\n",
    "    ax2.set_title(title, fontstyle='italic', fontweight='bold')\n",
    "    \n",
    "    # plotting channels trending in GB only\n",
    "    ax3 = plt.subplot(gs[2,:2])\n",
    "    width = 0.3\n",
    "    ax3 = sns.barplot(x = gb_only_df['views'].apply(lambda x: x/1000000),\n",
    "                     y = gb_only_df['channel_title'],\n",
    "                     color = 'red')\n",
    "    gb_only = ['\\n'.join(wrap(l, 15)) for l in gb_only]\n",
    "    ax3.set_yticks(np.arange(len(gb_only)))\n",
    "    ax3.set_yticklabels(gb_only_df['channel_title'],stretch = 'ultra-condensed')\n",
    "    ax3.set_xlabel('mln viewes')\n",
    "    ax3.set_ylabel('')\n",
    "    t_str = u'Channels trended only in GB for {} days from {} to {}'\n",
    "    title = '\\n'.join(wrap(t_str.format(tr_days,day_start, day_end),30))\n",
    "    ax3.set_title(title, fontstyle='italic', fontweight='bold')\n",
    "    \n",
    "    # plotting channels trending in US only\n",
    "    ax4 = plt.subplot(gs[2,4:])\n",
    "    width = 0.3\n",
    "    ax4 = sns.barplot(x = us_only_df['views'].apply(lambda x: x/1000000),\n",
    "                     y = us_only_df['channel_title'],\n",
    "                     color = 'blue')\n",
    "    us_only = ['\\n'.join(wrap(l, 15)) for l in us_only]\n",
    "    ax4.set_yticks(np.arange(len(us_only)))\n",
    "    ax4.set_yticklabels(us_only_df['channel_title'], stretch = 'ultra-condensed')\n",
    "    ax4.set_xlabel('mln viewes')\n",
    "    ax4.set_ylabel('')\n",
    "    t_str = u'Channels trended only in US for {} days from {} to {}'\n",
    "    title = '\\n'.join(wrap(t_str.format(tr_days,day_start, day_end),30))\n",
    "    ax4.set_title(title, fontstyle='italic', fontweight='bold')\n",
    "    \n",
    "    plt.show()"
   ]
  },
  {
   "cell_type": "code",
   "execution_count": 11,
   "metadata": {
    "_cell_guid": "acc243c2-7141-4d7c-9458-9fea79dddb07",
    "_uuid": "e708a20fa3a4cd4e6597abfe9d88a6bf0eed14c9"
   },
   "outputs": [
    {
     "data": {
      "image/png": "[encoded data removed]",
      "text/plain": [
       "<matplotlib.figure.Figure at 0x25e858c0cf8>"
      ]
     },
     "metadata": {},
     "output_type": "display_data"
    }
   ],
   "source": [
    "trending_channels(gb_vid_df, us_vid_df, date(2017,9,13), date(2017,9,26), 15, 0.7)"
   ]
  },
  {
   "cell_type": "markdown",
   "metadata": {
    "_cell_guid": "23e5459c-6074-4833-8b17-85fe64cde88b",
    "_uuid": "36edbb8324dc2759026d42ae1fd618617f07dc7a"
   },
   "source": [
    "The charts above tell the following: \n",
    "* there were 19 channels with videos trending in GB for all 14 days selected\n",
    "* there were 10 channels with videos trending in US for all 14 days selected\n",
    "* the chart is not cumulative - the channels from bucket \"15 days\" don't appear in other buckets\n",
    "* 6 channels were in top trends in both countries\n",
    "* 13 channels were in top trends in GB only \n",
    "* 4 channels were in top trends in US only\n",
    "* if your target audience is US then much more effort should be made to keep the channel in top trends"
   ]
  },
  {
   "cell_type": "markdown",
   "metadata": {
    "_cell_guid": "339e5d23-f7ba-4ca6-807c-54594b1188b3",
    "_uuid": "7ddcb960f803771aea68b0db9532d5475e264956"
   },
   "source": [
    "At first I expected that it is possible that one channel includes few trending videos at same date. But it appeared not to be so. Following chart supports this conclusion."
   ]
  },
  {
   "cell_type": "code",
   "execution_count": 12,
   "metadata": {
    "_cell_guid": "67f501c0-c3a4-40d2-9cc4-93d2c7af7f43",
    "_uuid": "fafce10e5399ab9d853ea0f8d1bfb3693a1831cb"
   },
   "outputs": [
    {
     "data": {
      "image/png": "[encoded data removed]",
      "text/plain": [
       "<matplotlib.figure.Figure at 0x25e8586fc88>"
      ]
     },
     "metadata": {},
     "output_type": "display_data"
    }
   ],
   "source": [
    "gb_chan_per_date = gb_vid_df[['channel_title', 'date']].groupby('date', \n",
    "                                                                as_index=False).count()\n",
    "\n",
    "us_chan_per_date = us_vid_df[['channel_title', 'date']].groupby('date', \n",
    "                                                                as_index=False).count()\n",
    "\n",
    "# plotting quantity of channels per each date\n",
    "fig = plt.figure(figsize=(14, 5))\n",
    "gs = gridspec.GridSpec(1, 2, width_ratios=[1,1])\n",
    "\n",
    "ax1 = plt.subplot(gs[0,0])\n",
    "ax1 = sns.barplot(x=\"date\", y=\"channel_title\", data=gb_chan_per_date,\n",
    "                  color='red', alpha=0.9)\n",
    "ax1.set_ylabel('Channels per date', fontsize=14)\n",
    "ax1.set_xticklabels(gb_chan_per_date['date'].unique(), rotation=45)\n",
    "ax1.set_xlabel('')\n",
    "ax1.set_title('Channels per each date (GB)', fontsize=20)\n",
    "\n",
    "ax2 = plt.subplot(gs[0,1])\n",
    "ax2 = sns.barplot(x=\"date\", y=\"channel_title\", data=us_chan_per_date,\n",
    "                  color='blue', alpha=0.9)\n",
    "ax2.set_ylabel('Channels per date', fontsize=14)\n",
    "ax2.set_xticklabels(us_chan_per_date['date'].unique(), rotation=45)\n",
    "ax2.set_xlabel('')\n",
    "ax2.set_title('Channels per each date (US)', fontsize=20)\n",
    "\n",
    "plt.show()"
   ]
  },
  {
   "cell_type": "markdown",
   "metadata": {
    "_cell_guid": "dde01590-501f-45d6-8921-39128a39c5e6",
    "_uuid": "6b68f4c44e078efcf415729aecbb4af68b90b678"
   },
   "source": [
    "These two looks very familiar to charts above with **videos** by each date. But this one shows **channels** by each date. Thus amount of videos per day equals to amount of channels per day which means only one videos from the channel can be in trend. "
   ]
  },
  {
   "cell_type": "markdown",
   "metadata": {
    "_cell_guid": "71d956f0-f4e6-43a8-843a-49d1d249a6e4",
    "_uuid": "f0211bbb03d538b7b69c919b37e856c168711d48"
   },
   "source": [
    "Considering this conclusion it is interesting to see what happens with videos of trending channels. At what point one is replaced by another.\n",
    "\n",
    "Function below is designed to make Ploly chart with possibility to select specific channel and explore the story of its videos."
   ]
  },
  {
   "cell_type": "code",
   "execution_count": 13,
   "metadata": {
    "_cell_guid": "2e630b96-3cc7-49c7-9ca8-673d74ef84dd",
    "_uuid": "6381239ace716650174d4651a9e214a039751606",
    "collapsed": true
   },
   "outputs": [],
   "source": [
    "# function for channels analysis\n",
    "# days_a must be in range between day_start and day_end\n",
    "def channels_insight(df, country, day_start, day_end, days_a):\n",
    "    # list of selected dates\n",
    "    datelist = [day_start + timedelta(days=x) for x in range((day_end-day_start).days + 1)]\n",
    "    # take part of database that included in relevant period\n",
    "    df = df.copy().loc[df['date'].isin(datelist),]\n",
    "    # make list of channels survived for selected days_a\n",
    "    df_ch_days = df.groupby('channel_title')['date'].nunique().to_frame().reset_index()\n",
    "    df_ch_list = df_ch_days.loc[df_ch_days['date']==days_a, 'channel_title'].unique().tolist()\n",
    "    \n",
    "    # plotting videos per each channel (by views)\n",
    "    data = []\n",
    "    buttons = []\n",
    "    buttons_list = []\n",
    "    \n",
    "    for x in df_ch_list:\n",
    "        channel_videos = df.loc[df['channel_title'] == x,['title', 'date', 'views']]\n",
    "        videos_list = channel_videos['title'].unique().tolist()\n",
    "        boolean_list = [True] + [False]*(len(videos_list)-1)\n",
    "        color = 'rgb('+str(np.random.randint(1,256))+\",\"+str(np.random.randint(1,256))+\",\"+str(np.random.randint(1,256))+\")\"\n",
    "        for i in range(0,len(videos_list)):\n",
    "            vt = videos_list[i]\n",
    "            video = channel_videos.loc[channel_videos['title']==vt, ['views', 'date']]\n",
    "            trace = go.Scatter(x = video['date'].values,\n",
    "                               y = video['views'].values,\n",
    "                               name = x,\n",
    "                               line = dict(width = 2, color = color),\n",
    "                               legendgroup = x,\n",
    "                               showlegend = boolean_list[i])\n",
    "            buttons_list.append(x) # this list will help identify buttons visibility\n",
    "            data.extend([trace])\n",
    "    \n",
    "    for x in df_ch_list:       \n",
    "        buttons_upd = list([dict(label = x,\n",
    "                                method = 'update',\n",
    "                                args = [{'visible': [i==x for i in buttons_list]}])])\n",
    "        buttons.extend(buttons_upd)\n",
    "    \n",
    "    buttons_all = list([dict(label = 'All channels',\n",
    "                             method = 'update',\n",
    "                             args = [{'visible': [True for x in buttons_list]}])]) \n",
    "\n",
    "    buttons.extend(buttons_all)\n",
    "    \n",
    "    update_menus = list([dict(active=1,\n",
    "                              buttons = buttons,\n",
    "                              direction = 'down',\n",
    "                              pad = {'r': 10, 't': 10},\n",
    "                              showactive = True,\n",
    "                              x = 0.001,\n",
    "                              xanchor = 'left',\n",
    "                              y = 1.1,\n",
    "                              yanchor = 'top')])\n",
    "    \n",
    "    layout = dict(title = 'Videos of trending channels ({})'.format(country),\n",
    "                  xaxis = dict(title = ''),\n",
    "                  yaxis = dict(title = 'views'),\n",
    "                  updatemenus = update_menus,\n",
    "                  width=800, height=600, legend=dict(orientation=\"h\"))\n",
    "         \n",
    "    fig = dict(data = data, layout = layout)\n",
    "    \n",
    "    iplot(fig)"
   ]
  },
  {
   "cell_type": "code",
   "execution_count": 14,
   "metadata": {
    "_cell_guid": "88ad2bac-4ccd-45df-87fe-be35ce14f396",
    "_uuid": "f4df06f0c612ba35683df42a93fed58d050fb2f7",
    "scrolled": true
   },
   "outputs": [
    {
     "data": {
      "application/vnd.plotly.v1+json": {
       "data": [
        {
         "legendgroup": "Amelia Liana",
         "line": {
          "color": "rgb(239,80,255)",
          "width": 2
         },
         "name": "Amelia Liana",
         "showlegend": true,
         "type": "scatter",
         "x": [
          "2017-09-13",
          "2017-09-14",
          "2017-09-15"
         ],
         "y": [
          58169,
          62029,
          66561
         ]
        },
        {
         "legendgroup": "Amelia Liana",
         "line": {
          "color": "rgb(239,80,255)",
          "width": 2
         },
         "name": "Amelia Liana",
         "showlegend": false,
         "type": "scatter",
         "x": [
          "2017-09-16",
          "2017-09-17",
          "2017-09-18",
          "2017-09-19",
          "2017-09-20"
         ],
         "y": [
          69804,
          81668,
          87546,
          90003,
          91934
         ]
        },
        {
         "legendgroup": "Amelia Liana",
         "line": {
          "color": "rgb(239,80,255)",
          "width": 2
         },
         "name": "Amelia Liana",
         "showlegend": false,
         "type": "scatter",
         "x": [
          "2017-09-21",
          "2017-09-22"
         ],
         "y": [
          63628,
          66022
         ]
        },
        {
         "legendgroup": "Amelia Liana",
         "line": {
          "color": "rgb(239,80,255)",
          "width": 2
         },
         "name": "Amelia Liana",
         "showlegend": false,
         "type": "scatter",
         "x": [
          "2017-09-23",
          "2017-09-24"
         ],
         "y": [
          41884,
          45481
         ]
        },
        {
         "legendgroup": "BBC News",
         "line": {
          "color": "rgb(137,118,180)",
          "width": 2
         },
         "name": "BBC News",
         "showlegend": true,
         "type": "scatter",
         "x": [
          "2017-09-13",
          "2017-09-14",
          "2017-09-15"
         ],
         "y": [
          136677,
          141012,
          143075
         ]
        },
        {
         "legendgroup": "BBC News",
         "line": {
          "color": "rgb(137,118,180)",
          "width": 2
         },
         "name": "BBC News",
         "showlegend": false,
         "type": "scatter",
         "x": [
          "2017-09-16",
          "2017-09-17",
          "2017-09-18",
          "2017-09-19",
          "2017-09-20",
          "2017-09-21",
          "2017-09-22"
         ],
         "y": [
          64237,
          83906,
          89671,
          90855,
          91572,
          92118,
          92374
         ]
        },
        {
         "legendgroup": "BBC News",
         "line": {
          "color": "rgb(137,118,180)",
          "width": 2
         },
         "name": "BBC News",
         "showlegend": false,
         "type": "scatter",
         "x": [
          "2017-09-23",
          "2017-09-24"
         ],
         "y": [
          270282,
          324865
         ]
        },
        {
         "legendgroup": "BBCRadio1VEVO",
         "line": {
          "color": "rgb(106,186,17)",
          "width": 2
         },
         "name": "BBCRadio1VEVO",
         "showlegend": true,
         "type": "scatter",
         "x": [
          "2017-09-13",
          "2017-09-14",
          "2017-09-15"
         ],
         "y": [
          1024398,
          1247121,
          1465456
         ]
        },
        {
         "legendgroup": "BBCRadio1VEVO",
         "line": {
          "color": "rgb(106,186,17)",
          "width": 2
         },
         "name": "BBCRadio1VEVO",
         "showlegend": false,
         "type": "scatter",
         "x": [
          "2017-09-16",
          "2017-09-17",
          "2017-09-18",
          "2017-09-19",
          "2017-09-20",
          "2017-09-21",
          "2017-09-22"
         ],
         "y": [
          169622,
          630265,
          1131274,
          1456100,
          1703268,
          1875354,
          1988253
         ]
        },
        {
         "legendgroup": "BBCRadio1VEVO",
         "line": {
          "color": "rgb(106,186,17)",
          "width": 2
         },
         "name": "BBCRadio1VEVO",
         "showlegend": false,
         "type": "scatter",
         "x": [
          "2017-09-23",
          "2017-09-24"
         ],
         "y": [
          354128,
          561427
         ]
        },
        {
         "legendgroup": "Brave Wilderness",
         "line": {
          "color": "rgb(156,66,145)",
          "width": 2
         },
         "name": "Brave Wilderness",
         "showlegend": true,
         "type": "scatter",
         "x": [
          "2017-09-13"
         ],
         "y": [
          2384126
         ]
        },
        {
         "legendgroup": "Brave Wilderness",
         "line": {
          "color": "rgb(156,66,145)",
          "width": 2
         },
         "name": "Brave Wilderness",
         "showlegend": false,
         "type": "scatter",
         "x": [
          "2017-09-14",
          "2017-09-15",
          "2017-09-16",
          "2017-09-17",
          "2017-09-18",
          "2017-09-19",
          "2017-09-20",
          "2017-09-21",
          "2017-09-22"
         ],
         "y": [
          1398012,
          1936912,
          2161849,
          2333091,
          2425974,
          2457564,
          2484262,
          2509842,
          2522721
         ]
        },
        {
         "legendgroup": "Brave Wilderness",
         "line": {
          "color": "rgb(156,66,145)",
          "width": 2
         },
         "name": "Brave Wilderness",
         "showlegend": false,
         "type": "scatter",
         "x": [
          "2017-09-23",
          "2017-09-24"
         ],
         "y": [
          1814787,
          2607370
         ]
        },
        {
         "legendgroup": "Dina Tokio",
         "line": {
          "color": "rgb(117,97,250)",
          "width": 2
         },
         "name": "Dina Tokio",
         "showlegend": true,
         "type": "scatter",
         "x": [
          "2017-09-13",
          "2017-09-14",
          "2017-09-15"
         ],
         "y": [
          218536,
          250268,
          302662
         ]
        },
        {
         "legendgroup": "Dina Tokio",
         "line": {
          "color": "rgb(117,97,250)",
          "width": 2
         },
         "name": "Dina Tokio",
         "showlegend": false,
         "type": "scatter",
         "x": [
          "2017-09-16",
          "2017-09-17",
          "2017-09-18",
          "2017-09-19",
          "2017-09-20",
          "2017-09-21",
          "2017-09-22"
         ],
         "y": [
          188855,
          228082,
          245955,
          255786,
          264265,
          273337,
          277692
         ]
        },
        {
         "legendgroup": "Dina Tokio",
         "line": {
          "color": "rgb(117,97,250)",
          "width": 2
         },
         "name": "Dina Tokio",
         "showlegend": false,
         "type": "scatter",
         "x": [
          "2017-09-23",
          "2017-09-24"
         ],
         "y": [
          81077,
          123144
         ]
        },
        {
         "legendgroup": "First We Feast",
         "line": {
          "color": "rgb(12,85,90)",
          "width": 2
         },
         "name": "First We Feast",
         "showlegend": true,
         "type": "scatter",
         "x": [
          "2017-09-13",
          "2017-09-14",
          "2017-09-15"
         ],
         "y": [
          483360,
          579530,
          650836
         ]
        },
        {
         "legendgroup": "First We Feast",
         "line": {
          "color": "rgb(12,85,90)",
          "width": 2
         },
         "name": "First We Feast",
         "showlegend": false,
         "type": "scatter",
         "x": [
          "2017-09-16",
          "2017-09-17",
          "2017-09-18",
          "2017-09-19",
          "2017-09-20",
          "2017-09-21",
          "2017-09-22"
         ],
         "y": [
          656697,
          717397,
          753615,
          773318,
          810957,
          841653,
          881841
         ]
        },
        {
         "legendgroup": "First We Feast",
         "line": {
          "color": "rgb(12,85,90)",
          "width": 2
         },
         "name": "First We Feast",
         "showlegend": false,
         "type": "scatter",
         "x": [
          "2017-09-23",
          "2017-09-24"
         ],
         "y": [
          793864,
          828693
         ]
        },
        {
         "legendgroup": "Fleur DeForce",
         "line": {
          "color": "rgb(223,247,163)",
          "width": 2
         },
         "name": "Fleur DeForce",
         "showlegend": true,
         "type": "scatter",
         "x": [
          "2017-09-13",
          "2017-09-14"
         ],
         "y": [
          119670,
          125476
         ]
        },
        {
         "legendgroup": "Fleur DeForce",
         "line": {
          "color": "rgb(223,247,163)",
          "width": 2
         },
         "name": "Fleur DeForce",
         "showlegend": false,
         "type": "scatter",
         "x": [
          "2017-09-15",
          "2017-09-16",
          "2017-09-17",
          "2017-09-18",
          "2017-09-19",
          "2017-09-20",
          "2017-09-21",
          "2017-09-22"
         ],
         "y": [
          126204,
          149030,
          163136,
          176598,
          181824,
          185996,
          189979,
          191931
         ]
        },
        {
         "legendgroup": "Fleur DeForce",
         "line": {
          "color": "rgb(223,247,163)",
          "width": 2
         },
         "name": "Fleur DeForce",
         "showlegend": false,
         "type": "scatter",
         "x": [
          "2017-09-23",
          "2017-09-24"
         ],
         "y": [
          102500,
          108077
         ]
        },
        {
         "legendgroup": "Grace Helbig",
         "line": {
          "color": "rgb(113,232,123)",
          "width": 2
         },
         "name": "Grace Helbig",
         "showlegend": true,
         "type": "scatter",
         "x": [
          "2017-09-13",
          "2017-09-14",
          "2017-09-15"
         ],
         "y": [
          141356,
          158779,
          169567
         ]
        },
        {
         "legendgroup": "Grace Helbig",
         "line": {
          "color": "rgb(113,232,123)",
          "width": 2
         },
         "name": "Grace Helbig",
         "showlegend": false,
         "type": "scatter",
         "x": [
          "2017-09-16",
          "2017-09-17",
          "2017-09-18",
          "2017-09-19",
          "2017-09-20"
         ],
         "y": [
          87647,
          135115,
          157482,
          166760,
          173696
         ]
        },
        {
         "legendgroup": "Grace Helbig",
         "line": {
          "color": "rgb(113,232,123)",
          "width": 2
         },
         "name": "Grace Helbig",
         "showlegend": false,
         "type": "scatter",
         "x": [
          "2017-09-21",
          "2017-09-22"
         ],
         "y": [
          217556,
          228868
         ]
        },
        {
         "legendgroup": "Grace Helbig",
         "line": {
          "color": "rgb(113,232,123)",
          "width": 2
         },
         "name": "Grace Helbig",
         "showlegend": false,
         "type": "scatter",
         "x": [
          "2017-09-23",
          "2017-09-24"
         ],
         "y": [
          224708,
          229628
         ]
        },
        {
         "legendgroup": "Inthefrow",
         "line": {
          "color": "rgb(191,215,130)",
          "width": 2
         },
         "name": "Inthefrow",
         "showlegend": true,
         "type": "scatter",
         "x": [
          "2017-09-13",
          "2017-09-14",
          "2017-09-15"
         ],
         "y": [
          61781,
          63686,
          65950
         ]
        },
        {
         "legendgroup": "Inthefrow",
         "line": {
          "color": "rgb(191,215,130)",
          "width": 2
         },
         "name": "Inthefrow",
         "showlegend": false,
         "type": "scatter",
         "x": [
          "2017-09-16",
          "2017-09-17",
          "2017-09-18",
          "2017-09-19",
          "2017-09-20"
         ],
         "y": [
          62755,
          76164,
          84097,
          87316,
          89908
         ]
        },
        {
         "legendgroup": "Inthefrow",
         "line": {
          "color": "rgb(191,215,130)",
          "width": 2
         },
         "name": "Inthefrow",
         "showlegend": false,
         "type": "scatter",
         "x": [
          "2017-09-21",
          "2017-09-22",
          "2017-09-23",
          "2017-09-24"
         ],
         "y": [
          85095,
          97168,
          107617,
          113048
         ]
        },
        {
         "legendgroup": "Jeremy Jahns",
         "line": {
          "color": "rgb(58,116,203)",
          "width": 2
         },
         "name": "Jeremy Jahns",
         "showlegend": true,
         "type": "scatter",
         "x": [
          "2017-09-13",
          "2017-09-14",
          "2017-09-15"
         ],
         "y": [
          787961,
          808962,
          829812
         ]
        },
        {
         "legendgroup": "Jeremy Jahns",
         "line": {
          "color": "rgb(58,116,203)",
          "width": 2
         },
         "name": "Jeremy Jahns",
         "showlegend": false,
         "type": "scatter",
         "x": [
          "2017-09-16",
          "2017-09-17",
          "2017-09-18",
          "2017-09-19",
          "2017-09-20"
         ],
         "y": [
          238222,
          351831,
          408663,
          432877,
          446594
         ]
        },
        {
         "legendgroup": "Jeremy Jahns",
         "line": {
          "color": "rgb(58,116,203)",
          "width": 2
         },
         "name": "Jeremy Jahns",
         "showlegend": false,
         "type": "scatter",
         "x": [
          "2017-09-21",
          "2017-09-22",
          "2017-09-23",
          "2017-09-24"
         ],
         "y": [
          222217,
          259256,
          281064,
          287517
         ]
        },
        {
         "legendgroup": "LaLiga Santander",
         "line": {
          "color": "rgb(139,140,78)",
          "width": 2
         },
         "name": "LaLiga Santander",
         "showlegend": true,
         "type": "scatter",
         "x": [
          "2017-09-13",
          "2017-09-14",
          "2017-09-15",
          "2017-09-16"
         ],
         "y": [
          688485,
          694324,
          700959,
          706428
         ]
        },
        {
         "legendgroup": "LaLiga Santander",
         "line": {
          "color": "rgb(139,140,78)",
          "width": 2
         },
         "name": "LaLiga Santander",
         "showlegend": false,
         "type": "scatter",
         "x": [
          "2017-09-17",
          "2017-09-18"
         ],
         "y": [
          23907,
          77356
         ]
        },
        {
         "legendgroup": "LaLiga Santander",
         "line": {
          "color": "rgb(139,140,78)",
          "width": 2
         },
         "name": "LaLiga Santander",
         "showlegend": false,
         "type": "scatter",
         "x": [
          "2017-09-19",
          "2017-09-20",
          "2017-09-21",
          "2017-09-22",
          "2017-09-23",
          "2017-09-24"
         ],
         "y": [
          441539,
          513994,
          538102,
          541669,
          545820,
          548846
         ]
        },
        {
         "legendgroup": "Nile Wilson",
         "line": {
          "color": "rgb(227,219,112)",
          "width": 2
         },
         "name": "Nile Wilson",
         "showlegend": true,
         "type": "scatter",
         "x": [
          "2017-09-13",
          "2017-09-14"
         ],
         "y": [
          185541,
          214481
         ]
        },
        {
         "legendgroup": "Nile Wilson",
         "line": {
          "color": "rgb(227,219,112)",
          "width": 2
         },
         "name": "Nile Wilson",
         "showlegend": false,
         "type": "scatter",
         "x": [
          "2017-09-15",
          "2017-09-16",
          "2017-09-17",
          "2017-09-18",
          "2017-09-19",
          "2017-09-20",
          "2017-09-21",
          "2017-09-22"
         ],
         "y": [
          168197,
          254186,
          286064,
          306432,
          315054,
          321702,
          327083,
          334833
         ]
        },
        {
         "legendgroup": "Nile Wilson",
         "line": {
          "color": "rgb(227,219,112)",
          "width": 2
         },
         "name": "Nile Wilson",
         "showlegend": false,
         "type": "scatter",
         "x": [
          "2017-09-23",
          "2017-09-24"
         ],
         "y": [
          248360,
          261636
         ]
        },
        {
         "legendgroup": "SamanthaMariaVlogs",
         "line": {
          "color": "rgb(56,19,77)",
          "width": 2
         },
         "name": "SamanthaMariaVlogs",
         "showlegend": true,
         "type": "scatter",
         "x": [
          "2017-09-13",
          "2017-09-14",
          "2017-09-15"
         ],
         "y": [
          109101,
          115702,
          121547
         ]
        },
        {
         "legendgroup": "SamanthaMariaVlogs",
         "line": {
          "color": "rgb(56,19,77)",
          "width": 2
         },
         "name": "SamanthaMariaVlogs",
         "showlegend": false,
         "type": "scatter",
         "x": [
          "2017-09-16",
          "2017-09-17",
          "2017-09-18",
          "2017-09-19",
          "2017-09-20"
         ],
         "y": [
          85682,
          99106,
          106937,
          111194,
          114628
         ]
        },
        {
         "legendgroup": "SamanthaMariaVlogs",
         "line": {
          "color": "rgb(56,19,77)",
          "width": 2
         },
         "name": "SamanthaMariaVlogs",
         "showlegend": false,
         "type": "scatter",
         "x": [
          "2017-09-21"
         ],
         "y": [
          79727
         ]
        },
        {
         "legendgroup": "SamanthaMariaVlogs",
         "line": {
          "color": "rgb(56,19,77)",
          "width": 2
         },
         "name": "SamanthaMariaVlogs",
         "showlegend": false,
         "type": "scatter",
         "x": [
          "2017-09-22",
          "2017-09-23",
          "2017-09-24"
         ],
         "y": [
          83150,
          87426,
          89301
         ]
        },
        {
         "legendgroup": "Sprinkleofglitter",
         "line": {
          "color": "rgb(220,17,129)",
          "width": 2
         },
         "name": "Sprinkleofglitter",
         "showlegend": true,
         "type": "scatter",
         "x": [
          "2017-09-13",
          "2017-09-14",
          "2017-09-15"
         ],
         "y": [
          40592,
          153181,
          197066
         ]
        },
        {
         "legendgroup": "Sprinkleofglitter",
         "line": {
          "color": "rgb(220,17,129)",
          "width": 2
         },
         "name": "Sprinkleofglitter",
         "showlegend": false,
         "type": "scatter",
         "x": [
          "2017-09-16",
          "2017-09-17",
          "2017-09-18",
          "2017-09-19",
          "2017-09-20"
         ],
         "y": [
          78516,
          169101,
          208478,
          229795,
          239976
         ]
        },
        {
         "legendgroup": "Sprinkleofglitter",
         "line": {
          "color": "rgb(220,17,129)",
          "width": 2
         },
         "name": "Sprinkleofglitter",
         "showlegend": false,
         "type": "scatter",
         "x": [
          "2017-09-21",
          "2017-09-22"
         ],
         "y": [
          116972,
          168453
         ]
        },
        {
         "legendgroup": "Sprinkleofglitter",
         "line": {
          "color": "rgb(220,17,129)",
          "width": 2
         },
         "name": "Sprinkleofglitter",
         "showlegend": false,
         "type": "scatter",
         "x": [
          "2017-09-23",
          "2017-09-24"
         ],
         "y": [
          57129,
          77152
         ]
        },
        {
         "legendgroup": "The Late Late Show with James Corden",
         "line": {
          "color": "rgb(190,89,241)",
          "width": 2
         },
         "name": "The Late Late Show with James Corden",
         "showlegend": true,
         "type": "scatter",
         "x": [
          "2017-09-13",
          "2017-09-14",
          "2017-09-15"
         ],
         "y": [
          199102,
          743189,
          1191937
         ]
        },
        {
         "legendgroup": "The Late Late Show with James Corden",
         "line": {
          "color": "rgb(190,89,241)",
          "width": 2
         },
         "name": "The Late Late Show with James Corden",
         "showlegend": false,
         "type": "scatter",
         "x": [
          "2017-09-16",
          "2017-09-17",
          "2017-09-18",
          "2017-09-19",
          "2017-09-20",
          "2017-09-21",
          "2017-09-22"
         ],
         "y": [
          301382,
          446859,
          537024,
          584775,
          620288,
          644847,
          655354
         ]
        },
        {
         "legendgroup": "The Late Late Show with James Corden",
         "line": {
          "color": "rgb(190,89,241)",
          "width": 2
         },
         "name": "The Late Late Show with James Corden",
         "showlegend": false,
         "type": "scatter",
         "x": [
          "2017-09-23",
          "2017-09-24"
         ],
         "y": [
          307748,
          365474
         ]
        },
        {
         "legendgroup": "The Tonight Show Starring Jimmy Fallon",
         "line": {
          "color": "rgb(93,136,174)",
          "width": 2
         },
         "name": "The Tonight Show Starring Jimmy Fallon",
         "showlegend": true,
         "type": "scatter",
         "x": [
          "2017-09-13"
         ],
         "y": [
          288535
         ]
        },
        {
         "legendgroup": "The Tonight Show Starring Jimmy Fallon",
         "line": {
          "color": "rgb(93,136,174)",
          "width": 2
         },
         "name": "The Tonight Show Starring Jimmy Fallon",
         "showlegend": false,
         "type": "scatter",
         "x": [
          "2017-09-14"
         ],
         "y": [
          195079
         ]
        },
        {
         "legendgroup": "The Tonight Show Starring Jimmy Fallon",
         "line": {
          "color": "rgb(93,136,174)",
          "width": 2
         },
         "name": "The Tonight Show Starring Jimmy Fallon",
         "showlegend": false,
         "type": "scatter",
         "x": [
          "2017-09-15",
          "2017-09-16",
          "2017-09-17",
          "2017-09-18"
         ],
         "y": [
          612932,
          887511,
          1040702,
          1145233
         ]
        },
        {
         "legendgroup": "The Tonight Show Starring Jimmy Fallon",
         "line": {
          "color": "rgb(93,136,174)",
          "width": 2
         },
         "name": "The Tonight Show Starring Jimmy Fallon",
         "showlegend": false,
         "type": "scatter",
         "x": [
          "2017-09-19"
         ],
         "y": [
          815100
         ]
        },
        {
         "legendgroup": "The Tonight Show Starring Jimmy Fallon",
         "line": {
          "color": "rgb(93,136,174)",
          "width": 2
         },
         "name": "The Tonight Show Starring Jimmy Fallon",
         "showlegend": false,
         "type": "scatter",
         "x": [
          "2017-09-20"
         ],
         "y": [
          625564
         ]
        },
        {
         "legendgroup": "The Tonight Show Starring Jimmy Fallon",
         "line": {
          "color": "rgb(93,136,174)",
          "width": 2
         },
         "name": "The Tonight Show Starring Jimmy Fallon",
         "showlegend": false,
         "type": "scatter",
         "x": [
          "2017-09-21",
          "2017-09-22"
         ],
         "y": [
          733402,
          1071686
         ]
        },
        {
         "legendgroup": "The Tonight Show Starring Jimmy Fallon",
         "line": {
          "color": "rgb(93,136,174)",
          "width": 2
         },
         "name": "The Tonight Show Starring Jimmy Fallon",
         "showlegend": false,
         "type": "scatter",
         "x": [
          "2017-09-23",
          "2017-09-24"
         ],
         "y": [
          108480,
          125716
         ]
        },
        {
         "legendgroup": "Ubisoft US",
         "line": {
          "color": "rgb(124,165,231)",
          "width": 2
         },
         "name": "Ubisoft US",
         "showlegend": true,
         "type": "scatter",
         "x": [
          "2017-09-13"
         ],
         "y": [
          59288
         ]
        },
        {
         "legendgroup": "Ubisoft US",
         "line": {
          "color": "rgb(124,165,231)",
          "width": 2
         },
         "name": "Ubisoft US",
         "showlegend": false,
         "type": "scatter",
         "x": [
          "2017-09-14"
         ],
         "y": [
          25787
         ]
        },
        {
         "legendgroup": "Ubisoft US",
         "line": {
          "color": "rgb(124,165,231)",
          "width": 2
         },
         "name": "Ubisoft US",
         "showlegend": false,
         "type": "scatter",
         "x": [
          "2017-09-15",
          "2017-09-16",
          "2017-09-17",
          "2017-09-18",
          "2017-09-19"
         ],
         "y": [
          128860,
          245888,
          291155,
          316788,
          330142
         ]
        },
        {
         "legendgroup": "Ubisoft US",
         "line": {
          "color": "rgb(124,165,231)",
          "width": 2
         },
         "name": "Ubisoft US",
         "showlegend": false,
         "type": "scatter",
         "x": [
          "2017-09-20",
          "2017-09-21",
          "2017-09-22",
          "2017-09-23",
          "2017-09-24"
         ],
         "y": [
          28810,
          57863,
          64956,
          68238,
          69247
         ]
        },
        {
         "legendgroup": "Vox",
         "line": {
          "color": "rgb(115,142,35)",
          "width": 2
         },
         "name": "Vox",
         "showlegend": true,
         "type": "scatter",
         "x": [
          "2017-09-13"
         ],
         "y": [
          1691734
         ]
        },
        {
         "legendgroup": "Vox",
         "line": {
          "color": "rgb(115,142,35)",
          "width": 2
         },
         "name": "Vox",
         "showlegend": false,
         "type": "scatter",
         "x": [
          "2017-09-14",
          "2017-09-15",
          "2017-09-16",
          "2017-09-17",
          "2017-09-18",
          "2017-09-19",
          "2017-09-20"
         ],
         "y": [
          380211,
          516978,
          572673,
          614701,
          647635,
          665175,
          680886
         ]
        },
        {
         "legendgroup": "Vox",
         "line": {
          "color": "rgb(115,142,35)",
          "width": 2
         },
         "name": "Vox",
         "showlegend": false,
         "type": "scatter",
         "x": [
          "2017-09-21",
          "2017-09-22"
         ],
         "y": [
          295787,
          376257
         ]
        },
        {
         "legendgroup": "Vox",
         "line": {
          "color": "rgb(115,142,35)",
          "width": 2
         },
         "name": "Vox",
         "showlegend": false,
         "type": "scatter",
         "x": [
          "2017-09-23",
          "2017-09-24"
         ],
         "y": [
          217505,
          237509
         ]
        },
        {
         "legendgroup": "WWE",
         "line": {
          "color": "rgb(150,66,250)",
          "width": 2
         },
         "name": "WWE",
         "showlegend": true,
         "type": "scatter",
         "x": [
          "2017-09-13"
         ],
         "y": [
          369541
         ]
        },
        {
         "legendgroup": "WWE",
         "line": {
          "color": "rgb(150,66,250)",
          "width": 2
         },
         "name": "WWE",
         "showlegend": false,
         "type": "scatter",
         "x": [
          "2017-09-14",
          "2017-09-15"
         ],
         "y": [
          746904,
          772453
         ]
        },
        {
         "legendgroup": "WWE",
         "line": {
          "color": "rgb(150,66,250)",
          "width": 2
         },
         "name": "WWE",
         "showlegend": false,
         "type": "scatter",
         "x": [
          "2017-09-16",
          "2017-09-17",
          "2017-09-18"
         ],
         "y": [
          2858059,
          2963359,
          3034617
         ]
        },
        {
         "legendgroup": "WWE",
         "line": {
          "color": "rgb(150,66,250)",
          "width": 2
         },
         "name": "WWE",
         "showlegend": false,
         "type": "scatter",
         "x": [
          "2017-09-19",
          "2017-09-20"
         ],
         "y": [
          212211,
          216981
         ]
        },
        {
         "legendgroup": "WWE",
         "line": {
          "color": "rgb(150,66,250)",
          "width": 2
         },
         "name": "WWE",
         "showlegend": false,
         "type": "scatter",
         "x": [
          "2017-09-21",
          "2017-09-22",
          "2017-09-23",
          "2017-09-24"
         ],
         "y": [
          542078,
          570259,
          589576,
          596858
         ]
        },
        {
         "legendgroup": "jacksfilms",
         "line": {
          "color": "rgb(45,26,44)",
          "width": 2
         },
         "name": "jacksfilms",
         "showlegend": true,
         "type": "scatter",
         "x": [
          "2017-09-13"
         ],
         "y": [
          1121715
         ]
        },
        {
         "legendgroup": "jacksfilms",
         "line": {
          "color": "rgb(45,26,44)",
          "width": 2
         },
         "name": "jacksfilms",
         "showlegend": false,
         "type": "scatter",
         "x": [
          "2017-09-14",
          "2017-09-15",
          "2017-09-16",
          "2017-09-17",
          "2017-09-18",
          "2017-09-19",
          "2017-09-20",
          "2017-09-21",
          "2017-09-22"
         ],
         "y": [
          2083895,
          2587155,
          2845369,
          3037043,
          3192268,
          3280098,
          3494642,
          3551892,
          3578670
         ]
        },
        {
         "legendgroup": "jacksfilms",
         "line": {
          "color": "rgb(45,26,44)",
          "width": 2
         },
         "name": "jacksfilms",
         "showlegend": false,
         "type": "scatter",
         "x": [
          "2017-09-23",
          "2017-09-24"
         ],
         "y": [
          728611,
          1306330
         ]
        }
       ],
       "layout": {
        "height": 600,
        "legend": {
         "orientation": "h"
        },
        "title": "Videos of trending channels (GB)",
        "updatemenus": [
         {
          "active": 1,
          "buttons": [
           {
            "args": [
             {
              "visible": [
               true,
               true,
               true,
               true,
               false,
               false,
               false,
               false,
               false,
               false,
               false,
               false,
               false,
               false,
               false,
               false,
               false,
               false,
               false,
               false,
               false,
               false,
               false,
               false,
               false,
               false,
               false,
               false,
               false,
               false,
               false,
               false,
               false,
               false,
               false,
               false,
               false,
               false,
               false,
               false,
               false,
               false,
               false,
               false,
               false,
               false,
               false,
               false,
               false,
               false,
               false,
               false,
               false,
               false,
               false,
               false,
               false,
               false,
               false,
               false,
               false,
               false,
               false,
               false,
               false,
               false,
               false,
               false,
               false,
               false,
               false,
               false
              ]
             }
            ],
            "label": "Amelia Liana",
            "method": "update"
           },
           {
            "args": [
             {
              "visible": [
               false,
               false,
               false,
               false,
               true,
               true,
               true,
               false,
               false,
               false,
               false,
               false,
               false,
               false,
               false,
               false,
               false,
               false,
               false,
               false,
               false,
               false,
               false,
               false,
               false,
               false,
               false,
               false,
               false,
               false,
               false,
               false,
               false,
               false,
               false,
               false,
               false,
               false,
               false,
               false,
               false,
               false,
               false,
               false,
               false,
               false,
               false,
               false,
               false,
               false,
               false,
               false,
               false,
               false,
               false,
               false,
               false,
               false,
               false,
               false,
               false,
               false,
               false,
               false,
               false,
               false,
               false,
               false,
               false,
               false,
               false,
               false
              ]
             }
            ],
            "label": "BBC News",
            "method": "update"
           },
           {
            "args": [
             {
              "visible": [
               false,
               false,
               false,
               false,
               false,
               false,
               false,
               true,
               true,
               true,
               false,
               false,
               false,
               false,
               false,
               false,
               false,
               false,
               false,
               false,
               false,
               false,
               false,
               false,
               false,
               false,
               false,
               false,
               false,
               false,
               false,
               false,
               false,
               false,
               false,
               false,
               false,
               false,
               false,
               false,
               false,
               false,
               false,
               false,
               false,
               false,
               false,
               false,
               false,
               false,
               false,
               false,
               false,
               false,
               false,
               false,
               false,
               false,
               false,
               false,
               false,
               false,
               false,
               false,
               false,
               false,
               false,
               false,
               false,
               false,
               false,
               false
              ]
             }
            ],
            "label": "BBCRadio1VEVO",
            "method": "update"
           },
           {
            "args": [
             {
              "visible": [
               false,
               false,
               false,
               false,
               false,
               false,
               false,
               false,
               false,
               false,
               true,
               true,
               true,
               false,
               false,
               false,
               false,
               false,
               false,
               false,
               false,
               false,
               false,
               false,
               false,
               false,
               false,
               false,
               false,
               false,
               false,
               false,
               false,
               false,
               false,
               false,
               false,
               false,
               false,
               false,
               false,
               false,
               false,
               false,
               false,
               false,
               false,
               false,
               false,
               false,
               false,
               false,
               false,
               false,
               false,
               false,
               false,
               false,
               false,
               false,
               false,
               false,
               false,
               false,
               false,
               false,
               false,
               false,
               false,
               false,
               false,
               false
              ]
             }
            ],
            "label": "Brave Wilderness",
            "method": "update"
           },
           {
            "args": [
             {
              "visible": [
               false,
               false,
               false,
               false,
               false,
               false,
               false,
               false,
               false,
               false,
               false,
               false,
               false,
               true,
               true,
               true,
               false,
               false,
               false,
               false,
               false,
               false,
               false,
               false,
               false,
               false,
               false,
               false,
               false,
               false,
               false,
               false,
               false,
               false,
               false,
               false,
               false,
               false,
               false,
               false,
               false,
               false,
               false,
               false,
               false,
               false,
               false,
               false,
               false,
               false,
               false,
               false,
               false,
               false,
               false,
               false,
               false,
               false,
               false,
               false,
               false,
               false,
               false,
               false,
               false,
               false,
               false,
               false,
               false,
               false,
               false,
               false
              ]
             }
            ],
            "label": "Dina Tokio",
            "method": "update"
           },
           {
            "args": [
             {
              "visible": [
               false,
               false,
               false,
               false,
               false,
               false,
               false,
               false,
               false,
               false,
               false,
               false,
               false,
               false,
               false,
               false,
               true,
               true,
               true,
               false,
               false,
               false,
               false,
               false,
               false,
               false,
               false,
               false,
               false,
               false,
               false,
               false,
               false,
               false,
               false,
               false,
               false,
               false,
               false,
               false,
               false,
               false,
               false,
               false,
               false,
               false,
               false,
               false,
               false,
               false,
               false,
               false,
               false,
               false,
               false,
               false,
               false,
               false,
               false,
               false,
               false,
               false,
               false,
               false,
               false,
               false,
               false,
               false,
               false,
               false,
               false,
               false
              ]
             }
            ],
            "label": "First We Feast",
            "method": "update"
           },
           {
            "args": [
             {
              "visible": [
               false,
               false,
               false,
               false,
               false,
               false,
               false,
               false,
               false,
               false,
               false,
               false,
               false,
               false,
               false,
               false,
               false,
               false,
               false,
               true,
               true,
               true,
               false,
               false,
               false,
               false,
               false,
               false,
               false,
               false,
               false,
               false,
               false,
               false,
               false,
               false,
               false,
               false,
               false,
               false,
               false,
               false,
               false,
               false,
               false,
               false,
               false,
               false,
               false,
               false,
               false,
               false,
               false,
               false,
               false,
               false,
               false,
               false,
               false,
               false,
               false,
               false,
               false,
               false,
               false,
               false,
               false,
               false,
               false,
               false,
               false,
               false
              ]
             }
            ],
            "label": "Fleur DeForce",
            "method": "update"
           },
           {
            "args": [
             {
              "visible": [
               false,
               false,
               false,
               false,
               false,
               false,
               false,
               false,
               false,
               false,
               false,
               false,
               false,
               false,
               false,
               false,
               false,
               false,
               false,
               false,
               false,
               false,
               true,
               true,
               true,
               true,
               false,
               false,
               false,
               false,
               false,
               false,
               false,
               false,
               false,
               false,
               false,
               false,
               false,
               false,
               false,
               false,
               false,
               false,
               false,
               false,
               false,
               false,
               false,
               false,
               false,
               false,
               false,
               false,
               false,
               false,
               false,
               false,
               false,
               false,
               false,
               false,
               false,
               false,
               false,
               false,
               false,
               false,
               false,
               false,
               false,
               false
              ]
             }
            ],
            "label": "Grace Helbig",
            "method": "update"
           },
           {
            "args": [
             {
              "visible": [
               false,
               false,
               false,
               false,
               false,
               false,
               false,
               false,
               false,
               false,
               false,
               false,
               false,
               false,
               false,
               false,
               false,
               false,
               false,
               false,
               false,
               false,
               false,
               false,
               false,
               false,
               true,
               true,
               true,
               false,
               false,
               false,
               false,
               false,
               false,
               false,
               false,
               false,
               false,
               false,
               false,
               false,
               false,
               false,
               false,
               false,
               false,
               false,
               false,
               false,
               false,
               false,
               false,
               false,
               false,
               false,
               false,
               false,
               false,
               false,
               false,
               false,
               false,
               false,
               false,
               false,
               false,
               false,
               false,
               false,
               false,
               false
              ]
             }
            ],
            "label": "Inthefrow",
            "method": "update"
           },
           {
            "args": [
             {
              "visible": [
               false,
               false,
               false,
               false,
               false,
               false,
               false,
               false,
               false,
               false,
               false,
               false,
               false,
               false,
               false,
               false,
               false,
               false,
               false,
               false,
               false,
               false,
               false,
               false,
               false,
               false,
               false,
               false,
               false,
               true,
               true,
               true,
               false,
               false,
               false,
               false,
               false,
               false,
               false,
               false,
               false,
               false,
               false,
               false,
               false,
               false,
               false,
               false,
               false,
               false,
               false,
               false,
               false,
               false,
               false,
               false,
               false,
               false,
               false,
               false,
               false,
               false,
               false,
               false,
               false,
               false,
               false,
               false,
               false,
               false,
               false,
               false
              ]
             }
            ],
            "label": "Jeremy Jahns",
            "method": "update"
           },
           {
            "args": [
             {
              "visible": [
               false,
               false,
               false,
               false,
               false,
               false,
               false,
               false,
               false,
               false,
               false,
               false,
               false,
               false,
               false,
               false,
               false,
               false,
               false,
               false,
               false,
               false,
               false,
               false,
               false,
               false,
               false,
               false,
               false,
               false,
               false,
               false,
               true,
               true,
               true,
               false,
               false,
               false,
               false,
               false,
               false,
               false,
               false,
               false,
               false,
               false,
               false,
               false,
               false,
               false,
               false,
               false,
               false,
               false,
               false,
               false,
               false,
               false,
               false,
               false,
               false,
               false,
               false,
               false,
               false,
               false,
               false,
               false,
               false,
               false,
               false,
               false
              ]
             }
            ],
            "label": "LaLiga Santander",
            "method": "update"
           },
           {
            "args": [
             {
              "visible": [
               false,
               false,
               false,
               false,
               false,
               false,
               false,
               false,
               false,
               false,
               false,
               false,
               false,
               false,
               false,
               false,
               false,
               false,
               false,
               false,
               false,
               false,
               false,
               false,
               false,
               false,
               false,
               false,
               false,
               false,
               false,
               false,
               false,
               false,
               false,
               true,
               true,
               true,
               false,
               false,
               false,
               false,
               false,
               false,
               false,
               false,
               false,
               false,
               false,
               false,
               false,
               false,
               false,
               false,
               false,
               false,
               false,
               false,
               false,
               false,
               false,
               false,
               false,
               false,
               false,
               false,
               false,
               false,
               false,
               false,
               false,
               false
              ]
             }
            ],
            "label": "Nile Wilson",
            "method": "update"
           },
           {
            "args": [
             {
              "visible": [
               false,
               false,
               false,
               false,
               false,
               false,
               false,
               false,
               false,
               false,
               false,
               false,
               false,
               false,
               false,
               false,
               false,
               false,
               false,
               false,
               false,
               false,
               false,
               false,
               false,
               false,
               false,
               false,
               false,
               false,
               false,
               false,
               false,
               false,
               false,
               false,
               false,
               false,
               true,
               true,
               true,
               true,
               false,
               false,
               false,
               false,
               false,
               false,
               false,
               false,
               false,
               false,
               false,
               false,
               false,
               false,
               false,
               false,
               false,
               false,
               false,
               false,
               false,
               false,
               false,
               false,
               false,
               false,
               false,
               false,
               false,
               false
              ]
             }
            ],
            "label": "SamanthaMariaVlogs",
            "method": "update"
           },
           {
            "args": [
             {
              "visible": [
               false,
               false,
               false,
               false,
               false,
               false,
               false,
               false,
               false,
               false,
               false,
               false,
               false,
               false,
               false,
               false,
               false,
               false,
               false,
               false,
               false,
               false,
               false,
               false,
               false,
               false,
               false,
               false,
               false,
               false,
               false,
               false,
               false,
               false,
               false,
               false,
               false,
               false,
               false,
               false,
               false,
               false,
               true,
               true,
               true,
               true,
               false,
               false,
               false,
               false,
               false,
               false,
               false,
               false,
               false,
               false,
               false,
               false,
               false,
               false,
               false,
               false,
               false,
               false,
               false,
               false,
               false,
               false,
               false,
               false,
               false,
               false
              ]
             }
            ],
            "label": "Sprinkleofglitter",
            "method": "update"
           },
           {
            "args": [
             {
              "visible": [
               false,
               false,
               false,
               false,
               false,
               false,
               false,
               false,
               false,
               false,
               false,
               false,
               false,
               false,
               false,
               false,
               false,
               false,
               false,
               false,
               false,
               false,
               false,
               false,
               false,
               false,
               false,
               false,
               false,
               false,
               false,
               false,
               false,
               false,
               false,
               false,
               false,
               false,
               false,
               false,
               false,
               false,
               false,
               false,
               false,
               false,
               true,
               true,
               true,
               false,
               false,
               false,
               false,
               false,
               false,
               false,
               false,
               false,
               false,
               false,
               false,
               false,
               false,
               false,
               false,
               false,
               false,
               false,
               false,
               false,
               false,
               false
              ]
             }
            ],
            "label": "The Late Late Show with James Corden",
            "method": "update"
           },
           {
            "args": [
             {
              "visible": [
               false,
               false,
               false,
               false,
               false,
               false,
               false,
               false,
               false,
               false,
               false,
               false,
               false,
               false,
               false,
               false,
               false,
               false,
               false,
               false,
               false,
               false,
               false,
               false,
               false,
               false,
               false,
               false,
               false,
               false,
               false,
               false,
               false,
               false,
               false,
               false,
               false,
               false,
               false,
               false,
               false,
               false,
               false,
               false,
               false,
               false,
               false,
               false,
               false,
               true,
               true,
               true,
               true,
               true,
               true,
               true,
               false,
               false,
               false,
               false,
               false,
               false,
               false,
               false,
               false,
               false,
               false,
               false,
               false,
               false,
               false,
               false
              ]
             }
            ],
            "label": "The Tonight Show Starring Jimmy Fallon",
            "method": "update"
           },
           {
            "args": [
             {
              "visible": [
               false,
               false,
               false,
               false,
               false,
               false,
               false,
               false,
               false,
               false,
               false,
               false,
               false,
               false,
               false,
               false,
               false,
               false,
               false,
               false,
               false,
               false,
               false,
               false,
               false,
               false,
               false,
               false,
               false,
               false,
               false,
               false,
               false,
               false,
               false,
               false,
               false,
               false,
               false,
               false,
               false,
               false,
               false,
               false,
               false,
               false,
               false,
               false,
               false,
               false,
               false,
               false,
               false,
               false,
               false,
               false,
               true,
               true,
               true,
               true,
               false,
               false,
               false,
               false,
               false,
               false,
               false,
               false,
               false,
               false,
               false,
               false
              ]
             }
            ],
            "label": "Ubisoft US",
            "method": "update"
           },
           {
            "args": [
             {
              "visible": [
               false,
               false,
               false,
               false,
               false,
               false,
               false,
               false,
               false,
               false,
               false,
               false,
               false,
               false,
               false,
               false,
               false,
               false,
               false,
               false,
               false,
               false,
               false,
               false,
               false,
               false,
               false,
               false,
               false,
               false,
               false,
               false,
               false,
               false,
               false,
               false,
               false,
               false,
               false,
               false,
               false,
               false,
               false,
               false,
               false,
               false,
               false,
               false,
               false,
               false,
               false,
               false,
               false,
               false,
               false,
               false,
               false,
               false,
               false,
               false,
               true,
               true,
               true,
               true,
               false,
               false,
               false,
               false,
               false,
               false,
               false,
               false
              ]
             }
            ],
            "label": "Vox",
            "method": "update"
           },
           {
            "args": [
             {
              "visible": [
               false,
               false,
               false,
               false,
               false,
               false,
               false,
               false,
               false,
               false,
               false,
               false,
               false,
               false,
               false,
               false,
               false,
               false,
               false,
               false,
               false,
               false,
               false,
               false,
               false,
               false,
               false,
               false,
               false,
               false,
               false,
               false,
               false,
               false,
               false,
               false,
               false,
               false,
               false,
               false,
               false,
               false,
               false,
               false,
               false,
               false,
               false,
               false,
               false,
               false,
               false,
               false,
               false,
               false,
               false,
               false,
               false,
               false,
               false,
               false,
               false,
               false,
               false,
               false,
               true,
               true,
               true,
               true,
               true,
               false,
               false,
               false
              ]
             }
            ],
            "label": "WWE",
            "method": "update"
           },
           {
            "args": [
             {
              "visible": [
               false,
               false,
               false,
               false,
               false,
               false,
               false,
               false,
               false,
               false,
               false,
               false,
               false,
               false,
               false,
               false,
               false,
               false,
               false,
               false,
               false,
               false,
               false,
               false,
               false,
               false,
               false,
               false,
               false,
               false,
               false,
               false,
               false,
               false,
               false,
               false,
               false,
               false,
               false,
               false,
               false,
               false,
               false,
               false,
               false,
               false,
               false,
               false,
               false,
               false,
               false,
               false,
               false,
               false,
               false,
               false,
               false,
               false,
               false,
               false,
               false,
               false,
               false,
               false,
               false,
               false,
               false,
               false,
               false,
               true,
               true,
               true
              ]
             }
            ],
            "label": "jacksfilms",
            "method": "update"
           },
           {
            "args": [
             {
              "visible": [
               true,
               true,
               true,
               true,
               true,
               true,
               true,
               true,
               true,
               true,
               true,
               true,
               true,
               true,
               true,
               true,
               true,
               true,
               true,
               true,
               true,
               true,
               true,
               true,
               true,
               true,
               true,
               true,
               true,
               true,
               true,
               true,
               true,
               true,
               true,
               true,
               true,
               true,
               true,
               true,
               true,
               true,
               true,
               true,
               true,
               true,
               true,
               true,
               true,
               true,
               true,
               true,
               true,
               true,
               true,
               true,
               true,
               true,
               true,
               true,
               true,
               true,
               true,
               true,
               true,
               true,
               true,
               true,
               true,
               true,
               true,
               true
              ]
             }
            ],
            "label": "All channels",
            "method": "update"
           }
          ],
          "direction": "down",
          "pad": {
           "r": 10,
           "t": 10
          },
          "showactive": true,
          "x": 0.001,
          "xanchor": "left",
          "y": 1.1,
          "yanchor": "top"
         }
        ],
        "width": 800,
        "xaxis": {
         "title": ""
        },
        "yaxis": {
         "title": "views"
        }
       }
      },
      "text/html": [
       "<div id=\"b983f1a5-bf6b-4735-85b9-d1a96473c25d\" style=\"height: 600px; width: 800px;\" class=\"plotly-graph-div\"></div><script type=\"text/javascript\">require([\"plotly\"], function(Plotly) { window.PLOTLYENV=window.PLOTLYENV || {};window.PLOTLYENV.BASE_URL=\"https://plot.ly\";Plotly.newPlot(\"b983f1a5-bf6b-4735-85b9-d1a96473c25d\", [{\"type\": \"scatter\", \"x\": [\"2017-09-13\", \"2017-09-14\", \"2017-09-15\"], \"y\": [58169, 62029, 66561], \"name\": \"Amelia Liana\", \"line\": {\"width\": 2, \"color\": \"rgb(239,80,255)\"}, \"legendgroup\": \"Amelia Liana\", \"showlegend\": true}, {\"type\": \"scatter\", \"x\": [\"2017-09-16\", \"2017-09-17\", \"2017-09-18\", \"2017-09-19\", \"2017-09-20\"], \"y\": [69804, 81668, 87546, 90003, 91934], \"name\": \"Amelia Liana\", \"line\": {\"width\": 2, \"color\": \"rgb(239,80,255)\"}, \"legendgroup\": \"Amelia Liana\", \"showlegend\": false}, {\"type\": \"scatter\", \"x\": [\"2017-09-21\", \"2017-09-22\"], \"y\": [63628, 66022], \"name\": \"Amelia Liana\", \"line\": {\"width\": 2, \"color\": \"rgb(239,80,255)\"}, \"legendgroup\": \"Amelia Liana\", \"showlegend\": false}, {\"type\": \"scatter\", \"x\": [\"2017-09-23\", \"2017-09-24\"], \"y\": [41884, 45481], \"name\": \"Amelia Liana\", \"line\": {\"width\": 2, \"color\": \"rgb(239,80,255)\"}, \"legendgroup\": \"Amelia Liana\", \"showlegend\": false}, {\"type\": \"scatter\", \"x\": [\"2017-09-13\", \"2017-09-14\", \"2017-09-15\"], \"y\": [136677, 141012, 143075], \"name\": \"BBC News\", \"line\": {\"width\": 2, \"color\": \"rgb(137,118,180)\"}, \"legendgroup\": \"BBC News\", \"showlegend\": true}, {\"type\": \"scatter\", \"x\": [\"2017-09-16\", \"2017-09-17\", \"2017-09-18\", \"2017-09-19\", \"2017-09-20\", \"2017-09-21\", \"2017-09-22\"], \"y\": [64237, 83906, 89671, 90855, 91572, 92118, 92374], \"name\": \"BBC News\", \"line\": {\"width\": 2, \"color\": \"rgb(137,118,180)\"}, \"legendgroup\": \"BBC News\", \"showlegend\": false}, {\"type\": \"scatter\", \"x\": [\"2017-09-23\", \"2017-09-24\"], \"y\": [270282, 324865], \"name\": \"BBC News\", \"line\": {\"width\": 2, \"color\": \"rgb(137,118,180)\"}, \"legendgroup\": \"BBC News\", \"showlegend\": false}, {\"type\": \"scatter\", \"x\": [\"2017-09-13\", \"2017-09-14\", \"2017-09-15\"], \"y\": [1024398, 1247121, 1465456], \"name\": \"BBCRadio1VEVO\", \"line\": {\"width\": 2, \"color\": \"rgb(106,186,17)\"}, \"legendgroup\": \"BBCRadio1VEVO\", \"showlegend\": true}, {\"type\": \"scatter\", \"x\": [\"2017-09-16\", \"2017-09-17\", \"2017-09-18\", \"2017-09-19\", \"2017-09-20\", \"2017-09-21\", \"2017-09-22\"], \"y\": [169622, 630265, 1131274, 1456100, 1703268, 1875354, 1988253], \"name\": \"BBCRadio1VEVO\", \"line\": {\"width\": 2, \"color\": \"rgb(106,186,17)\"}, \"legendgroup\": \"BBCRadio1VEVO\", \"showlegend\": false}, {\"type\": \"scatter\", \"x\": [\"2017-09-23\", \"2017-09-24\"], \"y\": [354128, 561427], \"name\": \"BBCRadio1VEVO\", \"line\": {\"width\": 2, \"color\": \"rgb(106,186,17)\"}, \"legendgroup\": \"BBCRadio1VEVO\", \"showlegend\": false}, {\"type\": \"scatter\", \"x\": [\"2017-09-13\"], \"y\": [2384126], \"name\": \"Brave Wilderness\", \"line\": {\"width\": 2, \"color\": \"rgb(156,66,145)\"}, \"legendgroup\": \"Brave Wilderness\", \"showlegend\": true}, {\"type\": \"scatter\", \"x\": [\"2017-09-14\", \"2017-09-15\", \"2017-09-16\", \"2017-09-17\", \"2017-09-18\", \"2017-09-19\", \"2017-09-20\", \"2017-09-21\", \"2017-09-22\"], \"y\": [1398012, 1936912, 2161849, 2333091, 2425974, 2457564, 2484262, 2509842, 2522721], \"name\": \"Brave Wilderness\", \"line\": {\"width\": 2, \"color\": \"rgb(156,66,145)\"}, \"legendgroup\": \"Brave Wilderness\", \"showlegend\": false}, {\"type\": \"scatter\", \"x\": [\"2017-09-23\", \"2017-09-24\"], \"y\": [1814787, 2607370], \"name\": \"Brave Wilderness\", \"line\": {\"width\": 2, \"color\": \"rgb(156,66,145)\"}, \"legendgroup\": \"Brave Wilderness\", \"showlegend\": false}, {\"type\": \"scatter\", \"x\": [\"2017-09-13\", \"2017-09-14\", \"2017-09-15\"], \"y\": [218536, 250268, 302662], \"name\": \"Dina Tokio\", \"line\": {\"width\": 2, \"color\": \"rgb(117,97,250)\"}, \"legendgroup\": \"Dina Tokio\", \"showlegend\": true}, {\"type\": \"scatter\", \"x\": [\"2017-09-16\", \"2017-09-17\", \"2017-09-18\", \"2017-09-19\", \"2017-09-20\", \"2017-09-21\", \"2017-09-22\"], \"y\": [188855, 228082, 245955, 255786, 264265, 273337, 277692], \"name\": \"Dina Tokio\", \"line\": {\"width\": 2, \"color\": \"rgb(117,97,250)\"}, \"legendgroup\": \"Dina Tokio\", \"showlegend\": false}, {\"type\": \"scatter\", \"x\": [\"2017-09-23\", \"2017-09-24\"], \"y\": [81077, 123144], \"name\": \"Dina Tokio\", \"line\": {\"width\": 2, \"color\": \"rgb(117,97,250)\"}, \"legendgroup\": \"Dina Tokio\", \"showlegend\": false}, {\"type\": \"scatter\", \"x\": [\"2017-09-13\", \"2017-09-14\", \"2017-09-15\"], \"y\": [483360, 579530, 650836], \"name\": \"First We Feast\", \"line\": {\"width\": 2, \"color\": \"rgb(12,85,90)\"}, \"legendgroup\": \"First We Feast\", \"showlegend\": true}, {\"type\": \"scatter\", \"x\": [\"2017-09-16\", \"2017-09-17\", \"2017-09-18\", \"2017-09-19\", \"2017-09-20\", \"2017-09-21\", \"2017-09-22\"], \"y\": [656697, 717397, 753615, 773318, 810957, 841653, 881841], \"name\": \"First We Feast\", \"line\": {\"width\": 2, \"color\": \"rgb(12,85,90)\"}, \"legendgroup\": \"First We Feast\", \"showlegend\": false}, {\"type\": \"scatter\", \"x\": [\"2017-09-23\", \"2017-09-24\"], \"y\": [793864, 828693], \"name\": \"First We Feast\", \"line\": {\"width\": 2, \"color\": \"rgb(12,85,90)\"}, \"legendgroup\": \"First We Feast\", \"showlegend\": false}, {\"type\": \"scatter\", \"x\": [\"2017-09-13\", \"2017-09-14\"], \"y\": [119670, 125476], \"name\": \"Fleur DeForce\", \"line\": {\"width\": 2, \"color\": \"rgb(223,247,163)\"}, \"legendgroup\": \"Fleur DeForce\", \"showlegend\": true}, {\"type\": \"scatter\", \"x\": [\"2017-09-15\", \"2017-09-16\", \"2017-09-17\", \"2017-09-18\", \"2017-09-19\", \"2017-09-20\", \"2017-09-21\", \"2017-09-22\"], \"y\": [126204, 149030, 163136, 176598, 181824, 185996, 189979, 191931], \"name\": \"Fleur DeForce\", \"line\": {\"width\": 2, \"color\": \"rgb(223,247,163)\"}, \"legendgroup\": \"Fleur DeForce\", \"showlegend\": false}, {\"type\": \"scatter\", \"x\": [\"2017-09-23\", \"2017-09-24\"], \"y\": [102500, 108077], \"name\": \"Fleur DeForce\", \"line\": {\"width\": 2, \"color\": \"rgb(223,247,163)\"}, \"legendgroup\": \"Fleur DeForce\", \"showlegend\": false}, {\"type\": \"scatter\", \"x\": [\"2017-09-13\", \"2017-09-14\", \"2017-09-15\"], \"y\": [141356, 158779, 169567], \"name\": \"Grace Helbig\", \"line\": {\"width\": 2, \"color\": \"rgb(113,232,123)\"}, \"legendgroup\": \"Grace Helbig\", \"showlegend\": true}, {\"type\": \"scatter\", \"x\": [\"2017-09-16\", \"2017-09-17\", \"2017-09-18\", \"2017-09-19\", \"2017-09-20\"], \"y\": [87647, 135115, 157482, 166760, 173696], \"name\": \"Grace Helbig\", \"line\": {\"width\": 2, \"color\": \"rgb(113,232,123)\"}, \"legendgroup\": \"Grace Helbig\", \"showlegend\": false}, {\"type\": \"scatter\", \"x\": [\"2017-09-21\", \"2017-09-22\"], \"y\": [217556, 228868], \"name\": \"Grace Helbig\", \"line\": {\"width\": 2, \"color\": \"rgb(113,232,123)\"}, \"legendgroup\": \"Grace Helbig\", \"showlegend\": false}, {\"type\": \"scatter\", \"x\": [\"2017-09-23\", \"2017-09-24\"], \"y\": [224708, 229628], \"name\": \"Grace Helbig\", \"line\": {\"width\": 2, \"color\": \"rgb(113,232,123)\"}, \"legendgroup\": \"Grace Helbig\", \"showlegend\": false}, {\"type\": \"scatter\", \"x\": [\"2017-09-13\", \"2017-09-14\", \"2017-09-15\"], \"y\": [61781, 63686, 65950], \"name\": \"Inthefrow\", \"line\": {\"width\": 2, \"color\": \"rgb(191,215,130)\"}, \"legendgroup\": \"Inthefrow\", \"showlegend\": true}, {\"type\": \"scatter\", \"x\": [\"2017-09-16\", \"2017-09-17\", \"2017-09-18\", \"2017-09-19\", \"2017-09-20\"], \"y\": [62755, 76164, 84097, 87316, 89908], \"name\": \"Inthefrow\", \"line\": {\"width\": 2, \"color\": \"rgb(191,215,130)\"}, \"legendgroup\": \"Inthefrow\", \"showlegend\": false}, {\"type\": \"scatter\", \"x\": [\"2017-09-21\", \"2017-09-22\", \"2017-09-23\", \"2017-09-24\"], \"y\": [85095, 97168, 107617, 113048], \"name\": \"Inthefrow\", \"line\": {\"width\": 2, \"color\": \"rgb(191,215,130)\"}, \"legendgroup\": \"Inthefrow\", \"showlegend\": false}, {\"type\": \"scatter\", \"x\": [\"2017-09-13\", \"2017-09-14\", \"2017-09-15\"], \"y\": [787961, 808962, 829812], \"name\": \"Jeremy Jahns\", \"line\": {\"width\": 2, \"color\": \"rgb(58,116,203)\"}, \"legendgroup\": \"Jeremy Jahns\", \"showlegend\": true}, {\"type\": \"scatter\", \"x\": [\"2017-09-16\", \"2017-09-17\", \"2017-09-18\", \"2017-09-19\", \"2017-09-20\"], \"y\": [238222, 351831, 408663, 432877, 446594], \"name\": \"Jeremy Jahns\", \"line\": {\"width\": 2, \"color\": \"rgb(58,116,203)\"}, \"legendgroup\": \"Jeremy Jahns\", \"showlegend\": false}, {\"type\": \"scatter\", \"x\": [\"2017-09-21\", \"2017-09-22\", \"2017-09-23\", \"2017-09-24\"], \"y\": [222217, 259256, 281064, 287517], \"name\": \"Jeremy Jahns\", \"line\": {\"width\": 2, \"color\": \"rgb(58,116,203)\"}, \"legendgroup\": \"Jeremy Jahns\", \"showlegend\": false}, {\"type\": \"scatter\", \"x\": [\"2017-09-13\", \"2017-09-14\", \"2017-09-15\", \"2017-09-16\"], \"y\": [688485, 694324, 700959, 706428], \"name\": \"LaLiga Santander\", \"line\": {\"width\": 2, \"color\": \"rgb(139,140,78)\"}, \"legendgroup\": \"LaLiga Santander\", \"showlegend\": true}, {\"type\": \"scatter\", \"x\": [\"2017-09-17\", \"2017-09-18\"], \"y\": [23907, 77356], \"name\": \"LaLiga Santander\", \"line\": {\"width\": 2, \"color\": \"rgb(139,140,78)\"}, \"legendgroup\": \"LaLiga Santander\", \"showlegend\": false}, {\"type\": \"scatter\", \"x\": [\"2017-09-19\", \"2017-09-20\", \"2017-09-21\", \"2017-09-22\", \"2017-09-23\", \"2017-09-24\"], \"y\": [441539, 513994, 538102, 541669, 545820, 548846], \"name\": \"LaLiga Santander\", \"line\": {\"width\": 2, \"color\": \"rgb(139,140,78)\"}, \"legendgroup\": \"LaLiga Santander\", \"showlegend\": false}, {\"type\": \"scatter\", \"x\": [\"2017-09-13\", \"2017-09-14\"], \"y\": [185541, 214481], \"name\": \"Nile Wilson\", \"line\": {\"width\": 2, \"color\": \"rgb(227,219,112)\"}, \"legendgroup\": \"Nile Wilson\", \"showlegend\": true}, {\"type\": \"scatter\", \"x\": [\"2017-09-15\", \"2017-09-16\", \"2017-09-17\", \"2017-09-18\", \"2017-09-19\", \"2017-09-20\", \"2017-09-21\", \"2017-09-22\"], \"y\": [168197, 254186, 286064, 306432, 315054, 321702, 327083, 334833], \"name\": \"Nile Wilson\", \"line\": {\"width\": 2, \"color\": \"rgb(227,219,112)\"}, \"legendgroup\": \"Nile Wilson\", \"showlegend\": false}, {\"type\": \"scatter\", \"x\": [\"2017-09-23\", \"2017-09-24\"], \"y\": [248360, 261636], \"name\": \"Nile Wilson\", \"line\": {\"width\": 2, \"color\": \"rgb(227,219,112)\"}, \"legendgroup\": \"Nile Wilson\", \"showlegend\": false}, {\"type\": \"scatter\", \"x\": [\"2017-09-13\", \"2017-09-14\", \"2017-09-15\"], \"y\": [109101, 115702, 121547], \"name\": \"SamanthaMariaVlogs\", \"line\": {\"width\": 2, \"color\": \"rgb(56,19,77)\"}, \"legendgroup\": \"SamanthaMariaVlogs\", \"showlegend\": true}, {\"type\": \"scatter\", \"x\": [\"2017-09-16\", \"2017-09-17\", \"2017-09-18\", \"2017-09-19\", \"2017-09-20\"], \"y\": [85682, 99106, 106937, 111194, 114628], \"name\": \"SamanthaMariaVlogs\", \"line\": {\"width\": 2, \"color\": \"rgb(56,19,77)\"}, \"legendgroup\": \"SamanthaMariaVlogs\", \"showlegend\": false}, {\"type\": \"scatter\", \"x\": [\"2017-09-21\"], \"y\": [79727], \"name\": \"SamanthaMariaVlogs\", \"line\": {\"width\": 2, \"color\": \"rgb(56,19,77)\"}, \"legendgroup\": \"SamanthaMariaVlogs\", \"showlegend\": false}, {\"type\": \"scatter\", \"x\": [\"2017-09-22\", \"2017-09-23\", \"2017-09-24\"], \"y\": [83150, 87426, 89301], \"name\": \"SamanthaMariaVlogs\", \"line\": {\"width\": 2, \"color\": \"rgb(56,19,77)\"}, \"legendgroup\": \"SamanthaMariaVlogs\", \"showlegend\": false}, {\"type\": \"scatter\", \"x\": [\"2017-09-13\", \"2017-09-14\", \"2017-09-15\"], \"y\": [40592, 153181, 197066], \"name\": \"Sprinkleofglitter\", \"line\": {\"width\": 2, \"color\": \"rgb(220,17,129)\"}, \"legendgroup\": \"Sprinkleofglitter\", \"showlegend\": true}, {\"type\": \"scatter\", \"x\": [\"2017-09-16\", \"2017-09-17\", \"2017-09-18\", \"2017-09-19\", \"2017-09-20\"], \"y\": [78516, 169101, 208478, 229795, 239976], \"name\": \"Sprinkleofglitter\", \"line\": {\"width\": 2, \"color\": \"rgb(220,17,129)\"}, \"legendgroup\": \"Sprinkleofglitter\", \"showlegend\": false}, {\"type\": \"scatter\", \"x\": [\"2017-09-21\", \"2017-09-22\"], \"y\": [116972, 168453], \"name\": \"Sprinkleofglitter\", \"line\": {\"width\": 2, \"color\": \"rgb(220,17,129)\"}, \"legendgroup\": \"Sprinkleofglitter\", \"showlegend\": false}, {\"type\": \"scatter\", \"x\": [\"2017-09-23\", \"2017-09-24\"], \"y\": [57129, 77152], \"name\": \"Sprinkleofglitter\", \"line\": {\"width\": 2, \"color\": \"rgb(220,17,129)\"}, \"legendgroup\": \"Sprinkleofglitter\", \"showlegend\": false}, {\"type\": \"scatter\", \"x\": [\"2017-09-13\", \"2017-09-14\", \"2017-09-15\"], \"y\": [199102, 743189, 1191937], \"name\": \"The Late Late Show with James Corden\", \"line\": {\"width\": 2, \"color\": \"rgb(190,89,241)\"}, \"legendgroup\": \"The Late Late Show with James Corden\", \"showlegend\": true}, {\"type\": \"scatter\", \"x\": [\"2017-09-16\", \"2017-09-17\", \"2017-09-18\", \"2017-09-19\", \"2017-09-20\", \"2017-09-21\", \"2017-09-22\"], \"y\": [301382, 446859, 537024, 584775, 620288, 644847, 655354], \"name\": \"The Late Late Show with James Corden\", \"line\": {\"width\": 2, \"color\": \"rgb(190,89,241)\"}, \"legendgroup\": \"The Late Late Show with James Corden\", \"showlegend\": false}, {\"type\": \"scatter\", \"x\": [\"2017-09-23\", \"2017-09-24\"], \"y\": [307748, 365474], \"name\": \"The Late Late Show with James Corden\", \"line\": {\"width\": 2, \"color\": \"rgb(190,89,241)\"}, \"legendgroup\": \"The Late Late Show with James Corden\", \"showlegend\": false}, {\"type\": \"scatter\", \"x\": [\"2017-09-13\"], \"y\": [288535], \"name\": \"The Tonight Show Starring Jimmy Fallon\", \"line\": {\"width\": 2, \"color\": \"rgb(93,136,174)\"}, \"legendgroup\": \"The Tonight Show Starring Jimmy Fallon\", \"showlegend\": true}, {\"type\": \"scatter\", \"x\": [\"2017-09-14\"], \"y\": [195079], \"name\": \"The Tonight Show Starring Jimmy Fallon\", \"line\": {\"width\": 2, \"color\": \"rgb(93,136,174)\"}, \"legendgroup\": \"The Tonight Show Starring Jimmy Fallon\", \"showlegend\": false}, {\"type\": \"scatter\", \"x\": [\"2017-09-15\", \"2017-09-16\", \"2017-09-17\", \"2017-09-18\"], \"y\": [612932, 887511, 1040702, 1145233], \"name\": \"The Tonight Show Starring Jimmy Fallon\", \"line\": {\"width\": 2, \"color\": \"rgb(93,136,174)\"}, \"legendgroup\": \"The Tonight Show Starring Jimmy Fallon\", \"showlegend\": false}, {\"type\": \"scatter\", \"x\": [\"2017-09-19\"], \"y\": [815100], \"name\": \"The Tonight Show Starring Jimmy Fallon\", \"line\": {\"width\": 2, \"color\": \"rgb(93,136,174)\"}, \"legendgroup\": \"The Tonight Show Starring Jimmy Fallon\", \"showlegend\": false}, {\"type\": \"scatter\", \"x\": [\"2017-09-20\"], \"y\": [625564], \"name\": \"The Tonight Show Starring Jimmy Fallon\", \"line\": {\"width\": 2, \"color\": \"rgb(93,136,174)\"}, \"legendgroup\": \"The Tonight Show Starring Jimmy Fallon\", \"showlegend\": false}, {\"type\": \"scatter\", \"x\": [\"2017-09-21\", \"2017-09-22\"], \"y\": [733402, 1071686], \"name\": \"The Tonight Show Starring Jimmy Fallon\", \"line\": {\"width\": 2, \"color\": \"rgb(93,136,174)\"}, \"legendgroup\": \"The Tonight Show Starring Jimmy Fallon\", \"showlegend\": false}, {\"type\": \"scatter\", \"x\": [\"2017-09-23\", \"2017-09-24\"], \"y\": [108480, 125716], \"name\": \"The Tonight Show Starring Jimmy Fallon\", \"line\": {\"width\": 2, \"color\": \"rgb(93,136,174)\"}, \"legendgroup\": \"The Tonight Show Starring Jimmy Fallon\", \"showlegend\": false}, {\"type\": \"scatter\", \"x\": [\"2017-09-13\"], \"y\": [59288], \"name\": \"Ubisoft US\", \"line\": {\"width\": 2, \"color\": \"rgb(124,165,231)\"}, \"legendgroup\": \"Ubisoft US\", \"showlegend\": true}, {\"type\": \"scatter\", \"x\": [\"2017-09-14\"], \"y\": [25787], \"name\": \"Ubisoft US\", \"line\": {\"width\": 2, \"color\": \"rgb(124,165,231)\"}, \"legendgroup\": \"Ubisoft US\", \"showlegend\": false}, {\"type\": \"scatter\", \"x\": [\"2017-09-15\", \"2017-09-16\", \"2017-09-17\", \"2017-09-18\", \"2017-09-19\"], \"y\": [128860, 245888, 291155, 316788, 330142], \"name\": \"Ubisoft US\", \"line\": {\"width\": 2, \"color\": \"rgb(124,165,231)\"}, \"legendgroup\": \"Ubisoft US\", \"showlegend\": false}, {\"type\": \"scatter\", \"x\": [\"2017-09-20\", \"2017-09-21\", \"2017-09-22\", \"2017-09-23\", \"2017-09-24\"], \"y\": [28810, 57863, 64956, 68238, 69247], \"name\": \"Ubisoft US\", \"line\": {\"width\": 2, \"color\": \"rgb(124,165,231)\"}, \"legendgroup\": \"Ubisoft US\", \"showlegend\": false}, {\"type\": \"scatter\", \"x\": [\"2017-09-13\"], \"y\": [1691734], \"name\": \"Vox\", \"line\": {\"width\": 2, \"color\": \"rgb(115,142,35)\"}, \"legendgroup\": \"Vox\", \"showlegend\": true}, {\"type\": \"scatter\", \"x\": [\"2017-09-14\", \"2017-09-15\", \"2017-09-16\", \"2017-09-17\", \"2017-09-18\", \"2017-09-19\", \"2017-09-20\"], \"y\": [380211, 516978, 572673, 614701, 647635, 665175, 680886], \"name\": \"Vox\", \"line\": {\"width\": 2, \"color\": \"rgb(115,142,35)\"}, \"legendgroup\": \"Vox\", \"showlegend\": false}, {\"type\": \"scatter\", \"x\": [\"2017-09-21\", \"2017-09-22\"], \"y\": [295787, 376257], \"name\": \"Vox\", \"line\": {\"width\": 2, \"color\": \"rgb(115,142,35)\"}, \"legendgroup\": \"Vox\", \"showlegend\": false}, {\"type\": \"scatter\", \"x\": [\"2017-09-23\", \"2017-09-24\"], \"y\": [217505, 237509], \"name\": \"Vox\", \"line\": {\"width\": 2, \"color\": \"rgb(115,142,35)\"}, \"legendgroup\": \"Vox\", \"showlegend\": false}, {\"type\": \"scatter\", \"x\": [\"2017-09-13\"], \"y\": [369541], \"name\": \"WWE\", \"line\": {\"width\": 2, \"color\": \"rgb(150,66,250)\"}, \"legendgroup\": \"WWE\", \"showlegend\": true}, {\"type\": \"scatter\", \"x\": [\"2017-09-14\", \"2017-09-15\"], \"y\": [746904, 772453], \"name\": \"WWE\", \"line\": {\"width\": 2, \"color\": \"rgb(150,66,250)\"}, \"legendgroup\": \"WWE\", \"showlegend\": false}, {\"type\": \"scatter\", \"x\": [\"2017-09-16\", \"2017-09-17\", \"2017-09-18\"], \"y\": [2858059, 2963359, 3034617], \"name\": \"WWE\", \"line\": {\"width\": 2, \"color\": \"rgb(150,66,250)\"}, \"legendgroup\": \"WWE\", \"showlegend\": false}, {\"type\": \"scatter\", \"x\": [\"2017-09-19\", \"2017-09-20\"], \"y\": [212211, 216981], \"name\": \"WWE\", \"line\": {\"width\": 2, \"color\": \"rgb(150,66,250)\"}, \"legendgroup\": \"WWE\", \"showlegend\": false}, {\"type\": \"scatter\", \"x\": [\"2017-09-21\", \"2017-09-22\", \"2017-09-23\", \"2017-09-24\"], \"y\": [542078, 570259, 589576, 596858], \"name\": \"WWE\", \"line\": {\"width\": 2, \"color\": \"rgb(150,66,250)\"}, \"legendgroup\": \"WWE\", \"showlegend\": false}, {\"type\": \"scatter\", \"x\": [\"2017-09-13\"], \"y\": [1121715], \"name\": \"jacksfilms\", \"line\": {\"width\": 2, \"color\": \"rgb(45,26,44)\"}, \"legendgroup\": \"jacksfilms\", \"showlegend\": true}, {\"type\": \"scatter\", \"x\": [\"2017-09-14\", \"2017-09-15\", \"2017-09-16\", \"2017-09-17\", \"2017-09-18\", \"2017-09-19\", \"2017-09-20\", \"2017-09-21\", \"2017-09-22\"], \"y\": [2083895, 2587155, 2845369, 3037043, 3192268, 3280098, 3494642, 3551892, 3578670], \"name\": \"jacksfilms\", \"line\": {\"width\": 2, \"color\": \"rgb(45,26,44)\"}, \"legendgroup\": \"jacksfilms\", \"showlegend\": false}, {\"type\": \"scatter\", \"x\": [\"2017-09-23\", \"2017-09-24\"], \"y\": [728611, 1306330], \"name\": \"jacksfilms\", \"line\": {\"width\": 2, \"color\": \"rgb(45,26,44)\"}, \"legendgroup\": \"jacksfilms\", \"showlegend\": false}], {\"title\": \"Videos of trending channels (GB)\", \"xaxis\": {\"title\": \"\"}, \"yaxis\": {\"title\": \"views\"}, \"updatemenus\": [{\"active\": 1, \"buttons\": [{\"label\": \"Amelia Liana\", \"method\": \"update\", \"args\": [{\"visible\": [true, true, true, true, false, false, false, false, false, false, false, false, false, false, false, false, false, false, false, false, false, false, false, false, false, false, false, false, false, false, false, false, false, false, false, false, false, false, false, false, false, false, false, false, false, false, false, false, false, false, false, false, false, false, false, false, false, false, false, false, false, false, false, false, false, false, false, false, false, false, false, false]}]}, {\"label\": \"BBC News\", \"method\": \"update\", \"args\": [{\"visible\": [false, false, false, false, true, true, true, false, false, false, false, false, false, false, false, false, false, false, false, false, false, false, false, false, false, false, false, false, false, false, false, false, false, false, false, false, false, false, false, false, false, false, false, false, false, false, false, false, false, false, false, false, false, false, false, false, false, false, false, false, false, false, false, false, false, false, false, false, false, false, false, false]}]}, {\"label\": \"BBCRadio1VEVO\", \"method\": \"update\", \"args\": [{\"visible\": [false, false, false, false, false, false, false, true, true, true, false, false, false, false, false, false, false, false, false, false, false, false, false, false, false, false, false, false, false, false, false, false, false, false, false, false, false, false, false, false, false, false, false, false, false, false, false, false, false, false, false, false, false, false, false, false, false, false, false, false, false, false, false, false, false, false, false, false, false, false, false, false]}]}, {\"label\": \"Brave Wilderness\", \"method\": \"update\", \"args\": [{\"visible\": [false, false, false, false, false, false, false, false, false, false, true, true, true, false, false, false, false, false, false, false, false, false, false, false, false, false, false, false, false, false, false, false, false, false, false, false, false, false, false, false, false, false, false, false, false, false, false, false, false, false, false, false, false, false, false, false, false, false, false, false, false, false, false, false, false, false, false, false, false, false, false, false]}]}, {\"label\": \"Dina Tokio\", \"method\": \"update\", \"args\": [{\"visible\": [false, false, false, false, false, false, false, false, false, false, false, false, false, true, true, true, false, false, false, false, false, false, false, false, false, false, false, false, false, false, false, false, false, false, false, false, false, false, false, false, false, false, false, false, false, false, false, false, false, false, false, false, false, false, false, false, false, false, false, false, false, false, false, false, false, false, false, false, false, false, false, false]}]}, {\"label\": \"First We Feast\", \"method\": \"update\", \"args\": [{\"visible\": [false, false, false, false, false, false, false, false, false, false, false, false, false, false, false, false, true, true, true, false, false, false, false, false, false, false, false, false, false, false, false, false, false, false, false, false, false, false, false, false, false, false, false, false, false, false, false, false, false, false, false, false, false, false, false, false, false, false, false, false, false, false, false, false, false, false, false, false, false, false, false, false]}]}, {\"label\": \"Fleur DeForce\", \"method\": \"update\", \"args\": [{\"visible\": [false, false, false, false, false, false, false, false, false, false, false, false, false, false, false, false, false, false, false, true, true, true, false, false, false, false, false, false, false, false, false, false, false, false, false, false, false, false, false, false, false, false, false, false, false, false, false, false, false, false, false, false, false, false, false, false, false, false, false, false, false, false, false, false, false, false, false, false, false, false, false, false]}]}, {\"label\": \"Grace Helbig\", \"method\": \"update\", \"args\": [{\"visible\": [false, false, false, false, false, false, false, false, false, false, false, false, false, false, false, false, false, false, false, false, false, false, true, true, true, true, false, false, false, false, false, false, false, false, false, false, false, false, false, false, false, false, false, false, false, false, false, false, false, false, false, false, false, false, false, false, false, false, false, false, false, false, false, false, false, false, false, false, false, false, false, false]}]}, {\"label\": \"Inthefrow\", \"method\": \"update\", \"args\": [{\"visible\": [false, false, false, false, false, false, false, false, false, false, false, false, false, false, false, false, false, false, false, false, false, false, false, false, false, false, true, true, true, false, false, false, false, false, false, false, false, false, false, false, false, false, false, false, false, false, false, false, false, false, false, false, false, false, false, false, false, false, false, false, false, false, false, false, false, false, false, false, false, false, false, false]}]}, {\"label\": \"Jeremy Jahns\", \"method\": \"update\", \"args\": [{\"visible\": [false, false, false, false, false, false, false, false, false, false, false, false, false, false, false, false, false, false, false, false, false, false, false, false, false, false, false, false, false, true, true, true, false, false, false, false, false, false, false, false, false, false, false, false, false, false, false, false, false, false, false, false, false, false, false, false, false, false, false, false, false, false, false, false, false, false, false, false, false, false, false, false]}]}, {\"label\": \"LaLiga Santander\", \"method\": \"update\", \"args\": [{\"visible\": [false, false, false, false, false, false, false, false, false, false, false, false, false, false, false, false, false, false, false, false, false, false, false, false, false, false, false, false, false, false, false, false, true, true, true, false, false, false, false, false, false, false, false, false, false, false, false, false, false, false, false, false, false, false, false, false, false, false, false, false, false, false, false, false, false, false, false, false, false, false, false, false]}]}, {\"label\": \"Nile Wilson\", \"method\": \"update\", \"args\": [{\"visible\": [false, false, false, false, false, false, false, false, false, false, false, false, false, false, false, false, false, false, false, false, false, false, false, false, false, false, false, false, false, false, false, false, false, false, false, true, true, true, false, false, false, false, false, false, false, false, false, false, false, false, false, false, false, false, false, false, false, false, false, false, false, false, false, false, false, false, false, false, false, false, false, false]}]}, {\"label\": \"SamanthaMariaVlogs\", \"method\": \"update\", \"args\": [{\"visible\": [false, false, false, false, false, false, false, false, false, false, false, false, false, false, false, false, false, false, false, false, false, false, false, false, false, false, false, false, false, false, false, false, false, false, false, false, false, false, true, true, true, true, false, false, false, false, false, false, false, false, false, false, false, false, false, false, false, false, false, false, false, false, false, false, false, false, false, false, false, false, false, false]}]}, {\"label\": \"Sprinkleofglitter\", \"method\": \"update\", \"args\": [{\"visible\": [false, false, false, false, false, false, false, false, false, false, false, false, false, false, false, false, false, false, false, false, false, false, false, false, false, false, false, false, false, false, false, false, false, false, false, false, false, false, false, false, false, false, true, true, true, true, false, false, false, false, false, false, false, false, false, false, false, false, false, false, false, false, false, false, false, false, false, false, false, false, false, false]}]}, {\"label\": \"The Late Late Show with James Corden\", \"method\": \"update\", \"args\": [{\"visible\": [false, false, false, false, false, false, false, false, false, false, false, false, false, false, false, false, false, false, false, false, false, false, false, false, false, false, false, false, false, false, false, false, false, false, false, false, false, false, false, false, false, false, false, false, false, false, true, true, true, false, false, false, false, false, false, false, false, false, false, false, false, false, false, false, false, false, false, false, false, false, false, false]}]}, {\"label\": \"The Tonight Show Starring Jimmy Fallon\", \"method\": \"update\", \"args\": [{\"visible\": [false, false, false, false, false, false, false, false, false, false, false, false, false, false, false, false, false, false, false, false, false, false, false, false, false, false, false, false, false, false, false, false, false, false, false, false, false, false, false, false, false, false, false, false, false, false, false, false, false, true, true, true, true, true, true, true, false, false, false, false, false, false, false, false, false, false, false, false, false, false, false, false]}]}, {\"label\": \"Ubisoft US\", \"method\": \"update\", \"args\": [{\"visible\": [false, false, false, false, false, false, false, false, false, false, false, false, false, false, false, false, false, false, false, false, false, false, false, false, false, false, false, false, false, false, false, false, false, false, false, false, false, false, false, false, false, false, false, false, false, false, false, false, false, false, false, false, false, false, false, false, true, true, true, true, false, false, false, false, false, false, false, false, false, false, false, false]}]}, {\"label\": \"Vox\", \"method\": \"update\", \"args\": [{\"visible\": [false, false, false, false, false, false, false, false, false, false, false, false, false, false, false, false, false, false, false, false, false, false, false, false, false, false, false, false, false, false, false, false, false, false, false, false, false, false, false, false, false, false, false, false, false, false, false, false, false, false, false, false, false, false, false, false, false, false, false, false, true, true, true, true, false, false, false, false, false, false, false, false]}]}, {\"label\": \"WWE\", \"method\": \"update\", \"args\": [{\"visible\": [false, false, false, false, false, false, false, false, false, false, false, false, false, false, false, false, false, false, false, false, false, false, false, false, false, false, false, false, false, false, false, false, false, false, false, false, false, false, false, false, false, false, false, false, false, false, false, false, false, false, false, false, false, false, false, false, false, false, false, false, false, false, false, false, true, true, true, true, true, false, false, false]}]}, {\"label\": \"jacksfilms\", \"method\": \"update\", \"args\": [{\"visible\": [false, false, false, false, false, false, false, false, false, false, false, false, false, false, false, false, false, false, false, false, false, false, false, false, false, false, false, false, false, false, false, false, false, false, false, false, false, false, false, false, false, false, false, false, false, false, false, false, false, false, false, false, false, false, false, false, false, false, false, false, false, false, false, false, false, false, false, false, false, true, true, true]}]}, {\"label\": \"All channels\", \"method\": \"update\", \"args\": [{\"visible\": [true, true, true, true, true, true, true, true, true, true, true, true, true, true, true, true, true, true, true, true, true, true, true, true, true, true, true, true, true, true, true, true, true, true, true, true, true, true, true, true, true, true, true, true, true, true, true, true, true, true, true, true, true, true, true, true, true, true, true, true, true, true, true, true, true, true, true, true, true, true, true, true]}]}], \"direction\": \"down\", \"pad\": {\"r\": 10, \"t\": 10}, \"showactive\": true, \"x\": 0.001, \"xanchor\": \"left\", \"y\": 1.1, \"yanchor\": \"top\"}], \"width\": 800, \"height\": 600, \"legend\": {\"orientation\": \"h\"}}, {\"showLink\": true, \"linkText\": \"Export to plot.ly\"})});</script>"
      ],
      "text/vnd.plotly.v1+html": [
       "<div id=\"b983f1a5-bf6b-4735-85b9-d1a96473c25d\" style=\"height: 600px; width: 800px;\" class=\"plotly-graph-div\"></div><script type=\"text/javascript\">require([\"plotly\"], function(Plotly) { window.PLOTLYENV=window.PLOTLYENV || {};window.PLOTLYENV.BASE_URL=\"https://plot.ly\";Plotly.newPlot(\"b983f1a5-bf6b-4735-85b9-d1a96473c25d\", [{\"type\": \"scatter\", \"x\": [\"2017-09-13\", \"2017-09-14\", \"2017-09-15\"], \"y\": [58169, 62029, 66561], \"name\": \"Amelia Liana\", \"line\": {\"width\": 2, \"color\": \"rgb(239,80,255)\"}, \"legendgroup\": \"Amelia Liana\", \"showlegend\": true}, {\"type\": \"scatter\", \"x\": [\"2017-09-16\", \"2017-09-17\", \"2017-09-18\", \"2017-09-19\", \"2017-09-20\"], \"y\": [69804, 81668, 87546, 90003, 91934], \"name\": \"Amelia Liana\", \"line\": {\"width\": 2, \"color\": \"rgb(239,80,255)\"}, \"legendgroup\": \"Amelia Liana\", \"showlegend\": false}, {\"type\": \"scatter\", \"x\": [\"2017-09-21\", \"2017-09-22\"], \"y\": [63628, 66022], \"name\": \"Amelia Liana\", \"line\": {\"width\": 2, \"color\": \"rgb(239,80,255)\"}, \"legendgroup\": \"Amelia Liana\", \"showlegend\": false}, {\"type\": \"scatter\", \"x\": [\"2017-09-23\", \"2017-09-24\"], \"y\": [41884, 45481], \"name\": \"Amelia Liana\", \"line\": {\"width\": 2, \"color\": \"rgb(239,80,255)\"}, \"legendgroup\": \"Amelia Liana\", \"showlegend\": false}, {\"type\": \"scatter\", \"x\": [\"2017-09-13\", \"2017-09-14\", \"2017-09-15\"], \"y\": [136677, 141012, 143075], \"name\": \"BBC News\", \"line\": {\"width\": 2, \"color\": \"rgb(137,118,180)\"}, \"legendgroup\": \"BBC News\", \"showlegend\": true}, {\"type\": \"scatter\", \"x\": [\"2017-09-16\", \"2017-09-17\", \"2017-09-18\", \"2017-09-19\", \"2017-09-20\", \"2017-09-21\", \"2017-09-22\"], \"y\": [64237, 83906, 89671, 90855, 91572, 92118, 92374], \"name\": \"BBC News\", \"line\": {\"width\": 2, \"color\": \"rgb(137,118,180)\"}, \"legendgroup\": \"BBC News\", \"showlegend\": false}, {\"type\": \"scatter\", \"x\": [\"2017-09-23\", \"2017-09-24\"], \"y\": [270282, 324865], \"name\": \"BBC News\", \"line\": {\"width\": 2, \"color\": \"rgb(137,118,180)\"}, \"legendgroup\": \"BBC News\", \"showlegend\": false}, {\"type\": \"scatter\", \"x\": [\"2017-09-13\", \"2017-09-14\", \"2017-09-15\"], \"y\": [1024398, 1247121, 1465456], \"name\": \"BBCRadio1VEVO\", \"line\": {\"width\": 2, \"color\": \"rgb(106,186,17)\"}, \"legendgroup\": \"BBCRadio1VEVO\", \"showlegend\": true}, {\"type\": \"scatter\", \"x\": [\"2017-09-16\", \"2017-09-17\", \"2017-09-18\", \"2017-09-19\", \"2017-09-20\", \"2017-09-21\", \"2017-09-22\"], \"y\": [169622, 630265, 1131274, 1456100, 1703268, 1875354, 1988253], \"name\": \"BBCRadio1VEVO\", \"line\": {\"width\": 2, \"color\": \"rgb(106,186,17)\"}, \"legendgroup\": \"BBCRadio1VEVO\", \"showlegend\": false}, {\"type\": \"scatter\", \"x\": [\"2017-09-23\", \"2017-09-24\"], \"y\": [354128, 561427], \"name\": \"BBCRadio1VEVO\", \"line\": {\"width\": 2, \"color\": \"rgb(106,186,17)\"}, \"legendgroup\": \"BBCRadio1VEVO\", \"showlegend\": false}, {\"type\": \"scatter\", \"x\": [\"2017-09-13\"], \"y\": [2384126], \"name\": \"Brave Wilderness\", \"line\": {\"width\": 2, \"color\": \"rgb(156,66,145)\"}, \"legendgroup\": \"Brave Wilderness\", \"showlegend\": true}, {\"type\": \"scatter\", \"x\": [\"2017-09-14\", \"2017-09-15\", \"2017-09-16\", \"2017-09-17\", \"2017-09-18\", \"2017-09-19\", \"2017-09-20\", \"2017-09-21\", \"2017-09-22\"], \"y\": [1398012, 1936912, 2161849, 2333091, 2425974, 2457564, 2484262, 2509842, 2522721], \"name\": \"Brave Wilderness\", \"line\": {\"width\": 2, \"color\": \"rgb(156,66,145)\"}, \"legendgroup\": \"Brave Wilderness\", \"showlegend\": false}, {\"type\": \"scatter\", \"x\": [\"2017-09-23\", \"2017-09-24\"], \"y\": [1814787, 2607370], \"name\": \"Brave Wilderness\", \"line\": {\"width\": 2, \"color\": \"rgb(156,66,145)\"}, \"legendgroup\": \"Brave Wilderness\", \"showlegend\": false}, {\"type\": \"scatter\", \"x\": [\"2017-09-13\", \"2017-09-14\", \"2017-09-15\"], \"y\": [218536, 250268, 302662], \"name\": \"Dina Tokio\", \"line\": {\"width\": 2, \"color\": \"rgb(117,97,250)\"}, \"legendgroup\": \"Dina Tokio\", \"showlegend\": true}, {\"type\": \"scatter\", \"x\": [\"2017-09-16\", \"2017-09-17\", \"2017-09-18\", \"2017-09-19\", \"2017-09-20\", \"2017-09-21\", \"2017-09-22\"], \"y\": [188855, 228082, 245955, 255786, 264265, 273337, 277692], \"name\": \"Dina Tokio\", \"line\": {\"width\": 2, \"color\": \"rgb(117,97,250)\"}, \"legendgroup\": \"Dina Tokio\", \"showlegend\": false}, {\"type\": \"scatter\", \"x\": [\"2017-09-23\", \"2017-09-24\"], \"y\": [81077, 123144], \"name\": \"Dina Tokio\", \"line\": {\"width\": 2, \"color\": \"rgb(117,97,250)\"}, \"legendgroup\": \"Dina Tokio\", \"showlegend\": false}, {\"type\": \"scatter\", \"x\": [\"2017-09-13\", \"2017-09-14\", \"2017-09-15\"], \"y\": [483360, 579530, 650836], \"name\": \"First We Feast\", \"line\": {\"width\": 2, \"color\": \"rgb(12,85,90)\"}, \"legendgroup\": \"First We Feast\", \"showlegend\": true}, {\"type\": \"scatter\", \"x\": [\"2017-09-16\", \"2017-09-17\", \"2017-09-18\", \"2017-09-19\", \"2017-09-20\", \"2017-09-21\", \"2017-09-22\"], \"y\": [656697, 717397, 753615, 773318, 810957, 841653, 881841], \"name\": \"First We Feast\", \"line\": {\"width\": 2, \"color\": \"rgb(12,85,90)\"}, \"legendgroup\": \"First We Feast\", \"showlegend\": false}, {\"type\": \"scatter\", \"x\": [\"2017-09-23\", \"2017-09-24\"], \"y\": [793864, 828693], \"name\": \"First We Feast\", \"line\": {\"width\": 2, \"color\": \"rgb(12,85,90)\"}, \"legendgroup\": \"First We Feast\", \"showlegend\": false}, {\"type\": \"scatter\", \"x\": [\"2017-09-13\", \"2017-09-14\"], \"y\": [119670, 125476], \"name\": \"Fleur DeForce\", \"line\": {\"width\": 2, \"color\": \"rgb(223,247,163)\"}, \"legendgroup\": \"Fleur DeForce\", \"showlegend\": true}, {\"type\": \"scatter\", \"x\": [\"2017-09-15\", \"2017-09-16\", \"2017-09-17\", \"2017-09-18\", \"2017-09-19\", \"2017-09-20\", \"2017-09-21\", \"2017-09-22\"], \"y\": [126204, 149030, 163136, 176598, 181824, 185996, 189979, 191931], \"name\": \"Fleur DeForce\", \"line\": {\"width\": 2, \"color\": \"rgb(223,247,163)\"}, \"legendgroup\": \"Fleur DeForce\", \"showlegend\": false}, {\"type\": \"scatter\", \"x\": [\"2017-09-23\", \"2017-09-24\"], \"y\": [102500, 108077], \"name\": \"Fleur DeForce\", \"line\": {\"width\": 2, \"color\": \"rgb(223,247,163)\"}, \"legendgroup\": \"Fleur DeForce\", \"showlegend\": false}, {\"type\": \"scatter\", \"x\": [\"2017-09-13\", \"2017-09-14\", \"2017-09-15\"], \"y\": [141356, 158779, 169567], \"name\": \"Grace Helbig\", \"line\": {\"width\": 2, \"color\": \"rgb(113,232,123)\"}, \"legendgroup\": \"Grace Helbig\", \"showlegend\": true}, {\"type\": \"scatter\", \"x\": [\"2017-09-16\", \"2017-09-17\", \"2017-09-18\", \"2017-09-19\", \"2017-09-20\"], \"y\": [87647, 135115, 157482, 166760, 173696], \"name\": \"Grace Helbig\", \"line\": {\"width\": 2, \"color\": \"rgb(113,232,123)\"}, \"legendgroup\": \"Grace Helbig\", \"showlegend\": false}, {\"type\": \"scatter\", \"x\": [\"2017-09-21\", \"2017-09-22\"], \"y\": [217556, 228868], \"name\": \"Grace Helbig\", \"line\": {\"width\": 2, \"color\": \"rgb(113,232,123)\"}, \"legendgroup\": \"Grace Helbig\", \"showlegend\": false}, {\"type\": \"scatter\", \"x\": [\"2017-09-23\", \"2017-09-24\"], \"y\": [224708, 229628], \"name\": \"Grace Helbig\", \"line\": {\"width\": 2, \"color\": \"rgb(113,232,123)\"}, \"legendgroup\": \"Grace Helbig\", \"showlegend\": false}, {\"type\": \"scatter\", \"x\": [\"2017-09-13\", \"2017-09-14\", \"2017-09-15\"], \"y\": [61781, 63686, 65950], \"name\": \"Inthefrow\", \"line\": {\"width\": 2, \"color\": \"rgb(191,215,130)\"}, \"legendgroup\": \"Inthefrow\", \"showlegend\": true}, {\"type\": \"scatter\", \"x\": [\"2017-09-16\", \"2017-09-17\", \"2017-09-18\", \"2017-09-19\", \"2017-09-20\"], \"y\": [62755, 76164, 84097, 87316, 89908], \"name\": \"Inthefrow\", \"line\": {\"width\": 2, \"color\": \"rgb(191,215,130)\"}, \"legendgroup\": \"Inthefrow\", \"showlegend\": false}, {\"type\": \"scatter\", \"x\": [\"2017-09-21\", \"2017-09-22\", \"2017-09-23\", \"2017-09-24\"], \"y\": [85095, 97168, 107617, 113048], \"name\": \"Inthefrow\", \"line\": {\"width\": 2, \"color\": \"rgb(191,215,130)\"}, \"legendgroup\": \"Inthefrow\", \"showlegend\": false}, {\"type\": \"scatter\", \"x\": [\"2017-09-13\", \"2017-09-14\", \"2017-09-15\"], \"y\": [787961, 808962, 829812], \"name\": \"Jeremy Jahns\", \"line\": {\"width\": 2, \"color\": \"rgb(58,116,203)\"}, \"legendgroup\": \"Jeremy Jahns\", \"showlegend\": true}, {\"type\": \"scatter\", \"x\": [\"2017-09-16\", \"2017-09-17\", \"2017-09-18\", \"2017-09-19\", \"2017-09-20\"], \"y\": [238222, 351831, 408663, 432877, 446594], \"name\": \"Jeremy Jahns\", \"line\": {\"width\": 2, \"color\": \"rgb(58,116,203)\"}, \"legendgroup\": \"Jeremy Jahns\", \"showlegend\": false}, {\"type\": \"scatter\", \"x\": [\"2017-09-21\", \"2017-09-22\", \"2017-09-23\", \"2017-09-24\"], \"y\": [222217, 259256, 281064, 287517], \"name\": \"Jeremy Jahns\", \"line\": {\"width\": 2, \"color\": \"rgb(58,116,203)\"}, \"legendgroup\": \"Jeremy Jahns\", \"showlegend\": false}, {\"type\": \"scatter\", \"x\": [\"2017-09-13\", \"2017-09-14\", \"2017-09-15\", \"2017-09-16\"], \"y\": [688485, 694324, 700959, 706428], \"name\": \"LaLiga Santander\", \"line\": {\"width\": 2, \"color\": \"rgb(139,140,78)\"}, \"legendgroup\": \"LaLiga Santander\", \"showlegend\": true}, {\"type\": \"scatter\", \"x\": [\"2017-09-17\", \"2017-09-18\"], \"y\": [23907, 77356], \"name\": \"LaLiga Santander\", \"line\": {\"width\": 2, \"color\": \"rgb(139,140,78)\"}, \"legendgroup\": \"LaLiga Santander\", \"showlegend\": false}, {\"type\": \"scatter\", \"x\": [\"2017-09-19\", \"2017-09-20\", \"2017-09-21\", \"2017-09-22\", \"2017-09-23\", \"2017-09-24\"], \"y\": [441539, 513994, 538102, 541669, 545820, 548846], \"name\": \"LaLiga Santander\", \"line\": {\"width\": 2, \"color\": \"rgb(139,140,78)\"}, \"legendgroup\": \"LaLiga Santander\", \"showlegend\": false}, {\"type\": \"scatter\", \"x\": [\"2017-09-13\", \"2017-09-14\"], \"y\": [185541, 214481], \"name\": \"Nile Wilson\", \"line\": {\"width\": 2, \"color\": \"rgb(227,219,112)\"}, \"legendgroup\": \"Nile Wilson\", \"showlegend\": true}, {\"type\": \"scatter\", \"x\": [\"2017-09-15\", \"2017-09-16\", \"2017-09-17\", \"2017-09-18\", \"2017-09-19\", \"2017-09-20\", \"2017-09-21\", \"2017-09-22\"], \"y\": [168197, 254186, 286064, 306432, 315054, 321702, 327083, 334833], \"name\": \"Nile Wilson\", \"line\": {\"width\": 2, \"color\": \"rgb(227,219,112)\"}, \"legendgroup\": \"Nile Wilson\", \"showlegend\": false}, {\"type\": \"scatter\", \"x\": [\"2017-09-23\", \"2017-09-24\"], \"y\": [248360, 261636], \"name\": \"Nile Wilson\", \"line\": {\"width\": 2, \"color\": \"rgb(227,219,112)\"}, \"legendgroup\": \"Nile Wilson\", \"showlegend\": false}, {\"type\": \"scatter\", \"x\": [\"2017-09-13\", \"2017-09-14\", \"2017-09-15\"], \"y\": [109101, 115702, 121547], \"name\": \"SamanthaMariaVlogs\", \"line\": {\"width\": 2, \"color\": \"rgb(56,19,77)\"}, \"legendgroup\": \"SamanthaMariaVlogs\", \"showlegend\": true}, {\"type\": \"scatter\", \"x\": [\"2017-09-16\", \"2017-09-17\", \"2017-09-18\", \"2017-09-19\", \"2017-09-20\"], \"y\": [85682, 99106, 106937, 111194, 114628], \"name\": \"SamanthaMariaVlogs\", \"line\": {\"width\": 2, \"color\": \"rgb(56,19,77)\"}, \"legendgroup\": \"SamanthaMariaVlogs\", \"showlegend\": false}, {\"type\": \"scatter\", \"x\": [\"2017-09-21\"], \"y\": [79727], \"name\": \"SamanthaMariaVlogs\", \"line\": {\"width\": 2, \"color\": \"rgb(56,19,77)\"}, \"legendgroup\": \"SamanthaMariaVlogs\", \"showlegend\": false}, {\"type\": \"scatter\", \"x\": [\"2017-09-22\", \"2017-09-23\", \"2017-09-24\"], \"y\": [83150, 87426, 89301], \"name\": \"SamanthaMariaVlogs\", \"line\": {\"width\": 2, \"color\": \"rgb(56,19,77)\"}, \"legendgroup\": \"SamanthaMariaVlogs\", \"showlegend\": false}, {\"type\": \"scatter\", \"x\": [\"2017-09-13\", \"2017-09-14\", \"2017-09-15\"], \"y\": [40592, 153181, 197066], \"name\": \"Sprinkleofglitter\", \"line\": {\"width\": 2, \"color\": \"rgb(220,17,129)\"}, \"legendgroup\": \"Sprinkleofglitter\", \"showlegend\": true}, {\"type\": \"scatter\", \"x\": [\"2017-09-16\", \"2017-09-17\", \"2017-09-18\", \"2017-09-19\", \"2017-09-20\"], \"y\": [78516, 169101, 208478, 229795, 239976], \"name\": \"Sprinkleofglitter\", \"line\": {\"width\": 2, \"color\": \"rgb(220,17,129)\"}, \"legendgroup\": \"Sprinkleofglitter\", \"showlegend\": false}, {\"type\": \"scatter\", \"x\": [\"2017-09-21\", \"2017-09-22\"], \"y\": [116972, 168453], \"name\": \"Sprinkleofglitter\", \"line\": {\"width\": 2, \"color\": \"rgb(220,17,129)\"}, \"legendgroup\": \"Sprinkleofglitter\", \"showlegend\": false}, {\"type\": \"scatter\", \"x\": [\"2017-09-23\", \"2017-09-24\"], \"y\": [57129, 77152], \"name\": \"Sprinkleofglitter\", \"line\": {\"width\": 2, \"color\": \"rgb(220,17,129)\"}, \"legendgroup\": \"Sprinkleofglitter\", \"showlegend\": false}, {\"type\": \"scatter\", \"x\": [\"2017-09-13\", \"2017-09-14\", \"2017-09-15\"], \"y\": [199102, 743189, 1191937], \"name\": \"The Late Late Show with James Corden\", \"line\": {\"width\": 2, \"color\": \"rgb(190,89,241)\"}, \"legendgroup\": \"The Late Late Show with James Corden\", \"showlegend\": true}, {\"type\": \"scatter\", \"x\": [\"2017-09-16\", \"2017-09-17\", \"2017-09-18\", \"2017-09-19\", \"2017-09-20\", \"2017-09-21\", \"2017-09-22\"], \"y\": [301382, 446859, 537024, 584775, 620288, 644847, 655354], \"name\": \"The Late Late Show with James Corden\", \"line\": {\"width\": 2, \"color\": \"rgb(190,89,241)\"}, \"legendgroup\": \"The Late Late Show with James Corden\", \"showlegend\": false}, {\"type\": \"scatter\", \"x\": [\"2017-09-23\", \"2017-09-24\"], \"y\": [307748, 365474], \"name\": \"The Late Late Show with James Corden\", \"line\": {\"width\": 2, \"color\": \"rgb(190,89,241)\"}, \"legendgroup\": \"The Late Late Show with James Corden\", \"showlegend\": false}, {\"type\": \"scatter\", \"x\": [\"2017-09-13\"], \"y\": [288535], \"name\": \"The Tonight Show Starring Jimmy Fallon\", \"line\": {\"width\": 2, \"color\": \"rgb(93,136,174)\"}, \"legendgroup\": \"The Tonight Show Starring Jimmy Fallon\", \"showlegend\": true}, {\"type\": \"scatter\", \"x\": [\"2017-09-14\"], \"y\": [195079], \"name\": \"The Tonight Show Starring Jimmy Fallon\", \"line\": {\"width\": 2, \"color\": \"rgb(93,136,174)\"}, \"legendgroup\": \"The Tonight Show Starring Jimmy Fallon\", \"showlegend\": false}, {\"type\": \"scatter\", \"x\": [\"2017-09-15\", \"2017-09-16\", \"2017-09-17\", \"2017-09-18\"], \"y\": [612932, 887511, 1040702, 1145233], \"name\": \"The Tonight Show Starring Jimmy Fallon\", \"line\": {\"width\": 2, \"color\": \"rgb(93,136,174)\"}, \"legendgroup\": \"The Tonight Show Starring Jimmy Fallon\", \"showlegend\": false}, {\"type\": \"scatter\", \"x\": [\"2017-09-19\"], \"y\": [815100], \"name\": \"The Tonight Show Starring Jimmy Fallon\", \"line\": {\"width\": 2, \"color\": \"rgb(93,136,174)\"}, \"legendgroup\": \"The Tonight Show Starring Jimmy Fallon\", \"showlegend\": false}, {\"type\": \"scatter\", \"x\": [\"2017-09-20\"], \"y\": [625564], \"name\": \"The Tonight Show Starring Jimmy Fallon\", \"line\": {\"width\": 2, \"color\": \"rgb(93,136,174)\"}, \"legendgroup\": \"The Tonight Show Starring Jimmy Fallon\", \"showlegend\": false}, {\"type\": \"scatter\", \"x\": [\"2017-09-21\", \"2017-09-22\"], \"y\": [733402, 1071686], \"name\": \"The Tonight Show Starring Jimmy Fallon\", \"line\": {\"width\": 2, \"color\": \"rgb(93,136,174)\"}, \"legendgroup\": \"The Tonight Show Starring Jimmy Fallon\", \"showlegend\": false}, {\"type\": \"scatter\", \"x\": [\"2017-09-23\", \"2017-09-24\"], \"y\": [108480, 125716], \"name\": \"The Tonight Show Starring Jimmy Fallon\", \"line\": {\"width\": 2, \"color\": \"rgb(93,136,174)\"}, \"legendgroup\": \"The Tonight Show Starring Jimmy Fallon\", \"showlegend\": false}, {\"type\": \"scatter\", \"x\": [\"2017-09-13\"], \"y\": [59288], \"name\": \"Ubisoft US\", \"line\": {\"width\": 2, \"color\": \"rgb(124,165,231)\"}, \"legendgroup\": \"Ubisoft US\", \"showlegend\": true}, {\"type\": \"scatter\", \"x\": [\"2017-09-14\"], \"y\": [25787], \"name\": \"Ubisoft US\", \"line\": {\"width\": 2, \"color\": \"rgb(124,165,231)\"}, \"legendgroup\": \"Ubisoft US\", \"showlegend\": false}, {\"type\": \"scatter\", \"x\": [\"2017-09-15\", \"2017-09-16\", \"2017-09-17\", \"2017-09-18\", \"2017-09-19\"], \"y\": [128860, 245888, 291155, 316788, 330142], \"name\": \"Ubisoft US\", \"line\": {\"width\": 2, \"color\": \"rgb(124,165,231)\"}, \"legendgroup\": \"Ubisoft US\", \"showlegend\": false}, {\"type\": \"scatter\", \"x\": [\"2017-09-20\", \"2017-09-21\", \"2017-09-22\", \"2017-09-23\", \"2017-09-24\"], \"y\": [28810, 57863, 64956, 68238, 69247], \"name\": \"Ubisoft US\", \"line\": {\"width\": 2, \"color\": \"rgb(124,165,231)\"}, \"legendgroup\": \"Ubisoft US\", \"showlegend\": false}, {\"type\": \"scatter\", \"x\": [\"2017-09-13\"], \"y\": [1691734], \"name\": \"Vox\", \"line\": {\"width\": 2, \"color\": \"rgb(115,142,35)\"}, \"legendgroup\": \"Vox\", \"showlegend\": true}, {\"type\": \"scatter\", \"x\": [\"2017-09-14\", \"2017-09-15\", \"2017-09-16\", \"2017-09-17\", \"2017-09-18\", \"2017-09-19\", \"2017-09-20\"], \"y\": [380211, 516978, 572673, 614701, 647635, 665175, 680886], \"name\": \"Vox\", \"line\": {\"width\": 2, \"color\": \"rgb(115,142,35)\"}, \"legendgroup\": \"Vox\", \"showlegend\": false}, {\"type\": \"scatter\", \"x\": [\"2017-09-21\", \"2017-09-22\"], \"y\": [295787, 376257], \"name\": \"Vox\", \"line\": {\"width\": 2, \"color\": \"rgb(115,142,35)\"}, \"legendgroup\": \"Vox\", \"showlegend\": false}, {\"type\": \"scatter\", \"x\": [\"2017-09-23\", \"2017-09-24\"], \"y\": [217505, 237509], \"name\": \"Vox\", \"line\": {\"width\": 2, \"color\": \"rgb(115,142,35)\"}, \"legendgroup\": \"Vox\", \"showlegend\": false}, {\"type\": \"scatter\", \"x\": [\"2017-09-13\"], \"y\": [369541], \"name\": \"WWE\", \"line\": {\"width\": 2, \"color\": \"rgb(150,66,250)\"}, \"legendgroup\": \"WWE\", \"showlegend\": true}, {\"type\": \"scatter\", \"x\": [\"2017-09-14\", \"2017-09-15\"], \"y\": [746904, 772453], \"name\": \"WWE\", \"line\": {\"width\": 2, \"color\": \"rgb(150,66,250)\"}, \"legendgroup\": \"WWE\", \"showlegend\": false}, {\"type\": \"scatter\", \"x\": [\"2017-09-16\", \"2017-09-17\", \"2017-09-18\"], \"y\": [2858059, 2963359, 3034617], \"name\": \"WWE\", \"line\": {\"width\": 2, \"color\": \"rgb(150,66,250)\"}, \"legendgroup\": \"WWE\", \"showlegend\": false}, {\"type\": \"scatter\", \"x\": [\"2017-09-19\", \"2017-09-20\"], \"y\": [212211, 216981], \"name\": \"WWE\", \"line\": {\"width\": 2, \"color\": \"rgb(150,66,250)\"}, \"legendgroup\": \"WWE\", \"showlegend\": false}, {\"type\": \"scatter\", \"x\": [\"2017-09-21\", \"2017-09-22\", \"2017-09-23\", \"2017-09-24\"], \"y\": [542078, 570259, 589576, 596858], \"name\": \"WWE\", \"line\": {\"width\": 2, \"color\": \"rgb(150,66,250)\"}, \"legendgroup\": \"WWE\", \"showlegend\": false}, {\"type\": \"scatter\", \"x\": [\"2017-09-13\"], \"y\": [1121715], \"name\": \"jacksfilms\", \"line\": {\"width\": 2, \"color\": \"rgb(45,26,44)\"}, \"legendgroup\": \"jacksfilms\", \"showlegend\": true}, {\"type\": \"scatter\", \"x\": [\"2017-09-14\", \"2017-09-15\", \"2017-09-16\", \"2017-09-17\", \"2017-09-18\", \"2017-09-19\", \"2017-09-20\", \"2017-09-21\", \"2017-09-22\"], \"y\": [2083895, 2587155, 2845369, 3037043, 3192268, 3280098, 3494642, 3551892, 3578670], \"name\": \"jacksfilms\", \"line\": {\"width\": 2, \"color\": \"rgb(45,26,44)\"}, \"legendgroup\": \"jacksfilms\", \"showlegend\": false}, {\"type\": \"scatter\", \"x\": [\"2017-09-23\", \"2017-09-24\"], \"y\": [728611, 1306330], \"name\": \"jacksfilms\", \"line\": {\"width\": 2, \"color\": \"rgb(45,26,44)\"}, \"legendgroup\": \"jacksfilms\", \"showlegend\": false}], {\"title\": \"Videos of trending channels (GB)\", \"xaxis\": {\"title\": \"\"}, \"yaxis\": {\"title\": \"views\"}, \"updatemenus\": [{\"active\": 1, \"buttons\": [{\"label\": \"Amelia Liana\", \"method\": \"update\", \"args\": [{\"visible\": [true, true, true, true, false, false, false, false, false, false, false, false, false, false, false, false, false, false, false, false, false, false, false, false, false, false, false, false, false, false, false, false, false, false, false, false, false, false, false, false, false, false, false, false, false, false, false, false, false, false, false, false, false, false, false, false, false, false, false, false, false, false, false, false, false, false, false, false, false, false, false, false]}]}, {\"label\": \"BBC News\", \"method\": \"update\", \"args\": [{\"visible\": [false, false, false, false, true, true, true, false, false, false, false, false, false, false, false, false, false, false, false, false, false, false, false, false, false, false, false, false, false, false, false, false, false, false, false, false, false, false, false, false, false, false, false, false, false, false, false, false, false, false, false, false, false, false, false, false, false, false, false, false, false, false, false, false, false, false, false, false, false, false, false, false]}]}, {\"label\": \"BBCRadio1VEVO\", \"method\": \"update\", \"args\": [{\"visible\": [false, false, false, false, false, false, false, true, true, true, false, false, false, false, false, false, false, false, false, false, false, false, false, false, false, false, false, false, false, false, false, false, false, false, false, false, false, false, false, false, false, false, false, false, false, false, false, false, false, false, false, false, false, false, false, false, false, false, false, false, false, false, false, false, false, false, false, false, false, false, false, false]}]}, {\"label\": \"Brave Wilderness\", \"method\": \"update\", \"args\": [{\"visible\": [false, false, false, false, false, false, false, false, false, false, true, true, true, false, false, false, false, false, false, false, false, false, false, false, false, false, false, false, false, false, false, false, false, false, false, false, false, false, false, false, false, false, false, false, false, false, false, false, false, false, false, false, false, false, false, false, false, false, false, false, false, false, false, false, false, false, false, false, false, false, false, false]}]}, {\"label\": \"Dina Tokio\", \"method\": \"update\", \"args\": [{\"visible\": [false, false, false, false, false, false, false, false, false, false, false, false, false, true, true, true, false, false, false, false, false, false, false, false, false, false, false, false, false, false, false, false, false, false, false, false, false, false, false, false, false, false, false, false, false, false, false, false, false, false, false, false, false, false, false, false, false, false, false, false, false, false, false, false, false, false, false, false, false, false, false, false]}]}, {\"label\": \"First We Feast\", \"method\": \"update\", \"args\": [{\"visible\": [false, false, false, false, false, false, false, false, false, false, false, false, false, false, false, false, true, true, true, false, false, false, false, false, false, false, false, false, false, false, false, false, false, false, false, false, false, false, false, false, false, false, false, false, false, false, false, false, false, false, false, false, false, false, false, false, false, false, false, false, false, false, false, false, false, false, false, false, false, false, false, false]}]}, {\"label\": \"Fleur DeForce\", \"method\": \"update\", \"args\": [{\"visible\": [false, false, false, false, false, false, false, false, false, false, false, false, false, false, false, false, false, false, false, true, true, true, false, false, false, false, false, false, false, false, false, false, false, false, false, false, false, false, false, false, false, false, false, false, false, false, false, false, false, false, false, false, false, false, false, false, false, false, false, false, false, false, false, false, false, false, false, false, false, false, false, false]}]}, {\"label\": \"Grace Helbig\", \"method\": \"update\", \"args\": [{\"visible\": [false, false, false, false, false, false, false, false, false, false, false, false, false, false, false, false, false, false, false, false, false, false, true, true, true, true, false, false, false, false, false, false, false, false, false, false, false, false, false, false, false, false, false, false, false, false, false, false, false, false, false, false, false, false, false, false, false, false, false, false, false, false, false, false, false, false, false, false, false, false, false, false]}]}, {\"label\": \"Inthefrow\", \"method\": \"update\", \"args\": [{\"visible\": [false, false, false, false, false, false, false, false, false, false, false, false, false, false, false, false, false, false, false, false, false, false, false, false, false, false, true, true, true, false, false, false, false, false, false, false, false, false, false, false, false, false, false, false, false, false, false, false, false, false, false, false, false, false, false, false, false, false, false, false, false, false, false, false, false, false, false, false, false, false, false, false]}]}, {\"label\": \"Jeremy Jahns\", \"method\": \"update\", \"args\": [{\"visible\": [false, false, false, false, false, false, false, false, false, false, false, false, false, false, false, false, false, false, false, false, false, false, false, false, false, false, false, false, false, true, true, true, false, false, false, false, false, false, false, false, false, false, false, false, false, false, false, false, false, false, false, false, false, false, false, false, false, false, false, false, false, false, false, false, false, false, false, false, false, false, false, false]}]}, {\"label\": \"LaLiga Santander\", \"method\": \"update\", \"args\": [{\"visible\": [false, false, false, false, false, false, false, false, false, false, false, false, false, false, false, false, false, false, false, false, false, false, false, false, false, false, false, false, false, false, false, false, true, true, true, false, false, false, false, false, false, false, false, false, false, false, false, false, false, false, false, false, false, false, false, false, false, false, false, false, false, false, false, false, false, false, false, false, false, false, false, false]}]}, {\"label\": \"Nile Wilson\", \"method\": \"update\", \"args\": [{\"visible\": [false, false, false, false, false, false, false, false, false, false, false, false, false, false, false, false, false, false, false, false, false, false, false, false, false, false, false, false, false, false, false, false, false, false, false, true, true, true, false, false, false, false, false, false, false, false, false, false, false, false, false, false, false, false, false, false, false, false, false, false, false, false, false, false, false, false, false, false, false, false, false, false]}]}, {\"label\": \"SamanthaMariaVlogs\", \"method\": \"update\", \"args\": [{\"visible\": [false, false, false, false, false, false, false, false, false, false, false, false, false, false, false, false, false, false, false, false, false, false, false, false, false, false, false, false, false, false, false, false, false, false, false, false, false, false, true, true, true, true, false, false, false, false, false, false, false, false, false, false, false, false, false, false, false, false, false, false, false, false, false, false, false, false, false, false, false, false, false, false]}]}, {\"label\": \"Sprinkleofglitter\", \"method\": \"update\", \"args\": [{\"visible\": [false, false, false, false, false, false, false, false, false, false, false, false, false, false, false, false, false, false, false, false, false, false, false, false, false, false, false, false, false, false, false, false, false, false, false, false, false, false, false, false, false, false, true, true, true, true, false, false, false, false, false, false, false, false, false, false, false, false, false, false, false, false, false, false, false, false, false, false, false, false, false, false]}]}, {\"label\": \"The Late Late Show with James Corden\", \"method\": \"update\", \"args\": [{\"visible\": [false, false, false, false, false, false, false, false, false, false, false, false, false, false, false, false, false, false, false, false, false, false, false, false, false, false, false, false, false, false, false, false, false, false, false, false, false, false, false, false, false, false, false, false, false, false, true, true, true, false, false, false, false, false, false, false, false, false, false, false, false, false, false, false, false, false, false, false, false, false, false, false]}]}, {\"label\": \"The Tonight Show Starring Jimmy Fallon\", \"method\": \"update\", \"args\": [{\"visible\": [false, false, false, false, false, false, false, false, false, false, false, false, false, false, false, false, false, false, false, false, false, false, false, false, false, false, false, false, false, false, false, false, false, false, false, false, false, false, false, false, false, false, false, false, false, false, false, false, false, true, true, true, true, true, true, true, false, false, false, false, false, false, false, false, false, false, false, false, false, false, false, false]}]}, {\"label\": \"Ubisoft US\", \"method\": \"update\", \"args\": [{\"visible\": [false, false, false, false, false, false, false, false, false, false, false, false, false, false, false, false, false, false, false, false, false, false, false, false, false, false, false, false, false, false, false, false, false, false, false, false, false, false, false, false, false, false, false, false, false, false, false, false, false, false, false, false, false, false, false, false, true, true, true, true, false, false, false, false, false, false, false, false, false, false, false, false]}]}, {\"label\": \"Vox\", \"method\": \"update\", \"args\": [{\"visible\": [false, false, false, false, false, false, false, false, false, false, false, false, false, false, false, false, false, false, false, false, false, false, false, false, false, false, false, false, false, false, false, false, false, false, false, false, false, false, false, false, false, false, false, false, false, false, false, false, false, false, false, false, false, false, false, false, false, false, false, false, true, true, true, true, false, false, false, false, false, false, false, false]}]}, {\"label\": \"WWE\", \"method\": \"update\", \"args\": [{\"visible\": [false, false, false, false, false, false, false, false, false, false, false, false, false, false, false, false, false, false, false, false, false, false, false, false, false, false, false, false, false, false, false, false, false, false, false, false, false, false, false, false, false, false, false, false, false, false, false, false, false, false, false, false, false, false, false, false, false, false, false, false, false, false, false, false, true, true, true, true, true, false, false, false]}]}, {\"label\": \"jacksfilms\", \"method\": \"update\", \"args\": [{\"visible\": [false, false, false, false, false, false, false, false, false, false, false, false, false, false, false, false, false, false, false, false, false, false, false, false, false, false, false, false, false, false, false, false, false, false, false, false, false, false, false, false, false, false, false, false, false, false, false, false, false, false, false, false, false, false, false, false, false, false, false, false, false, false, false, false, false, false, false, false, false, true, true, true]}]}, {\"label\": \"All channels\", \"method\": \"update\", \"args\": [{\"visible\": [true, true, true, true, true, true, true, true, true, true, true, true, true, true, true, true, true, true, true, true, true, true, true, true, true, true, true, true, true, true, true, true, true, true, true, true, true, true, true, true, true, true, true, true, true, true, true, true, true, true, true, true, true, true, true, true, true, true, true, true, true, true, true, true, true, true, true, true, true, true, true, true]}]}], \"direction\": \"down\", \"pad\": {\"r\": 10, \"t\": 10}, \"showactive\": true, \"x\": 0.001, \"xanchor\": \"left\", \"y\": 1.1, \"yanchor\": \"top\"}], \"width\": 800, \"height\": 600, \"legend\": {\"orientation\": \"h\"}}, {\"showLink\": true, \"linkText\": \"Export to plot.ly\"})});</script>"
      ]
     },
     "metadata": {},
     "output_type": "display_data"
    }
   ],
   "source": [
    "channels_insight(gb_vid_df, \"GB\", date(2017,9,13), date(2017,9,24), 12)"
   ]
  },
  {
   "cell_type": "code",
   "execution_count": 15,
   "metadata": {
    "_cell_guid": "3a3bee6e-6700-4b48-af52-60f6d318b372",
    "_uuid": "35e857d6ed528037ac200f68781f42b7aa5cf1f3"
   },
   "outputs": [
    {
     "data": {
      "application/vnd.plotly.v1+json": {
       "data": [
        {
         "legendgroup": "Cracked",
         "line": {
          "color": "rgb(96,152,73)",
          "width": 2
         },
         "name": "Cracked",
         "showlegend": true,
         "type": "scatter",
         "x": [
          "2017-09-13",
          "2017-09-14"
         ],
         "y": [
          379817,
          410406
         ]
        },
        {
         "legendgroup": "Cracked",
         "line": {
          "color": "rgb(96,152,73)",
          "width": 2
         },
         "name": "Cracked",
         "showlegend": false,
         "type": "scatter",
         "x": [
          "2017-09-15"
         ],
         "y": [
          186264
         ]
        },
        {
         "legendgroup": "Cracked",
         "line": {
          "color": "rgb(96,152,73)",
          "width": 2
         },
         "name": "Cracked",
         "showlegend": false,
         "type": "scatter",
         "x": [
          "2017-09-16",
          "2017-09-17",
          "2017-09-18",
          "2017-09-19",
          "2017-09-20",
          "2017-09-21",
          "2017-09-22"
         ],
         "y": [
          290939,
          888666,
          1213185,
          1273718,
          1285313,
          1301518,
          1313911
         ]
        },
        {
         "legendgroup": "Cracked",
         "line": {
          "color": "rgb(96,152,73)",
          "width": 2
         },
         "name": "Cracked",
         "showlegend": false,
         "type": "scatter",
         "x": [
          "2017-09-23",
          "2017-09-24"
         ],
         "y": [
          184032,
          194392
         ]
        },
        {
         "legendgroup": "ESPN",
         "line": {
          "color": "rgb(222,141,169)",
          "width": 2
         },
         "name": "ESPN",
         "showlegend": true,
         "type": "scatter",
         "x": [
          "2017-09-13"
         ],
         "y": [
          113400
         ]
        },
        {
         "legendgroup": "ESPN",
         "line": {
          "color": "rgb(222,141,169)",
          "width": 2
         },
         "name": "ESPN",
         "showlegend": false,
         "type": "scatter",
         "x": [
          "2017-09-14",
          "2017-09-15",
          "2017-09-16"
         ],
         "y": [
          367178,
          495762,
          529834
         ]
        },
        {
         "legendgroup": "ESPN",
         "line": {
          "color": "rgb(222,141,169)",
          "width": 2
         },
         "name": "ESPN",
         "showlegend": false,
         "type": "scatter",
         "x": [
          "2017-09-17"
         ],
         "y": [
          494594
         ]
        },
        {
         "legendgroup": "ESPN",
         "line": {
          "color": "rgb(222,141,169)",
          "width": 2
         },
         "name": "ESPN",
         "showlegend": false,
         "type": "scatter",
         "x": [
          "2017-09-18",
          "2017-09-19",
          "2017-09-20"
         ],
         "y": [
          1304884,
          1622730,
          1681166
         ]
        },
        {
         "legendgroup": "ESPN",
         "line": {
          "color": "rgb(222,141,169)",
          "width": 2
         },
         "name": "ESPN",
         "showlegend": false,
         "type": "scatter",
         "x": [
          "2017-09-21",
          "2017-09-22",
          "2017-09-23",
          "2017-09-24"
         ],
         "y": [
          741716,
          795115,
          833044,
          847620
         ]
        },
        {
         "legendgroup": "First We Feast",
         "line": {
          "color": "rgb(211,162,186)",
          "width": 2
         },
         "name": "First We Feast",
         "showlegend": true,
         "type": "scatter",
         "x": [
          "2017-09-13",
          "2017-09-14",
          "2017-09-15"
         ],
         "y": [
          483360,
          579532,
          650931
         ]
        },
        {
         "legendgroup": "First We Feast",
         "line": {
          "color": "rgb(211,162,186)",
          "width": 2
         },
         "name": "First We Feast",
         "showlegend": false,
         "type": "scatter",
         "x": [
          "2017-09-16",
          "2017-09-17",
          "2017-09-18",
          "2017-09-19"
         ],
         "y": [
          656980,
          717404,
          753615,
          773318
         ]
        },
        {
         "legendgroup": "First We Feast",
         "line": {
          "color": "rgb(211,162,186)",
          "width": 2
         },
         "name": "First We Feast",
         "showlegend": false,
         "type": "scatter",
         "x": [
          "2017-09-20",
          "2017-09-21",
          "2017-09-22"
         ],
         "y": [
          413743,
          662805,
          731408
         ]
        },
        {
         "legendgroup": "First We Feast",
         "line": {
          "color": "rgb(211,162,186)",
          "width": 2
         },
         "name": "First We Feast",
         "showlegend": false,
         "type": "scatter",
         "x": [
          "2017-09-23",
          "2017-09-24"
         ],
         "y": [
          2868388,
          3401998
         ]
        },
        {
         "legendgroup": "Grace Helbig",
         "line": {
          "color": "rgb(198,183,239)",
          "width": 2
         },
         "name": "Grace Helbig",
         "showlegend": true,
         "type": "scatter",
         "x": [
          "2017-09-13",
          "2017-09-14",
          "2017-09-15"
         ],
         "y": [
          141532,
          158781,
          169585
         ]
        },
        {
         "legendgroup": "Grace Helbig",
         "line": {
          "color": "rgb(198,183,239)",
          "width": 2
         },
         "name": "Grace Helbig",
         "showlegend": false,
         "type": "scatter",
         "x": [
          "2017-09-16",
          "2017-09-17",
          "2017-09-18",
          "2017-09-19",
          "2017-09-20"
         ],
         "y": [
          87663,
          135116,
          157482,
          166760,
          173696
         ]
        },
        {
         "legendgroup": "Grace Helbig",
         "line": {
          "color": "rgb(198,183,239)",
          "width": 2
         },
         "name": "Grace Helbig",
         "showlegend": false,
         "type": "scatter",
         "x": [
          "2017-09-21"
         ],
         "y": [
          217624
         ]
        },
        {
         "legendgroup": "Grace Helbig",
         "line": {
          "color": "rgb(198,183,239)",
          "width": 2
         },
         "name": "Grace Helbig",
         "showlegend": false,
         "type": "scatter",
         "x": [
          "2017-09-22",
          "2017-09-23",
          "2017-09-24"
         ],
         "y": [
          207883,
          224729,
          229628
         ]
        },
        {
         "legendgroup": "Jimmy Kimmel Live",
         "line": {
          "color": "rgb(136,175,70)",
          "width": 2
         },
         "name": "Jimmy Kimmel Live",
         "showlegend": true,
         "type": "scatter",
         "x": [
          "2017-09-13",
          "2017-09-14"
         ],
         "y": [
          279903,
          310292
         ]
        },
        {
         "legendgroup": "Jimmy Kimmel Live",
         "line": {
          "color": "rgb(136,175,70)",
          "width": 2
         },
         "name": "Jimmy Kimmel Live",
         "showlegend": false,
         "type": "scatter",
         "x": [
          "2017-09-15"
         ],
         "y": [
          1009649
         ]
        },
        {
         "legendgroup": "Jimmy Kimmel Live",
         "line": {
          "color": "rgb(136,175,70)",
          "width": 2
         },
         "name": "Jimmy Kimmel Live",
         "showlegend": false,
         "type": "scatter",
         "x": [
          "2017-09-16",
          "2017-09-17",
          "2017-09-18",
          "2017-09-19"
         ],
         "y": [
          209816,
          402819,
          516614,
          566996
         ]
        },
        {
         "legendgroup": "Jimmy Kimmel Live",
         "line": {
          "color": "rgb(136,175,70)",
          "width": 2
         },
         "name": "Jimmy Kimmel Live",
         "showlegend": false,
         "type": "scatter",
         "x": [
          "2017-09-20"
         ],
         "y": [
          111973
         ]
        },
        {
         "legendgroup": "Jimmy Kimmel Live",
         "line": {
          "color": "rgb(136,175,70)",
          "width": 2
         },
         "name": "Jimmy Kimmel Live",
         "showlegend": false,
         "type": "scatter",
         "x": [
          "2017-09-21",
          "2017-09-22"
         ],
         "y": [
          303377,
          1564110
         ]
        },
        {
         "legendgroup": "Jimmy Kimmel Live",
         "line": {
          "color": "rgb(136,175,70)",
          "width": 2
         },
         "name": "Jimmy Kimmel Live",
         "showlegend": false,
         "type": "scatter",
         "x": [
          "2017-09-23",
          "2017-09-24"
         ],
         "y": [
          956789,
          1188278
         ]
        },
        {
         "legendgroup": "NFL",
         "line": {
          "color": "rgb(67,141,219)",
          "width": 2
         },
         "name": "NFL",
         "showlegend": true,
         "type": "scatter",
         "x": [
          "2017-09-13",
          "2017-09-14"
         ],
         "y": [
          743947,
          829793
         ]
        },
        {
         "legendgroup": "NFL",
         "line": {
          "color": "rgb(67,141,219)",
          "width": 2
         },
         "name": "NFL",
         "showlegend": false,
         "type": "scatter",
         "x": [
          "2017-09-15",
          "2017-09-16",
          "2017-09-17",
          "2017-09-18"
         ],
         "y": [
          170124,
          190020,
          207227,
          215449
         ]
        },
        {
         "legendgroup": "NFL",
         "line": {
          "color": "rgb(67,141,219)",
          "width": 2
         },
         "name": "NFL",
         "showlegend": false,
         "type": "scatter",
         "x": [
          "2017-09-19"
         ],
         "y": [
          644242
         ]
        },
        {
         "legendgroup": "NFL",
         "line": {
          "color": "rgb(67,141,219)",
          "width": 2
         },
         "name": "NFL",
         "showlegend": false,
         "type": "scatter",
         "x": [
          "2017-09-20",
          "2017-09-21",
          "2017-09-22"
         ],
         "y": [
          616086,
          733959,
          762557
         ]
        },
        {
         "legendgroup": "NFL",
         "line": {
          "color": "rgb(67,141,219)",
          "width": 2
         },
         "name": "NFL",
         "showlegend": false,
         "type": "scatter",
         "x": [
          "2017-09-23",
          "2017-09-24"
         ],
         "y": [
          914422,
          1165259
         ]
        },
        {
         "legendgroup": "Safiya Nygaard",
         "line": {
          "color": "rgb(121,150,225)",
          "width": 2
         },
         "name": "Safiya Nygaard",
         "showlegend": true,
         "type": "scatter",
         "x": [
          "2017-09-13",
          "2017-09-14",
          "2017-09-15"
         ],
         "y": [
          2433292,
          2555997,
          2751415
         ]
        },
        {
         "legendgroup": "Safiya Nygaard",
         "line": {
          "color": "rgb(121,150,225)",
          "width": 2
         },
         "name": "Safiya Nygaard",
         "showlegend": false,
         "type": "scatter",
         "x": [
          "2017-09-16",
          "2017-09-17",
          "2017-09-18",
          "2017-09-19",
          "2017-09-20"
         ],
         "y": [
          2473453,
          3150095,
          3556295,
          3758620,
          3932117
         ]
        },
        {
         "legendgroup": "Safiya Nygaard",
         "line": {
          "color": "rgb(121,150,225)",
          "width": 2
         },
         "name": "Safiya Nygaard",
         "showlegend": false,
         "type": "scatter",
         "x": [
          "2017-09-21",
          "2017-09-22"
         ],
         "y": [
          1844774,
          2051476
         ]
        },
        {
         "legendgroup": "Safiya Nygaard",
         "line": {
          "color": "rgb(121,150,225)",
          "width": 2
         },
         "name": "Safiya Nygaard",
         "showlegend": false,
         "type": "scatter",
         "x": [
          "2017-09-23",
          "2017-09-24"
         ],
         "y": [
          2789031,
          3061769
         ]
        },
        {
         "legendgroup": "The Late Late Show with James Corden",
         "line": {
          "color": "rgb(253,164,18)",
          "width": 2
         },
         "name": "The Late Late Show with James Corden",
         "showlegend": true,
         "type": "scatter",
         "x": [
          "2017-09-13"
         ],
         "y": [
          220661
         ]
        },
        {
         "legendgroup": "The Late Late Show with James Corden",
         "line": {
          "color": "rgb(253,164,18)",
          "width": 2
         },
         "name": "The Late Late Show with James Corden",
         "showlegend": false,
         "type": "scatter",
         "x": [
          "2017-09-14"
         ],
         "y": [
          378178
         ]
        },
        {
         "legendgroup": "The Late Late Show with James Corden",
         "line": {
          "color": "rgb(253,164,18)",
          "width": 2
         },
         "name": "The Late Late Show with James Corden",
         "showlegend": false,
         "type": "scatter",
         "x": [
          "2017-09-15",
          "2017-09-16",
          "2017-09-17",
          "2017-09-18",
          "2017-09-19"
         ],
         "y": [
          1202045,
          2137663,
          2856877,
          3297192,
          3518322
         ]
        },
        {
         "legendgroup": "The Late Late Show with James Corden",
         "line": {
          "color": "rgb(253,164,18)",
          "width": 2
         },
         "name": "The Late Late Show with James Corden",
         "showlegend": false,
         "type": "scatter",
         "x": [
          "2017-09-20"
         ],
         "y": [
          59848
         ]
        },
        {
         "legendgroup": "The Late Late Show with James Corden",
         "line": {
          "color": "rgb(253,164,18)",
          "width": 2
         },
         "name": "The Late Late Show with James Corden",
         "showlegend": false,
         "type": "scatter",
         "x": [
          "2017-09-21",
          "2017-09-22",
          "2017-09-23",
          "2017-09-24"
         ],
         "y": [
          393877,
          2397363,
          4022951,
          4484870
         ]
        },
        {
         "legendgroup": "The Tonight Show Starring Jimmy Fallon",
         "line": {
          "color": "rgb(90,181,202)",
          "width": 2
         },
         "name": "The Tonight Show Starring Jimmy Fallon",
         "showlegend": true,
         "type": "scatter",
         "x": [
          "2017-09-13",
          "2017-09-14",
          "2017-09-15"
         ],
         "y": [
          258781,
          909358,
          1276245
         ]
        },
        {
         "legendgroup": "The Tonight Show Starring Jimmy Fallon",
         "line": {
          "color": "rgb(90,181,202)",
          "width": 2
         },
         "name": "The Tonight Show Starring Jimmy Fallon",
         "showlegend": false,
         "type": "scatter",
         "x": [
          "2017-09-16",
          "2017-09-17",
          "2017-09-18"
         ],
         "y": [
          346500,
          569448,
          748105
         ]
        },
        {
         "legendgroup": "The Tonight Show Starring Jimmy Fallon",
         "line": {
          "color": "rgb(90,181,202)",
          "width": 2
         },
         "name": "The Tonight Show Starring Jimmy Fallon",
         "showlegend": false,
         "type": "scatter",
         "x": [
          "2017-09-19",
          "2017-09-20"
         ],
         "y": [
          31919,
          625564
         ]
        },
        {
         "legendgroup": "The Tonight Show Starring Jimmy Fallon",
         "line": {
          "color": "rgb(90,181,202)",
          "width": 2
         },
         "name": "The Tonight Show Starring Jimmy Fallon",
         "showlegend": false,
         "type": "scatter",
         "x": [
          "2017-09-21"
         ],
         "y": [
          734401
         ]
        },
        {
         "legendgroup": "The Tonight Show Starring Jimmy Fallon",
         "line": {
          "color": "rgb(90,181,202)",
          "width": 2
         },
         "name": "The Tonight Show Starring Jimmy Fallon",
         "showlegend": false,
         "type": "scatter",
         "x": [
          "2017-09-22"
         ],
         "y": [
          446999
         ]
        },
        {
         "legendgroup": "The Tonight Show Starring Jimmy Fallon",
         "line": {
          "color": "rgb(90,181,202)",
          "width": 2
         },
         "name": "The Tonight Show Starring Jimmy Fallon",
         "showlegend": false,
         "type": "scatter",
         "x": [
          "2017-09-23"
         ],
         "y": [
          459669
         ]
        },
        {
         "legendgroup": "The Tonight Show Starring Jimmy Fallon",
         "line": {
          "color": "rgb(90,181,202)",
          "width": 2
         },
         "name": "The Tonight Show Starring Jimmy Fallon",
         "showlegend": false,
         "type": "scatter",
         "x": [
          "2017-09-24"
         ],
         "y": [
          253864
         ]
        },
        {
         "legendgroup": "Vox",
         "line": {
          "color": "rgb(144,188,32)",
          "width": 2
         },
         "name": "Vox",
         "showlegend": true,
         "type": "scatter",
         "x": [
          "2017-09-13"
         ],
         "y": [
          244433
         ]
        },
        {
         "legendgroup": "Vox",
         "line": {
          "color": "rgb(144,188,32)",
          "width": 2
         },
         "name": "Vox",
         "showlegend": false,
         "type": "scatter",
         "x": [
          "2017-09-14",
          "2017-09-15"
         ],
         "y": [
          380266,
          517133
         ]
        },
        {
         "legendgroup": "Vox",
         "line": {
          "color": "rgb(144,188,32)",
          "width": 2
         },
         "name": "Vox",
         "showlegend": false,
         "type": "scatter",
         "x": [
          "2017-09-16",
          "2017-09-17",
          "2017-09-18"
         ],
         "y": [
          347928,
          649911,
          879197
         ]
        },
        {
         "legendgroup": "Vox",
         "line": {
          "color": "rgb(144,188,32)",
          "width": 2
         },
         "name": "Vox",
         "showlegend": false,
         "type": "scatter",
         "x": [
          "2017-09-19"
         ],
         "y": [
          304781
         ]
        },
        {
         "legendgroup": "Vox",
         "line": {
          "color": "rgb(144,188,32)",
          "width": 2
         },
         "name": "Vox",
         "showlegend": false,
         "type": "scatter",
         "x": [
          "2017-09-20"
         ],
         "y": [
          209228
         ]
        },
        {
         "legendgroup": "Vox",
         "line": {
          "color": "rgb(144,188,32)",
          "width": 2
         },
         "name": "Vox",
         "showlegend": false,
         "type": "scatter",
         "x": [
          "2017-09-21",
          "2017-09-22"
         ],
         "y": [
          296362,
          376257
         ]
        },
        {
         "legendgroup": "Vox",
         "line": {
          "color": "rgb(144,188,32)",
          "width": 2
         },
         "name": "Vox",
         "showlegend": false,
         "type": "scatter",
         "x": [
          "2017-09-23",
          "2017-09-24"
         ],
         "y": [
          351051,
          422078
         ]
        },
        {
         "legendgroup": "jacksfilms",
         "line": {
          "color": "rgb(158,50,191)",
          "width": 2
         },
         "name": "jacksfilms",
         "showlegend": true,
         "type": "scatter",
         "x": [
          "2017-09-13",
          "2017-09-14",
          "2017-09-15",
          "2017-09-16",
          "2017-09-17",
          "2017-09-18",
          "2017-09-19"
         ],
         "y": [
          1168130,
          2084309,
          2587501,
          2846092,
          3037052,
          3192269,
          3280098
         ]
        },
        {
         "legendgroup": "jacksfilms",
         "line": {
          "color": "rgb(158,50,191)",
          "width": 2
         },
         "name": "jacksfilms",
         "showlegend": false,
         "type": "scatter",
         "x": [
          "2017-09-20",
          "2017-09-21",
          "2017-09-22"
         ],
         "y": [
          966197,
          1108275,
          1137545
         ]
        },
        {
         "legendgroup": "jacksfilms",
         "line": {
          "color": "rgb(158,50,191)",
          "width": 2
         },
         "name": "jacksfilms",
         "showlegend": false,
         "type": "scatter",
         "x": [
          "2017-09-23",
          "2017-09-24"
         ],
         "y": [
          733195,
          1306449
         ]
        }
       ],
       "layout": {
        "height": 600,
        "legend": {
         "orientation": "h"
        },
        "title": "Videos of trending channels (US)",
        "updatemenus": [
         {
          "active": 1,
          "buttons": [
           {
            "args": [
             {
              "visible": [
               true,
               true,
               true,
               true,
               false,
               false,
               false,
               false,
               false,
               false,
               false,
               false,
               false,
               false,
               false,
               false,
               false,
               false,
               false,
               false,
               false,
               false,
               false,
               false,
               false,
               false,
               false,
               false,
               false,
               false,
               false,
               false,
               false,
               false,
               false,
               false,
               false,
               false,
               false,
               false,
               false,
               false,
               false,
               false,
               false,
               false,
               false,
               false,
               false,
               false,
               false,
               false,
               false,
               false
              ]
             }
            ],
            "label": "Cracked",
            "method": "update"
           },
           {
            "args": [
             {
              "visible": [
               false,
               false,
               false,
               false,
               true,
               true,
               true,
               true,
               true,
               false,
               false,
               false,
               false,
               false,
               false,
               false,
               false,
               false,
               false,
               false,
               false,
               false,
               false,
               false,
               false,
               false,
               false,
               false,
               false,
               false,
               false,
               false,
               false,
               false,
               false,
               false,
               false,
               false,
               false,
               false,
               false,
               false,
               false,
               false,
               false,
               false,
               false,
               false,
               false,
               false,
               false,
               false,
               false,
               false
              ]
             }
            ],
            "label": "ESPN",
            "method": "update"
           },
           {
            "args": [
             {
              "visible": [
               false,
               false,
               false,
               false,
               false,
               false,
               false,
               false,
               false,
               true,
               true,
               true,
               true,
               false,
               false,
               false,
               false,
               false,
               false,
               false,
               false,
               false,
               false,
               false,
               false,
               false,
               false,
               false,
               false,
               false,
               false,
               false,
               false,
               false,
               false,
               false,
               false,
               false,
               false,
               false,
               false,
               false,
               false,
               false,
               false,
               false,
               false,
               false,
               false,
               false,
               false,
               false,
               false,
               false
              ]
             }
            ],
            "label": "First We Feast",
            "method": "update"
           },
           {
            "args": [
             {
              "visible": [
               false,
               false,
               false,
               false,
               false,
               false,
               false,
               false,
               false,
               false,
               false,
               false,
               false,
               true,
               true,
               true,
               true,
               false,
               false,
               false,
               false,
               false,
               false,
               false,
               false,
               false,
               false,
               false,
               false,
               false,
               false,
               false,
               false,
               false,
               false,
               false,
               false,
               false,
               false,
               false,
               false,
               false,
               false,
               false,
               false,
               false,
               false,
               false,
               false,
               false,
               false,
               false,
               false,
               false
              ]
             }
            ],
            "label": "Grace Helbig",
            "method": "update"
           },
           {
            "args": [
             {
              "visible": [
               false,
               false,
               false,
               false,
               false,
               false,
               false,
               false,
               false,
               false,
               false,
               false,
               false,
               false,
               false,
               false,
               false,
               true,
               true,
               true,
               true,
               true,
               true,
               false,
               false,
               false,
               false,
               false,
               false,
               false,
               false,
               false,
               false,
               false,
               false,
               false,
               false,
               false,
               false,
               false,
               false,
               false,
               false,
               false,
               false,
               false,
               false,
               false,
               false,
               false,
               false,
               false,
               false,
               false
              ]
             }
            ],
            "label": "Jimmy Kimmel Live",
            "method": "update"
           },
           {
            "args": [
             {
              "visible": [
               false,
               false,
               false,
               false,
               false,
               false,
               false,
               false,
               false,
               false,
               false,
               false,
               false,
               false,
               false,
               false,
               false,
               false,
               false,
               false,
               false,
               false,
               false,
               true,
               true,
               true,
               true,
               true,
               false,
               false,
               false,
               false,
               false,
               false,
               false,
               false,
               false,
               false,
               false,
               false,
               false,
               false,
               false,
               false,
               false,
               false,
               false,
               false,
               false,
               false,
               false,
               false,
               false,
               false
              ]
             }
            ],
            "label": "NFL",
            "method": "update"
           },
           {
            "args": [
             {
              "visible": [
               false,
               false,
               false,
               false,
               false,
               false,
               false,
               false,
               false,
               false,
               false,
               false,
               false,
               false,
               false,
               false,
               false,
               false,
               false,
               false,
               false,
               false,
               false,
               false,
               false,
               false,
               false,
               false,
               true,
               true,
               true,
               true,
               false,
               false,
               false,
               false,
               false,
               false,
               false,
               false,
               false,
               false,
               false,
               false,
               false,
               false,
               false,
               false,
               false,
               false,
               false,
               false,
               false,
               false
              ]
             }
            ],
            "label": "Safiya Nygaard",
            "method": "update"
           },
           {
            "args": [
             {
              "visible": [
               false,
               false,
               false,
               false,
               false,
               false,
               false,
               false,
               false,
               false,
               false,
               false,
               false,
               false,
               false,
               false,
               false,
               false,
               false,
               false,
               false,
               false,
               false,
               false,
               false,
               false,
               false,
               false,
               false,
               false,
               false,
               false,
               true,
               true,
               true,
               true,
               true,
               false,
               false,
               false,
               false,
               false,
               false,
               false,
               false,
               false,
               false,
               false,
               false,
               false,
               false,
               false,
               false,
               false
              ]
             }
            ],
            "label": "The Late Late Show with James Corden",
            "method": "update"
           },
           {
            "args": [
             {
              "visible": [
               false,
               false,
               false,
               false,
               false,
               false,
               false,
               false,
               false,
               false,
               false,
               false,
               false,
               false,
               false,
               false,
               false,
               false,
               false,
               false,
               false,
               false,
               false,
               false,
               false,
               false,
               false,
               false,
               false,
               false,
               false,
               false,
               false,
               false,
               false,
               false,
               false,
               true,
               true,
               true,
               true,
               true,
               true,
               true,
               false,
               false,
               false,
               false,
               false,
               false,
               false,
               false,
               false,
               false
              ]
             }
            ],
            "label": "The Tonight Show Starring Jimmy Fallon",
            "method": "update"
           },
           {
            "args": [
             {
              "visible": [
               false,
               false,
               false,
               false,
               false,
               false,
               false,
               false,
               false,
               false,
               false,
               false,
               false,
               false,
               false,
               false,
               false,
               false,
               false,
               false,
               false,
               false,
               false,
               false,
               false,
               false,
               false,
               false,
               false,
               false,
               false,
               false,
               false,
               false,
               false,
               false,
               false,
               false,
               false,
               false,
               false,
               false,
               false,
               false,
               true,
               true,
               true,
               true,
               true,
               true,
               true,
               false,
               false,
               false
              ]
             }
            ],
            "label": "Vox",
            "method": "update"
           },
           {
            "args": [
             {
              "visible": [
               false,
               false,
               false,
               false,
               false,
               false,
               false,
               false,
               false,
               false,
               false,
               false,
               false,
               false,
               false,
               false,
               false,
               false,
               false,
               false,
               false,
               false,
               false,
               false,
               false,
               false,
               false,
               false,
               false,
               false,
               false,
               false,
               false,
               false,
               false,
               false,
               false,
               false,
               false,
               false,
               false,
               false,
               false,
               false,
               false,
               false,
               false,
               false,
               false,
               false,
               false,
               true,
               true,
               true
              ]
             }
            ],
            "label": "jacksfilms",
            "method": "update"
           },
           {
            "args": [
             {
              "visible": [
               true,
               true,
               true,
               true,
               true,
               true,
               true,
               true,
               true,
               true,
               true,
               true,
               true,
               true,
               true,
               true,
               true,
               true,
               true,
               true,
               true,
               true,
               true,
               true,
               true,
               true,
               true,
               true,
               true,
               true,
               true,
               true,
               true,
               true,
               true,
               true,
               true,
               true,
               true,
               true,
               true,
               true,
               true,
               true,
               true,
               true,
               true,
               true,
               true,
               true,
               true,
               true,
               true,
               true
              ]
             }
            ],
            "label": "All channels",
            "method": "update"
           }
          ],
          "direction": "down",
          "pad": {
           "r": 10,
           "t": 10
          },
          "showactive": true,
          "x": 0.001,
          "xanchor": "left",
          "y": 1.1,
          "yanchor": "top"
         }
        ],
        "width": 800,
        "xaxis": {
         "title": ""
        },
        "yaxis": {
         "title": "views"
        }
       }
      },
      "text/html": [
       "<div id=\"c8f3dbf8-c6eb-42cd-8804-3a4cad7d9cbc\" style=\"height: 600px; width: 800px;\" class=\"plotly-graph-div\"></div><script type=\"text/javascript\">require([\"plotly\"], function(Plotly) { window.PLOTLYENV=window.PLOTLYENV || {};window.PLOTLYENV.BASE_URL=\"https://plot.ly\";Plotly.newPlot(\"c8f3dbf8-c6eb-42cd-8804-3a4cad7d9cbc\", [{\"type\": \"scatter\", \"x\": [\"2017-09-13\", \"2017-09-14\"], \"y\": [379817, 410406], \"name\": \"Cracked\", \"line\": {\"width\": 2, \"color\": \"rgb(96,152,73)\"}, \"legendgroup\": \"Cracked\", \"showlegend\": true}, {\"type\": \"scatter\", \"x\": [\"2017-09-15\"], \"y\": [186264], \"name\": \"Cracked\", \"line\": {\"width\": 2, \"color\": \"rgb(96,152,73)\"}, \"legendgroup\": \"Cracked\", \"showlegend\": false}, {\"type\": \"scatter\", \"x\": [\"2017-09-16\", \"2017-09-17\", \"2017-09-18\", \"2017-09-19\", \"2017-09-20\", \"2017-09-21\", \"2017-09-22\"], \"y\": [290939, 888666, 1213185, 1273718, 1285313, 1301518, 1313911], \"name\": \"Cracked\", \"line\": {\"width\": 2, \"color\": \"rgb(96,152,73)\"}, \"legendgroup\": \"Cracked\", \"showlegend\": false}, {\"type\": \"scatter\", \"x\": [\"2017-09-23\", \"2017-09-24\"], \"y\": [184032, 194392], \"name\": \"Cracked\", \"line\": {\"width\": 2, \"color\": \"rgb(96,152,73)\"}, \"legendgroup\": \"Cracked\", \"showlegend\": false}, {\"type\": \"scatter\", \"x\": [\"2017-09-13\"], \"y\": [113400], \"name\": \"ESPN\", \"line\": {\"width\": 2, \"color\": \"rgb(222,141,169)\"}, \"legendgroup\": \"ESPN\", \"showlegend\": true}, {\"type\": \"scatter\", \"x\": [\"2017-09-14\", \"2017-09-15\", \"2017-09-16\"], \"y\": [367178, 495762, 529834], \"name\": \"ESPN\", \"line\": {\"width\": 2, \"color\": \"rgb(222,141,169)\"}, \"legendgroup\": \"ESPN\", \"showlegend\": false}, {\"type\": \"scatter\", \"x\": [\"2017-09-17\"], \"y\": [494594], \"name\": \"ESPN\", \"line\": {\"width\": 2, \"color\": \"rgb(222,141,169)\"}, \"legendgroup\": \"ESPN\", \"showlegend\": false}, {\"type\": \"scatter\", \"x\": [\"2017-09-18\", \"2017-09-19\", \"2017-09-20\"], \"y\": [1304884, 1622730, 1681166], \"name\": \"ESPN\", \"line\": {\"width\": 2, \"color\": \"rgb(222,141,169)\"}, \"legendgroup\": \"ESPN\", \"showlegend\": false}, {\"type\": \"scatter\", \"x\": [\"2017-09-21\", \"2017-09-22\", \"2017-09-23\", \"2017-09-24\"], \"y\": [741716, 795115, 833044, 847620], \"name\": \"ESPN\", \"line\": {\"width\": 2, \"color\": \"rgb(222,141,169)\"}, \"legendgroup\": \"ESPN\", \"showlegend\": false}, {\"type\": \"scatter\", \"x\": [\"2017-09-13\", \"2017-09-14\", \"2017-09-15\"], \"y\": [483360, 579532, 650931], \"name\": \"First We Feast\", \"line\": {\"width\": 2, \"color\": \"rgb(211,162,186)\"}, \"legendgroup\": \"First We Feast\", \"showlegend\": true}, {\"type\": \"scatter\", \"x\": [\"2017-09-16\", \"2017-09-17\", \"2017-09-18\", \"2017-09-19\"], \"y\": [656980, 717404, 753615, 773318], \"name\": \"First We Feast\", \"line\": {\"width\": 2, \"color\": \"rgb(211,162,186)\"}, \"legendgroup\": \"First We Feast\", \"showlegend\": false}, {\"type\": \"scatter\", \"x\": [\"2017-09-20\", \"2017-09-21\", \"2017-09-22\"], \"y\": [413743, 662805, 731408], \"name\": \"First We Feast\", \"line\": {\"width\": 2, \"color\": \"rgb(211,162,186)\"}, \"legendgroup\": \"First We Feast\", \"showlegend\": false}, {\"type\": \"scatter\", \"x\": [\"2017-09-23\", \"2017-09-24\"], \"y\": [2868388, 3401998], \"name\": \"First We Feast\", \"line\": {\"width\": 2, \"color\": \"rgb(211,162,186)\"}, \"legendgroup\": \"First We Feast\", \"showlegend\": false}, {\"type\": \"scatter\", \"x\": [\"2017-09-13\", \"2017-09-14\", \"2017-09-15\"], \"y\": [141532, 158781, 169585], \"name\": \"Grace Helbig\", \"line\": {\"width\": 2, \"color\": \"rgb(198,183,239)\"}, \"legendgroup\": \"Grace Helbig\", \"showlegend\": true}, {\"type\": \"scatter\", \"x\": [\"2017-09-16\", \"2017-09-17\", \"2017-09-18\", \"2017-09-19\", \"2017-09-20\"], \"y\": [87663, 135116, 157482, 166760, 173696], \"name\": \"Grace Helbig\", \"line\": {\"width\": 2, \"color\": \"rgb(198,183,239)\"}, \"legendgroup\": \"Grace Helbig\", \"showlegend\": false}, {\"type\": \"scatter\", \"x\": [\"2017-09-21\"], \"y\": [217624], \"name\": \"Grace Helbig\", \"line\": {\"width\": 2, \"color\": \"rgb(198,183,239)\"}, \"legendgroup\": \"Grace Helbig\", \"showlegend\": false}, {\"type\": \"scatter\", \"x\": [\"2017-09-22\", \"2017-09-23\", \"2017-09-24\"], \"y\": [207883, 224729, 229628], \"name\": \"Grace Helbig\", \"line\": {\"width\": 2, \"color\": \"rgb(198,183,239)\"}, \"legendgroup\": \"Grace Helbig\", \"showlegend\": false}, {\"type\": \"scatter\", \"x\": [\"2017-09-13\", \"2017-09-14\"], \"y\": [279903, 310292], \"name\": \"Jimmy Kimmel Live\", \"line\": {\"width\": 2, \"color\": \"rgb(136,175,70)\"}, \"legendgroup\": \"Jimmy Kimmel Live\", \"showlegend\": true}, {\"type\": \"scatter\", \"x\": [\"2017-09-15\"], \"y\": [1009649], \"name\": \"Jimmy Kimmel Live\", \"line\": {\"width\": 2, \"color\": \"rgb(136,175,70)\"}, \"legendgroup\": \"Jimmy Kimmel Live\", \"showlegend\": false}, {\"type\": \"scatter\", \"x\": [\"2017-09-16\", \"2017-09-17\", \"2017-09-18\", \"2017-09-19\"], \"y\": [209816, 402819, 516614, 566996], \"name\": \"Jimmy Kimmel Live\", \"line\": {\"width\": 2, \"color\": \"rgb(136,175,70)\"}, \"legendgroup\": \"Jimmy Kimmel Live\", \"showlegend\": false}, {\"type\": \"scatter\", \"x\": [\"2017-09-20\"], \"y\": [111973], \"name\": \"Jimmy Kimmel Live\", \"line\": {\"width\": 2, \"color\": \"rgb(136,175,70)\"}, \"legendgroup\": \"Jimmy Kimmel Live\", \"showlegend\": false}, {\"type\": \"scatter\", \"x\": [\"2017-09-21\", \"2017-09-22\"], \"y\": [303377, 1564110], \"name\": \"Jimmy Kimmel Live\", \"line\": {\"width\": 2, \"color\": \"rgb(136,175,70)\"}, \"legendgroup\": \"Jimmy Kimmel Live\", \"showlegend\": false}, {\"type\": \"scatter\", \"x\": [\"2017-09-23\", \"2017-09-24\"], \"y\": [956789, 1188278], \"name\": \"Jimmy Kimmel Live\", \"line\": {\"width\": 2, \"color\": \"rgb(136,175,70)\"}, \"legendgroup\": \"Jimmy Kimmel Live\", \"showlegend\": false}, {\"type\": \"scatter\", \"x\": [\"2017-09-13\", \"2017-09-14\"], \"y\": [743947, 829793], \"name\": \"NFL\", \"line\": {\"width\": 2, \"color\": \"rgb(67,141,219)\"}, \"legendgroup\": \"NFL\", \"showlegend\": true}, {\"type\": \"scatter\", \"x\": [\"2017-09-15\", \"2017-09-16\", \"2017-09-17\", \"2017-09-18\"], \"y\": [170124, 190020, 207227, 215449], \"name\": \"NFL\", \"line\": {\"width\": 2, \"color\": \"rgb(67,141,219)\"}, \"legendgroup\": \"NFL\", \"showlegend\": false}, {\"type\": \"scatter\", \"x\": [\"2017-09-19\"], \"y\": [644242], \"name\": \"NFL\", \"line\": {\"width\": 2, \"color\": \"rgb(67,141,219)\"}, \"legendgroup\": \"NFL\", \"showlegend\": false}, {\"type\": \"scatter\", \"x\": [\"2017-09-20\", \"2017-09-21\", \"2017-09-22\"], \"y\": [616086, 733959, 762557], \"name\": \"NFL\", \"line\": {\"width\": 2, \"color\": \"rgb(67,141,219)\"}, \"legendgroup\": \"NFL\", \"showlegend\": false}, {\"type\": \"scatter\", \"x\": [\"2017-09-23\", \"2017-09-24\"], \"y\": [914422, 1165259], \"name\": \"NFL\", \"line\": {\"width\": 2, \"color\": \"rgb(67,141,219)\"}, \"legendgroup\": \"NFL\", \"showlegend\": false}, {\"type\": \"scatter\", \"x\": [\"2017-09-13\", \"2017-09-14\", \"2017-09-15\"], \"y\": [2433292, 2555997, 2751415], \"name\": \"Safiya Nygaard\", \"line\": {\"width\": 2, \"color\": \"rgb(121,150,225)\"}, \"legendgroup\": \"Safiya Nygaard\", \"showlegend\": true}, {\"type\": \"scatter\", \"x\": [\"2017-09-16\", \"2017-09-17\", \"2017-09-18\", \"2017-09-19\", \"2017-09-20\"], \"y\": [2473453, 3150095, 3556295, 3758620, 3932117], \"name\": \"Safiya Nygaard\", \"line\": {\"width\": 2, \"color\": \"rgb(121,150,225)\"}, \"legendgroup\": \"Safiya Nygaard\", \"showlegend\": false}, {\"type\": \"scatter\", \"x\": [\"2017-09-21\", \"2017-09-22\"], \"y\": [1844774, 2051476], \"name\": \"Safiya Nygaard\", \"line\": {\"width\": 2, \"color\": \"rgb(121,150,225)\"}, \"legendgroup\": \"Safiya Nygaard\", \"showlegend\": false}, {\"type\": \"scatter\", \"x\": [\"2017-09-23\", \"2017-09-24\"], \"y\": [2789031, 3061769], \"name\": \"Safiya Nygaard\", \"line\": {\"width\": 2, \"color\": \"rgb(121,150,225)\"}, \"legendgroup\": \"Safiya Nygaard\", \"showlegend\": false}, {\"type\": \"scatter\", \"x\": [\"2017-09-13\"], \"y\": [220661], \"name\": \"The Late Late Show with James Corden\", \"line\": {\"width\": 2, \"color\": \"rgb(253,164,18)\"}, \"legendgroup\": \"The Late Late Show with James Corden\", \"showlegend\": true}, {\"type\": \"scatter\", \"x\": [\"2017-09-14\"], \"y\": [378178], \"name\": \"The Late Late Show with James Corden\", \"line\": {\"width\": 2, \"color\": \"rgb(253,164,18)\"}, \"legendgroup\": \"The Late Late Show with James Corden\", \"showlegend\": false}, {\"type\": \"scatter\", \"x\": [\"2017-09-15\", \"2017-09-16\", \"2017-09-17\", \"2017-09-18\", \"2017-09-19\"], \"y\": [1202045, 2137663, 2856877, 3297192, 3518322], \"name\": \"The Late Late Show with James Corden\", \"line\": {\"width\": 2, \"color\": \"rgb(253,164,18)\"}, \"legendgroup\": \"The Late Late Show with James Corden\", \"showlegend\": false}, {\"type\": \"scatter\", \"x\": [\"2017-09-20\"], \"y\": [59848], \"name\": \"The Late Late Show with James Corden\", \"line\": {\"width\": 2, \"color\": \"rgb(253,164,18)\"}, \"legendgroup\": \"The Late Late Show with James Corden\", \"showlegend\": false}, {\"type\": \"scatter\", \"x\": [\"2017-09-21\", \"2017-09-22\", \"2017-09-23\", \"2017-09-24\"], \"y\": [393877, 2397363, 4022951, 4484870], \"name\": \"The Late Late Show with James Corden\", \"line\": {\"width\": 2, \"color\": \"rgb(253,164,18)\"}, \"legendgroup\": \"The Late Late Show with James Corden\", \"showlegend\": false}, {\"type\": \"scatter\", \"x\": [\"2017-09-13\", \"2017-09-14\", \"2017-09-15\"], \"y\": [258781, 909358, 1276245], \"name\": \"The Tonight Show Starring Jimmy Fallon\", \"line\": {\"width\": 2, \"color\": \"rgb(90,181,202)\"}, \"legendgroup\": \"The Tonight Show Starring Jimmy Fallon\", \"showlegend\": true}, {\"type\": \"scatter\", \"x\": [\"2017-09-16\", \"2017-09-17\", \"2017-09-18\"], \"y\": [346500, 569448, 748105], \"name\": \"The Tonight Show Starring Jimmy Fallon\", \"line\": {\"width\": 2, \"color\": \"rgb(90,181,202)\"}, \"legendgroup\": \"The Tonight Show Starring Jimmy Fallon\", \"showlegend\": false}, {\"type\": \"scatter\", \"x\": [\"2017-09-19\", \"2017-09-20\"], \"y\": [31919, 625564], \"name\": \"The Tonight Show Starring Jimmy Fallon\", \"line\": {\"width\": 2, \"color\": \"rgb(90,181,202)\"}, \"legendgroup\": \"The Tonight Show Starring Jimmy Fallon\", \"showlegend\": false}, {\"type\": \"scatter\", \"x\": [\"2017-09-21\"], \"y\": [734401], \"name\": \"The Tonight Show Starring Jimmy Fallon\", \"line\": {\"width\": 2, \"color\": \"rgb(90,181,202)\"}, \"legendgroup\": \"The Tonight Show Starring Jimmy Fallon\", \"showlegend\": false}, {\"type\": \"scatter\", \"x\": [\"2017-09-22\"], \"y\": [446999], \"name\": \"The Tonight Show Starring Jimmy Fallon\", \"line\": {\"width\": 2, \"color\": \"rgb(90,181,202)\"}, \"legendgroup\": \"The Tonight Show Starring Jimmy Fallon\", \"showlegend\": false}, {\"type\": \"scatter\", \"x\": [\"2017-09-23\"], \"y\": [459669], \"name\": \"The Tonight Show Starring Jimmy Fallon\", \"line\": {\"width\": 2, \"color\": \"rgb(90,181,202)\"}, \"legendgroup\": \"The Tonight Show Starring Jimmy Fallon\", \"showlegend\": false}, {\"type\": \"scatter\", \"x\": [\"2017-09-24\"], \"y\": [253864], \"name\": \"The Tonight Show Starring Jimmy Fallon\", \"line\": {\"width\": 2, \"color\": \"rgb(90,181,202)\"}, \"legendgroup\": \"The Tonight Show Starring Jimmy Fallon\", \"showlegend\": false}, {\"type\": \"scatter\", \"x\": [\"2017-09-13\"], \"y\": [244433], \"name\": \"Vox\", \"line\": {\"width\": 2, \"color\": \"rgb(144,188,32)\"}, \"legendgroup\": \"Vox\", \"showlegend\": true}, {\"type\": \"scatter\", \"x\": [\"2017-09-14\", \"2017-09-15\"], \"y\": [380266, 517133], \"name\": \"Vox\", \"line\": {\"width\": 2, \"color\": \"rgb(144,188,32)\"}, \"legendgroup\": \"Vox\", \"showlegend\": false}, {\"type\": \"scatter\", \"x\": [\"2017-09-16\", \"2017-09-17\", \"2017-09-18\"], \"y\": [347928, 649911, 879197], \"name\": \"Vox\", \"line\": {\"width\": 2, \"color\": \"rgb(144,188,32)\"}, \"legendgroup\": \"Vox\", \"showlegend\": false}, {\"type\": \"scatter\", \"x\": [\"2017-09-19\"], \"y\": [304781], \"name\": \"Vox\", \"line\": {\"width\": 2, \"color\": \"rgb(144,188,32)\"}, \"legendgroup\": \"Vox\", \"showlegend\": false}, {\"type\": \"scatter\", \"x\": [\"2017-09-20\"], \"y\": [209228], \"name\": \"Vox\", \"line\": {\"width\": 2, \"color\": \"rgb(144,188,32)\"}, \"legendgroup\": \"Vox\", \"showlegend\": false}, {\"type\": \"scatter\", \"x\": [\"2017-09-21\", \"2017-09-22\"], \"y\": [296362, 376257], \"name\": \"Vox\", \"line\": {\"width\": 2, \"color\": \"rgb(144,188,32)\"}, \"legendgroup\": \"Vox\", \"showlegend\": false}, {\"type\": \"scatter\", \"x\": [\"2017-09-23\", \"2017-09-24\"], \"y\": [351051, 422078], \"name\": \"Vox\", \"line\": {\"width\": 2, \"color\": \"rgb(144,188,32)\"}, \"legendgroup\": \"Vox\", \"showlegend\": false}, {\"type\": \"scatter\", \"x\": [\"2017-09-13\", \"2017-09-14\", \"2017-09-15\", \"2017-09-16\", \"2017-09-17\", \"2017-09-18\", \"2017-09-19\"], \"y\": [1168130, 2084309, 2587501, 2846092, 3037052, 3192269, 3280098], \"name\": \"jacksfilms\", \"line\": {\"width\": 2, \"color\": \"rgb(158,50,191)\"}, \"legendgroup\": \"jacksfilms\", \"showlegend\": true}, {\"type\": \"scatter\", \"x\": [\"2017-09-20\", \"2017-09-21\", \"2017-09-22\"], \"y\": [966197, 1108275, 1137545], \"name\": \"jacksfilms\", \"line\": {\"width\": 2, \"color\": \"rgb(158,50,191)\"}, \"legendgroup\": \"jacksfilms\", \"showlegend\": false}, {\"type\": \"scatter\", \"x\": [\"2017-09-23\", \"2017-09-24\"], \"y\": [733195, 1306449], \"name\": \"jacksfilms\", \"line\": {\"width\": 2, \"color\": \"rgb(158,50,191)\"}, \"legendgroup\": \"jacksfilms\", \"showlegend\": false}], {\"title\": \"Videos of trending channels (US)\", \"xaxis\": {\"title\": \"\"}, \"yaxis\": {\"title\": \"views\"}, \"updatemenus\": [{\"active\": 1, \"buttons\": [{\"label\": \"Cracked\", \"method\": \"update\", \"args\": [{\"visible\": [true, true, true, true, false, false, false, false, false, false, false, false, false, false, false, false, false, false, false, false, false, false, false, false, false, false, false, false, false, false, false, false, false, false, false, false, false, false, false, false, false, false, false, false, false, false, false, false, false, false, false, false, false, false]}]}, {\"label\": \"ESPN\", \"method\": \"update\", \"args\": [{\"visible\": [false, false, false, false, true, true, true, true, true, false, false, false, false, false, false, false, false, false, false, false, false, false, false, false, false, false, false, false, false, false, false, false, false, false, false, false, false, false, false, false, false, false, false, false, false, false, false, false, false, false, false, false, false, false]}]}, {\"label\": \"First We Feast\", \"method\": \"update\", \"args\": [{\"visible\": [false, false, false, false, false, false, false, false, false, true, true, true, true, false, false, false, false, false, false, false, false, false, false, false, false, false, false, false, false, false, false, false, false, false, false, false, false, false, false, false, false, false, false, false, false, false, false, false, false, false, false, false, false, false]}]}, {\"label\": \"Grace Helbig\", \"method\": \"update\", \"args\": [{\"visible\": [false, false, false, false, false, false, false, false, false, false, false, false, false, true, true, true, true, false, false, false, false, false, false, false, false, false, false, false, false, false, false, false, false, false, false, false, false, false, false, false, false, false, false, false, false, false, false, false, false, false, false, false, false, false]}]}, {\"label\": \"Jimmy Kimmel Live\", \"method\": \"update\", \"args\": [{\"visible\": [false, false, false, false, false, false, false, false, false, false, false, false, false, false, false, false, false, true, true, true, true, true, true, false, false, false, false, false, false, false, false, false, false, false, false, false, false, false, false, false, false, false, false, false, false, false, false, false, false, false, false, false, false, false]}]}, {\"label\": \"NFL\", \"method\": \"update\", \"args\": [{\"visible\": [false, false, false, false, false, false, false, false, false, false, false, false, false, false, false, false, false, false, false, false, false, false, false, true, true, true, true, true, false, false, false, false, false, false, false, false, false, false, false, false, false, false, false, false, false, false, false, false, false, false, false, false, false, false]}]}, {\"label\": \"Safiya Nygaard\", \"method\": \"update\", \"args\": [{\"visible\": [false, false, false, false, false, false, false, false, false, false, false, false, false, false, false, false, false, false, false, false, false, false, false, false, false, false, false, false, true, true, true, true, false, false, false, false, false, false, false, false, false, false, false, false, false, false, false, false, false, false, false, false, false, false]}]}, {\"label\": \"The Late Late Show with James Corden\", \"method\": \"update\", \"args\": [{\"visible\": [false, false, false, false, false, false, false, false, false, false, false, false, false, false, false, false, false, false, false, false, false, false, false, false, false, false, false, false, false, false, false, false, true, true, true, true, true, false, false, false, false, false, false, false, false, false, false, false, false, false, false, false, false, false]}]}, {\"label\": \"The Tonight Show Starring Jimmy Fallon\", \"method\": \"update\", \"args\": [{\"visible\": [false, false, false, false, false, false, false, false, false, false, false, false, false, false, false, false, false, false, false, false, false, false, false, false, false, false, false, false, false, false, false, false, false, false, false, false, false, true, true, true, true, true, true, true, false, false, false, false, false, false, false, false, false, false]}]}, {\"label\": \"Vox\", \"method\": \"update\", \"args\": [{\"visible\": [false, false, false, false, false, false, false, false, false, false, false, false, false, false, false, false, false, false, false, false, false, false, false, false, false, false, false, false, false, false, false, false, false, false, false, false, false, false, false, false, false, false, false, false, true, true, true, true, true, true, true, false, false, false]}]}, {\"label\": \"jacksfilms\", \"method\": \"update\", \"args\": [{\"visible\": [false, false, false, false, false, false, false, false, false, false, false, false, false, false, false, false, false, false, false, false, false, false, false, false, false, false, false, false, false, false, false, false, false, false, false, false, false, false, false, false, false, false, false, false, false, false, false, false, false, false, false, true, true, true]}]}, {\"label\": \"All channels\", \"method\": \"update\", \"args\": [{\"visible\": [true, true, true, true, true, true, true, true, true, true, true, true, true, true, true, true, true, true, true, true, true, true, true, true, true, true, true, true, true, true, true, true, true, true, true, true, true, true, true, true, true, true, true, true, true, true, true, true, true, true, true, true, true, true]}]}], \"direction\": \"down\", \"pad\": {\"r\": 10, \"t\": 10}, \"showactive\": true, \"x\": 0.001, \"xanchor\": \"left\", \"y\": 1.1, \"yanchor\": \"top\"}], \"width\": 800, \"height\": 600, \"legend\": {\"orientation\": \"h\"}}, {\"showLink\": true, \"linkText\": \"Export to plot.ly\"})});</script>"
      ],
      "text/vnd.plotly.v1+html": [
       "<div id=\"c8f3dbf8-c6eb-42cd-8804-3a4cad7d9cbc\" style=\"height: 600px; width: 800px;\" class=\"plotly-graph-div\"></div><script type=\"text/javascript\">require([\"plotly\"], function(Plotly) { window.PLOTLYENV=window.PLOTLYENV || {};window.PLOTLYENV.BASE_URL=\"https://plot.ly\";Plotly.newPlot(\"c8f3dbf8-c6eb-42cd-8804-3a4cad7d9cbc\", [{\"type\": \"scatter\", \"x\": [\"2017-09-13\", \"2017-09-14\"], \"y\": [379817, 410406], \"name\": \"Cracked\", \"line\": {\"width\": 2, \"color\": \"rgb(96,152,73)\"}, \"legendgroup\": \"Cracked\", \"showlegend\": true}, {\"type\": \"scatter\", \"x\": [\"2017-09-15\"], \"y\": [186264], \"name\": \"Cracked\", \"line\": {\"width\": 2, \"color\": \"rgb(96,152,73)\"}, \"legendgroup\": \"Cracked\", \"showlegend\": false}, {\"type\": \"scatter\", \"x\": [\"2017-09-16\", \"2017-09-17\", \"2017-09-18\", \"2017-09-19\", \"2017-09-20\", \"2017-09-21\", \"2017-09-22\"], \"y\": [290939, 888666, 1213185, 1273718, 1285313, 1301518, 1313911], \"name\": \"Cracked\", \"line\": {\"width\": 2, \"color\": \"rgb(96,152,73)\"}, \"legendgroup\": \"Cracked\", \"showlegend\": false}, {\"type\": \"scatter\", \"x\": [\"2017-09-23\", \"2017-09-24\"], \"y\": [184032, 194392], \"name\": \"Cracked\", \"line\": {\"width\": 2, \"color\": \"rgb(96,152,73)\"}, \"legendgroup\": \"Cracked\", \"showlegend\": false}, {\"type\": \"scatter\", \"x\": [\"2017-09-13\"], \"y\": [113400], \"name\": \"ESPN\", \"line\": {\"width\": 2, \"color\": \"rgb(222,141,169)\"}, \"legendgroup\": \"ESPN\", \"showlegend\": true}, {\"type\": \"scatter\", \"x\": [\"2017-09-14\", \"2017-09-15\", \"2017-09-16\"], \"y\": [367178, 495762, 529834], \"name\": \"ESPN\", \"line\": {\"width\": 2, \"color\": \"rgb(222,141,169)\"}, \"legendgroup\": \"ESPN\", \"showlegend\": false}, {\"type\": \"scatter\", \"x\": [\"2017-09-17\"], \"y\": [494594], \"name\": \"ESPN\", \"line\": {\"width\": 2, \"color\": \"rgb(222,141,169)\"}, \"legendgroup\": \"ESPN\", \"showlegend\": false}, {\"type\": \"scatter\", \"x\": [\"2017-09-18\", \"2017-09-19\", \"2017-09-20\"], \"y\": [1304884, 1622730, 1681166], \"name\": \"ESPN\", \"line\": {\"width\": 2, \"color\": \"rgb(222,141,169)\"}, \"legendgroup\": \"ESPN\", \"showlegend\": false}, {\"type\": \"scatter\", \"x\": [\"2017-09-21\", \"2017-09-22\", \"2017-09-23\", \"2017-09-24\"], \"y\": [741716, 795115, 833044, 847620], \"name\": \"ESPN\", \"line\": {\"width\": 2, \"color\": \"rgb(222,141,169)\"}, \"legendgroup\": \"ESPN\", \"showlegend\": false}, {\"type\": \"scatter\", \"x\": [\"2017-09-13\", \"2017-09-14\", \"2017-09-15\"], \"y\": [483360, 579532, 650931], \"name\": \"First We Feast\", \"line\": {\"width\": 2, \"color\": \"rgb(211,162,186)\"}, \"legendgroup\": \"First We Feast\", \"showlegend\": true}, {\"type\": \"scatter\", \"x\": [\"2017-09-16\", \"2017-09-17\", \"2017-09-18\", \"2017-09-19\"], \"y\": [656980, 717404, 753615, 773318], \"name\": \"First We Feast\", \"line\": {\"width\": 2, \"color\": \"rgb(211,162,186)\"}, \"legendgroup\": \"First We Feast\", \"showlegend\": false}, {\"type\": \"scatter\", \"x\": [\"2017-09-20\", \"2017-09-21\", \"2017-09-22\"], \"y\": [413743, 662805, 731408], \"name\": \"First We Feast\", \"line\": {\"width\": 2, \"color\": \"rgb(211,162,186)\"}, \"legendgroup\": \"First We Feast\", \"showlegend\": false}, {\"type\": \"scatter\", \"x\": [\"2017-09-23\", \"2017-09-24\"], \"y\": [2868388, 3401998], \"name\": \"First We Feast\", \"line\": {\"width\": 2, \"color\": \"rgb(211,162,186)\"}, \"legendgroup\": \"First We Feast\", \"showlegend\": false}, {\"type\": \"scatter\", \"x\": [\"2017-09-13\", \"2017-09-14\", \"2017-09-15\"], \"y\": [141532, 158781, 169585], \"name\": \"Grace Helbig\", \"line\": {\"width\": 2, \"color\": \"rgb(198,183,239)\"}, \"legendgroup\": \"Grace Helbig\", \"showlegend\": true}, {\"type\": \"scatter\", \"x\": [\"2017-09-16\", \"2017-09-17\", \"2017-09-18\", \"2017-09-19\", \"2017-09-20\"], \"y\": [87663, 135116, 157482, 166760, 173696], \"name\": \"Grace Helbig\", \"line\": {\"width\": 2, \"color\": \"rgb(198,183,239)\"}, \"legendgroup\": \"Grace Helbig\", \"showlegend\": false}, {\"type\": \"scatter\", \"x\": [\"2017-09-21\"], \"y\": [217624], \"name\": \"Grace Helbig\", \"line\": {\"width\": 2, \"color\": \"rgb(198,183,239)\"}, \"legendgroup\": \"Grace Helbig\", \"showlegend\": false}, {\"type\": \"scatter\", \"x\": [\"2017-09-22\", \"2017-09-23\", \"2017-09-24\"], \"y\": [207883, 224729, 229628], \"name\": \"Grace Helbig\", \"line\": {\"width\": 2, \"color\": \"rgb(198,183,239)\"}, \"legendgroup\": \"Grace Helbig\", \"showlegend\": false}, {\"type\": \"scatter\", \"x\": [\"2017-09-13\", \"2017-09-14\"], \"y\": [279903, 310292], \"name\": \"Jimmy Kimmel Live\", \"line\": {\"width\": 2, \"color\": \"rgb(136,175,70)\"}, \"legendgroup\": \"Jimmy Kimmel Live\", \"showlegend\": true}, {\"type\": \"scatter\", \"x\": [\"2017-09-15\"], \"y\": [1009649], \"name\": \"Jimmy Kimmel Live\", \"line\": {\"width\": 2, \"color\": \"rgb(136,175,70)\"}, \"legendgroup\": \"Jimmy Kimmel Live\", \"showlegend\": false}, {\"type\": \"scatter\", \"x\": [\"2017-09-16\", \"2017-09-17\", \"2017-09-18\", \"2017-09-19\"], \"y\": [209816, 402819, 516614, 566996], \"name\": \"Jimmy Kimmel Live\", \"line\": {\"width\": 2, \"color\": \"rgb(136,175,70)\"}, \"legendgroup\": \"Jimmy Kimmel Live\", \"showlegend\": false}, {\"type\": \"scatter\", \"x\": [\"2017-09-20\"], \"y\": [111973], \"name\": \"Jimmy Kimmel Live\", \"line\": {\"width\": 2, \"color\": \"rgb(136,175,70)\"}, \"legendgroup\": \"Jimmy Kimmel Live\", \"showlegend\": false}, {\"type\": \"scatter\", \"x\": [\"2017-09-21\", \"2017-09-22\"], \"y\": [303377, 1564110], \"name\": \"Jimmy Kimmel Live\", \"line\": {\"width\": 2, \"color\": \"rgb(136,175,70)\"}, \"legendgroup\": \"Jimmy Kimmel Live\", \"showlegend\": false}, {\"type\": \"scatter\", \"x\": [\"2017-09-23\", \"2017-09-24\"], \"y\": [956789, 1188278], \"name\": \"Jimmy Kimmel Live\", \"line\": {\"width\": 2, \"color\": \"rgb(136,175,70)\"}, \"legendgroup\": \"Jimmy Kimmel Live\", \"showlegend\": false}, {\"type\": \"scatter\", \"x\": [\"2017-09-13\", \"2017-09-14\"], \"y\": [743947, 829793], \"name\": \"NFL\", \"line\": {\"width\": 2, \"color\": \"rgb(67,141,219)\"}, \"legendgroup\": \"NFL\", \"showlegend\": true}, {\"type\": \"scatter\", \"x\": [\"2017-09-15\", \"2017-09-16\", \"2017-09-17\", \"2017-09-18\"], \"y\": [170124, 190020, 207227, 215449], \"name\": \"NFL\", \"line\": {\"width\": 2, \"color\": \"rgb(67,141,219)\"}, \"legendgroup\": \"NFL\", \"showlegend\": false}, {\"type\": \"scatter\", \"x\": [\"2017-09-19\"], \"y\": [644242], \"name\": \"NFL\", \"line\": {\"width\": 2, \"color\": \"rgb(67,141,219)\"}, \"legendgroup\": \"NFL\", \"showlegend\": false}, {\"type\": \"scatter\", \"x\": [\"2017-09-20\", \"2017-09-21\", \"2017-09-22\"], \"y\": [616086, 733959, 762557], \"name\": \"NFL\", \"line\": {\"width\": 2, \"color\": \"rgb(67,141,219)\"}, \"legendgroup\": \"NFL\", \"showlegend\": false}, {\"type\": \"scatter\", \"x\": [\"2017-09-23\", \"2017-09-24\"], \"y\": [914422, 1165259], \"name\": \"NFL\", \"line\": {\"width\": 2, \"color\": \"rgb(67,141,219)\"}, \"legendgroup\": \"NFL\", \"showlegend\": false}, {\"type\": \"scatter\", \"x\": [\"2017-09-13\", \"2017-09-14\", \"2017-09-15\"], \"y\": [2433292, 2555997, 2751415], \"name\": \"Safiya Nygaard\", \"line\": {\"width\": 2, \"color\": \"rgb(121,150,225)\"}, \"legendgroup\": \"Safiya Nygaard\", \"showlegend\": true}, {\"type\": \"scatter\", \"x\": [\"2017-09-16\", \"2017-09-17\", \"2017-09-18\", \"2017-09-19\", \"2017-09-20\"], \"y\": [2473453, 3150095, 3556295, 3758620, 3932117], \"name\": \"Safiya Nygaard\", \"line\": {\"width\": 2, \"color\": \"rgb(121,150,225)\"}, \"legendgroup\": \"Safiya Nygaard\", \"showlegend\": false}, {\"type\": \"scatter\", \"x\": [\"2017-09-21\", \"2017-09-22\"], \"y\": [1844774, 2051476], \"name\": \"Safiya Nygaard\", \"line\": {\"width\": 2, \"color\": \"rgb(121,150,225)\"}, \"legendgroup\": \"Safiya Nygaard\", \"showlegend\": false}, {\"type\": \"scatter\", \"x\": [\"2017-09-23\", \"2017-09-24\"], \"y\": [2789031, 3061769], \"name\": \"Safiya Nygaard\", \"line\": {\"width\": 2, \"color\": \"rgb(121,150,225)\"}, \"legendgroup\": \"Safiya Nygaard\", \"showlegend\": false}, {\"type\": \"scatter\", \"x\": [\"2017-09-13\"], \"y\": [220661], \"name\": \"The Late Late Show with James Corden\", \"line\": {\"width\": 2, \"color\": \"rgb(253,164,18)\"}, \"legendgroup\": \"The Late Late Show with James Corden\", \"showlegend\": true}, {\"type\": \"scatter\", \"x\": [\"2017-09-14\"], \"y\": [378178], \"name\": \"The Late Late Show with James Corden\", \"line\": {\"width\": 2, \"color\": \"rgb(253,164,18)\"}, \"legendgroup\": \"The Late Late Show with James Corden\", \"showlegend\": false}, {\"type\": \"scatter\", \"x\": [\"2017-09-15\", \"2017-09-16\", \"2017-09-17\", \"2017-09-18\", \"2017-09-19\"], \"y\": [1202045, 2137663, 2856877, 3297192, 3518322], \"name\": \"The Late Late Show with James Corden\", \"line\": {\"width\": 2, \"color\": \"rgb(253,164,18)\"}, \"legendgroup\": \"The Late Late Show with James Corden\", \"showlegend\": false}, {\"type\": \"scatter\", \"x\": [\"2017-09-20\"], \"y\": [59848], \"name\": \"The Late Late Show with James Corden\", \"line\": {\"width\": 2, \"color\": \"rgb(253,164,18)\"}, \"legendgroup\": \"The Late Late Show with James Corden\", \"showlegend\": false}, {\"type\": \"scatter\", \"x\": [\"2017-09-21\", \"2017-09-22\", \"2017-09-23\", \"2017-09-24\"], \"y\": [393877, 2397363, 4022951, 4484870], \"name\": \"The Late Late Show with James Corden\", \"line\": {\"width\": 2, \"color\": \"rgb(253,164,18)\"}, \"legendgroup\": \"The Late Late Show with James Corden\", \"showlegend\": false}, {\"type\": \"scatter\", \"x\": [\"2017-09-13\", \"2017-09-14\", \"2017-09-15\"], \"y\": [258781, 909358, 1276245], \"name\": \"The Tonight Show Starring Jimmy Fallon\", \"line\": {\"width\": 2, \"color\": \"rgb(90,181,202)\"}, \"legendgroup\": \"The Tonight Show Starring Jimmy Fallon\", \"showlegend\": true}, {\"type\": \"scatter\", \"x\": [\"2017-09-16\", \"2017-09-17\", \"2017-09-18\"], \"y\": [346500, 569448, 748105], \"name\": \"The Tonight Show Starring Jimmy Fallon\", \"line\": {\"width\": 2, \"color\": \"rgb(90,181,202)\"}, \"legendgroup\": \"The Tonight Show Starring Jimmy Fallon\", \"showlegend\": false}, {\"type\": \"scatter\", \"x\": [\"2017-09-19\", \"2017-09-20\"], \"y\": [31919, 625564], \"name\": \"The Tonight Show Starring Jimmy Fallon\", \"line\": {\"width\": 2, \"color\": \"rgb(90,181,202)\"}, \"legendgroup\": \"The Tonight Show Starring Jimmy Fallon\", \"showlegend\": false}, {\"type\": \"scatter\", \"x\": [\"2017-09-21\"], \"y\": [734401], \"name\": \"The Tonight Show Starring Jimmy Fallon\", \"line\": {\"width\": 2, \"color\": \"rgb(90,181,202)\"}, \"legendgroup\": \"The Tonight Show Starring Jimmy Fallon\", \"showlegend\": false}, {\"type\": \"scatter\", \"x\": [\"2017-09-22\"], \"y\": [446999], \"name\": \"The Tonight Show Starring Jimmy Fallon\", \"line\": {\"width\": 2, \"color\": \"rgb(90,181,202)\"}, \"legendgroup\": \"The Tonight Show Starring Jimmy Fallon\", \"showlegend\": false}, {\"type\": \"scatter\", \"x\": [\"2017-09-23\"], \"y\": [459669], \"name\": \"The Tonight Show Starring Jimmy Fallon\", \"line\": {\"width\": 2, \"color\": \"rgb(90,181,202)\"}, \"legendgroup\": \"The Tonight Show Starring Jimmy Fallon\", \"showlegend\": false}, {\"type\": \"scatter\", \"x\": [\"2017-09-24\"], \"y\": [253864], \"name\": \"The Tonight Show Starring Jimmy Fallon\", \"line\": {\"width\": 2, \"color\": \"rgb(90,181,202)\"}, \"legendgroup\": \"The Tonight Show Starring Jimmy Fallon\", \"showlegend\": false}, {\"type\": \"scatter\", \"x\": [\"2017-09-13\"], \"y\": [244433], \"name\": \"Vox\", \"line\": {\"width\": 2, \"color\": \"rgb(144,188,32)\"}, \"legendgroup\": \"Vox\", \"showlegend\": true}, {\"type\": \"scatter\", \"x\": [\"2017-09-14\", \"2017-09-15\"], \"y\": [380266, 517133], \"name\": \"Vox\", \"line\": {\"width\": 2, \"color\": \"rgb(144,188,32)\"}, \"legendgroup\": \"Vox\", \"showlegend\": false}, {\"type\": \"scatter\", \"x\": [\"2017-09-16\", \"2017-09-17\", \"2017-09-18\"], \"y\": [347928, 649911, 879197], \"name\": \"Vox\", \"line\": {\"width\": 2, \"color\": \"rgb(144,188,32)\"}, \"legendgroup\": \"Vox\", \"showlegend\": false}, {\"type\": \"scatter\", \"x\": [\"2017-09-19\"], \"y\": [304781], \"name\": \"Vox\", \"line\": {\"width\": 2, \"color\": \"rgb(144,188,32)\"}, \"legendgroup\": \"Vox\", \"showlegend\": false}, {\"type\": \"scatter\", \"x\": [\"2017-09-20\"], \"y\": [209228], \"name\": \"Vox\", \"line\": {\"width\": 2, \"color\": \"rgb(144,188,32)\"}, \"legendgroup\": \"Vox\", \"showlegend\": false}, {\"type\": \"scatter\", \"x\": [\"2017-09-21\", \"2017-09-22\"], \"y\": [296362, 376257], \"name\": \"Vox\", \"line\": {\"width\": 2, \"color\": \"rgb(144,188,32)\"}, \"legendgroup\": \"Vox\", \"showlegend\": false}, {\"type\": \"scatter\", \"x\": [\"2017-09-23\", \"2017-09-24\"], \"y\": [351051, 422078], \"name\": \"Vox\", \"line\": {\"width\": 2, \"color\": \"rgb(144,188,32)\"}, \"legendgroup\": \"Vox\", \"showlegend\": false}, {\"type\": \"scatter\", \"x\": [\"2017-09-13\", \"2017-09-14\", \"2017-09-15\", \"2017-09-16\", \"2017-09-17\", \"2017-09-18\", \"2017-09-19\"], \"y\": [1168130, 2084309, 2587501, 2846092, 3037052, 3192269, 3280098], \"name\": \"jacksfilms\", \"line\": {\"width\": 2, \"color\": \"rgb(158,50,191)\"}, \"legendgroup\": \"jacksfilms\", \"showlegend\": true}, {\"type\": \"scatter\", \"x\": [\"2017-09-20\", \"2017-09-21\", \"2017-09-22\"], \"y\": [966197, 1108275, 1137545], \"name\": \"jacksfilms\", \"line\": {\"width\": 2, \"color\": \"rgb(158,50,191)\"}, \"legendgroup\": \"jacksfilms\", \"showlegend\": false}, {\"type\": \"scatter\", \"x\": [\"2017-09-23\", \"2017-09-24\"], \"y\": [733195, 1306449], \"name\": \"jacksfilms\", \"line\": {\"width\": 2, \"color\": \"rgb(158,50,191)\"}, \"legendgroup\": \"jacksfilms\", \"showlegend\": false}], {\"title\": \"Videos of trending channels (US)\", \"xaxis\": {\"title\": \"\"}, \"yaxis\": {\"title\": \"views\"}, \"updatemenus\": [{\"active\": 1, \"buttons\": [{\"label\": \"Cracked\", \"method\": \"update\", \"args\": [{\"visible\": [true, true, true, true, false, false, false, false, false, false, false, false, false, false, false, false, false, false, false, false, false, false, false, false, false, false, false, false, false, false, false, false, false, false, false, false, false, false, false, false, false, false, false, false, false, false, false, false, false, false, false, false, false, false]}]}, {\"label\": \"ESPN\", \"method\": \"update\", \"args\": [{\"visible\": [false, false, false, false, true, true, true, true, true, false, false, false, false, false, false, false, false, false, false, false, false, false, false, false, false, false, false, false, false, false, false, false, false, false, false, false, false, false, false, false, false, false, false, false, false, false, false, false, false, false, false, false, false, false]}]}, {\"label\": \"First We Feast\", \"method\": \"update\", \"args\": [{\"visible\": [false, false, false, false, false, false, false, false, false, true, true, true, true, false, false, false, false, false, false, false, false, false, false, false, false, false, false, false, false, false, false, false, false, false, false, false, false, false, false, false, false, false, false, false, false, false, false, false, false, false, false, false, false, false]}]}, {\"label\": \"Grace Helbig\", \"method\": \"update\", \"args\": [{\"visible\": [false, false, false, false, false, false, false, false, false, false, false, false, false, true, true, true, true, false, false, false, false, false, false, false, false, false, false, false, false, false, false, false, false, false, false, false, false, false, false, false, false, false, false, false, false, false, false, false, false, false, false, false, false, false]}]}, {\"label\": \"Jimmy Kimmel Live\", \"method\": \"update\", \"args\": [{\"visible\": [false, false, false, false, false, false, false, false, false, false, false, false, false, false, false, false, false, true, true, true, true, true, true, false, false, false, false, false, false, false, false, false, false, false, false, false, false, false, false, false, false, false, false, false, false, false, false, false, false, false, false, false, false, false]}]}, {\"label\": \"NFL\", \"method\": \"update\", \"args\": [{\"visible\": [false, false, false, false, false, false, false, false, false, false, false, false, false, false, false, false, false, false, false, false, false, false, false, true, true, true, true, true, false, false, false, false, false, false, false, false, false, false, false, false, false, false, false, false, false, false, false, false, false, false, false, false, false, false]}]}, {\"label\": \"Safiya Nygaard\", \"method\": \"update\", \"args\": [{\"visible\": [false, false, false, false, false, false, false, false, false, false, false, false, false, false, false, false, false, false, false, false, false, false, false, false, false, false, false, false, true, true, true, true, false, false, false, false, false, false, false, false, false, false, false, false, false, false, false, false, false, false, false, false, false, false]}]}, {\"label\": \"The Late Late Show with James Corden\", \"method\": \"update\", \"args\": [{\"visible\": [false, false, false, false, false, false, false, false, false, false, false, false, false, false, false, false, false, false, false, false, false, false, false, false, false, false, false, false, false, false, false, false, true, true, true, true, true, false, false, false, false, false, false, false, false, false, false, false, false, false, false, false, false, false]}]}, {\"label\": \"The Tonight Show Starring Jimmy Fallon\", \"method\": \"update\", \"args\": [{\"visible\": [false, false, false, false, false, false, false, false, false, false, false, false, false, false, false, false, false, false, false, false, false, false, false, false, false, false, false, false, false, false, false, false, false, false, false, false, false, true, true, true, true, true, true, true, false, false, false, false, false, false, false, false, false, false]}]}, {\"label\": \"Vox\", \"method\": \"update\", \"args\": [{\"visible\": [false, false, false, false, false, false, false, false, false, false, false, false, false, false, false, false, false, false, false, false, false, false, false, false, false, false, false, false, false, false, false, false, false, false, false, false, false, false, false, false, false, false, false, false, true, true, true, true, true, true, true, false, false, false]}]}, {\"label\": \"jacksfilms\", \"method\": \"update\", \"args\": [{\"visible\": [false, false, false, false, false, false, false, false, false, false, false, false, false, false, false, false, false, false, false, false, false, false, false, false, false, false, false, false, false, false, false, false, false, false, false, false, false, false, false, false, false, false, false, false, false, false, false, false, false, false, false, true, true, true]}]}, {\"label\": \"All channels\", \"method\": \"update\", \"args\": [{\"visible\": [true, true, true, true, true, true, true, true, true, true, true, true, true, true, true, true, true, true, true, true, true, true, true, true, true, true, true, true, true, true, true, true, true, true, true, true, true, true, true, true, true, true, true, true, true, true, true, true, true, true, true, true, true, true]}]}], \"direction\": \"down\", \"pad\": {\"r\": 10, \"t\": 10}, \"showactive\": true, \"x\": 0.001, \"xanchor\": \"left\", \"y\": 1.1, \"yanchor\": \"top\"}], \"width\": 800, \"height\": 600, \"legend\": {\"orientation\": \"h\"}}, {\"showLink\": true, \"linkText\": \"Export to plot.ly\"})});</script>"
      ]
     },
     "metadata": {},
     "output_type": "display_data"
    }
   ],
   "source": [
    "channels_insight(us_vid_df, \"US\", date(2017,9,13), date(2017,9,24), 12)"
   ]
  },
  {
   "cell_type": "markdown",
   "metadata": {
    "_cell_guid": "700904ad-9b72-4d18-97dc-3ea1d4b4a2d4",
    "_uuid": "f3fffac3b797cf437a6362142f7273b405515240"
   },
   "source": [
    "The best way to see the situation with 1 trending video per 1 trending channel is to select The Tonight Show Starring Jimmy Fallon for both countries.\n",
    "\n",
    "Each has 7 videos per selected period. Sometimes it is only one day for a video to be in trends. Then other video of the channel replaces it in top 200. This looks very irrational. Why can't two or more videos of the one channel be in trend? Well, it is something I will try to find out using this database or other sources.\n",
    "\n",
    "Also, what is clear now is that trending doesn't relay solely on views. Dynamic must be more important that row number of views."
   ]
  },
  {
   "cell_type": "markdown",
   "metadata": {
    "_cell_guid": "cde0cfdb-663d-4470-92b8-0582fa2ee0f2",
    "_uuid": "99802e41a21d4b5c0f2e73d5841c9fd7113cd94b"
   },
   "source": [
    "> # 3. Analysis by categories"
   ]
  },
  {
   "cell_type": "markdown",
   "metadata": {
    "_cell_guid": "bcea4ae4-49f2-4ce8-88c4-8cb775ae26c7",
    "_uuid": "9a69deaa2bd66db287e40070cf4b645821518848"
   },
   "source": [
    "Categories will help to better understand nature of channels. They can be retreived from JSON file."
   ]
  },
  {
   "cell_type": "code",
   "execution_count": 16,
   "metadata": {
    "_cell_guid": "c11a3654-b9d5-4729-b923-9122c8941acf",
    "_uuid": "f8837a6f56d816632e4d533f538ffe5bd62256b9"
   },
   "outputs": [
    {
     "data": {
      "text/html": [
       "<div>\n",
       "<style>\n",
       "    .dataframe thead tr:only-child th {\n",
       "        text-align: right;\n",
       "    }\n",
       "\n",
       "    .dataframe thead th {\n",
       "        text-align: left;\n",
       "    }\n",
       "\n",
       "    .dataframe tbody tr th {\n",
       "        vertical-align: top;\n",
       "    }\n",
       "</style>\n",
       "<table border=\"1\" class=\"dataframe\">\n",
       "  <thead>\n",
       "    <tr style=\"text-align: right;\">\n",
       "      <th></th>\n",
       "      <th>video_id</th>\n",
       "      <th>title</th>\n",
       "      <th>channel_title</th>\n",
       "      <th>category_id</th>\n",
       "      <th>tags</th>\n",
       "      <th>views</th>\n",
       "      <th>likes</th>\n",
       "      <th>dislikes</th>\n",
       "      <th>comment_total</th>\n",
       "      <th>thumbnail_link</th>\n",
       "      <th>date</th>\n",
       "      <th>category_name</th>\n",
       "    </tr>\n",
       "  </thead>\n",
       "  <tbody>\n",
       "    <tr>\n",
       "      <th>0</th>\n",
       "      <td>jt2OHQh0HoQ</td>\n",
       "      <td>Live Apple Event - Apple September Event 2017 ...</td>\n",
       "      <td>Apple Event</td>\n",
       "      <td>28</td>\n",
       "      <td>apple events|apple event|iphone 8|iphone x|iph...</td>\n",
       "      <td>7426393</td>\n",
       "      <td>78240</td>\n",
       "      <td>13548</td>\n",
       "      <td>705</td>\n",
       "      <td>https://i.ytimg.com/vi/jt2OHQh0HoQ/default_liv...</td>\n",
       "      <td>2017-09-13</td>\n",
       "      <td>Science &amp; Technology</td>\n",
       "    </tr>\n",
       "    <tr>\n",
       "      <th>1</th>\n",
       "      <td>AqokkXoa7uE</td>\n",
       "      <td>Holly and Phillip Meet Samantha the Sex Robot ...</td>\n",
       "      <td>This Morning</td>\n",
       "      <td>24</td>\n",
       "      <td>this morning|interview|holly willoughby|philli...</td>\n",
       "      <td>494203</td>\n",
       "      <td>2651</td>\n",
       "      <td>1309</td>\n",
       "      <td>0</td>\n",
       "      <td>https://i.ytimg.com/vi/AqokkXoa7uE/default.jpg</td>\n",
       "      <td>2017-09-13</td>\n",
       "      <td>Entertainment</td>\n",
       "    </tr>\n",
       "    <tr>\n",
       "      <th>2</th>\n",
       "      <td>YPVcg45W0z4</td>\n",
       "      <td>My DNA Test Results! I'm WHAT?!</td>\n",
       "      <td>emmablackery</td>\n",
       "      <td>24</td>\n",
       "      <td>emmablackery|emma blackery|emma|blackery|briti...</td>\n",
       "      <td>142819</td>\n",
       "      <td>13119</td>\n",
       "      <td>151</td>\n",
       "      <td>1141</td>\n",
       "      <td>https://i.ytimg.com/vi/YPVcg45W0z4/default.jpg</td>\n",
       "      <td>2017-09-13</td>\n",
       "      <td>Entertainment</td>\n",
       "    </tr>\n",
       "    <tr>\n",
       "      <th>3</th>\n",
       "      <td>T_PuZBdT2iM</td>\n",
       "      <td>getting into a conversation in a language you ...</td>\n",
       "      <td>ProZD</td>\n",
       "      <td>1</td>\n",
       "      <td>skit|korean|language|conversation|esl|japanese...</td>\n",
       "      <td>1580028</td>\n",
       "      <td>65729</td>\n",
       "      <td>1529</td>\n",
       "      <td>3598</td>\n",
       "      <td>https://i.ytimg.com/vi/T_PuZBdT2iM/default.jpg</td>\n",
       "      <td>2017-09-13</td>\n",
       "      <td>Film &amp; Animation</td>\n",
       "    </tr>\n",
       "    <tr>\n",
       "      <th>4</th>\n",
       "      <td>NsjsmgmbCfc</td>\n",
       "      <td>Baby Name Challenge!</td>\n",
       "      <td>Sprinkleofglitter</td>\n",
       "      <td>26</td>\n",
       "      <td>sprinkleofglitter|sprinkle of glitter|baby gli...</td>\n",
       "      <td>40592</td>\n",
       "      <td>5019</td>\n",
       "      <td>57</td>\n",
       "      <td>490</td>\n",
       "      <td>https://i.ytimg.com/vi/NsjsmgmbCfc/default.jpg</td>\n",
       "      <td>2017-09-13</td>\n",
       "      <td>Howto &amp; Style</td>\n",
       "    </tr>\n",
       "  </tbody>\n",
       "</table>\n",
       "</div>"
      ],
      "text/plain": [
       "      video_id                                              title  \\\n",
       "0  jt2OHQh0HoQ  Live Apple Event - Apple September Event 2017 ...   \n",
       "1  AqokkXoa7uE  Holly and Phillip Meet Samantha the Sex Robot ...   \n",
       "2  YPVcg45W0z4                    My DNA Test Results! I'm WHAT?!   \n",
       "3  T_PuZBdT2iM  getting into a conversation in a language you ...   \n",
       "4  NsjsmgmbCfc                               Baby Name Challenge!   \n",
       "\n",
       "       channel_title  category_id  \\\n",
       "0        Apple Event           28   \n",
       "1       This Morning           24   \n",
       "2       emmablackery           24   \n",
       "3              ProZD            1   \n",
       "4  Sprinkleofglitter           26   \n",
       "\n",
       "                                                tags    views  likes  \\\n",
       "0  apple events|apple event|iphone 8|iphone x|iph...  7426393  78240   \n",
       "1  this morning|interview|holly willoughby|philli...   494203   2651   \n",
       "2  emmablackery|emma blackery|emma|blackery|briti...   142819  13119   \n",
       "3  skit|korean|language|conversation|esl|japanese...  1580028  65729   \n",
       "4  sprinkleofglitter|sprinkle of glitter|baby gli...    40592   5019   \n",
       "\n",
       "   dislikes  comment_total                                     thumbnail_link  \\\n",
       "0     13548            705  https://i.ytimg.com/vi/jt2OHQh0HoQ/default_liv...   \n",
       "1      1309              0     https://i.ytimg.com/vi/AqokkXoa7uE/default.jpg   \n",
       "2       151           1141     https://i.ytimg.com/vi/YPVcg45W0z4/default.jpg   \n",
       "3      1529           3598     https://i.ytimg.com/vi/T_PuZBdT2iM/default.jpg   \n",
       "4        57            490     https://i.ytimg.com/vi/NsjsmgmbCfc/default.jpg   \n",
       "\n",
       "         date         category_name  \n",
       "0  2017-09-13  Science & Technology  \n",
       "1  2017-09-13         Entertainment  \n",
       "2  2017-09-13         Entertainment  \n",
       "3  2017-09-13      Film & Animation  \n",
       "4  2017-09-13         Howto & Style  "
      ]
     },
     "execution_count": 16,
     "metadata": {},
     "output_type": "execute_result"
    }
   ],
   "source": [
    "# dictionary for GB database\n",
    "with open('input/GB_category_id.json') as json_data:\n",
    "    gb_from_json = json.load(json_data)\n",
    "gb_prelim_dict = gb_from_json['items']\n",
    "json_data.close()\n",
    "\n",
    "gb_cat_dict = {}\n",
    "for i in range (0,len(gb_prelim_dict)):\n",
    "    cat_key = int(gb_prelim_dict[i]['id'])\n",
    "    cat_item = gb_prelim_dict[i]['snippet']['title']\n",
    "    gb_cat_dict[cat_key] = cat_item\n",
    "gb_cat_dict[29] = 'Schools & Hospitals'\n",
    "    \n",
    "# dictionary for US database\n",
    "with open('input/GB_category_id.json') as json_data:\n",
    "    us_from_json = json.load(json_data)\n",
    "us_prelim_dict = us_from_json['items']\n",
    "json_data.close()\n",
    "\n",
    "us_cat_dict = {}\n",
    "for i in range (0,len(us_prelim_dict)):\n",
    "    cat_key = int(us_prelim_dict[i]['id'])\n",
    "    cat_item = us_prelim_dict[i]['snippet']['title']\n",
    "    us_cat_dict[cat_key] = cat_item\n",
    "gb_cat_dict[29] = 'Schools & Hospitals'\n",
    "\n",
    "# addition of categories to both databases\n",
    "gb_vid_df['category_name'] = gb_vid_df['category_id'].apply(lambda x: gb_cat_dict[x])\n",
    "gb_vid_df.head(5)"
   ]
  },
  {
   "cell_type": "markdown",
   "metadata": {
    "_cell_guid": "5f192974-8584-47a7-aa84-bf4c6aad7272",
    "_uuid": "5c62b0c9ff61de6e45ba3187a250822a8cf952db"
   },
   "source": [
    "The section is in progress..."
   ]
  },
  {
   "cell_type": "markdown",
   "metadata": {
    "_cell_guid": "26c50219-02e2-41df-84cd-b08917543d91",
    "_uuid": "022624ed4346813aa78b0af32c92c20212a3d164"
   },
   "source": [
    "# 4. Views, likes, dislikes and comments"
   ]
  },
  {
   "cell_type": "code",
   "execution_count": 17,
   "metadata": {
    "_cell_guid": "6c2b7355-970a-4cfa-91a8-5b4e5aea7ee3",
    "_uuid": "38161218b87a3afeaf6a5425bbbdec8b2a7b0e49",
    "collapsed": true
   },
   "outputs": [],
   "source": [
    "gb_vid_df.rename(columns={'comment_total':'comments'}, inplace=True)\n",
    "us_vid_df.rename(columns={'comment_total':'comments'}, inplace=True)"
   ]
  },
  {
   "cell_type": "markdown",
   "metadata": {
    "_cell_guid": "9e1a6705-a5b4-4229-b021-fcfd6e28686b",
    "_uuid": "a7dddfa43e2d89785e78abdce18161cb6a1f40a0"
   },
   "source": [
    "There must be a strong positive correlation between views and all other feature (comments, likes, dislikes). The logic behind is simple: more views - more expression of opinion in any of its form."
   ]
  },
  {
   "cell_type": "code",
   "execution_count": 18,
   "metadata": {
    "_cell_guid": "33b3553d-326e-49d5-a0c9-d9ad310453b8",
    "_uuid": "9731ac26dac8cad244abba594e40a8a828336359"
   },
   "outputs": [
    {
     "data": {
      "image/png": "[encoded data removed]",
      "text/plain": [
       "<matplotlib.figure.Figure at 0x25e85abb898>"
      ]
     },
     "metadata": {},
     "output_type": "display_data"
    }
   ],
   "source": [
    "corr_gb = gb_vid_df.loc[:,['views', 'likes', 'dislikes', 'comments']].corr()\n",
    "corr_us = us_vid_df.loc[:,['views', 'likes', 'dislikes', 'comments']].corr()\n",
    "\n",
    "mask = np.zeros_like(corr_gb, dtype=np.bool)\n",
    "mask[np.triu_indices_from(mask)] = True\n",
    "\n",
    "fig = plt.figure(figsize=(14, 5))\n",
    "gs = gridspec.GridSpec(1, 2, width_ratios=[1,1])\n",
    "cmap = sns.diverging_palette(220, 10, as_cmap=True)\n",
    "\n",
    "ax1 = plt.subplot(gs[0,0])\n",
    "ax1 = sns.heatmap(corr_gb, cmap=cmap, vmax=1, center=0.5,\n",
    "            square=True, linewidths=.5, mask=mask)\n",
    "ax1.set_title('Correlation matrix (GB)', fontsize=20)\n",
    "plt.yticks(rotation=0)\n",
    "\n",
    "ax2 = plt.subplot(gs[0,1])\n",
    "ax1 = sns.heatmap(corr_us, cmap=cmap, vmax=1, center=0.5,\n",
    "                  square=True, linewidths=.5, mask=mask)\n",
    "ax2.set_title('Correlation matrix (US)', fontsize=20)\n",
    "plt.yticks(rotation=0)\n",
    "\n",
    "plt.show()"
   ]
  },
  {
   "cell_type": "markdown",
   "metadata": {
    "_cell_guid": "07c4ebb3-fde8-4086-a4af-8e87d6f948a9",
    "_uuid": "57b7891590859fd9f27b969b30d5eeb5f706be0c"
   },
   "source": [
    "For GB segment of YouTube everything is very straightforward - views bring other activities. The US segment is different - dislikes seems to have their own path despite what happens with views, comments and likes. "
   ]
  },
  {
   "cell_type": "markdown",
   "metadata": {
    "_cell_guid": "10aeac00-40e9-4f4a-b9fb-70e4ef6404eb",
    "_uuid": "74eafd1f6f59e7de7e15a87df0b6325b8bc837d2"
   },
   "source": [
    "Visualization of these features should help a lot. Next part of the code provides functions for plotting views, comments, likes and dislikes for whole period of database. The plot is cumulative. Decreases in trend-line occur when a video with big stats is excluded from the pool of 200."
   ]
  },
  {
   "cell_type": "code",
   "execution_count": 19,
   "metadata": {
    "_cell_guid": "362e19bd-df5c-4131-93d2-36d9218c34d9",
    "_uuid": "bc6236e25bbba11fbd20e369d420a27f7fa7f17a",
    "collapsed": true
   },
   "outputs": [],
   "source": [
    "def vldc_plot(df_init, country):\n",
    "    df = df_init[['date','views', 'likes',\n",
    "             'dislikes','comments']].groupby('date', as_index = False).sum()\n",
    "    df[['views','likes', 'dislikes','comments']] = df[['views', 'likes',\n",
    "                                                       'dislikes', 'comments']].apply(lambda x: x/1000000)\n",
    "    fig = plt.figure(figsize=(12, 5))\n",
    "    gs = gridspec.GridSpec(2, 2, width_ratios=[1,1])\n",
    "\n",
    "    ax1 = plt.subplot(gs[0,0])\n",
    "    ax1.plot(df['date'], df['views'])\n",
    "    ax1.set_xticklabels(\"\")\n",
    "    ax1.set_title('Views, mln', fontsize=20)\n",
    "\n",
    "    ax2 = plt.subplot(gs[0,1])\n",
    "    ax2.plot(df['date'], df['comments'])\n",
    "    ax2.set_xticklabels(\"\")\n",
    "    ax2.set_title('Comments, mln', fontsize=20)\n",
    "\n",
    "    ax3 = plt.subplot(gs[1,0])\n",
    "    ax3.plot(df['date'], df['likes'])\n",
    "    ax3.set_xticks(df['date'].values)\n",
    "    ax3.set_xticklabels(df['date'], rotation=45)\n",
    "    ax3.set_title('Likes, mln', fontsize=20)\n",
    "\n",
    "    ax4 = plt.subplot(gs[1,1])\n",
    "    ax4.plot(df['date'], df['dislikes'])\n",
    "    ax4.set_xticks(df['date'].values)\n",
    "    ax4.set_xticklabels(df['date'], rotation=45)\n",
    "    ax4.set_title('Dislikes, mln', fontsize=20)\n",
    "\n",
    "    plt.suptitle('{} segment'.format(country), fontsize=22)\n",
    "\n",
    "    plt.show()"
   ]
  },
  {
   "cell_type": "code",
   "execution_count": 20,
   "metadata": {
    "_cell_guid": "d22a2b5d-05e6-4075-96cd-c774a833c36e",
    "_uuid": "34622ff112a8c7581deaf4d9665cab66533ae7ee"
   },
   "outputs": [
    {
     "data": {
      "image/png": "[encoded data removed]",
      "text/plain": [
       "<matplotlib.figure.Figure at 0x25e84511d30>"
      ]
     },
     "metadata": {},
     "output_type": "display_data"
    }
   ],
   "source": [
    "vldc_plot(gb_vid_df, 'GB')"
   ]
  },
  {
   "cell_type": "code",
   "execution_count": 21,
   "metadata": {
    "_cell_guid": "54d52f2d-c878-4e30-8b9a-03286a28de9e",
    "_uuid": "c3037d191f6be4a3ee10ab23e19254bb60c24a92"
   },
   "outputs": [
    {
     "data": {
      "image/png": "[encoded data removed]",
      "text/plain": [
       "<matplotlib.figure.Figure at 0x25e858b1390>"
      ]
     },
     "metadata": {},
     "output_type": "display_data"
    }
   ],
   "source": [
    "vldc_plot(us_vid_df, 'US')"
   ]
  },
  {
   "cell_type": "markdown",
   "metadata": {
    "_cell_guid": "bfa78b51-8e5f-4fc3-a130-f94f8548b4e5",
    "_uuid": "dba206589ce8bd2b24dbf3901a26ffe479ca8ee7"
   },
   "source": [
    "Week correlation between dislikes and everything else in US segment is mostly guided by 13 September where high views and many likes had relatively small amount of comments and dislikes.  The database is updated regularly and is going to embrace longer period. After some time the correlation will relay less on daily data."
   ]
  },
  {
   "cell_type": "code",
   "execution_count": 22,
   "metadata": {
    "_cell_guid": "74539faa-2982-4758-abee-e7e9d9264626",
    "_uuid": "7a4d74fbdf96a40dc9291391a8159e340cedaebf"
   },
   "outputs": [
    {
     "data": {
      "text/html": [
       "<div>\n",
       "<style>\n",
       "    .dataframe thead tr:only-child th {\n",
       "        text-align: right;\n",
       "    }\n",
       "\n",
       "    .dataframe thead th {\n",
       "        text-align: left;\n",
       "    }\n",
       "\n",
       "    .dataframe tbody tr th {\n",
       "        vertical-align: top;\n",
       "    }\n",
       "</style>\n",
       "<table border=\"1\" class=\"dataframe\">\n",
       "  <thead>\n",
       "    <tr style=\"text-align: right;\">\n",
       "      <th></th>\n",
       "      <th>views</th>\n",
       "      <th>likes</th>\n",
       "      <th>dislikes</th>\n",
       "      <th>comments</th>\n",
       "    </tr>\n",
       "  </thead>\n",
       "  <tbody>\n",
       "    <tr>\n",
       "      <th>views</th>\n",
       "      <td>1.000000</td>\n",
       "      <td>0.863980</td>\n",
       "      <td>0.673084</td>\n",
       "      <td>0.723835</td>\n",
       "    </tr>\n",
       "    <tr>\n",
       "      <th>likes</th>\n",
       "      <td>0.863980</td>\n",
       "      <td>1.000000</td>\n",
       "      <td>0.625403</td>\n",
       "      <td>0.838232</td>\n",
       "    </tr>\n",
       "    <tr>\n",
       "      <th>dislikes</th>\n",
       "      <td>0.673084</td>\n",
       "      <td>0.625403</td>\n",
       "      <td>1.000000</td>\n",
       "      <td>0.664547</td>\n",
       "    </tr>\n",
       "    <tr>\n",
       "      <th>comments</th>\n",
       "      <td>0.723835</td>\n",
       "      <td>0.838232</td>\n",
       "      <td>0.664547</td>\n",
       "      <td>1.000000</td>\n",
       "    </tr>\n",
       "  </tbody>\n",
       "</table>\n",
       "</div>"
      ],
      "text/plain": [
       "             views     likes  dislikes  comments\n",
       "views     1.000000  0.863980  0.673084  0.723835\n",
       "likes     0.863980  1.000000  0.625403  0.838232\n",
       "dislikes  0.673084  0.625403  1.000000  0.664547\n",
       "comments  0.723835  0.838232  0.664547  1.000000"
      ]
     },
     "execution_count": 22,
     "metadata": {},
     "output_type": "execute_result"
    }
   ],
   "source": [
    "us_vid_df_corr_check = gb_vid_df.loc[gb_vid_df['date']!=date(2017,9,13),]\n",
    "corr_us = us_vid_df_corr_check.loc[:,['views', 'likes', 'dislikes', 'comments']].corr()\n",
    "corr_us"
   ]
  },
  {
   "cell_type": "markdown",
   "metadata": {
    "_cell_guid": "5aadcdc8-f640-40ea-a781-ccbd43824d72",
    "_uuid": "5f6b19e5f6ffebbdbfd00b5ed0ced42ac2fe1309"
   },
   "source": [
    "Another interesting observation - cumulative amount of views for GB reached over 300 mln. and for US only 240 mln. The first thought is there must be some mistake in code or database - US has bigger YouTube audience than other countries. But first chapter of this analysis gave picture of how long a video is in top 200. In US segment this turnover is higher than in GB's. Thus for GB segment the videos with lots of views stay in top 200 and contribute to total amount of views. At the same time in US segment new videos with less views replace old ones."
   ]
  },
  {
   "cell_type": "markdown",
   "metadata": {
    "_cell_guid": "f008a628-ba99-4d0e-868e-1ac6d16aef29",
    "_uuid": "9d759a6a0e5274fab8230ad6671cd62138f81300"
   },
   "source": [
    "# 5. Predicting tags    "
   ]
  },
  {
   "cell_type": "markdown",
   "metadata": {
    "_cell_guid": "0c65d6cb-2c49-4148-bade-7fd80ebb72a2",
    "_uuid": "4b0ae5b5e1401a031c702d52b970acca04ed6830"
   },
   "source": [
    "Each video has tags. They are made by videos' authors. But maybe we can try to predict them based on comments?\n",
    "These are the sources of inspiration:\n",
    "\n",
    "https://www.kaggle.com/c/transfer-learning-on-stack-exchange-tags/kernels\n",
    "\n",
    "https://web.stanford.edu/class/cs224n/reports/2759891.pdf\n",
    "\n",
    "https://www.kaggle.com/l3nnys/useful-text-preprocessing-on-the-datasets"
   ]
  },
  {
   "cell_type": "markdown",
   "metadata": {
    "_cell_guid": "56806c0a-c9c7-4920-8069-280f7eff42a0",
    "_uuid": "cb9e470fb5fa64a6a1027eeff8f22d93ae5eec9f"
   },
   "source": [
    "The first step is to convert tags from string to list of strings."
   ]
  },
  {
   "cell_type": "code",
   "execution_count": 23,
   "metadata": {
    "_cell_guid": "57ca8f8f-50cb-40ac-acd3-55c24c60a31d",
    "_uuid": "e368451cb03728b1c76cf83d0e32d07ce8db2822",
    "collapsed": true
   },
   "outputs": [],
   "source": [
    "gb_vid_df['tags'] = gb_vid_df['tags'].map(lambda x: x.split('|'))\n",
    "us_vid_df['tags'] = us_vid_df['tags'].map(lambda x: x.split('|'))"
   ]
  },
  {
   "cell_type": "markdown",
   "metadata": {
    "_cell_guid": "2e8fa993-f7c7-402b-95e0-ac47fa8b17fe",
    "_uuid": "145f87f5f87de5fdcf8653dcb4f5a135b6843b01"
   },
   "source": [
    "There are few rows that have more collumns than they should. Due to insignificant amount it is safe to exclude them."
   ]
  },
  {
   "cell_type": "code",
   "execution_count": 24,
   "metadata": {
    "_cell_guid": "986508ad-1767-485a-b767-561ef28342fe",
    "_uuid": "331a2a3ca1506a51774c85fced33a26e9abb9cae"
   },
   "outputs": [
    {
     "name": "stderr",
     "output_type": "stream",
     "text": [
      "b'Skipping line 113225: expected 4 fields, saw 5\\n'\n",
      "b'Skipping line 158379: expected 4 fields, saw 7\\nSkipping line 241590: expected 4 fields, saw 5\\nSkipping line 245637: expected 4 fields, saw 7\\n'\n",
      "b'Skipping line 521402: expected 4 fields, saw 5\\n'\n",
      "b'Skipping line 41589: expected 4 fields, saw 11\\nSkipping line 51628: expected 4 fields, saw 7\\nSkipping line 114465: expected 4 fields, saw 5\\n'\n",
      "b'Skipping line 142496: expected 4 fields, saw 8\\nSkipping line 189732: expected 4 fields, saw 6\\nSkipping line 245218: expected 4 fields, saw 7\\n'\n",
      "b'Skipping line 388430: expected 4 fields, saw 5\\n'\n",
      "C:\\Users\\amans\\Anaconda3\\lib\\site-packages\\IPython\\core\\interactiveshell.py:2698: DtypeWarning:\n",
      "\n",
      "Columns (2,3) have mixed types. Specify dtype option on import or set low_memory=False.\n",
      "\n"
     ]
    }
   ],
   "source": [
    "# downloading the data and skip bad rows\n",
    "gb_comm_df =  pd.read_csv(\"input/GBcomments.csv\", error_bad_lines = False)\n",
    "us_comm_df =  pd.read_csv(\"input/UScomments.csv\", error_bad_lines = False)"
   ]
  },
  {
   "cell_type": "markdown",
   "metadata": {
    "_cell_guid": "9b1d4acb-a026-40ae-b270-3455bfdcd876",
    "_uuid": "12ccc6b502c237f62ee7058e68a3444542e18246"
   },
   "source": [
    "Comments database containes infromation on same videos. US and GB databases could be combined to provide full picture for any video. \n",
    "\n",
    "It is possible a video lasts longer in one database than in the other, but the goal of this part is to predict tags, so it is ok to combine all available information in one place."
   ]
  },
  {
   "cell_type": "code",
   "execution_count": 25,
   "metadata": {
    "_cell_guid": "550987a2-171b-48e1-b4a5-d36188c27c7b",
    "_uuid": "ee28f10888f036f8fc109a938041b5d61899bd18"
   },
   "outputs": [
    {
     "data": {
      "text/plain": [
       "(646863, 8)"
      ]
     },
     "execution_count": 25,
     "metadata": {},
     "output_type": "execute_result"
    }
   ],
   "source": [
    "# combined database on videos features (will be used for vlookup only)\n",
    "all_vid_df = gb_vid_df.append(us_vid_df)\n",
    "all_vid_df.sort_values('date', ascending=False, inplace=True)\n",
    "# leave only most recent date for each video\n",
    "all_vid_df.drop_duplicates('video_id', keep = 'first', inplace = True)\n",
    "\n",
    "\n",
    "# combined database for comments\n",
    "all_comm_df = gb_comm_df.append(us_comm_df)\n",
    "# duplicates should be deleted\n",
    "all_comm_df.drop_duplicates(['video_id', 'comment_text'], keep = 'first', inplace = True)\n",
    "\n",
    "all_comm_df = all_comm_df.join(all_vid_df.set_index('video_id')[['tags',\n",
    "                                                               'channel_title',\n",
    "                                                               'title']], on = 'video_id')\n",
    "# make additional column for number of tags\n",
    "all_comm_df['num_tags'] = all_comm_df['tags'].apply(lambda x: len(x))\n",
    "all_comm_df.shape"
   ]
  },
  {
   "cell_type": "markdown",
   "metadata": {
    "_cell_guid": "273dbac7-5142-4e07-a994-e0921ae923f8",
    "_uuid": "51a18a68f8e9c6218b7d9dff6214ae43b92a6079"
   },
   "source": [
    "To make predictions I need to get rid of different artifacts (html characters and emojis) and exclude non-ASCII characters. Following functions should help with this task: "
   ]
  },
  {
   "cell_type": "code",
   "execution_count": 26,
   "metadata": {
    "_cell_guid": "e9345659-7a17-4671-9937-f1376676624e",
    "_uuid": "1d81f70e1d41f01e56aa133e8a76c04aa11f2499",
    "collapsed": true
   },
   "outputs": [],
   "source": [
    "# function for cleaning urls\n",
    "def remove_urls(x):\n",
    "    return re.sub(r\"http\\S+\", \"\", x)"
   ]
  },
  {
   "cell_type": "code",
   "execution_count": 27,
   "metadata": {
    "_cell_guid": "7f928aeb-9e15-4d67-a3e6-4e3f3ce56e70",
    "_uuid": "e31c7ff61edf0d9bfbe4217cf89d259165a115c5",
    "collapsed": true
   },
   "outputs": [],
   "source": [
    "# function for cleaning text of html tags and uris\n",
    "\n",
    "# thanks to https://www.kaggle.com/l3nnys/useful-text-preprocessing-on-the-datasets\n",
    "uri_re = r'(?i)\\b((?:https?://|www\\d{0,3}[.]|[a-z0-9.\\-]+[.][a-z]{2,4}/)(?:[^\\s()<>]+|\\(([^\\s()<>]+|(\\([^\\s()<>]+\\)))*\\))+(?:\\(([^\\s()<>]+|(\\([^\\s()<>]+\\)))*\\)|[^\\s`!()\\[\\]{};:\\'\".,<>?«»“”‘’]))'\n",
    "\n",
    "def stripTagsAndUris(x):\n",
    "    # BeautifulSoup on content\n",
    "    soup = BeautifulSoup(x, \"html.parser\")\n",
    "    # Stripping all <code> tags with their content if any\n",
    "    if soup.code:\n",
    "        soup.code.decompose()\n",
    "    # Get all the text out of the html\n",
    "    text =  soup.get_text()\n",
    "    # Returning text stripping out all uris\n",
    "    return re.sub(uri_re, \"\", text)"
   ]
  },
  {
   "cell_type": "code",
   "execution_count": 28,
   "metadata": {
    "_cell_guid": "e6143ab1-7f74-4904-adf0-6782e3653729",
    "_uuid": "6b7dfe2d2ec531fbefee0687fe2942680aa3945e",
    "collapsed": true
   },
   "outputs": [],
   "source": [
    "# emoji pattern (https://stackoverflow.com/questions/33404752/removing-emojis-from-a-string-in-python)\n",
    "emoji_pattern = re.compile(\"[\"\n",
    "        u\"\\U0001F600-\\U0001F64F\"  # emoticons\n",
    "        u\"\\U0001F300-\\U0001F5FF\"  # symbols & pictographs\n",
    "        u\"\\U0001F680-\\U0001F6FF\"  # transport & map symbols\n",
    "        u\"\\U0001F1E0-\\U0001F1FF\"  # flags (iOS)\n",
    "                           \"]+\", flags=re.UNICODE)\n",
    "\n",
    "# function for removal of non-ASCII characters and emoji\n",
    "def exASCII(x):\n",
    "    # Lowercasing all words\n",
    "    x = x.lower()\n",
    "    # Removing non ASCII chars\n",
    "    ex_ascii = re.sub(r'[^\\x00-\\x7f]',r'',x)\n",
    "    # remove emoji\n",
    "    return emoji_pattern.sub(r'', ex_ascii)"
   ]
  },
  {
   "cell_type": "code",
   "execution_count": 29,
   "metadata": {
    "_cell_guid": "0fd88a13-46e2-4d88-8e42-b4d522f5de57",
    "_uuid": "d38eb6e80e05589619a6c6551945b77196ad9677",
    "collapsed": true
   },
   "outputs": [],
   "source": [
    "# replace trippled+ characters\n",
    "# https://stackoverflow.com/questions/43110237/replace-consecutive-repeated-characters-with-one-column-wise-operation-pand\n",
    "def trim_trippled(x):\n",
    "    min_threshold_rep = 3\n",
    "    return re.sub(r'(.)\\1{%d,}'%(min_threshold_rep-1), r'\\1',x)"
   ]
  },
  {
   "cell_type": "code",
   "execution_count": 30,
   "metadata": {
    "_cell_guid": "b1621631-2637-40a5-90ef-852586d3cc78",
    "_uuid": "c17ba4f0dec92d89e382bb3ece0e6c3570557799",
    "collapsed": true
   },
   "outputs": [],
   "source": [
    "# change shorcuts to full words, replace remains of unwanted characters\n",
    "# thanks to https://www.analyticsvidhya.com/blog/2014/11/text-data-cleaning-steps-python/\n",
    "apts = {\"'s\": \" is\",\n",
    "        \"'ll\": \" will\",\n",
    "        \"'re\": \" are\",\n",
    "        \"'d\": \" would\",\n",
    "        \"'t\": \" not\",\n",
    "        \"'m\": \" am\",\n",
    "        \"'ve\": \" have\",\n",
    "        \"&\": \" and \",\n",
    "        \"\\*\": \" \",\n",
    "        r'\\\\n': \" \",\n",
    "        '[%_=>#\"(--)\\)\\(:\\^~\\<( - )( / )([\\\\\\/\\])]': \" \",\n",
    "        \"[^(\\d]\\d+\\)\": \" \",\n",
    "        \"([\\d|\\d\\d]):([\\d|\\d\\d])(:([\\d|\\d\\d]))?\": \" \"}\n",
    "\n",
    "# exclude double spaces left after previous step\n",
    "rem = {'  +': ' '}\n",
    "\n",
    "def ex_apts_rem(x):\n",
    "    for i in apts:\n",
    "        x = re.sub(i, apts[i], x)\n",
    "    for i in rem:\n",
    "        x = re.sub(i, rem[i], x)\n",
    "    return x"
   ]
  },
  {
   "cell_type": "code",
   "execution_count": 31,
   "metadata": {
    "_cell_guid": "c0e6ccb0-485e-42c6-b690-72f22d60b1a8",
    "_uuid": "261fc7eb3754ad115a6864e48431b38b0f7859ec",
    "collapsed": true
   },
   "outputs": [],
   "source": [
    "# leave only those words that correspond to selected parts of speech\n",
    "def nlp_filter(x):\n",
    "    tokens = nlp(x)\n",
    "    tags = []\n",
    "    list_of_tags = ['CD','FW','JJ','JJR','JJS','NN','NNP','NNPS','NNS','RB','RBR','RBS']\n",
    "    for token in tokens:\n",
    "        tags.append((token.lemma_, token.tag_))\n",
    "    filtered_list = [(n,y) for (n,y) in tags if y in list_of_tags]\n",
    "    x = \" \".join([n for (n,y) in filtered_list])\n",
    "    return x"
   ]
  },
  {
   "cell_type": "code",
   "execution_count": 32,
   "metadata": {
    "_cell_guid": "c83659ab-c985-4e78-8b84-16ef8af51ef1",
    "_uuid": "be2e3e16b8986a0d71cb640d9026f81ea817514b",
    "collapsed": true
   },
   "outputs": [],
   "source": [
    "# function that embraces all previous text preparation process\n",
    "def preprocess_functions(x):\n",
    "    return (ex_apts_rem(trim_trippled(exASCII(stripTagsAndUris(remove_urls(x))))))"
   ]
  },
  {
   "cell_type": "markdown",
   "metadata": {
    "_cell_guid": "9d160d54-b4d5-474b-b2e4-5b759dec549f",
    "_uuid": "469c290d55f2bd252c2a8349b8a3786252411be0"
   },
   "source": [
    "Now functions above can be applied to comments column."
   ]
  },
  {
   "cell_type": "code",
   "execution_count": null,
   "metadata": {
    "_cell_guid": "bb3b265e-afa0-455c-b723-cd7bb868b4c2",
    "_uuid": "72ca919a38a75e5e7843305de8c5e4e0f534d1ed"
   },
   "outputs": [
    {
     "name": "stderr",
     "output_type": "stream",
     "text": [
      "C:\\Users\\amans\\Anaconda3\\lib\\site-packages\\bs4\\__init__.py:219: UserWarning:\n",
      "\n",
      "\"b'.'\" looks like a filename, not markup. You should probably open this file and pass the filehandle into Beautiful Soup.\n",
      "\n",
      "C:\\Users\\amans\\Anaconda3\\lib\\site-packages\\bs4\\__init__.py:219: UserWarning:\n",
      "\n",
      "\"b'....'\" looks like a filename, not markup. You should probably open this file and pass the filehandle into Beautiful Soup.\n",
      "\n",
      "C:\\Users\\amans\\Anaconda3\\lib\\site-packages\\bs4\\__init__.py:219: UserWarning:\n",
      "\n",
      "\"b'...'\" looks like a filename, not markup. You should probably open this file and pass the filehandle into Beautiful Soup.\n",
      "\n",
      "C:\\Users\\amans\\Anaconda3\\lib\\site-packages\\bs4\\__init__.py:219: UserWarning:\n",
      "\n",
      "\"b'.....'\" looks like a filename, not markup. You should probably open this file and pass the filehandle into Beautiful Soup.\n",
      "\n",
      "C:\\Users\\amans\\Anaconda3\\lib\\site-packages\\bs4\\__init__.py:219: UserWarning:\n",
      "\n",
      "\"b'..'\" looks like a filename, not markup. You should probably open this file and pass the filehandle into Beautiful Soup.\n",
      "\n",
      "C:\\Users\\amans\\Anaconda3\\lib\\site-packages\\bs4\\__init__.py:219: UserWarning:\n",
      "\n",
      "\"b'/'\" looks like a filename, not markup. You should probably open this file and pass the filehandle into Beautiful Soup.\n",
      "\n",
      "C:\\Users\\amans\\Anaconda3\\lib\\site-packages\\bs4\\__init__.py:219: UserWarning:\n",
      "\n",
      "\"b'......'\" looks like a filename, not markup. You should probably open this file and pass the filehandle into Beautiful Soup.\n",
      "\n",
      "C:\\Users\\amans\\Anaconda3\\lib\\site-packages\\bs4\\__init__.py:219: UserWarning:\n",
      "\n",
      "\"b'C:'\" looks like a filename, not markup. You should probably open this file and pass the filehandle into Beautiful Soup.\n",
      "\n",
      "C:\\Users\\amans\\Anaconda3\\lib\\site-packages\\bs4\\__init__.py:219: UserWarning:\n",
      "\n",
      "\"b'...........................'\" looks like a filename, not markup. You should probably open this file and pass the filehandle into Beautiful Soup.\n",
      "\n",
      "C:\\Users\\amans\\Anaconda3\\lib\\site-packages\\bs4\\__init__.py:219: UserWarning:\n",
      "\n",
      "\"b'........'\" looks like a filename, not markup. You should probably open this file and pass the filehandle into Beautiful Soup.\n",
      "\n",
      "C:\\Users\\amans\\Anaconda3\\lib\\site-packages\\bs4\\__init__.py:219: UserWarning:\n",
      "\n",
      "\"b'. . .'\" looks like a filename, not markup. You should probably open this file and pass the filehandle into Beautiful Soup.\n",
      "\n",
      "C:\\Users\\amans\\Anaconda3\\lib\\site-packages\\bs4\\__init__.py:219: UserWarning:\n",
      "\n",
      "\"b'D:'\" looks like a filename, not markup. You should probably open this file and pass the filehandle into Beautiful Soup.\n",
      "\n",
      "C:\\Users\\amans\\Anaconda3\\lib\\site-packages\\bs4\\__init__.py:219: UserWarning:\n",
      "\n",
      "\"b'................   '\" looks like a filename, not markup. You should probably open this file and pass the filehandle into Beautiful Soup.\n",
      "\n",
      "C:\\Users\\amans\\Anaconda3\\lib\\site-packages\\bs4\\__init__.py:219: UserWarning:\n",
      "\n",
      "\"b'..........................'\" looks like a filename, not markup. You should probably open this file and pass the filehandle into Beautiful Soup.\n",
      "\n",
      "C:\\Users\\amans\\Anaconda3\\lib\\site-packages\\bs4\\__init__.py:219: UserWarning:\n",
      "\n",
      "\"b' ...'\" looks like a filename, not markup. You should probably open this file and pass the filehandle into Beautiful Soup.\n",
      "\n",
      "C:\\Users\\amans\\Anaconda3\\lib\\site-packages\\bs4\\__init__.py:219: UserWarning:\n",
      "\n",
      "\"b'\\\\'\" looks like a filename, not markup. You should probably open this file and pass the filehandle into Beautiful Soup.\n",
      "\n"
     ]
    }
   ],
   "source": [
    "# prepare comments section\n",
    "comments_df = all_comm_df.copy()\n",
    "comments_df['comment_text'] = comments_df['comment_text'].apply(str)\n",
    "comments_df['comment_text_proc'] = comments_df['comment_text'].apply(lambda x: preprocess_functions(str(x)))"
   ]
  },
  {
   "cell_type": "markdown",
   "metadata": {
    "_cell_guid": "cd62d3d0-57f9-42ff-a0ef-cadef1d6d2cf",
    "_uuid": "2d6f4c707844407e860c26618565ffe37a319c37"
   },
   "source": [
    "There are handful of videos that are titled, tagged and commented in languages other than English. To simplify the prediction I exclude them using following procedure: \n",
    "1.  Create comments column without emojis but with non-ASCII characters.\n",
    "2. Put all videos that have more than 50% of comments made with non-ASCII characters into special list.\n",
    "3. Exclude all items these videos from the final set.\n",
    "\n",
    "Also videos with less than 10 comments were excluded as in most cases they provide insufficient amount of text for prediction. "
   ]
  },
  {
   "cell_type": "code",
   "execution_count": null,
   "metadata": {
    "_cell_guid": "40ea02a4-23a4-4f45-8a7b-962783820627",
    "_uuid": "334c18462887088c09b4041e46840042918c6fe8",
    "collapsed": true
   },
   "outputs": [],
   "source": [
    "# create comments column where emojis are excluded but other non-ASCII characters are preserved\n",
    "comments_df['no_emo_comments'] = comments_df['comment_text'].apply(lambda x: emoji_pattern.sub('r', x))\n",
    "\n",
    "# videos where most of the comments made with non-ASCII characters\n",
    "vid_list = comments_df['video_id'].unique()\n",
    "vid_list_nonASCII = []\n",
    "for i in vid_list:\n",
    "    temp_df = comments_df.loc[comments_df['video_id'] == i, ]\n",
    "    nonASCII = temp_df['no_emo_comments'].str.contains('[^\\x00-\\x7f]').sum() # number of comment with non-ASCII characters\n",
    "    all_com = temp_df['no_emo_comments'].count() # total number of comments\n",
    "    if (nonASCII/all_com) > 0.5:\n",
    "        vid_list_nonASCII.append(i)\n",
    "\n",
    "vid_list_few_comments = []\n",
    "for i in vid_list:\n",
    "    temp_df = comments_df.loc[comments_df['video_id'] == i, ]\n",
    "    if (temp_df['video_id'].count()) < 10:\n",
    "        vid_list_few_comments.append(i)\n",
    "\n",
    "del temp_df"
   ]
  },
  {
   "cell_type": "code",
   "execution_count": null,
   "metadata": {
    "_cell_guid": "e9412b11-0e43-4021-bc05-5a2aac0f6eca",
    "_uuid": "5bce92773f542bfd9bcc21a7082798a77db1e21b",
    "collapsed": true
   },
   "outputs": [],
   "source": [
    "# exclude videos selected in previous step\n",
    "vid_list_prunned = [x for x in vid_list if x not in vid_list_nonASCII]\n",
    "vid_list_prunned = [x for x in vid_list_prunned if x not in vid_list_few_comments]"
   ]
  },
  {
   "cell_type": "markdown",
   "metadata": {
    "_cell_guid": "233dc267-fc0b-4e81-ae4f-ad705f9b3c84",
    "_uuid": "ae198c19a2647470fc628e9a83a55fbc8372392c"
   },
   "source": [
    "Predictions are made with TfidfVectorizer per each video. Most of the parameters are identical but two of them are calculated for each video: number of tags to be predicted (n_tags) and maximum n_gram range (max_ngram).\n",
    "\n",
    "Thus number of predicted tags and number of words in predicted tags are in line with ground truth."
   ]
  },
  {
   "cell_type": "code",
   "execution_count": null,
   "metadata": {
    "_cell_guid": "45d10e74-94c9-4d0d-b1e1-60c93d74924b",
    "_uuid": "dedfec1ee5abda6b70f21fde8f80d695ac6d2ad5",
    "collapsed": true
   },
   "outputs": [],
   "source": [
    "# tags predictions\n",
    "tags_list = []\n",
    "for i in vid_list_prunned:\n",
    "    temp_df = comments_df.loc[comments_df['video_id'] == i, ]\n",
    "    n_tags = len(temp_df['tags'].values[0])\n",
    "    max_ngram = max([len(n.split()) for n in temp_df['tags'].values[0]])\n",
    "    tfidf = TfidfVectorizer(min_df = 0.03,\n",
    "                            max_features = 10000,\n",
    "                            analyzer = 'word', \n",
    "                            token_pattern = r'\\w+',\n",
    "                            ngram_range = (1, min(max_ngram,3)), # limit n-grams by 3 words max\n",
    "                            use_idf = True,\n",
    "                            smooth_idf = True,\n",
    "                            sublinear_tf = True,\n",
    "                            stop_words = 'english')\n",
    "    tfidf_matrix = tfidf.fit_transform(temp_df['comment_text_proc'].values)\n",
    "    tags_array = np.array(tfidf.get_feature_names())\n",
    "    tags_sorted = np.argsort(tfidf_matrix.toarray()).flatten()[::-1]\n",
    "    sel = tags_sorted[:n_tags]\n",
    "    selected_tags = tags_array[sel]\n",
    "    tags_list.append(selected_tags.tolist())\n",
    "print (\"Prediction is done.\")"
   ]
  },
  {
   "cell_type": "code",
   "execution_count": null,
   "metadata": {
    "_cell_guid": "ed9e8ec2-a83d-4607-8507-7f6ed17a5d5f",
    "_uuid": "a75f2a5d2f43aa73db6c9dd8d5943b07573207c8",
    "collapsed": true
   },
   "outputs": [],
   "source": [
    "# add predicted tags to comments dataframe\n",
    "tags_df = pd.DataFrame({\"video_id\": vid_list_prunned, \"tags_pred\": tags_list})\n",
    "comments_df_selected = comments_df.copy().loc[comments_df['video_id'].isin(vid_list_prunned),]\n",
    "comments_df_selected = comments_df_selected.merge(tags_df, how = \"left\", left_on = \"video_id\", right_on = \"video_id\")\n",
    "comments_df_selected.head(3)"
   ]
  },
  {
   "cell_type": "markdown",
   "metadata": {
    "_cell_guid": "b69c1a11-b89f-469f-983e-581518211e11",
    "_uuid": "7b21835a0f1e3705a587733e8aa461834222ba4f"
   },
   "source": [
    "Now it is time to check prediction quality. To do this I took 5 randomly selected videos and printed title, tags and predicted tags per each video."
   ]
  },
  {
   "cell_type": "code",
   "execution_count": null,
   "metadata": {
    "_cell_guid": "6eaacbdf-e8b6-4929-a20a-5fdada0a444c",
    "_uuid": "c7fc405d59e37426641107725e6c748480b03856",
    "collapsed": true
   },
   "outputs": [],
   "source": [
    "check_list = random.sample(vid_list_prunned,5)\n",
    "print (check_list)\n",
    "for i in check_list:\n",
    "    temp_df = comments_df_selected.loc[comments_df_selected['video_id'] == i, ]\n",
    "    print (\"\\nVideo title:\")\n",
    "    print (temp_df['title'].values[0])\n",
    "    print (\"\\nGround truth tags:\")\n",
    "    print (temp_df['tags'].values[0])\n",
    "    print (\"\\nPredicted tags:\")\n",
    "    print (temp_df['tags_pred'].values[0])\n",
    "    print (\"--------------------\")"
   ]
  },
  {
   "cell_type": "markdown",
   "metadata": {
    "_cell_guid": "257025be-e63c-4050-be08-9532863af9a0",
    "_uuid": "710a381657c069a276384a0e7372a288020145ba"
   },
   "source": [
    "Predicted tags are far from being precise and there are few reasons why it happens:\n",
    "1. Video creators make many tags to ensure that video will be found by YouTube search engine. It includes adding common misspells and words permutation.\n",
    "2. Discussion in comments can shift away from the video topic. Also comments may have little sense. The interesting option is to use only comments with big amount of likes but they are not always available per each video.\n",
    "3. The method is very susceptible to min_df parameters. Results were better with its higher value, but not all videos have enough comments to support higher values.\n",
    "\n",
    "Despite these drawbacks this method provides some grasp on video topic. Also It shows good insight into discussion tone. I must admit that I've made few runs of random search to get 5 examples without offensive language."
   ]
  },
  {
   "cell_type": "markdown",
   "metadata": {
    "_cell_guid": "f9cd828a-372a-458b-8eac-fb3f527c1293",
    "_uuid": "54306cad55a86a1826726c81be76fbea949220b0"
   },
   "source": [
    "# 6. Emojis in comments"
   ]
  },
  {
   "cell_type": "markdown",
   "metadata": {
    "_cell_guid": "fb94b156-fce9-42f7-9350-ac9f3a3d1bdf",
    "_uuid": "bcba0935e7e2fbe9eee7c932fabe2fe7b480892a"
   },
   "source": [
    "How popular different emojis are? It can be visualized with plotly."
   ]
  },
  {
   "cell_type": "code",
   "execution_count": null,
   "metadata": {
    "_cell_guid": "b449682a-b980-4b2e-8343-0a7b8bb3a4d6",
    "_uuid": "d6b3f0aff0b139ac8c45c7d8aa1af2892999703d",
    "collapsed": true
   },
   "outputs": [],
   "source": [
    "# prepare emojis list\n",
    "all_comm_df['emoji'] = all_comm_df['comment_text'].apply(lambda x: re.findall(emoji_pattern, str(x)))\n",
    "all_comm_df['emoji'] = all_comm_df['emoji'].apply(lambda x: [i for sublist in x for i in sublist])\n",
    "emo_list = all_comm_df['emoji'].values.tolist()\n",
    "emo_list_flatten = [i for sublist in emo_list for i in sublist]\n",
    "\n",
    "# only unique values from the list\n",
    "emo_unique = list(set(emo_list_flatten))\n",
    "emo_all = \" \".join(emo_list_flatten)"
   ]
  },
  {
   "cell_type": "code",
   "execution_count": null,
   "metadata": {
    "_cell_guid": "05b7aa43-74b2-442b-a93e-3df866d77129",
    "_uuid": "5e7ba8c3845c21d3b238ca35f93c0e81ecaf6a4c",
    "collapsed": true
   },
   "outputs": [],
   "source": [
    "# dictionary for emoji frequency\n",
    "emo_dict = {}\n",
    "for i in emo_unique:\n",
    "    emo_dict[i] = len(re.findall(i, emo_all))"
   ]
  },
  {
   "cell_type": "code",
   "execution_count": null,
   "metadata": {
    "_cell_guid": "4ab45a84-ab7f-4769-b6c6-1c1bc53960ab",
    "_uuid": "324b3fa012815b455e6d05f072d09964d171f480",
    "collapsed": true
   },
   "outputs": [],
   "source": [
    "# top 15 emoji with Plotly\n",
    "emo_df = pd.DataFrame.from_dict(emo_dict, orient = 'index')\n",
    "emo_df = emo_df.reset_index()\n",
    "emo_df.columns = [\"emoji\", 'frequency']\n",
    "emo_df.sort_values('frequency', ascending = False, inplace = True)\n",
    "emo_df_top15 = emo_df.head(15).copy()\n",
    "emo_df_top15.sort_values('frequency', ascending = True, inplace = True)\n",
    "\n",
    "# plot\n",
    "data = [go.Bar(x = emo_df_top15['frequency'],\n",
    "               y = emo_df_top15['emoji'],\n",
    "               orientation = 'h',\n",
    "               marker = dict(color = 'rgba(200, 100, 1, 0.6)',\n",
    "                             line = dict(color = 'rgba(50, 171, 96, 1.0)',\n",
    "                                         width = 1)))]\n",
    "\n",
    "layout = dict(title = '15 most frequent emojis')\n",
    "fig = dict(data = data, layout = layout)\n",
    "iplot(fig, filename='basic-bar')"
   ]
  }
 ],
 "metadata": {
  "kernelspec": {
   "display_name": "Python 3",
   "language": "python",
   "name": "python3"
  },
  "language_info": {
   "codemirror_mode": {
    "name": "ipython",
    "version": 3
   },
   "file_extension": ".py",
   "mimetype": "text/x-python",
   "name": "python",
   "nbconvert_exporter": "python",
   "pygments_lexer": "ipython3",
   "version": "3.6.3"
  }
 },
 "nbformat": 4,
 "nbformat_minor": 1
}
